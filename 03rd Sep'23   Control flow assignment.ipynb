{
 "cells": [
  {
   "cell_type": "markdown",
   "id": "4ee90190-c0c3-4bb3-89a5-087733f6f20d",
   "metadata": {},
   "source": [
    "\n",
    "Basic Level:"
   ]
  },
  {
   "cell_type": "code",
   "execution_count": 1,
   "id": "33d58c61-6652-4253-aaac-4028ee80dccd",
   "metadata": {},
   "outputs": [
    {
     "name": "stdin",
     "output_type": "stream",
     "text": [
      " -34\n"
     ]
    },
    {
     "name": "stdout",
     "output_type": "stream",
     "text": [
      "Negative\n"
     ]
    }
   ],
   "source": [
    "# 1. Write a Python program to check if a given number is positive or negative.\n",
    "n=int(input())\n",
    "if n>=0:\n",
    "    print(\"Positive\")\n",
    "else:\n",
    "    print(\"Negative\")\n"
   ]
  },
  {
   "cell_type": "code",
   "execution_count": 2,
   "id": "18dae67d-b47c-4c8f-a494-6c7205f1bc79",
   "metadata": {},
   "outputs": [
    {
     "name": "stdin",
     "output_type": "stream",
     "text": [
      " 23\n"
     ]
    },
    {
     "name": "stdout",
     "output_type": "stream",
     "text": [
      "Eligible to vote\n"
     ]
    }
   ],
   "source": [
    "# 2. Create a program that determines if a person is eligible to vote based on their age.\n",
    "age=int(input())\n",
    "if age>=18:\n",
    "    print(\"Eligible to vote\")\n",
    "else:\n",
    "    print(\"Not eligible to vote\")"
   ]
  },
  {
   "cell_type": "code",
   "execution_count": 3,
   "id": "a7517b65-624b-401f-b85c-3791f94dbb46",
   "metadata": {},
   "outputs": [
    {
     "name": "stdin",
     "output_type": "stream",
     "text": [
      " 34 54\n"
     ]
    },
    {
     "name": "stdout",
     "output_type": "stream",
     "text": [
      "b is greater\n"
     ]
    }
   ],
   "source": [
    "# 3. Develop a program to find the maximum of two numbers using if-else statements.\n",
    "a,b=map(int,input().split())\n",
    "if a>b:\n",
    "    print(\"a is greater \")\n",
    "else:\n",
    "    print(\"b is greater\")"
   ]
  },
  {
   "cell_type": "code",
   "execution_count": null,
   "id": "5b3b03f5-eb98-4769-8fdb-22de749824a0",
   "metadata": {},
   "outputs": [],
   "source": [
    "# 4. Write a Python script to classify a given year as a leap year or not.\n",
    "yr=int(input())\n",
    "if yr%4==0:\n",
    "    print(\"Leap year\")\n",
    "else:\n",
    "    print(\"Not a Leap year\")\n"
   ]
  },
  {
   "cell_type": "code",
   "execution_count": 4,
   "id": "a0282376-a188-400b-aebc-e04484081422",
   "metadata": {},
   "outputs": [
    {
     "name": "stdin",
     "output_type": "stream",
     "text": [
      "Enter a character : e\n"
     ]
    },
    {
     "name": "stdout",
     "output_type": "stream",
     "text": [
      "Vowel\n"
     ]
    }
   ],
   "source": [
    "# 5. Create a program that checks whether a character is a vowel or a consonant.\n",
    "l=input(\"Enter a character :\")\n",
    "if l in \"AaEeIiOoUu\":\n",
    "    print(\"Vowel\")\n",
    "else:\n",
    "    print(\"Consonant\")\n",
    "    "
   ]
  },
  {
   "cell_type": "code",
   "execution_count": 5,
   "id": "328f6f33-987b-4f4d-bf42-f60fff56a4f1",
   "metadata": {},
   "outputs": [
    {
     "name": "stdin",
     "output_type": "stream",
     "text": [
      " 10\n"
     ]
    },
    {
     "name": "stdout",
     "output_type": "stream",
     "text": [
      "Even\n"
     ]
    }
   ],
   "source": [
    "# 6. Implement a program to determine whether a given number is even or odd.\n",
    "n=int(input())\n",
    "if n%2==0:\n",
    "    print(\"Even\")\n",
    "else:\n",
    "    print(\"Odd\")\n",
    "    "
   ]
  },
  {
   "cell_type": "code",
   "execution_count": 6,
   "id": "1a708f08-c72a-4d9e-b709-70d6d1a25277",
   "metadata": {},
   "outputs": [
    {
     "name": "stdin",
     "output_type": "stream",
     "text": [
      " -4\n"
     ]
    },
    {
     "name": "stdout",
     "output_type": "stream",
     "text": [
      "4\n"
     ]
    }
   ],
   "source": [
    "# 7. Write a Python function to calculate the absolute value of a number without using the `abs()` function.\n",
    "n=int(input())\n",
    "if n<0:\n",
    "    print(-n)\n",
    "else:\n",
    "    print(n)"
   ]
  },
  {
   "cell_type": "code",
   "execution_count": 8,
   "id": "5a036f8f-22af-4fc0-bb99-fafce6b5642e",
   "metadata": {},
   "outputs": [
    {
     "name": "stdin",
     "output_type": "stream",
     "text": [
      " 34,45,56\n"
     ]
    },
    {
     "name": "stdout",
     "output_type": "stream",
     "text": [
      "Greatest is 56\n"
     ]
    }
   ],
   "source": [
    "# 8. Develop a program that determines the largest of three given numbers using if-else statements.\n",
    "a,b,c=map(int,input().split(\",\"))\n",
    "if a>b:\n",
    "    if a>c:\n",
    "        print(f\"Greatest is {a}\")\n",
    "    else:\n",
    "        print(f\"Greatest is {c}\")\n",
    "else:\n",
    "    if b>c:\n",
    "        print(f\"Gretest is {b}\")\n",
    "    else:\n",
    "        print(f\"Greatest is {c}\")"
   ]
  },
  {
   "cell_type": "code",
   "execution_count": 9,
   "id": "77ec7430-7013-43a3-8b2d-9411837cdba3",
   "metadata": {},
   "outputs": [
    {
     "name": "stdin",
     "output_type": "stream",
     "text": [
      " malayalam\n"
     ]
    },
    {
     "name": "stdout",
     "output_type": "stream",
     "text": [
      "The given string is palindrome\n"
     ]
    }
   ],
   "source": [
    "# 9. Create a program that checks if a given string is a palindrome.\n",
    "st=input().strip()\n",
    "if st==st[::-1]:\n",
    "    print(\"The given string is palindrome\")\n",
    "else:\n",
    "    print(\"The given string is  not a palindrome\")"
   ]
  },
  {
   "cell_type": "code",
   "execution_count": null,
   "id": "2d53b143-731c-4325-9d30-6ecbe9c57f0d",
   "metadata": {},
   "outputs": [],
   "source": [
    "# 10. Write a Python program to calculate the grade based on a student's score.\n",
    "n=int(input(\"Enter ur perccentage :\"))\n",
    "if n>90:\n",
    "    print(\"A+\")\n",
    "elif 80<=n<90:\n",
    "    print(\"A\")\n",
    "elif 70<=n<80:\n",
    "    print(\"B+\")\n",
    "elif 50<=n<60"
   ]
  },
  {
   "cell_type": "markdown",
   "id": "ac7c863b-5295-49bd-948e-681f66e916ca",
   "metadata": {},
   "source": [
    "Intermediate Level:\n",
    "\n",
    "\n",
    "\n",
    "\n",
    "\n",
    "\n"
   ]
  },
  {
   "cell_type": "code",
   "execution_count": 5,
   "id": "831cfc2d-4bb2-4ca3-8662-9c762333f8c3",
   "metadata": {},
   "outputs": [
    {
     "name": "stdin",
     "output_type": "stream",
     "text": [
      " 34 45 56\n"
     ]
    },
    {
     "name": "stdout",
     "output_type": "stream",
     "text": [
      "c is Greatest!\n"
     ]
    }
   ],
   "source": [
    "# 11. Write a program to find the largest among three numbers using nested if-else statements.\n",
    "a,b,c=map(int,input().split())\n",
    "if a>b:\n",
    "    if a>c:\n",
    "        print(\"a is Greatest!\")\n",
    "    else:\n",
    "        print(\"c is Greatest!\")\n",
    "else:\n",
    "    if b>c:\n",
    "        print(\"b is Greatest!\")\n",
    "    else:\n",
    "        print(\"c is Greatest!\")\n",
    "    "
   ]
  },
  {
   "cell_type": "code",
   "execution_count": 8,
   "id": "08b59db6-b59d-47fd-a6ab-e6fd31b11395",
   "metadata": {},
   "outputs": [
    {
     "name": "stdin",
     "output_type": "stream",
     "text": [
      " 75 75 30\n"
     ]
    },
    {
     "name": "stdout",
     "output_type": "stream",
     "text": [
      "isosceles triangle\n"
     ]
    },
    {
     "name": "stdin",
     "output_type": "stream",
     "text": [
      " 60 60 60\n"
     ]
    },
    {
     "name": "stdout",
     "output_type": "stream",
     "text": [
      "equilateral triangle\n"
     ]
    },
    {
     "name": "stdin",
     "output_type": "stream",
     "text": [
      " 60 70 50\n"
     ]
    },
    {
     "name": "stdout",
     "output_type": "stream",
     "text": [
      "Scalene triangle\n"
     ]
    }
   ],
   "source": [
    "# 12. Implement a program to determine if a triangle is equilateral, isosceles, or scalene.\n",
    "for _ in range(3):\n",
    "    a,b,c=map(int,input().split())\n",
    "    if a==b:\n",
    "        if a==c:\n",
    "            print(\"equilateral triangle\")\n",
    "        else:\n",
    "            print(\"isosceles triangle\")\n",
    "    else:\n",
    "        if a==c:\n",
    "            print(\"isosceles triangel\")\n",
    "        elif b==c:\n",
    "            print(\"isosceles triangle\")\n",
    "        else:\n",
    "            print(\"Scalene triangle\")"
   ]
  },
  {
   "cell_type": "code",
   "execution_count": 11,
   "id": "3be83ef6-7381-4640-a5e0-6f00bdbe0e25",
   "metadata": {},
   "outputs": [
    {
     "name": "stdin",
     "output_type": "stream",
     "text": [
      "Enter a year : 400\n"
     ]
    },
    {
     "name": "stdout",
     "output_type": "stream",
     "text": [
      "400 is a leap year and also a century year\n"
     ]
    }
   ],
   "source": [
    "# 13. Develop a program that checks if a year is a leap year and also if it is a century year.\n",
    "y=int(input(\"Enter a year :\"))\n",
    "if y%4==0:\n",
    "    if y%100==0:\n",
    "        print(f\"{y} is a leap year and also a century year\")\n",
    "    else:\n",
    "        print(f\"{y} is only a leap year \")\n",
    "else:\n",
    "    print(f\"{y} is not a leap year \")\n"
   ]
  },
  {
   "cell_type": "code",
   "execution_count": 12,
   "id": "668e1070-c445-418a-8eea-244f2e4ad5ea",
   "metadata": {},
   "outputs": [
    {
     "name": "stdin",
     "output_type": "stream",
     "text": [
      "Enter a number : 0\n"
     ]
    },
    {
     "name": "stdout",
     "output_type": "stream",
     "text": [
      "Zero\n"
     ]
    },
    {
     "name": "stdin",
     "output_type": "stream",
     "text": [
      "Enter a number : 2\n"
     ]
    },
    {
     "name": "stdout",
     "output_type": "stream",
     "text": [
      "Positive\n"
     ]
    },
    {
     "name": "stdin",
     "output_type": "stream",
     "text": [
      "Enter a number : -3\n"
     ]
    },
    {
     "name": "stdout",
     "output_type": "stream",
     "text": [
      "Negative\n"
     ]
    }
   ],
   "source": [
    "# 14. Write a Python script to determine if a number is positive, negative, or zero.\n",
    "for _ in range(3):\n",
    "    n=int(input(\"Enter a number :\"))\n",
    "    if n>0:\n",
    "        print(\"Positive\")\n",
    "    elif n<0:\n",
    "        print(\"Negative\")\n",
    "    elif n==0:\n",
    "        print(\"Zero\")\n",
    "    \n",
    "    "
   ]
  },
  {
   "cell_type": "code",
   "execution_count": 3,
   "id": "d2446db4-9c4a-4536-9bc7-9c75d3ca022d",
   "metadata": {},
   "outputs": [
    {
     "name": "stdin",
     "output_type": "stream",
     "text": [
      "Enter ur age : 23\n"
     ]
    },
    {
     "name": "stdout",
     "output_type": "stream",
     "text": [
      "Not a teenager\n"
     ]
    }
   ],
   "source": [
    "# 15. Create a program to check if a person is a teenager (between 13 and 19 years old).\n",
    "age=int(input(\"Enter ur age :\"))\n",
    "if 13<=age<=19:\n",
    "    print(\"Teenager\")\n",
    "else:\n",
    "    print(\"Not a teenager\")"
   ]
  },
  {
   "cell_type": "code",
   "execution_count": 5,
   "id": "838a292e-b9c5-435a-b8c5-809184563e25",
   "metadata": {},
   "outputs": [
    {
     "name": "stdin",
     "output_type": "stream",
     "text": [
      "Enter the angle <180 90\n"
     ]
    },
    {
     "name": "stdout",
     "output_type": "stream",
     "text": [
      "Right angle\n"
     ]
    }
   ],
   "source": [
    "# 16. Develop a program that determines the type of angle based on its measure (acute, obtuse, or right).\n",
    "angle=int(input(\"Enter the angle <180\"))\n",
    "if angle<90:\n",
    "    print(\"Acute angle\")\n",
    "elif 90<angle<180:\n",
    "    print(\"Obtuse angle\")\n",
    "elif angle==90:\n",
    "    print(\"Right angle\")\n",
    "else:\n",
    "    print(\"Enter the correct angle\")"
   ]
  },
  {
   "cell_type": "code",
   "execution_count": 10,
   "id": "33669385-c87d-485f-8d57-03daed30847f",
   "metadata": {},
   "outputs": [
    {
     "name": "stdin",
     "output_type": "stream",
     "text": [
      "Enter coefficient of a in ax2+bx+c : 2\n",
      "Enter coefficient of b in ax2+bx+c : 3\n",
      "Enter coefficient of c in ax2+bx+c : 5\n"
     ]
    },
    {
     "name": "stdout",
     "output_type": "stream",
     "text": [
      "The root :(-0.49999999999999994-0.9746794344808962j)\n",
      "The root :(-0.49999999999999994-0.9746794344808962j)\n"
     ]
    }
   ],
   "source": [
    "# 17. Write a Python program to calculate the roots of a quadratic equation\n",
    "import numpy as np\n",
    "a=float(input(\"Enter coefficient of a in ax2+bx+c :\"))\n",
    "b=float(input(\"Enter coefficient of b in ax2+bx+c :\"))\n",
    "c=float(input(\"Enter coefficient of c in ax2+bx+c :\"))\n",
    "\n",
    "coefs=[a,b,c]\n",
    "roots=np.roots(coefs)\n",
    "for i in roots:\n",
    "    print(f\"The root :{root}\")"
   ]
  },
  {
   "cell_type": "code",
   "execution_count": 10,
   "id": "ae900752-27ba-45da-ae47-bc57f17e9f20",
   "metadata": {},
   "outputs": [
    {
     "name": "stdin",
     "output_type": "stream",
     "text": [
      "Enter coefficient of a in ax2+bx+c : 2\n",
      "Enter coefficient of b in ax2+bx+c : 3\n",
      "Enter coefficient of c in ax2+bx+c : 5\n"
     ]
    },
    {
     "name": "stdout",
     "output_type": "stream",
     "text": [
      "The root :(-0.49999999999999994-0.9746794344808962j)\n",
      "The root :(-0.49999999999999994-0.9746794344808962j)\n"
     ]
    }
   ],
   "source": [
    "# 17. Write a Python program to calculate the roots of a quadratic equation\n",
    "import numpy as np\n",
    "a=float(input(\"Enter coefficient of a in ax2+bx+c :\"))\n",
    "b=float(input(\"Enter coefficient of b in ax2+bx+c :\"))\n",
    "c=float(input(\"Enter coefficient of c in ax2+bx+c :\"))\n",
    "\n",
    "coefs=[a,b,c]\n",
    "roots=np.roots(coefs)\n",
    "for i in roots:\n",
    "    print(f\"The root :{root}\")"
   ]
  },
  {
   "cell_type": "code",
   "execution_count": 16,
   "id": "8eee295f-1a6f-4df8-a929-e45c7f7cf1e7",
   "metadata": {},
   "outputs": [
    {
     "name": "stdin",
     "output_type": "stream",
     "text": [
      "Enter a year 344\n"
     ]
    },
    {
     "name": "stdout",
     "output_type": "stream",
     "text": [
      "It is leap year but not divided by 400\n"
     ]
    }
   ],
   "source": [
    "# 19. Create a program that determines if a year is a leap year and also if it is evenly divisible by 400.\n",
    "yr=int(input(\"Enter a year\"))\n",
    "if yr%4==0:\n",
    "    if yr%400==0:\n",
    "        print(\"It is leap year and is evenly divided by 400\")\n",
    "    else:\n",
    "        print(\"It is leap year but not divided by 400\")\n",
    "else:\n",
    "    print(\"It is not leap year\")\n"
   ]
  },
  {
   "cell_type": "code",
   "execution_count": 14,
   "id": "03f78fb1-d6eb-4d26-9b33-70130d7fbde1",
   "metadata": {},
   "outputs": [
    {
     "name": "stdin",
     "output_type": "stream",
     "text": [
      "Enter a value between 1-7 7\n"
     ]
    },
    {
     "name": "stdout",
     "output_type": "stream",
     "text": [
      "Sunday\n"
     ]
    }
   ],
   "source": [
    "# 18. Implement a program to determine the day of the week based on a user-provided number (1 for Monday, 2 for Tuesday, etc.).\n",
    "n=int(input(\"Enter a value between 1-7\"))\n",
    "dic={1:\"Monday\",2:\"Tuesday\",3:\"Wednesday\",4:\"Thursday\",5:\"Friday\",6:\"Saturday\",7:\"Sunday\"}\n",
    "print(dic[n])"
   ]
  },
  {
   "cell_type": "code",
   "execution_count": 19,
   "id": "85daea87-55a3-4034-9014-088032bb13e1",
   "metadata": {},
   "outputs": [
    {
     "name": "stdin",
     "output_type": "stream",
     "text": [
      "Enter a number : 397\n"
     ]
    },
    {
     "name": "stdout",
     "output_type": "stream",
     "text": [
      "397  is a prime number\n"
     ]
    }
   ],
   "source": [
    "# 20. Develop a program that checks if a given number is prime or not using nested if-else statements.\n",
    "n=int(input(\"Enter a number :\"))\n",
    "if n>1:\n",
    "    for num in range(2,int(n**0.5)+1):\n",
    "        if n%num==0:\n",
    "            print(n,\" is not a prime number\")\n",
    "            break\n",
    "    else:\n",
    "        print(n,\" is a prime number\")\n",
    "else:\n",
    "    print(n,\" is not a prime number\")"
   ]
  },
  {
   "cell_type": "markdown",
   "id": "8f570e2d-ea85-4188-b9b4-3b7e5840ce29",
   "metadata": {},
   "source": [
    "Advanced Level:\n"
   ]
  },
  {
   "cell_type": "code",
   "execution_count": 24,
   "id": "04833375-212e-42ca-9008-a63d12446c28",
   "metadata": {},
   "outputs": [
    {
     "name": "stdin",
     "output_type": "stream",
     "text": [
      "Enter marks of sub1: 40\n"
     ]
    },
    {
     "name": "stdout",
     "output_type": "stream",
     "text": [
      "Fail\n"
     ]
    },
    {
     "name": "stdin",
     "output_type": "stream",
     "text": [
      "Enter marks of sub2: 99\n"
     ]
    },
    {
     "name": "stdout",
     "output_type": "stream",
     "text": [
      "A+\n"
     ]
    },
    {
     "name": "stdin",
     "output_type": "stream",
     "text": [
      "Enter marks of sub3: 89\n"
     ]
    },
    {
     "name": "stdout",
     "output_type": "stream",
     "text": [
      "A\n"
     ]
    },
    {
     "name": "stdin",
     "output_type": "stream",
     "text": [
      "Enter marks of sub4: 78\n"
     ]
    },
    {
     "name": "stdout",
     "output_type": "stream",
     "text": [
      "B\n"
     ]
    },
    {
     "name": "stdin",
     "output_type": "stream",
     "text": [
      "Enter marks of sub5: 100\n"
     ]
    },
    {
     "name": "stdout",
     "output_type": "stream",
     "text": [
      "A+\n"
     ]
    }
   ],
   "source": [
    "# 21. Write a Python program to assign grades based on different ranges of scores using elif statements.\n",
    "def grades(marks):\n",
    "    if marks>=90:\n",
    "        print(\"A+\")\n",
    "    elif 80<=marks<90:\n",
    "        print(\"A\")\n",
    "    elif 70<=marks<80:\n",
    "        print(\"B\")\n",
    "    elif 60<= marks<70:\n",
    "        print(\"C\")\n",
    "    elif 50<=marks<60:\n",
    "        print(\"D\")\n",
    "    else:\n",
    "        print(\"Fail\")\n",
    "for i in range(1,6):\n",
    "    marks=float(input(f\"Enter marks of sub{i}:\"))\n",
    "    grades(marks)"
   ]
  },
  {
   "cell_type": "code",
   "execution_count": 2,
   "id": "3f7c29cf-b3ed-4f4c-9f41-8bcf1711ad37",
   "metadata": {},
   "outputs": [
    {
     "name": "stdin",
     "output_type": "stream",
     "text": [
      "Enter ur BMI>0 : 25\n"
     ]
    },
    {
     "name": "stdout",
     "output_type": "stream",
     "text": [
      " you are overweight go hit gym \n"
     ]
    }
   ],
   "source": [
    "# 23. Develop a program to categorize a given person's BMI into underweight, normal, overweight, or obese using  elif statements\n",
    "bmi=float(input(\"Enter ur BMI>0 :\"))\n",
    "if bmi<18.5:\n",
    "    print(\"you are underweight. You should put some weight or stick to a  pole during winds\")\n",
    "elif 18.5<=bmi<25:\n",
    "    print(\"you are absolutely good , keep on it\")\n",
    "elif 25<=bmi<30:\n",
    "    print(\" you are overweight go hit gym \")\n",
    "elif bmi>=30:\n",
    "    print(\"You are obese and should cut crap fat in you \")\n",
    "else:\n",
    "    print(\"Enter the correct value\")\n",
    "    "
   ]
  },
  {
   "cell_type": "code",
   "execution_count": 27,
   "id": "5690f961-1211-49cb-96fe-716844379d7e",
   "metadata": {},
   "outputs": [
    {
     "name": "stdin",
     "output_type": "stream",
     "text": [
      "Enter the first angle:  34\n",
      "Enter the second angle:  60\n",
      "Enter the third angle:  86\n"
     ]
    },
    {
     "name": "stdout",
     "output_type": "stream",
     "text": [
      "The triangle with angles 34.0, 60.0, and 86.0 is a Acute Triangle\n"
     ]
    }
   ],
   "source": [
    "# 22. Implement a program to determine the type of a triangle based on its angles.\n",
    "def triangle_type(angle1, angle2, angle3):    \n",
    "    if angle1 + angle2 + angle3 == 180 and angle1 > 0 and angle2 > 0 and angle3 > 0:\n",
    "        if angle1 < 90 and angle2 < 90 and angle3 < 90:\n",
    "            return \"Acute Triangle\"\n",
    "        elif angle1 == 90 or angle2 == 90 or angle3 == 90:\n",
    "            return \"Right Triangle\"\n",
    "        else:\n",
    "            return \"Obtuse Triangle\"\n",
    "    else:\n",
    "        return \"Invalid Triangle\"\n",
    "\n",
    "angle1 = float(input(\"Enter the first angle: \"))\n",
    "angle2 = float(input(\"Enter the second angle: \"))\n",
    "angle3 = float(input(\"Enter the third angle: \"))\n",
    "triangle = triangle_type(angle1, angle2, angle3)\n",
    "print(\"The triangle with angles {}, {}, and {} is a {}\".format(angle1, angle2, angle3, triangle))\n"
   ]
  },
  {
   "cell_type": "code",
   "execution_count": 3,
   "id": "15973bd4-ff9e-497a-9c93-2aa042724bfd",
   "metadata": {},
   "outputs": [
    {
     "name": "stdin",
     "output_type": "stream",
     "text": [
      "Enter a integer value 3\n"
     ]
    },
    {
     "name": "stdout",
     "output_type": "stream",
     "text": [
      "Positive\n"
     ]
    }
   ],
   "source": [
    "# 24. Create a program that determines whether a given number is positive, negative, or zero using elif  statements.\n",
    "n=float(input(\"Enter a integer value\"))\n",
    "if n>0:\n",
    "    print(\"Positive\")\n",
    "elif n<0:\n",
    "    print(\"Negative\")\n",
    "elif n==0:\n",
    "    print(\"Zero\")\n",
    "else:\n",
    "    print(\"I said enter a integer \")"
   ]
  },
  {
   "cell_type": "code",
   "execution_count": 15,
   "id": "64ffa58a-fa3e-47db-a382-1565f14d24d2",
   "metadata": {},
   "outputs": [
    {
     "name": "stdin",
     "output_type": "stream",
     "text": [
      "Enter a single character : enfker$$$\n"
     ]
    },
    {
     "name": "stdout",
     "output_type": "stream",
     "text": [
      "I said to enter a single  character\n"
     ]
    }
   ],
   "source": [
    "#### 25. Write a Python script to determine the type of a character (uppercase, lowercase, or special) using elif  statements.\n",
    "c=input(\"Enter a single character :\")\n",
    "if c.isalpha() and len(c)==0:\n",
    "    if c.isupper():\n",
    "        print(\"Uppercase\")\n",
    "    elif c.islower():\n",
    "        print(\"Lowercase\")\n",
    "    elif not (c.isalnum() or c.isspace()):\n",
    "        print(\"Special character\")\n",
    "else:\n",
    "    print(\"I said to enter a single  character\")"
   ]
  },
  {
   "cell_type": "code",
   "execution_count": 18,
   "id": "ddc95341-a4d3-4174-bcfc-d9bfce589f6d",
   "metadata": {},
   "outputs": [
    {
     "name": "stdin",
     "output_type": "stream",
     "text": [
      "Enter the purchase amount: 5000\n"
     ]
    },
    {
     "name": "stdout",
     "output_type": "stream",
     "text": [
      "The discounted price is 4250.0\n"
     ]
    }
   ],
   "source": [
    "# 26. Implement a program to calculate the discounted price based on different purchase amounts using elif statements\n",
    "def calculate_discounted_price(amount):\n",
    "    if amount < 100:\n",
    "        discount = 0\n",
    "    elif 100 <= amount < 500:\n",
    "        discount = 0.05  # 5% discount\n",
    "    elif 500 <= amount < 1000:\n",
    "        discount = 0.1   # 10% discount\n",
    "    else:\n",
    "        discount = 0.15  # 15% discount\n",
    "\n",
    "    discounted_price = amount - (amount * discount)\n",
    "    return discounted_price\n",
    "purchase_amount = float(input(\"Enter the purchase amount:\"))\n",
    "discounted_price = calculate_discounted_price(purchase_amount)\n",
    "print(f\"The discounted price is {discounted_price}\")\n"
   ]
  },
  {
   "cell_type": "code",
   "execution_count": 21,
   "id": "e2be6b83-6b88-465f-8b1f-9626995745bd",
   "metadata": {},
   "outputs": [
    {
     "name": "stdin",
     "output_type": "stream",
     "text": [
      "Enter the no of units used : 500\n"
     ]
    },
    {
     "name": "stdout",
     "output_type": "stream",
     "text": [
      "The e-bill is :485.0rs\n"
     ]
    }
   ],
   "source": [
    "# 27. Develop a program to calculate the electricity bill based on different consumption slabs using elif statements\n",
    "unit=float(input(\"Enter the no of units used :\"))\n",
    "if unit<=100:\n",
    "    print(\"The e-bill is free \")\n",
    "elif 100< unit <=200:\n",
    "    print(f\"The e-bill is :{100*0.5 +(unit-100)*0.75}rs\")\n",
    "elif 200< unit <=500:\n",
    "    print(f\"The e-bill is :{100*0.5+100*0.75+(unit-200)*1.20}rs\")\n",
    "elif unit>500:\n",
    "    print(f\"The e-bill is :{100*0.5+100*0.75+300*1.20+(unit-500)*1.50}rs\")\n",
    "else:\n",
    "    print(\"Enter the correct value\")\n",
    "    \n"
   ]
  },
  {
   "cell_type": "code",
   "execution_count": 22,
   "id": "d0780fe7-324b-4379-a2a7-e2ef9565b664",
   "metadata": {},
   "outputs": [
    {
     "name": "stdin",
     "output_type": "stream",
     "text": [
      "Enter side 1:  34\n",
      "Enter side 2:  34\n",
      "Enter side 3:  54\n",
      "Enter side 4:  54\n",
      "Enter angle 1:  60\n",
      "Enter angle 2:  90\n",
      "Enter angle 3:  90\n",
      "Enter angle 4:  60\n"
     ]
    },
    {
     "name": "stdout",
     "output_type": "stream",
     "text": [
      "The quadrilateral is a: Kite\n"
     ]
    }
   ],
   "source": [
    "# 28. Create a program to determine the type of quadrilateral based on its angles and sides using elif statements.\n",
    "def determine_quadrilateral_type(sides, angles):\n",
    "    if sides.count(sides[0]) == 4 and angles.count(90) == 4:\n",
    "        return \"Square\"\n",
    "    elif sides[0] == sides[2] and sides[1] == sides[3] and angles.count(90) == 4:\n",
    "        return \"Rectangle\"\n",
    "    elif sides[0] == sides[2] and sides[1] == sides[3]:\n",
    "        return \"Parallelogram\"\n",
    "    elif sides.count(sides[0]) == 4:\n",
    "        return \"Rhombus\"\n",
    "    elif (sides[0] == sides[1] and sides[2] == sides[3]) or (sides[0] == sides[3] and sides[1] == sides[2]):\n",
    "        return \"Kite\"\n",
    "    elif sides[0] == sides[1] or sides[1] == sides[2] or sides[2] == sides[3] or sides[3] == sides[0]:\n",
    "        return \"Trapezoid\"\n",
    "    else:\n",
    "        return \"Quadrilateral\"\n",
    "sides = [float(input(\"Enter side {}: \".format(i + 1))) for i in range(4)]\n",
    "angles = [float(input(\"Enter angle {}: \".format(i + 1))) for i in range(4)]\n",
    "quadrilateral_type = determine_quadrilateral_type(sides, angles)\n",
    "print(\"The quadrilateral is a:\", quadrilateral_type)\n"
   ]
  },
  {
   "cell_type": "code",
   "execution_count": 23,
   "id": "c5fc7015-3809-48ec-b7cf-07efb0c1b83e",
   "metadata": {},
   "outputs": [
    {
     "name": "stdin",
     "output_type": "stream",
     "text": [
      "Enter a season : March\n"
     ]
    },
    {
     "name": "stdout",
     "output_type": "stream",
     "text": [
      "Spring\n"
     ]
    }
   ],
   "source": [
    "# 29. Write a Python script to determine the season based on a user-provided month using elif statements.\n",
    "season=input(\"Enter a season :\")\n",
    "if season in [\"December\",\"January\",\"February\"]:\n",
    "    print(\"Winter\")\n",
    "elif season in [\"March\",\"April\",\"May\"]:\n",
    "    print(\"Spring\")\n",
    "elif season in [\"June\",\"July\",\"August\"]:\n",
    "    print(\"Summer\")\n",
    "elif season in [\"September\",\"October\",\"November\"]:\n",
    "    print(\"Autumn\")\n",
    "else:\n",
    "    print(\"Enter a correct season\")"
   ]
  },
  {
   "cell_type": "code",
   "execution_count": null,
   "id": "adafbe67-6041-4bcb-8b25-9a3688783563",
   "metadata": {},
   "outputs": [],
   "source": [
    "# 30. Implement a program to determine the type of a year (leap or common) and month (30 or 31 days) using  elif statements\n",
    "def is_leap_year(year):\n",
    "    if (year % 4 == 0 and year % 100 != 0) or (year % 400 == 0):\n",
    "        return True\n",
    "    else:\n",
    "        return False\n",
    "\n",
    "def days_in_month(month, year):\n",
    "    if month in [1, 3, 5, 7, 8, 10, 12]:\n",
    "        return 31\n",
    "    elif month in [4, 6, 9, 11]:\n",
    "        return 30\n",
    "    elif month == 2:\n",
    "        if is_leap_year(year):\n",
    "            return 29\n",
    "        else:\n",
    "            return 28\n",
    "    else:\n",
    "        return -1  # Invalid month\n",
    "\n",
    "year = int(input(\"Enter the year: \"))\n",
    "month = int(input(\"Enter the month (1-12): \"))\n",
    "if is_leap_year(year):\n",
    "    print(year, \"is a leap year.\")\n",
    "else:\n",
    "    print(year, \"is a common year.\")\n",
    "num_days = days_in_month(month, year)\n",
    "if num_days == -1:\n",
    "    print(\"Invalid month entered.\")\n",
    "else:\n",
    "    print(\"The month has\", num_days, \"days.\")\n"
   ]
  },
  {
   "cell_type": "markdown",
   "id": "bfb4953e-ee49-4269-9c7c-41da2b06f683",
   "metadata": {},
   "source": [
    "Challenge Level:\n"
   ]
  },
  {
   "cell_type": "code",
   "execution_count": 3,
   "id": "ad116ea8-f4fb-4e9f-b5ca-f55bb01179a7",
   "metadata": {},
   "outputs": [
    {
     "name": "stdin",
     "output_type": "stream",
     "text": [
      "Enter ur password : hari@123\n"
     ]
    },
    {
     "name": "stdout",
     "output_type": "stream",
     "text": [
      "True\n"
     ]
    },
    {
     "name": "stdin",
     "output_type": "stream",
     "text": [
      "Enter ur password : hariharihari@123\n"
     ]
    },
    {
     "name": "stdout",
     "output_type": "stream",
     "text": [
      "False\n"
     ]
    },
    {
     "name": "stdin",
     "output_type": "stream",
     "text": [
      "Enter ur password : hari,123\n"
     ]
    },
    {
     "name": "stdout",
     "output_type": "stream",
     "text": [
      "True\n"
     ]
    }
   ],
   "source": [
    "# 31. Create a program that validates a password based on complexity rules (length, characters, etc.).\n",
    "def isvalidpassword(passw):\n",
    "    if 5<len(passw)<=12:\n",
    "        for num in passw:\n",
    "            if (num.isupper()) or (num.islower()) or (num.alphanumeric()) or (num.isdigit()):\n",
    "                return True\n",
    "            else:\n",
    "                return False\n",
    "    else:\n",
    "        return False\n",
    "\n",
    "for _ in range(3):\n",
    "    passw=input(\"Enter ur password :\").strip()\n",
    "    print(isvalidpassword(passw))\n"
   ]
  },
  {
   "cell_type": "code",
   "execution_count": 2,
   "id": "20038bce-8e19-4f32-8cee-c9ebc35583bf",
   "metadata": {},
   "outputs": [
    {
     "name": "stdin",
     "output_type": "stream",
     "text": [
      "Enter a row col for both matrices : 3 3\n"
     ]
    },
    {
     "name": "stdout",
     "output_type": "stream",
     "text": [
      "Enter input for mat\n"
     ]
    },
    {
     "name": "stdin",
     "output_type": "stream",
     "text": [
      "Enter a value in [0][0] : 1\n",
      "Enter a value in [0][1] : 2\n",
      "Enter a value in [0][2] : 3\n",
      "Enter a value in [1][0] : 4\n",
      "Enter a value in [1][1] : 5\n",
      "Enter a value in [1][2] : 6\n",
      "Enter a value in [2][0] : 7\n",
      "Enter a value in [2][1] : 8\n",
      "Enter a value in [2][2] : 9\n"
     ]
    },
    {
     "name": "stdout",
     "output_type": "stream",
     "text": [
      "Enter input for mat1\n"
     ]
    },
    {
     "name": "stdin",
     "output_type": "stream",
     "text": [
      "Enter a value in [0][0] : 9\n",
      "Enter a value in [0][1] : 8\n",
      "Enter a value in [0][2] : 7\n",
      "Enter a value in [1][0] : 6\n",
      "Enter a value in [1][1] : 5\n",
      "Enter a value in [1][2] : 4\n",
      "Enter a value in [2][0] : 3\n",
      "Enter a value in [2][1] : 2\n",
      "Enter a value in [2][2] : 1\n"
     ]
    },
    {
     "name": "stdout",
     "output_type": "stream",
     "text": [
      "[[1, 2, 3], [4, 5, 6], [7, 8, 9]] [[9, 8, 7], [6, 5, 4], [3, 2, 1]]\n",
      "The addition of two matrices :[[10, 10, 10], [10, 10, 10], [10, 10, 10]]\n",
      "The subraction of two matrices :[[-8, -6, -4], [-2, 0, 2], [4, 6, 8]]\n"
     ]
    }
   ],
   "source": [
    "## 32. Develop a program that performs matrix addition and subtraction based on user input.\n",
    "row,col=map(int,input(\"Enter a row col for both matrices :\").split())\n",
    "print(\"Enter input for mat\")\n",
    "mat=[]\n",
    "for i in range(row):\n",
    "    cl=[]\n",
    "    for j in range(col):\n",
    "        cl.append(int(input(f\"Enter a value in [{i}][{j}] :\")))\n",
    "    mat.append(cl)\n",
    "print(\"Enter input for mat1\")\n",
    "mat1=[]\n",
    "for i in range(row):\n",
    "    cl=[]\n",
    "    for j in range(col):\n",
    "        cl.append(int(input(f\"Enter a value in [{i}][{j}] :\")))\n",
    "    mat1.append(cl)\n",
    "print(mat,mat1)\n",
    "mat2=[]\n",
    "for i in range(row):\n",
    "    cl=[]\n",
    "    for j in range(col):\n",
    "        cl.append(mat[i][j]+mat1[i][j])\n",
    "    mat2.append(cl)\n",
    "print(f\"The addition of two matrices :{mat2}\")\n",
    "\n",
    "mat3=[]\n",
    "for i in range(row):\n",
    "    cl=[]\n",
    "    for j in range(col):\n",
    "        cl.append(mat[i][j]-mat1[i][j])\n",
    "    mat3.append(cl)\n",
    "print(f\"The subraction of two matrices :{item for sun in mat3 for item in sun}\")\n",
    "\n"
   ]
  },
  {
   "cell_type": "code",
   "execution_count": 8,
   "id": "0b13214d-904d-4d22-82c1-2d103455de80",
   "metadata": {},
   "outputs": [
    {
     "name": "stdin",
     "output_type": "stream",
     "text": [
      " 50 100\n"
     ]
    },
    {
     "name": "stdout",
     "output_type": "stream",
     "text": [
      "The Gcd of 50 and 100 is 50\n"
     ]
    }
   ],
   "source": [
    "# 33. Write a program that calculates the greatest common divisor (GCD) of two numbers using the Euclidean  algorithm.\n",
    "n1,n2=map(int,input().split())\n",
    "n1d=[]\n",
    "n2d=[]\n",
    "if n1==n2:\n",
    "    print(n1)\n",
    "for i in range(1,n1+1):\n",
    "    if n1%i==0:\n",
    "        n1d.append(i)\n",
    "for j in range(1,n2+1):\n",
    "    if n2%j==0:\n",
    "        n2d.append(j)\n",
    "same=[]\n",
    "for num in n1d:\n",
    "    for nu in n2d:\n",
    "        if num==nu:\n",
    "            same.append(num)\n",
    "print(f\"The Gcd of {n1} and {n2} is {max(same)}\")"
   ]
  },
  {
   "cell_type": "code",
   "execution_count": 20,
   "id": "9160d509-7dcd-466e-abf0-aea7a5bff573",
   "metadata": {},
   "outputs": [
    {
     "name": "stdin",
     "output_type": "stream",
     "text": [
      "Enter rows and cols : 3*4\n",
      "Enter rows and cols  : 4*3\n",
      "Enter elements with space 1 2 3 4 5 6 7 8 9 1 2 4\n",
      "Enter elements with space 9 8 7 6 5 4 3 2 1 2 4 3\n"
     ]
    },
    {
     "name": "stdout",
     "output_type": "stream",
     "text": [
      "The multiplication of [[1 2 3 4]\n",
      " [5 6 7 8]\n",
      " [9 1 2 4]] and [[9 8 7]\n",
      " [6 5 4]\n",
      " [3 2 1]\n",
      " [2 4 3]] :[[ 38  40  30]\n",
      " [118 116  90]\n",
      " [101  97  81]]\n"
     ]
    }
   ],
   "source": [
    "# 34. Build a program that performs matrix multiplication using nested loops and conditional statements.\n",
    "import numpy as np\n",
    "a,b=map(int,input(\"Enter rows and cols :\").split(\"*\"))\n",
    "x,y=map(int,input(\"Enter rows and cols  :\").split(\"*\"))\n",
    "mat1=[]\n",
    "mat2=[]\n",
    "for i in range(2):\n",
    "    st=list(map(int,input(\"Enter elements with space\").split()))\n",
    "    if i==0:\n",
    "        mat1=np.array(st).reshape(a,b)\n",
    "    else:\n",
    "        mat2=np.array(st).reshape(x,y)\n",
    "print(f\"The multiplication of {mat1} and {mat2} :{np.dot(mat1,mat2)}\")"
   ]
  },
  {
   "cell_type": "code",
   "execution_count": 54,
   "id": "c6c844fa-cb87-402c-b684-a147ef4827ee",
   "metadata": {},
   "outputs": [
    {
     "name": "stdout",
     "output_type": "stream",
     "text": [
      "  |   |  \n",
      "-----\n",
      "  |   |  \n",
      "-----\n",
      "  |   |  \n",
      "-----\n"
     ]
    },
    {
     "name": "stdin",
     "output_type": "stream",
     "text": [
      "Enter row (1, 2, 3):  1\n",
      "Enter column (1, 2, 3):  3\n"
     ]
    },
    {
     "name": "stdout",
     "output_type": "stream",
     "text": [
      "  |   | X\n",
      "-----\n",
      "  |   |  \n",
      "-----\n",
      "O |   |  \n",
      "-----\n"
     ]
    },
    {
     "name": "stdin",
     "output_type": "stream",
     "text": [
      "Enter row (1, 2, 3):  1\n",
      "Enter column (1, 2, 3):  2\n"
     ]
    },
    {
     "name": "stdout",
     "output_type": "stream",
     "text": [
      "  | X | X\n",
      "-----\n",
      "O |   |  \n",
      "-----\n",
      "O |   |  \n",
      "-----\n"
     ]
    },
    {
     "name": "stdin",
     "output_type": "stream",
     "text": [
      "Enter row (1, 2, 3):  1\n",
      "Enter column (1, 2, 3):  1\n"
     ]
    },
    {
     "name": "stdout",
     "output_type": "stream",
     "text": [
      "X | X | X\n",
      "-----\n",
      "O |   |  \n",
      "-----\n",
      "O |   |  \n",
      "-----\n",
      "Congratulations! You win!\n"
     ]
    }
   ],
   "source": [
    "# 35. Create a program that simulates a basic text-based tic-tac-toe game against the computer.\n",
    "import random\n",
    "\n",
    "# Function to print the Tic-Tac-Toe board\n",
    "def print_board(board):\n",
    "    for row in board:\n",
    "        print(\" | \".join(row))\n",
    "        print(\"-\" * 5)\n",
    "\n",
    "# Function to check if a player has won\n",
    "def check_winner(board, player):\n",
    "    # Check rows, columns, and diagonals\n",
    "    for i in range(3):\n",
    "        if all([board[i][j] == player for j in range(3)]) or \\\n",
    "           all([board[j][i] == player for j in range(3)]):\n",
    "            return True\n",
    "    if all([board[i][i] == player for i in range(3)]) or \\\n",
    "       all([board[i][2-i] == player for i in range(3)]):\n",
    "        return True\n",
    "    return False\n",
    "\n",
    "# Function to make a move for the computer\n",
    "def computer_move(board):\n",
    "    while True:\n",
    "        row = random.randint(0, 2)\n",
    "        col = random.randint(0, 2)\n",
    "        if board[row][col] == \" \":\n",
    "            board[row][col] = \"O\"\n",
    "            break\n",
    "\n",
    "# Initialize the board\n",
    "board = [[\" \" for _ in range(3)] for _ in range(3)]\n",
    "\n",
    "# Main game loop\n",
    "while True:\n",
    "    # Player's move\n",
    "    print_board(board)\n",
    "    row = int(input(\"Enter row (1, 2, 3): \")) - 1\n",
    "    col = int(input(\"Enter column (1, 2, 3): \")) - 1\n",
    "    if board[row][col] == \" \":\n",
    "        board[row][col] = \"X\"\n",
    "    else:\n",
    "        print(\"That cell is already taken! Try again.\")\n",
    "        continue\n",
    "\n",
    "    # Check if player wins\n",
    "    if check_winner(board, \"X\"):\n",
    "        print_board(board)\n",
    "        print(\"Congratulations! You win!\")\n",
    "        break\n",
    "\n",
    "    # Computer's move\n",
    "    computer_move(board)\n",
    "\n",
    "    # Check if computer wins\n",
    "    if check_winner(board, \"O\"):\n",
    "        print_board(board)\n",
    "        print(\"Sorry, you lose. Better luck next time!\")\n",
    "        break\n",
    "\n",
    "    # Check for a draw\n",
    "    if all([cell != \" \" for row in board for cell in row]):\n",
    "        print_board(board)\n",
    "        print(\"It's a draw!\")\n",
    "        break\n"
   ]
  },
  {
   "cell_type": "code",
   "execution_count": 39,
   "id": "9f07cbe4-240c-486e-836d-b89baa526559",
   "metadata": {},
   "outputs": [
    {
     "name": "stdin",
     "output_type": "stream",
     "text": [
      "Enter a limit : 20\n"
     ]
    },
    {
     "name": "stdout",
     "output_type": "stream",
     "text": [
      "[0, 1, 1, 2, 3, 5, 8, 13, 21, 34, 55, 89, 144, 233, 377, 610, 987, 1597, 2584, 4181]\n"
     ]
    }
   ],
   "source": [
    " # 36. Write a program that generates Fibonacci numbers up to a specified term using iterative methods.\n",
    "def fibo(n):\n",
    "    fib=[]\n",
    "    f=0\n",
    "    s=1\n",
    "    fib.append(f)\n",
    "    fib.append(s)\n",
    "    for i in range(n-2):\n",
    "        t=f+s\n",
    "        fib.append(t)\n",
    "        f=s\n",
    "        s=t\n",
    "    return fib\n",
    "n=int(input(\"Enter a limit :\"))\n",
    "print(fibo(n))\n"
   ]
  },
  {
   "cell_type": "code",
   "execution_count": 42,
   "id": "99a84938-46dd-49d6-b87f-24f5855e1600",
   "metadata": {},
   "outputs": [
    {
     "name": "stdin",
     "output_type": "stream",
     "text": [
      "Enter fibo series limit : 20\n",
      "Enter the position : 10\n"
     ]
    },
    {
     "name": "stdout",
     "output_type": "stream",
     "text": [
      "The number in 10th position is 34\n"
     ]
    }
   ],
   "source": [
    "# 37. Develop a program that calculates the nth term of the Fibonacci sequence using memoization.\n",
    "n=int(input(\"Enter fibo series limit :\"))\n",
    "fibo_list=fibo(n)\n",
    "i=int(input(\"Enter the position :\"))\n",
    "print(f\"The number in {i}th position is {fibo_list[i-1]}\")\n"
   ]
  },
  {
   "cell_type": "code",
   "execution_count": 50,
   "id": "8682d5fe-8776-4e76-8af3-9547a6a92f9b",
   "metadata": {},
   "outputs": [
    {
     "name": "stdin",
     "output_type": "stream",
     "text": [
      "Enter the month (1-12):  12\n",
      "Enter the year:  2025\n"
     ]
    },
    {
     "name": "stdout",
     "output_type": "stream",
     "text": [
      "December 2025\n",
      "Mo Tu We Th Fr Sa Su\n",
      " 1  2  3  4  5  6  7 \n",
      " 8  9 10 11 12 13 14 \n",
      "15 16 17 18 19 20 21 \n",
      "22 23 24 25 26 27 28 \n",
      "29 30 31             \n"
     ]
    }
   ],
   "source": [
    "# 38. Create a program that generates a calendar for a given month and year using conditional statements.\n",
    "\n",
    "import calendar\n",
    "def generate_calendar(month, year):\n",
    "    cal = calendar.monthcalendar(year, month)\n",
    "\n",
    "    print(calendar.month_name[month], year)\n",
    "    print(\"Mo Tu We Th Fr Sa Su\")\n",
    "    for week in cal:\n",
    "        for day in week:\n",
    "            print(f\"{day:2d}\" if day != 0 else \"  \", end=\" \")\n",
    "        print()\n",
    "\n",
    "def main():\n",
    "    month = int(input(\"Enter the month (1-12): \"))\n",
    "    year = int(input(\"Enter the year: \"))\n",
    "    generate_calendar(month, year)\n",
    "\n",
    "if __name__ == \"__main__\":\n",
    "    main()\n"
   ]
  },
  {
   "cell_type": "code",
   "execution_count": 53,
   "id": "21b3445a-8207-4d2d-840d-c3c02f9ef1f6",
   "metadata": {},
   "outputs": [
    {
     "name": "stdout",
     "output_type": "stream",
     "text": [
      "Welcome to Blackjack!\n",
      "Hand:\n",
      "6 of Hearts\n",
      "3 of Diamonds\n",
      "\n",
      "Dealer's hand:\n",
      "Hidden card\n",
      "A of Spades\n",
      "\n"
     ]
    },
    {
     "name": "stdin",
     "output_type": "stream",
     "text": [
      "Do you want to hit or stand? (h/s):  h\n"
     ]
    },
    {
     "name": "stdout",
     "output_type": "stream",
     "text": [
      "Hand:\n",
      "6 of Hearts\n",
      "3 of Diamonds\n",
      "Q of Hearts\n",
      "\n"
     ]
    },
    {
     "name": "stdin",
     "output_type": "stream",
     "text": [
      "Do you want to hit or stand? (h/s):  h\n"
     ]
    },
    {
     "name": "stdout",
     "output_type": "stream",
     "text": [
      "Hand:\n",
      "6 of Hearts\n",
      "3 of Diamonds\n",
      "Q of Hearts\n",
      "K of Spades\n",
      "\n",
      "Busted! You lose.\n"
     ]
    }
   ],
   "source": [
    "# 39. Build a program that simulates a basic text-based blackjack game against the computer.\n",
    "\n",
    "import random\n",
    "\n",
    "# Function to create a deck of cards\n",
    "def create_deck():\n",
    "    ranks = ['2', '3', '4', '5', '6', '7', '8', '9', '10', 'J', 'Q', 'K', 'A']\n",
    "    suits = ['Hearts', 'Diamonds', 'Clubs', 'Spades']\n",
    "    deck = [{'rank': rank, 'suit': suit} for rank in ranks for suit in suits]\n",
    "    random.shuffle(deck)\n",
    "    return deck\n",
    "\n",
    "# Function to calculate the value of a hand\n",
    "def calculate_hand_value(hand):\n",
    "    value = 0\n",
    "    num_aces = 0\n",
    "    for card in hand:\n",
    "        if card['rank'] in ['J', 'Q', 'K']:\n",
    "            value += 10\n",
    "        elif card['rank'] == 'A':\n",
    "            value += 11\n",
    "            num_aces += 1\n",
    "        else:\n",
    "            value += int(card['rank'])\n",
    "    while value > 21 and num_aces:\n",
    "        value -= 10\n",
    "        num_aces -= 1\n",
    "    return value\n",
    "\n",
    "# Function to display a hand\n",
    "def display_hand(hand, hide_first_card=False):\n",
    "    if hide_first_card:\n",
    "        print(\"Dealer's hand:\")\n",
    "        print(\"Hidden card\")\n",
    "        for card in hand[1:]:\n",
    "            print(f\"{card['rank']} of {card['suit']}\")\n",
    "    else:\n",
    "        print(\"Hand:\")\n",
    "        for card in hand:\n",
    "            print(f\"{card['rank']} of {card['suit']}\")\n",
    "    print()\n",
    "\n",
    "# Main function to play the game\n",
    "def main():\n",
    "    print(\"Welcome to Blackjack!\")\n",
    "\n",
    "    # Create a deck of cards\n",
    "    deck = create_deck()\n",
    "\n",
    "    # Initialize player's and dealer's hands\n",
    "    player_hand = [deck.pop(), deck.pop()]\n",
    "    dealer_hand = [deck.pop(), deck.pop()]\n",
    "\n",
    "    # Display player's and dealer's initial hands\n",
    "    display_hand(player_hand)\n",
    "    display_hand(dealer_hand, hide_first_card=True)\n",
    "\n",
    "    # Player's turn\n",
    "    while calculate_hand_value(player_hand) < 21:\n",
    "        action = input(\"Do you want to hit or stand? (h/s): \").lower()\n",
    "        if action == 'h':\n",
    "            player_hand.append(deck.pop())\n",
    "            display_hand(player_hand)\n",
    "        elif action == 's':\n",
    "            break\n",
    "\n",
    "    # Check if player busted\n",
    "    if calculate_hand_value(player_hand) > 21:\n",
    "        print(\"Busted! You lose.\")\n",
    "    else:\n",
    "        # Dealer's turn\n",
    "        while calculate_hand_value(dealer_hand) < 17:\n",
    "            dealer_hand.append(deck.pop())\n",
    "\n",
    "        # Display dealer's hand\n",
    "        display_hand(dealer_hand)\n",
    "\n",
    "        # Determine the winner\n",
    "        player_value = calculate_hand_value(player_hand)\n",
    "        dealer_value = calculate_hand_value(dealer_hand)\n",
    "        if dealer_value > 21 or player_value > dealer_value:\n",
    "            print(\"Congratulations! You win.\")\n",
    "        elif dealer_value > player_value:\n",
    "            print(\"Dealer wins.\")\n",
    "        else:\n",
    "            print(\"It's a tie.\")\n",
    "\n",
    "if __name__ == \"__main__\":\n",
    "    main()\n"
   ]
  },
  {
   "cell_type": "code",
   "execution_count": 56,
   "id": "a21843a6-eb3a-4f1a-8cf6-ef413191622a",
   "metadata": {},
   "outputs": [
    {
     "name": "stdin",
     "output_type": "stream",
     "text": [
      "Enter a positive integer:  54\n"
     ]
    },
    {
     "name": "stdout",
     "output_type": "stream",
     "text": [
      "The prime factors of 54 are: [2, 3, 3, 3]\n"
     ]
    }
   ],
   "source": [
    "# 40. Write a program that generates the prime factors of a given number using trial division.\n",
    "def prime_factors(n):\n",
    "    factors = []\n",
    "    divisor = 2\n",
    "    while n > 1:\n",
    "        while n % divisor == 0:\n",
    "            factors.append(divisor)\n",
    "            n //= divisor\n",
    "        divisor += 1\n",
    "    return factors\n",
    "\n",
    "def main():\n",
    "        num = int(input(\"Enter a positive integer: \"))\n",
    "        if num < 1:\n",
    "            print(\"Please enter a positive integer.\")\n",
    "            return\n",
    "        factors = prime_factors(num)\n",
    "        if len(factors) == 1:\n",
    "            print(f\"{num} is a prime number.\")\n",
    "        else:\n",
    "            print(f\"The prime factors of {num} are:\", factors)\n",
    "            \n",
    "\n",
    "if __name__ == \"__main__\":\n",
    "    main()\n"
   ]
  },
  {
   "cell_type": "code",
   "execution_count": null,
   "id": "23857137-8aee-4a71-9cd3-217f088ff88c",
   "metadata": {},
   "outputs": [],
   "source": []
  }
 ],
 "metadata": {
  "kernelspec": {
   "display_name": "Python 3 (ipykernel)",
   "language": "python",
   "name": "python3"
  },
  "language_info": {
   "codemirror_mode": {
    "name": "ipython",
    "version": 3
   },
   "file_extension": ".py",
   "mimetype": "text/x-python",
   "name": "python",
   "nbconvert_exporter": "python",
   "pygments_lexer": "ipython3",
   "version": "3.10.8"
  }
 },
 "nbformat": 4,
 "nbformat_minor": 5
}
