{
 "cells": [
  {
   "cell_type": "code",
   "execution_count": 3,
   "id": "2b279f8e-349b-4dd1-bb20-f791b113807f",
   "metadata": {},
   "outputs": [],
   "source": [
    "#  TOPIC: String Based Assignment Problem\n",
    "\n"
   ]
  },
  {
   "cell_type": "code",
   "execution_count": 4,
   "id": "0175f258-bd00-4989-a2bd-5f5f1121678a",
   "metadata": {},
   "outputs": [
    {
     "name": "stdin",
     "output_type": "stream",
     "text": [
      "  program\n"
     ]
    },
    {
     "name": "stdout",
     "output_type": "stream",
     "text": [
      "margorp \n"
     ]
    }
   ],
   "source": [
    "# 1. Write a program to reverse a string.\n",
    "a=input()\n",
    "print(a[::-1])\n",
    "\n"
   ]
  },
  {
   "cell_type": "code",
   "execution_count": 5,
   "id": "ce51582d-30e4-41ae-b286-65fed26149dd",
   "metadata": {},
   "outputs": [
    {
     "name": "stdin",
     "output_type": "stream",
     "text": [
      " malayalam\n"
     ]
    },
    {
     "name": "stdout",
     "output_type": "stream",
     "text": [
      "True\n"
     ]
    }
   ],
   "source": [
    "#2. Check if a string is a palindrome.\n",
    "\n",
    "a1=input().strip()\n",
    "if a1[::1]==a1[::-1]:\n",
    "    print(\"True\")\n",
    "else:\n",
    "    print(\"False\")"
   ]
  },
  {
   "cell_type": "code",
   "execution_count": 6,
   "id": "5fc3c12d-65c6-420d-be73-2e316c7c05b7",
   "metadata": {},
   "outputs": [
    {
     "name": "stdout",
     "output_type": "stream",
     "text": [
      "MALAYALAM\n"
     ]
    }
   ],
   "source": [
    "#3. Convert a string to uppercase.\n",
    "\n",
    "a2=a1.upper()\n",
    "print(a2)"
   ]
  },
  {
   "cell_type": "code",
   "execution_count": 7,
   "id": "6b6546f0-8218-4910-833b-2628b5e59ef8",
   "metadata": {},
   "outputs": [
    {
     "name": "stdout",
     "output_type": "stream",
     "text": [
      "malayalam\n"
     ]
    }
   ],
   "source": [
    "#4. Convert a string to lowercase\n",
    "\n",
    "print(a2.lower())"
   ]
  },
  {
   "cell_type": "code",
   "execution_count": 8,
   "id": "1c78786e-cc30-4b24-b0a7-9ff181a6e71a",
   "metadata": {},
   "outputs": [
    {
     "name": "stdin",
     "output_type": "stream",
     "text": [
      "Enter a sentence: Find the index of the first occurrence of an element in a list\n"
     ]
    },
    {
     "name": "stdout",
     "output_type": "stream",
     "text": [
      "Count of a is 2\n",
      "Count of e is 8\n",
      "Count of i is 5\n",
      "Count of o is 3\n",
      "Count of u is 1\n",
      "total vowels count is 19\n"
     ]
    }
   ],
   "source": [
    "#5. Count the number of vowels in a string.\n",
    "\n",
    "st=input(\"Enter a sentence:\")\n",
    "vowels=['a','e','i','o','u']\n",
    "a=0\n",
    "tot=0\n",
    "for num in vowels:\n",
    "    for p in st:\n",
    "        if num==p:\n",
    "            a+=1\n",
    "            tot+=1\n",
    "    print(\"Count of \"+num+\" is \"+ str(a))\n",
    "    a=0\n",
    "print(\"total vowels count is \"+str(tot))"
   ]
  },
  {
   "cell_type": "code",
   "execution_count": 9,
   "id": "bdb1bc49-94b1-4de4-a4af-dfddfd122e33",
   "metadata": {},
   "outputs": [
    {
     "name": "stdin",
     "output_type": "stream",
     "text": [
      "Enter a sentence: Find the index of the first occurrence of an element in a list\n"
     ]
    },
    {
     "name": "stdout",
     "output_type": "stream",
     "text": [
      "total consonants count is 43\n"
     ]
    }
   ],
   "source": [
    "#6. Count the number of consonants in a string.\n",
    "\n",
    "st=input(\"Enter a sentence:\")\n",
    "vowels=['a','e','i','o','u']\n",
    "a=0\n",
    "tot=0\n",
    "for num in vowels:\n",
    "    for p in st:\n",
    "        if num==p:\n",
    "            a+=1\n",
    "            tot+=1\n",
    "    a=0\n",
    "print(\"total consonants count is \"+str(len(st)-tot))"
   ]
  },
  {
   "cell_type": "code",
   "execution_count": 10,
   "id": "6d5b07a0-d4b3-480d-b927-f473b74415cc",
   "metadata": {},
   "outputs": [
    {
     "name": "stdin",
     "output_type": "stream",
     "text": [
      " Find the index of the first occurrence of an element in a list\n"
     ]
    },
    {
     "name": "stdout",
     "output_type": "stream",
     "text": [
      "Findtheindexofthefirstoccurrenceofanelementinalist\n"
     ]
    }
   ],
   "source": [
    "#7. Remove all whitespaces from a string.\n",
    "a3=input().strip()\n",
    "print(a3.replace(\" \",\"\"))"
   ]
  },
  {
   "cell_type": "code",
   "execution_count": 11,
   "id": "ea8591fa-463d-4d95-8327-bab72402bd18",
   "metadata": {},
   "outputs": [
    {
     "name": "stdout",
     "output_type": "stream",
     "text": [
      "62\n"
     ]
    }
   ],
   "source": [
    "#8. Find the length of a string without using the `len()` function\n",
    "length=0\n",
    "for num in a3:\n",
    "    length+=1\n",
    "print(length)\n",
    "    \n"
   ]
  },
  {
   "cell_type": "code",
   "execution_count": 12,
   "id": "f69810b8-33ae-4358-b90f-b485ba64d415",
   "metadata": {},
   "outputs": [
    {
     "name": "stdin",
     "output_type": "stream",
     "text": [
      " Find the index of the first occurrence of an element in a list\n",
      " list\n"
     ]
    },
    {
     "name": "stdout",
     "output_type": "stream",
     "text": [
      "True\n"
     ]
    }
   ],
   "source": [
    "#9. Check if a string contains a specific word.\n",
    "a4=input().strip()\n",
    "word=input().strip()\n",
    "if word in a4:\n",
    "    print(\"True\")\n",
    "else:\n",
    "    print(\"False\")\n",
    "    "
   ]
  },
  {
   "cell_type": "code",
   "execution_count": 13,
   "id": "549cc176-31e5-4ae8-bf86-5bc683f28225",
   "metadata": {},
   "outputs": [
    {
     "name": "stdout",
     "output_type": "stream",
     "text": [
      "Find the index of the first occurrence of An element in A list\n"
     ]
    }
   ],
   "source": [
    "#10. Replace a word in a string with another word.\n",
    "print(a4.replace(\"a\",\"A\"))"
   ]
  },
  {
   "cell_type": "code",
   "execution_count": 14,
   "id": "70d2c01e-5d2d-4014-a9e3-08a48d7c319f",
   "metadata": {},
   "outputs": [
    {
     "name": "stdout",
     "output_type": "stream",
     "text": [
      "2\n"
     ]
    }
   ],
   "source": [
    "#11. Count the occurrences of a word in a string.\n",
    "\n",
    "print(a4.count(\"a\"))"
   ]
  },
  {
   "cell_type": "code",
   "execution_count": 15,
   "id": "1ef7f3ff-739e-428d-933c-7988bf3aaf8a",
   "metadata": {},
   "outputs": [
    {
     "name": "stdout",
     "output_type": "stream",
     "text": [
      "The 'string' is first occurred at -1\n"
     ]
    }
   ],
   "source": [
    "#12. Find the first occurrence of a word in a string\n",
    "print(\"The 'string' is first occurred at \"+str(a4.find(\"string\")))\n",
    "       "
   ]
  },
  {
   "cell_type": "code",
   "execution_count": 16,
   "id": "07670546-a156-4343-83fe-8bfaa8f9ab49",
   "metadata": {},
   "outputs": [
    {
     "name": "stdout",
     "output_type": "stream",
     "text": [
      "The 'string' is first occurred at 36\n"
     ]
    }
   ],
   "source": [
    "#13. Find the last occurrence of a word in a string.\n",
    "a5=\"you can convert both the string and the substring to lowercase\"\n",
    "print(\"The 'string' is first occurred at \"+str(a5.rfind(\"the\")))"
   ]
  },
  {
   "cell_type": "code",
   "execution_count": 17,
   "id": "ea045f38-ad2a-4cdb-aeb7-faf04a0a0674",
   "metadata": {},
   "outputs": [
    {
     "name": "stdout",
     "output_type": "stream",
     "text": [
      "['you', 'can', 'convert', 'both', 'the', 'string', 'and', 'the', 'substring', 'to', 'lowercase']\n"
     ]
    }
   ],
   "source": [
    "# 14.Split a string into a list of words.\n",
    "\n",
    "print(a5.strip().split(\" \"))"
   ]
  },
  {
   "cell_type": "code",
   "execution_count": 18,
   "id": "29f69c61-83b3-49e3-a557-0cb12755e312",
   "metadata": {},
   "outputs": [
    {
     "name": "stdout",
     "output_type": "stream",
     "text": [
      "['you', 'can', 'convert', 'both', 'the', 'string', 'and', 'the', 'substring', 'to', 'lowercase']\n",
      "you can convert both the string and the substring to lowercase\n"
     ]
    }
   ],
   "source": [
    "#15. Join a list of words into a string.\n",
    "a6=a5.strip().split(\" \") #a5=\"you can convert both the string and the substring to lowercase\"\n",
    "print(a6)\n",
    "print(str(' '.join(a6)))"
   ]
  },
  {
   "cell_type": "code",
   "execution_count": 19,
   "id": "572bf3b9-5ae6-4078-9c53-09215793b9a2",
   "metadata": {},
   "outputs": [
    {
     "name": "stdout",
     "output_type": "stream",
     "text": [
      "you_can_convert_both_the_string_and_the_substring_to_lowercase\n"
     ]
    }
   ],
   "source": [
    "#16. Convert a string where words are separated by spaces to one where words are separated by underscores.\n",
    "\n",
    "print(a5.replace(\" \",\"_\")) #a5=\"you can convert both the string and the substring to lowercase\""
   ]
  },
  {
   "cell_type": "code",
   "execution_count": 20,
   "id": "16cc90df-c3ec-4ab8-94a8-3de688606f4f",
   "metadata": {},
   "outputs": [
    {
     "name": "stdout",
     "output_type": "stream",
     "text": [
      "True\n"
     ]
    }
   ],
   "source": [
    "# 17. Check if a string starts with a specific word or phrase.\n",
    "if a5.startswith(\"you\"): #a5=\"you can convert both the string and the substring to lowercase\"\n",
    "    print(\"True\")\n",
    "else:\n",
    "    print(\"False\")\n",
    "    \n"
   ]
  },
  {
   "cell_type": "code",
   "execution_count": 21,
   "id": "d38dfe61-137d-4a6b-ab04-d929f3f45d7d",
   "metadata": {},
   "outputs": [
    {
     "name": "stdout",
     "output_type": "stream",
     "text": [
      "False\n"
     ]
    }
   ],
   "source": [
    "#18. Check if a string ends with a specific word or phrase.\n",
    "\n",
    "if a5.endswith(\"you\"):    #a5=\"you can convert both the string and the substring to  lowercase\"\n",
    "    print(\"True\")\n",
    "else:\n",
    "    print(\"False\")\n",
    "    "
   ]
  },
  {
   "cell_type": "code",
   "execution_count": 22,
   "id": "4aac84a8-0887-44f9-876d-ff028675f670",
   "metadata": {},
   "outputs": [
    {
     "name": "stdout",
     "output_type": "stream",
     "text": [
      "You Can Convert Both The String And The Substring To Lowercase\n"
     ]
    }
   ],
   "source": [
    "#19. Convert a string to title case (e.g., \"hello world\" to \"Hello World\").\n",
    "print(a5.title()) #a5=\"you can convert both the string and the substring to lowercase\""
   ]
  },
  {
   "cell_type": "code",
   "execution_count": 23,
   "id": "5a52118d-e1e6-4b77-b4c0-95781281ffb9",
   "metadata": {},
   "outputs": [
    {
     "name": "stdout",
     "output_type": "stream",
     "text": [
      "substring\n"
     ]
    }
   ],
   "source": [
    "#20. Find the longest word in a string.\n",
    "words=a5.split()\n",
    "longest=max(words,key=len)\n",
    "print(longest)"
   ]
  },
  {
   "cell_type": "code",
   "execution_count": 24,
   "id": "d9655097-33dc-45c9-9628-2c4491f36d11",
   "metadata": {},
   "outputs": [
    {
     "name": "stdout",
     "output_type": "stream",
     "text": [
      "to\n"
     ]
    }
   ],
   "source": [
    "#21. Find the shortest word in a string.\n",
    "words=a5.split()\n",
    "longest=min(words,key=len)\n",
    "print(longest)"
   ]
  },
  {
   "cell_type": "code",
   "execution_count": 25,
   "id": "fb6e4903-7c7f-4181-9494-543366d21021",
   "metadata": {},
   "outputs": [
    {
     "name": "stdout",
     "output_type": "stream",
     "text": [
      "lowercase to substring the and string the both convert can you\n"
     ]
    }
   ],
   "source": [
    "#22. Reverse the order of words in a string.\n",
    "\n",
    "words=words[::-1]\n",
    "print(' '.join(words))"
   ]
  },
  {
   "cell_type": "code",
   "execution_count": 26,
   "id": "ebf7c4e8-e674-40ab-b6ea-cfff0db6b9ba",
   "metadata": {},
   "outputs": [
    {
     "name": "stdout",
     "output_type": "stream",
     "text": [
      "False\n",
      "True\n"
     ]
    }
   ],
   "source": [
    "#23. Check if a string is alphanumeric.\n",
    "\n",
    "if a5.isalnum():\n",
    "    print(\"True\")\n",
    "else:\n",
    "    print(\"False\")\n",
    "    \n",
    "a7=\"Yfkjbvfb9568568\"\n",
    "\n",
    "if a7.isalnum():\n",
    "    print(\"True\")\n",
    "else:\n",
    "    print(\"False\")"
   ]
  },
  {
   "cell_type": "code",
   "execution_count": 27,
   "id": "854e8660-b2e5-44c6-907c-c55dc2a7bfa5",
   "metadata": {},
   "outputs": [
    {
     "name": "stdout",
     "output_type": "stream",
     "text": [
      "['9', '5', '6', '8', '5', '6', '8']\n"
     ]
    }
   ],
   "source": [
    "#24. Extract all digits from a string.\n",
    "digs=[]\n",
    "for num in a7:\n",
    "    if num.isnumeric():\n",
    "        digs.append(num)\n",
    "    else:\n",
    "        pass\n",
    "print(digs)"
   ]
  },
  {
   "cell_type": "code",
   "execution_count": 28,
   "id": "b24ca886-adbd-42ce-aa44-2d9b0c5630c9",
   "metadata": {},
   "outputs": [
    {
     "name": "stdout",
     "output_type": "stream",
     "text": [
      "['Y', 'f', 'k', 'j', 'b', 'v', 'f', 'b']\n"
     ]
    }
   ],
   "source": [
    "#25. Extract all alphabets from a string.\n",
    "\n",
    "digs=[]\n",
    "for num in a7:    #a7=\"Yfkjbvfb9568568\"\n",
    "    if num.isalpha():\n",
    "        digs.append(num)\n",
    "    else:\n",
    "        pass\n",
    "print(digs)"
   ]
  },
  {
   "cell_type": "code",
   "execution_count": 29,
   "id": "a62b16bb-d6f7-434a-ab3d-20afc4bb6dc4",
   "metadata": {},
   "outputs": [
    {
     "name": "stdout",
     "output_type": "stream",
     "text": [
      "['E', 'K', 'J', 'B', 'F', 'J', 'E', 'R', 'B', 'F', 'B', 'F', 'D', 'E', 'J', 'B', 'H', 'F', 'J', 'E', 'B']\n"
     ]
    }
   ],
   "source": [
    "#26. Count the number of uppercase letters in a string.\n",
    "digss=[]\n",
    "a8=\"EKJBFJERBFenfdebfrhBFDEJBHFJEBekfnrbfrhbf3498987598594\"\n",
    "for num in a8:\n",
    "    if num.isupper():\n",
    "        digss.append(num)\n",
    "    else:\n",
    "        pass\n",
    "print(digss)\n",
    "\n",
    "    \n"
   ]
  },
  {
   "cell_type": "code",
   "execution_count": 30,
   "id": "6ae90c31-7002-448d-83a9-d13074bef0f4",
   "metadata": {},
   "outputs": [
    {
     "name": "stdout",
     "output_type": "stream",
     "text": [
      "['e', 'n', 'f', 'd', 'e', 'b', 'f', 'r', 'h', 'e', 'k', 'f', 'n', 'r', 'b', 'f', 'r', 'h', 'b', 'f']\n"
     ]
    }
   ],
   "source": [
    "#27. Count the number of lowercase letters in a string.\n",
    "digss=[]\n",
    "a8=\"EKJBFJERBFenfdebfrhBFDEJBHFJEBekfnrbfrhbf3498987598594\"\n",
    "for num in a8:\n",
    "    if num.islower():\n",
    "        digss.append(num)\n",
    "    else:\n",
    "        pass\n",
    "print(digss)\n",
    "\n"
   ]
  },
  {
   "cell_type": "code",
   "execution_count": 33,
   "id": "67169ba5-6f97-49fe-8644-19726f859b8d",
   "metadata": {},
   "outputs": [
    {
     "name": "stdout",
     "output_type": "stream",
     "text": [
      "HDCFEVhgjJjJVhvvjHVJvVjhVjhvJH\n"
     ]
    }
   ],
   "source": [
    "#28. Swap the case of each character in a string.\n",
    "\n",
    "a9=\"hdcfevHGJjJjvHVVJhvjVvJHvJHVjh\"\n",
    "print(a9.swapcase())"
   ]
  },
  {
   "cell_type": "code",
   "execution_count": 34,
   "id": "8d914ccc-c309-4d7f-b27d-130c68eb7f00",
   "metadata": {},
   "outputs": [
    {
     "name": "stdout",
     "output_type": "stream",
     "text": [
      "you can convert both the string and the substring to lowercase\n"
     ]
    }
   ],
   "source": [
    "print(a5)\n",
    "\n"
   ]
  },
  {
   "cell_type": "code",
   "execution_count": 35,
   "id": "1c40e3f7-1ca5-49ca-a646-ba2f2c02b43a",
   "metadata": {},
   "outputs": [
    {
     "name": "stdout",
     "output_type": "stream",
     "text": [
      "you can convert both  string and  substring to lowercase\n"
     ]
    }
   ],
   "source": [
    "#29. Remove a specific word from a string.\n",
    "\n",
    "print(a5.replace(\"the\",\"\"))"
   ]
  },
  {
   "cell_type": "code",
   "execution_count": 36,
   "id": "7aa464c9-2d59-4982-83f7-9a09db8e3713",
   "metadata": {},
   "outputs": [
    {
     "name": "stdin",
     "output_type": "stream",
     "text": [
      " hariguna1729@gmail.com\n"
     ]
    },
    {
     "name": "stdout",
     "output_type": "stream",
     "text": [
      " valid.\n"
     ]
    }
   ],
   "source": [
    "#30. Check if a string is a valid email address.\n",
    "import re\n",
    "\n",
    "def is_valid_email(email):\n",
    "    pattern = r'^[a-zA-Z0-9._%+-]+@[a-zA-Z0-9.-]+\\.[a-zA-Z]{2,}$'\n",
    "    match = re.match(pattern, email)\n",
    "    \n",
    "    # Return True if the email is valid, False otherwise\n",
    "    return bool(match)\n",
    "\n",
    "email_address =input().strip()\n",
    "if is_valid_email(email_address):\n",
    "    print(\" valid.\")\n",
    "else:\n",
    "    print(\" not valid.\")\n"
   ]
  },
  {
   "cell_type": "code",
   "execution_count": 37,
   "id": "5046ab4b-76ed-4881-a796-40fe5380539d",
   "metadata": {},
   "outputs": [
    {
     "name": "stdout",
     "output_type": "stream",
     "text": [
      "hariguna1729\n"
     ]
    }
   ],
   "source": [
    "#31. Extract the username from an email address string.\n",
    "\n",
    "b=\"hariguna1729@gmail.com\"\n",
    "end=b.find(\"@\")\n",
    "\n",
    "print(b[0:end])\n"
   ]
  },
  {
   "cell_type": "code",
   "execution_count": 38,
   "id": "79e795e3-509d-4e4e-ae84-cd584d01b40f",
   "metadata": {
    "tags": []
   },
   "outputs": [
    {
     "name": "stdout",
     "output_type": "stream",
     "text": [
      "gmail\n"
     ]
    }
   ],
   "source": [
    "#32. Extract the domain name from an email address string.\n",
    "\n",
    "start=b.find(\"@\")\n",
    "end=b.find(\".\")\n",
    "print(b[start+1:end])"
   ]
  },
  {
   "cell_type": "code",
   "execution_count": 40,
   "id": "d4d8f722-887b-4696-a474-3098e9cddce7",
   "metadata": {},
   "outputs": [
    {
     "name": "stdin",
     "output_type": "stream",
     "text": [
      " Find      the index of the           first occurrence       of an              element      in a list.\n"
     ]
    },
    {
     "name": "stdout",
     "output_type": "stream",
     "text": [
      "Find the index of the first occurrence of an element in a list.\n"
     ]
    }
   ],
   "source": [
    "#33. Replace multiple spaces in a string with a single space.\n",
    "import re\n",
    "b2=input().strip()\n",
    "modified_b2= re.sub(r'\\s+', ' ', b2)\n",
    "print(modified_b2)"
   ]
  },
  {
   "cell_type": "code",
   "execution_count": 41,
   "id": "41c7ad2c-1a76-48dc-b375-e64e8a7f29f6",
   "metadata": {},
   "outputs": [
    {
     "name": "stdout",
     "output_type": "stream",
     "text": [
      "Collecting validators\n",
      "  Downloading validators-0.22.0-py3-none-any.whl (26 kB)\n",
      "Installing collected packages: validators\n",
      "Successfully installed validators-0.22.0\n",
      "Note: you may need to restart the kernel to use updated packages.\n"
     ]
    }
   ],
   "source": [
    "pip install validators"
   ]
  },
  {
   "cell_type": "code",
   "execution_count": 42,
   "id": "a00d4628-762a-42c7-9872-c7b6cc6510ef",
   "metadata": {},
   "outputs": [
    {
     "name": "stdout",
     "output_type": "stream",
     "text": [
      "The URL 'https://www.example.com/path/to/page' is valid.\n"
     ]
    }
   ],
   "source": [
    "#34. Check if a string is a valid URL.\n",
    "\n",
    "#NO module found to finish this one easily\n",
    "import validators\n",
    "\n",
    "def is_valid_url(url):\n",
    "    return validators.url(url)\n",
    "\n",
    "url_string = \"https://www.example.com/path/to/page\"\n",
    "if is_valid_url(url_string):\n",
    "    print(f\"The URL '{url_string}' is valid.\")\n",
    "else:\n",
    "    print(f\"The URL '{url_string}' is not valid.\")"
   ]
  },
  {
   "cell_type": "code",
   "execution_count": 43,
   "id": "67415df7-09fb-4ba0-a9cf-5fe16052c9f0",
   "metadata": {},
   "outputs": [
    {
     "name": "stdout",
     "output_type": "stream",
     "text": [
      "The protocol in the URL 'https://www.example.com/path/to/page' is: https\n"
     ]
    }
   ],
   "source": [
    "#35. Extract the protocol (http or https) from a URL string.\n",
    "\n",
    "from urllib.parse import urlparse\n",
    "\n",
    "def extract_protocol(url):\n",
    "    parsed_url = urlparse(url)\n",
    "    return parsed_url.scheme\n",
    "\n",
    "# Example usage\n",
    "url_string = \"https://www.example.com/path/to/page\"\n",
    "protocol = extract_protocol(url_string)\n",
    "\n",
    "print(f\"The protocol in the URL '{url_string}' is: {protocol}\")"
   ]
  },
  {
   "cell_type": "code",
   "execution_count": 44,
   "id": "8a02e91e-0b28-423b-a440-ad28a81a4291",
   "metadata": {},
   "outputs": [
    {
     "name": "stdout",
     "output_type": "stream",
     "text": [
      " The of f is 3\n",
      " The of i is 5\n",
      " The of n is 6\n",
      " The of d is 2\n",
      " The of   is 51\n",
      " The of t is 5\n",
      " The of h is 2\n",
      " The of e is 8\n",
      " The of x is 1\n",
      " The of o is 3\n",
      " The of r is 3\n",
      " The of s is 2\n",
      " The of c is 3\n",
      " The of u is 1\n",
      " The of a is 2\n",
      " The of l is 2\n",
      " The of m is 1\n",
      " The of . is 1\n"
     ]
    }
   ],
   "source": [
    "#36. Find the frequency of each character in a string.\n",
    "letters=[]\n",
    "for num in b2.lower():\n",
    "    if num not in letters:\n",
    "        letters.append(num)\n",
    "        print(\" The of \"+num+\" is \"+str(b2.count(num)))\n",
    "    else:\n",
    "        pass\n"
   ]
  },
  {
   "cell_type": "code",
   "execution_count": 45,
   "id": "f6774c1f-fb0a-468e-87dc-e4e3f8f12326",
   "metadata": {},
   "outputs": [
    {
     "name": "stdout",
     "output_type": "stream",
     "text": [
      "Hello! How are you today? I hope everything is going well. Don't forget to bring your umbrella, it might rain!\n",
      "Hello How are you today I hope everything is going well Dont forget to bring your umbrella it might rain"
     ]
    }
   ],
   "source": [
    "#37.Remove all punctuation from a string.\n",
    "\n",
    "punc_sentence=\"Hello! How are you today? I hope everything is going well. Don't forget to bring your umbrella, it might rain!\"\n",
    "print(punc_sentence)\n",
    "for num in punc_sentence:\n",
    "    if num not in \"!\\\"#$%&'()*+,-./:;<=>?@[\\\\]^_`{|}~\":\n",
    "        print(num,end=\"\")"
   ]
  },
  {
   "cell_type": "code",
   "execution_count": 48,
   "id": "5c673206-44e1-42d9-819b-366645539a13",
   "metadata": {},
   "outputs": [
    {
     "name": "stdin",
     "output_type": "stream",
     "text": [
      " Find the index of the first occurrence of an element in a list\n"
     ]
    },
    {
     "name": "stdout",
     "output_type": "stream",
     "text": [
      "The string not only contains digits\n"
     ]
    }
   ],
   "source": [
    "#38. Check if a string contains only digits.\n",
    "\n",
    "st=input().strip()\n",
    "tot=0\n",
    "for num in st:\n",
    "    if (ord(num)>=65 and ord(num)<=90) or (ord(num)>=97 and ord(num)<=122):\n",
    "        print(\"The string not only contains digits\")\n",
    "        break\n",
    "        tot+=1\n",
    "        \n",
    "    else:\n",
    "        pass\n",
    "\n",
    "\n",
    "    "
   ]
  },
  {
   "cell_type": "code",
   "execution_count": 47,
   "id": "3663bca3-a77b-4e84-b4de-065b99f43fd0",
   "metadata": {},
   "outputs": [
    {
     "name": "stdin",
     "output_type": "stream",
     "text": [
      " Find the index of the first occurrence of an element in a list\n"
     ]
    },
    {
     "name": "stdout",
     "output_type": "stream",
     "text": [
      "The string  only contains alphabets\n"
     ]
    }
   ],
   "source": [
    "# 39. Check if a string contains only alphabets.\n",
    "\n",
    "st=input().strip()\n",
    "tot=0\n",
    "for num in st:\n",
    "    if (ord(num)>=65 and ord(num)<=90) or (ord(num)>=97 and ord(num)<=122):\n",
    "        print(\"The string  only contains alphabets\")\n",
    "        tot+=1\n",
    "        break\n",
    "        \n",
    "    else:\n",
    "        pass\n",
    "if tot==0:\n",
    "    print(\"The string contains  digits also\")\n",
    "    "
   ]
  },
  {
   "cell_type": "code",
   "execution_count": 49,
   "id": "d67a509d-cafb-4329-9f28-c8f5be6132f4",
   "metadata": {},
   "outputs": [
    {
     "name": "stdout",
     "output_type": "stream",
     "text": [
      "['F', 'i', 'n', 'd', ' ', 't', 'h', 'e', ' ', 'i', 'n', 'd', 'e', 'x', ' ', 'o', 'f', ' ', 't', 'h', 'e', ' ', 'f', 'i', 'r', 's', 't', ' ', 'o', 'c', 'c', 'u', 'r', 'r', 'e', 'n', 'c', 'e', ' ', 'o', 'f', ' ', 'a', 'n', ' ', 'e', 'l', 'e', 'm', 'e', 'n', 't', ' ', 'i', 'n', ' ', 'a', ' ', 'l', 'i', 's', 't']\n"
     ]
    }
   ],
   "source": [
    "# 40. Convert a string to a list of characters.\n",
    "print(list(st))\n"
   ]
  },
  {
   "cell_type": "code",
   "execution_count": 51,
   "id": "6d7d1c74-b6c0-49ef-a997-71d5a1ca87de",
   "metadata": {},
   "outputs": [
    {
     "name": "stdin",
     "output_type": "stream",
     "text": [
      " Find the index of the first occurrence of an element in a list\n",
      " Find the index of the first occurrence\n"
     ]
    },
    {
     "name": "stdout",
     "output_type": "stream",
     "text": [
      "The two strings are not anagrams\n"
     ]
    }
   ],
   "source": [
    "# 41. Check if two strings are anagrams.\n",
    "st1=input().strip()\n",
    "st2=input().strip()\n",
    "l1=sorted(list(st1))\n",
    "l2=sorted(list(st2))\n",
    "if l1==l2:\n",
    "    print(\"The two strings are anagrams\")\n",
    "\n",
    "else:\n",
    "    print(\"The two strings are not anagrams\")"
   ]
  },
  {
   "cell_type": "code",
   "execution_count": 52,
   "id": "c786d0a5-fa55-4c6a-9ba9-7f1dabb88bd3",
   "metadata": {},
   "outputs": [
    {
     "name": "stdin",
     "output_type": "stream",
     "text": [
      " Find the index of the first occurrence of an element in a list\n",
      " 3\n"
     ]
    },
    {
     "name": "stdout",
     "output_type": "stream",
     "text": [
      "Ilqg wkh lqgh{ ri wkh iluvw rffxuuhqfh ri dq hohphqw lq d olvw\n"
     ]
    }
   ],
   "source": [
    "# 42. Encode a string using a Caesar cipher.\n",
    "\n",
    "st=input().strip()\n",
    "key=int(input())\n",
    "res=''\n",
    "for num in st:\n",
    "    if num.isupper():\n",
    "        res+=chr((ord(num)%90)+key)\n",
    "    elif num.islower():\n",
    "        res+=chr((ord(num)%122)+key)\n",
    "    else:\n",
    "        res+=num\n",
    "print(res)\n",
    "        \n",
    "        "
   ]
  },
  {
   "cell_type": "code",
   "execution_count": 54,
   "id": "35186f9f-9627-4790-90dd-5883b92a24a7",
   "metadata": {},
   "outputs": [
    {
     "name": "stdin",
     "output_type": "stream",
     "text": [
      " Ilqg wkh lqgh{ ri wkh iluvw rffxuuhqfh ri dq hohphqw lq d olvw\n",
      " 3\n"
     ]
    },
    {
     "name": "stdout",
     "output_type": "stream",
     "text": [
      "Find the inde{ of the first occurrence of an element in a list\n"
     ]
    }
   ],
   "source": [
    "# 43. Decode a Caesar cipher encoded string.\n",
    "st=input().strip()\n",
    "key=int(input())\n",
    "res=''\n",
    "for num in st:\n",
    "    if num.isupper():\n",
    "        res+=chr((ord(num)%90)-key)\n",
    "    elif num.islower():\n",
    "        res+=chr((ord(num)%122)-key)\n",
    "    else:\n",
    "        res+=num\n",
    "print(res)"
   ]
  },
  {
   "cell_type": "code",
   "execution_count": 57,
   "id": "eb96623c-7b04-4b83-96f5-a91fb3f06ba0",
   "metadata": {},
   "outputs": [
    {
     "name": "stdin",
     "output_type": "stream",
     "text": [
      "  Find the index of the first occurrence of an element in a list\n"
     ]
    },
    {
     "name": "stdout",
     "output_type": "stream",
     "text": [
      "'of' is the most frequent word and repeated 2 times\n"
     ]
    }
   ],
   "source": [
    "# 44. Find the most frequent word in a string.\n",
    "\n",
    "st=input().strip()\n",
    "maxn=0\n",
    "maxw=\"\"\n",
    "words= st.split(\" \")\n",
    "for num in words:\n",
    "    if words.count(num)>=maxn:\n",
    "        maxw=num\n",
    "        maxn=words.count(num)\n",
    "    else:\n",
    "        pass\n",
    "print(f\"'{maxw}' is the most frequent word and repeated {maxn} times\")\n",
    "\n"
   ]
  },
  {
   "cell_type": "code",
   "execution_count": 58,
   "id": "23baa6c6-c808-4e77-a182-fcb440705bf0",
   "metadata": {},
   "outputs": [
    {
     "name": "stdin",
     "output_type": "stream",
     "text": [
      "  Find the index of the first occurrence of an element in a list\n"
     ]
    },
    {
     "name": "stdout",
     "output_type": "stream",
     "text": [
      "Find\n",
      "index\n",
      "first\n",
      "occurrence\n",
      "an\n",
      "element\n",
      "in\n",
      "a\n",
      "list\n"
     ]
    }
   ],
   "source": [
    "# 45. Find all unique words in a string.\n",
    "st=input().strip()\n",
    "words= st.split(\" \")\n",
    "for num in words:\n",
    "    if words.count(num)==1:\n",
    "        print(num)"
   ]
  },
  {
   "cell_type": "code",
   "execution_count": 60,
   "id": "30e7e0bf-32f5-4e04-ab7f-d7fffacb71dc",
   "metadata": {},
   "outputs": [
    {
     "name": "stdout",
     "output_type": "stream",
     "text": [
      "Requirement already satisfied: nltk in /opt/conda/lib/python3.10/site-packages (3.8.1)\n",
      "Requirement already satisfied: click in /opt/conda/lib/python3.10/site-packages (from nltk) (8.1.3)\n",
      "Requirement already satisfied: regex>=2021.8.3 in /opt/conda/lib/python3.10/site-packages (from nltk) (2023.12.25)\n",
      "Requirement already satisfied: tqdm in /opt/conda/lib/python3.10/site-packages (from nltk) (4.64.1)\n",
      "Requirement already satisfied: joblib in /opt/conda/lib/python3.10/site-packages (from nltk) (1.2.0)\n",
      "Note: you may need to restart the kernel to use updated packages.\n"
     ]
    }
   ],
   "source": [
    "pip install nltk"
   ]
  },
  {
   "cell_type": "code",
   "execution_count": 63,
   "id": "dc9eac5a-9c4d-4ba2-b2e8-2474626310f8",
   "metadata": {},
   "outputs": [
    {
     "name": "stdout",
     "output_type": "stream",
     "text": [
      "The number of syllables in the string is: 11\n"
     ]
    }
   ],
   "source": [
    "#46. Count the number of syllables in a string.\n",
    "import re\n",
    "\n",
    "def count_syllables(word):\n",
    "    # Using regular expression to find vowel groups\n",
    "    vowels = re.findall(r'[aeiouy]+', word, flags=re.IGNORECASE)\n",
    "    \n",
    "    # Handling special cases where 'e' at the end is not counted as a separate syllable\n",
    "    if word.lower().endswith('e') and len(vowels) > 1 and vowels[-1].lower() == 'e':\n",
    "        vowels.pop()\n",
    "\n",
    "    return len(vowels)\n",
    "\n",
    "def count_syllables_in_string(text):\n",
    "    words = text.split()\n",
    "    total_syllables = sum(count_syllables(word) for word in words)\n",
    "    return total_syllables\n",
    "\n",
    "# Example usage\n",
    "input_string = \"Count the number of syllables in a string\"\n",
    "result = count_syllables_in_string(input_string)\n",
    "print(f\"The number of syllables in the string is: {result}\")\n",
    "\n",
    "\n"
   ]
  },
  {
   "cell_type": "code",
   "execution_count": 64,
   "id": "10d4a324-a034-45c4-8f27-98b23c4e0a78",
   "metadata": {},
   "outputs": [
    {
     "name": "stdout",
     "output_type": "stream",
     "text": [
      "The string contains special characters.\n"
     ]
    }
   ],
   "source": [
    "# 47. Check if a string contains any special characters.\n",
    "\n",
    "import re\n",
    "\n",
    "def contains_special_characters(input_string):\n",
    "    # Define a regular expression pattern for special characters\n",
    "    special_characters_pattern = re.compile(r'[^a-zA-Z0-9\\s]')\n",
    "\n",
    "    # Use the pattern to find special characters in the input string\n",
    "    special_characters = special_characters_pattern.search(input_string)\n",
    "\n",
    "    # Return True if special characters are found, False otherwise\n",
    "    return special_characters is not None\n",
    "\n",
    "# Example usage\n",
    "input_string = \"Check if a string contains any special characters!\"\n",
    "result = contains_special_characters(input_string)\n",
    "\n",
    "if result:\n",
    "    print(\"The string contains special characters.\")\n",
    "else:\n",
    "    print(\"The string does not contain any special characters.\")"
   ]
  },
  {
   "cell_type": "code",
   "execution_count": 66,
   "id": "3bba6e27-90ab-4c8c-ad7f-485bad4b59af",
   "metadata": {},
   "outputs": [
    {
     "name": "stdin",
     "output_type": "stream",
     "text": [
      "  Find the index of the first occurrence of an element in a list\n"
     ]
    },
    {
     "name": "stdout",
     "output_type": "stream",
     "text": [
      "Find the index of the first occurrence of an element in a "
     ]
    }
   ],
   "source": [
    "\n",
    "# 48. Remove the nth word from a string.\n",
    "\n",
    "st=input().strip()\n",
    "words=st.split(\" \")\n",
    "a=len(words)\n",
    "for num in words[0:a-1]:\n",
    "    print(num,end=\" \")\n",
    "    \n",
    "\n"
   ]
  },
  {
   "cell_type": "code",
   "execution_count": 69,
   "id": "755c7daa-5929-4415-b25a-9026535b69ad",
   "metadata": {},
   "outputs": [
    {
     "name": "stdin",
     "output_type": "stream",
     "text": [
      "  Find\n"
     ]
    },
    {
     "name": "stdout",
     "output_type": "stream",
     "text": [
      "Insert a word at the nth position in a string Find\n"
     ]
    }
   ],
   "source": [
    "# 49. Insert a word at the nth position in a string.\n",
    "st=\"Insert a word at the nth position in a string\"\n",
    "word=input().strip()\n",
    "print(st+\" \"+word)\n"
   ]
  },
  {
   "cell_type": "code",
   "execution_count": null,
   "id": "75671f67-1e24-4a8e-a7df-41af3d571bc3",
   "metadata": {},
   "outputs": [],
   "source": [
    "# 50. convert a CSV string to a list of lists.c\n",
    "\n",
    "import csv\n",
    "from io import StringIO\n",
    "\n",
    "def csv_string_to_list(csv_string):\n",
    "    # Create a CSV reader object\n",
    "    csv_reader = csv.reader(StringIO(csv_string))\n",
    "\n",
    "    # Convert the CSV reader object to a list of lists\n",
    "    csv_list = [row for row in csv_reader]\n",
    "\n",
    "    return csv_list\n",
    "\n",
    "# Example usage\n",
    "csv_string = \"Name,Age,Occupation\\nJohn,30,Engineer\\nAlice,25,Doctor\\nBob,40,Artist\"\n",
    "result = csv_string_to_list(csv_string)\n",
    "\n",
    "print(result)"
   ]
  },
  {
   "cell_type": "code",
   "execution_count": null,
   "id": "91d250f6-3043-4975-a2a3-05d4050fbe98",
   "metadata": {},
   "outputs": [],
   "source": [
    "# List Based Practice Problem :\n",
    "\n",
    "\n"
   ]
  },
  {
   "cell_type": "code",
   "execution_count": 51,
   "id": "0608bbc0-1fe2-4186-9fa5-4a4df62031ea",
   "metadata": {},
   "outputs": [
    {
     "name": "stdout",
     "output_type": "stream",
     "text": [
      "[1, 2, 3, 4, 5, 6, 7, 8, 9, 10]\n"
     ]
    }
   ],
   "source": [
    "# 1. Create a list with integers from 1 to 10.\n",
    "l=list(i for i in range(1,11))\n",
    "print(l)\n"
   ]
  },
  {
   "cell_type": "code",
   "execution_count": 52,
   "id": "a746deef-c6e9-4e6c-ab83-225f7332009c",
   "metadata": {},
   "outputs": [
    {
     "name": "stdout",
     "output_type": "stream",
     "text": [
      "The length of list  is 10\n"
     ]
    }
   ],
   "source": [
    "# 2. Find the length of a list without using the `len()` function.\n",
    "a=0\n",
    "for num in l:\n",
    "   a+=1\n",
    "print(\"The length of list  is \"+str(a))"
   ]
  },
  {
   "cell_type": "code",
   "execution_count": 53,
   "id": "cd3cf64b-93ac-4c53-b2db-8c58f8804bf0",
   "metadata": {},
   "outputs": [
    {
     "name": "stdout",
     "output_type": "stream",
     "text": [
      "[1, 2, 3, 4, 5, 6, 7, 8, 9, 10, 11]\n"
     ]
    }
   ],
   "source": [
    "# 3. Append an element to the end of a list.\n",
    "\n",
    "l.append(11)\n",
    "print(l)"
   ]
  },
  {
   "cell_type": "code",
   "execution_count": 54,
   "id": "8c92f8e1-2522-4e81-9939-e504ea860b91",
   "metadata": {},
   "outputs": [
    {
     "name": "stdout",
     "output_type": "stream",
     "text": [
      "[1, 2, 3, 5, 4, 5, 6, 7, 8, 9, 10, 11]\n"
     ]
    }
   ],
   "source": [
    "# 4. Insert an element at a specific index in a list.\n",
    "l.insert(3,5)\n",
    "print(l)"
   ]
  },
  {
   "cell_type": "code",
   "execution_count": 55,
   "id": "fc5d66e3-cbd9-48bc-836f-eca927412a33",
   "metadata": {},
   "outputs": [
    {
     "name": "stdout",
     "output_type": "stream",
     "text": [
      "[1, 2, 3, 4, 5, 6, 7, 8, 9, 10, 11]\n"
     ]
    }
   ],
   "source": [
    "# 5. Remove an element from a list by its value.\n",
    "l.remove(5)\n",
    "print(l)"
   ]
  },
  {
   "cell_type": "code",
   "execution_count": 56,
   "id": "67ac9c1b-4cc4-46ec-a02b-0cc61c1c4bc4",
   "metadata": {},
   "outputs": [],
   "source": [
    "# output i not showing from this\n"
   ]
  },
  {
   "cell_type": "code",
   "execution_count": 57,
   "id": "2c1a74b2-1205-4cde-a937-b861396e57d6",
   "metadata": {},
   "outputs": [
    {
     "name": "stdout",
     "output_type": "stream",
     "text": [
      "[1, 2, 4, 5, 6, 7, 8, 9, 10, 11]\n"
     ]
    }
   ],
   "source": [
    "#  6. Remove an element from a list by its index.\n",
    "l.pop(2)\n",
    "print(l) #remove index 2-->3\n",
    "\n"
   ]
  },
  {
   "cell_type": "code",
   "execution_count": 58,
   "id": "c6fca8d3-adb0-4349-9c8a-a157d58ae710",
   "metadata": {},
   "outputs": [
    {
     "name": "stdin",
     "output_type": "stream",
     "text": [
      " 7\n"
     ]
    },
    {
     "name": "stdout",
     "output_type": "stream",
     "text": [
      "The element exists\n"
     ]
    }
   ],
   "source": [
    "# 7. Check if an element exists in a list.\n",
    "n=int(input())\n",
    "if n in l:\n",
    "    print(\"The element exists\")\n",
    "else:\n",
    "    print(\"The element does not exist\")\n",
    "    "
   ]
  },
  {
   "cell_type": "code",
   "execution_count": 12,
   "id": "3626a474-4694-4db2-8b02-dc7f69b0d9b8",
   "metadata": {},
   "outputs": [
    {
     "name": "stdin",
     "output_type": "stream",
     "text": [
      " 6\n"
     ]
    },
    {
     "name": "stdout",
     "output_type": "stream",
     "text": [
      "The index of 6 is 4 \n"
     ]
    }
   ],
   "source": [
    "# 8. Find the index of the first occurrence of an element in a list.\n",
    "x=int(input())\n",
    "y=l.index(x)\n",
    "print(f\"The index of {x} is {y} \")"
   ]
  },
  {
   "cell_type": "code",
   "execution_count": 13,
   "id": "4c4f27ed-a66e-461d-bd50-00c13d74dbc7",
   "metadata": {},
   "outputs": [
    {
     "name": "stdout",
     "output_type": "stream",
     "text": [
      "The count of 7 is 2\n"
     ]
    }
   ],
   "source": [
    "# 9. Count the occurrences of an element in a list.\n",
    "l.append(7)\n",
    "print(f\"The count of 7 is {l.count(7)}\")"
   ]
  },
  {
   "cell_type": "code",
   "execution_count": 14,
   "id": "e5e7b84e-e994-4435-99cc-bf0faf4574b2",
   "metadata": {},
   "outputs": [
    {
     "name": "stdout",
     "output_type": "stream",
     "text": [
      "[1, 2, 4, 5, 6, 7, 8, 9, 10, 11, 7]\n",
      "The reverse order of l is :[7, 11, 10, 9, 8, 7, 6, 5, 4, 2, 1]\n"
     ]
    }
   ],
   "source": [
    "# 10. Reverse the order of elements in a list.\n",
    "print(l)\n",
    "print(f\"The reverse order of l is :{l[::-1]}\")"
   ]
  },
  {
   "cell_type": "code",
   "execution_count": 59,
   "id": "de094256-9761-4531-856d-8986f5d01208",
   "metadata": {},
   "outputs": [
    {
     "name": "stdout",
     "output_type": "stream",
     "text": [
      "[4, 11, 6, 2, 10, 1, 9, 8, 5, 7]\n",
      "The sorted (ascending) list is: [1, 2, 4, 5, 6, 7, 8, 9, 10, 11]\n"
     ]
    }
   ],
   "source": [
    "# 11. Sort a list in ascending order.\n",
    "import random\n",
    "random.shuffle(l)\n",
    "print(l)\n",
    "l.sort()\n",
    "print(f\"The sorted (ascending) list is: {l}\")"
   ]
  },
  {
   "cell_type": "code",
   "execution_count": 60,
   "id": "4b298ef5-3934-49bd-b768-85734b663ac0",
   "metadata": {},
   "outputs": [
    {
     "name": "stdout",
     "output_type": "stream",
     "text": [
      "[10, 11, 5, 9, 1, 2, 6, 7, 8, 4]\n",
      "The sorted(descending) list is: [11, 10, 9, 8, 7, 6, 5, 4, 2, 1]\n"
     ]
    }
   ],
   "source": [
    "# 12. Sort a list in descending order.\n",
    "\n",
    "import random\n",
    "random.shuffle(l)\n",
    "print(l)\n",
    "l.sort(reverse=True)\n",
    "print(f\"The sorted(descending) list is: {l}\")"
   ]
  },
  {
   "cell_type": "code",
   "execution_count": 19,
   "id": "2902fff9-e984-422d-bf41-954efa9b72c6",
   "metadata": {},
   "outputs": [
    {
     "name": "stdout",
     "output_type": "stream",
     "text": [
      "[2, 4, 6, 8, 10, 12, 14, 16, 18]\n"
     ]
    }
   ],
   "source": [
    "# 13. Create a list of even numbers from 1 to 20.\n",
    "print(list( i for i in range(2,20,2)))"
   ]
  },
  {
   "cell_type": "code",
   "execution_count": 20,
   "id": "35214f5d-14bd-4dfb-a3c9-006564b3bbaa",
   "metadata": {},
   "outputs": [
    {
     "name": "stdout",
     "output_type": "stream",
     "text": [
      "[1, 3, 5, 7, 9, 11, 13, 15, 17, 19]\n"
     ]
    }
   ],
   "source": [
    "# 14. Create a list of odd numbers from 1 to 20.\n",
    "print(list( i for i in range(1,20,2)))"
   ]
  },
  {
   "cell_type": "code",
   "execution_count": 23,
   "id": "1e26a351-96ab-4300-b988-1a5f2564e7e1",
   "metadata": {},
   "outputs": [
    {
     "name": "stdout",
     "output_type": "stream",
     "text": [
      "70\n"
     ]
    }
   ],
   "source": [
    "# 15. Find the sum of all elements in a list.\n",
    "print(sum(l))\n"
   ]
  },
  {
   "cell_type": "code",
   "execution_count": 28,
   "id": "7900457c-8daf-408b-8b06-7227af113886",
   "metadata": {},
   "outputs": [
    {
     "name": "stdout",
     "output_type": "stream",
     "text": [
      "[11, 10, 9, 8, 7, 7, 6, 5, 4, 2, 1]\n",
      "The maximum value in 'l' is 11\n"
     ]
    }
   ],
   "source": [
    "# 16. Find the maximum value in a list.\n",
    "print(l)\n",
    "print(f\"The maximum value in 'l' is {max(l)}\")"
   ]
  },
  {
   "cell_type": "code",
   "execution_count": 29,
   "id": "bbd44e87-8db3-4d1f-9529-bb32d69f5a23",
   "metadata": {},
   "outputs": [
    {
     "name": "stdout",
     "output_type": "stream",
     "text": [
      "[11, 10, 9, 8, 7, 7, 6, 5, 4, 2, 1]\n",
      "The minimum value in 'l' is 1\n"
     ]
    }
   ],
   "source": [
    "# 17. Find the minimum value in a list.\n",
    "print(l)\n",
    "print(f\"The minimum value in 'l' is {min(l)}\")\n"
   ]
  },
  {
   "cell_type": "code",
   "execution_count": 39,
   "id": "40d1779e-f32b-417f-9c1b-fe974508561d",
   "metadata": {},
   "outputs": [
    {
     "name": "stdout",
     "output_type": "stream",
     "text": [
      "[1, 2, 3, 4, 5, 6, 7, 8, 9, 10]\n",
      "The squares of nums in list 'l' is:\n",
      "1 4 9 16 25 36 49 64 81 100 "
     ]
    }
   ],
   "source": [
    "# 18. Create a list of squares of numbers from 1 to 10.\n",
    "l=[1,2,3,4,5,6,7,8,9,10]\n",
    "print(l)\n",
    "print(\"The squares of nums in list 'l' is:\")\n",
    "for x in l:\n",
    "    print(x**2,end=\" \")"
   ]
  },
  {
   "cell_type": "code",
   "execution_count": 41,
   "id": "146e49e5-0429-4bd3-a81e-ce9349a43277",
   "metadata": {},
   "outputs": [
    {
     "name": "stdout",
     "output_type": "stream",
     "text": [
      "69\n",
      "15\n",
      "55\n",
      "44\n",
      "38\n",
      "72\n",
      "25\n",
      "11\n",
      "15\n",
      "19\n"
     ]
    }
   ],
   "source": [
    "# 19. Create a list of random numbers.\n",
    "import random \n",
    "for _ in range(10):\n",
    "    print(random.randint(1,100))\n",
    "    "
   ]
  },
  {
   "cell_type": "code",
   "execution_count": 48,
   "id": "5060b536-edc9-4ee2-816a-db5c2cdb1bdb",
   "metadata": {},
   "outputs": [
    {
     "name": "stdout",
     "output_type": "stream",
     "text": [
      "[1, 2, 3, 4, 5, 6, 7, 8, 9]\n"
     ]
    }
   ],
   "source": [
    "# 20. Remove duplicates from a list.\n",
    "l=[1,2,3,4,4,5,6,6,7,7,8,9]\n",
    "print(list(set(l)))"
   ]
  },
  {
   "cell_type": "code",
   "execution_count": 50,
   "id": "221092c8-2ffd-49e5-b4c7-af699f53ef02",
   "metadata": {},
   "outputs": [
    {
     "name": "stdout",
     "output_type": "stream",
     "text": [
      "The common elements between 'l1' and 'l2' :[2, 3, 4, 5]\n"
     ]
    }
   ],
   "source": [
    "# 21. Find the common elements between two lists.\n",
    "l1=[1,2,3,4,5]\n",
    "l2=[2,3,4,5,6,7]\n",
    "print(f\"The common elements between 'l1' and 'l2' :{list(set(l1) & set(l2))}\")"
   ]
  },
  {
   "cell_type": "code",
   "execution_count": 53,
   "id": "b3620652-3584-4860-a7b6-f1c7bf708320",
   "metadata": {},
   "outputs": [
    {
     "name": "stdout",
     "output_type": "stream",
     "text": [
      " The difference between 'l1' and 'l2' [1]\n",
      " The difference between 'l2' and 'l1' [6, 7]\n"
     ]
    }
   ],
   "source": [
    "# 22. Find the difference between two lists.\n",
    "print(f\" The difference between 'l1' and 'l2' {list(x for x in l1 if x not in l2)}\")\n",
    "print(f\" The difference between 'l2' and 'l1' {list(x for x in l2 if x not in l1)}\")"
   ]
  },
  {
   "cell_type": "code",
   "execution_count": 55,
   "id": "3f22f13b-5887-4cb0-a226-058071a25340",
   "metadata": {},
   "outputs": [
    {
     "name": "stdout",
     "output_type": "stream",
     "text": [
      "The merged list of 'l1' and 'l2' is :[1, 2, 3, 4, 5, 2, 3, 4, 5, 6, 7]\n"
     ]
    }
   ],
   "source": [
    "# 23. Merge two lists.\n",
    "print(f\"The merged list of 'l1' and 'l2' is :{l1+l2}\")"
   ]
  },
  {
   "cell_type": "code",
   "execution_count": 59,
   "id": "daf85ff9-a679-4ab9-ab99-a223b7aa68d0",
   "metadata": {},
   "outputs": [
    {
     "name": "stdout",
     "output_type": "stream",
     "text": [
      "[1, 2, 3, 4, 5]\n",
      "The multiplied elements in 'l1' are :[2, 4, 6, 8, 10]\n"
     ]
    }
   ],
   "source": [
    "# 24. Multiply all elements in a list by 2.\n",
    "print(l1)\n",
    "print(f\"The multiplied elements in 'l1' are :{[x*2 for x in l1]}\")"
   ]
  },
  {
   "cell_type": "code",
   "execution_count": 67,
   "id": "d386246a-97f3-40fa-9f19-ada9366f02cd",
   "metadata": {},
   "outputs": [
    {
     "name": "stdout",
     "output_type": "stream",
     "text": [
      "[1, 2, 3, 4, 5]\n",
      "[2, 4]\n"
     ]
    }
   ],
   "source": [
    "# 25. Filter out all even numbers from a list. \n",
    "print(l1)\n",
    "print([x for x in l1 if x%2==0])"
   ]
  },
  {
   "cell_type": "code",
   "execution_count": 5,
   "id": "e82e7d83-7a1b-4e80-9933-799875912be8",
   "metadata": {},
   "outputs": [
    {
     "name": "stdout",
     "output_type": "stream",
     "text": [
      "[1, 2, 3, 4, 5, 6]\n",
      "[<class 'int'>, <class 'int'>, <class 'int'>, <class 'int'>, <class 'int'>, <class 'int'>]\n"
     ]
    }
   ],
   "source": [
    "# 26. Convert a list of strings to a list of integers.\n",
    "x=[\"1\",\"2\",\"3\",\"4\",\"5\",\"6\"]\n",
    "y=[int(num) for num in x]\n",
    "print(y)\n",
    "print([type(num) for num in y])"
   ]
  },
  {
   "cell_type": "code",
   "execution_count": 7,
   "id": "fca45fd0-3b6a-4bc9-9a26-08ec55b0b81b",
   "metadata": {},
   "outputs": [
    {
     "name": "stdout",
     "output_type": "stream",
     "text": [
      "['1', '2', '3', '4', '5', '6']\n",
      "[<class 'str'>, <class 'str'>, <class 'str'>, <class 'str'>, <class 'str'>, <class 'str'>]\n"
     ]
    }
   ],
   "source": [
    "# 27. Convert a list of integers to a list of strings.\n",
    "y1=[str(num) for num in y]\n",
    "print(y1)\n",
    "print([type(num) for num in y1])"
   ]
  },
  {
   "cell_type": "code",
   "execution_count": 10,
   "id": "6a309032-8782-4e41-b2ea-a95126174e89",
   "metadata": {},
   "outputs": [
    {
     "name": "stdout",
     "output_type": "stream",
     "text": [
      "[1, 2, 3, 4, 5, 6, 2, 3, 4, 5, 4, 5, 6, 7, 8]\n"
     ]
    }
   ],
   "source": [
    "# 28. Flatten a nested list.\n",
    "x1=[[1,2,3,4,5,6],[2,3,4,5],[4,5,6,7,8]]\n",
    "flatten=[item for sub1 in x1  for item in sub1]\n",
    "print(flatten)\n"
   ]
  },
  {
   "cell_type": "code",
   "execution_count": 5,
   "id": "4481e9d7-00af-4e02-abb3-0cb2dc06ab40",
   "metadata": {},
   "outputs": [
    {
     "name": "stdin",
     "output_type": "stream",
     "text": [
      " 0\n",
      " 1\n",
      " 10\n"
     ]
    },
    {
     "name": "stdout",
     "output_type": "stream",
     "text": [
      "The fibo series \n",
      "0\n",
      "1\n",
      "1\n",
      "2\n",
      "3\n",
      "5\n",
      "8\n",
      "13\n",
      "21\n",
      "34\n"
     ]
    }
   ],
   "source": [
    "#  29. Create a list of the first 10 Fibonacci numbers.\n",
    "\n",
    "first=int(input())\n",
    "second=int(input())\n",
    "count=int(input())\n",
    "print(\"The fibo series \")\n",
    "print(first)\n",
    "print(second)\n",
    "temp=0\n",
    "\n",
    "for i in range(count-2):\n",
    "    print(first+second)\n",
    "    temp=first\n",
    "    first =second\n",
    "    second=temp+second\n"
   ]
  },
  {
   "cell_type": "code",
   "execution_count": 8,
   "id": "a626ea0e-d1ec-4ed8-a524-76ea64133417",
   "metadata": {},
   "outputs": [
    {
     "name": "stdout",
     "output_type": "stream",
     "text": [
      "The list is ssorted\n"
     ]
    }
   ],
   "source": [
    "# 30. Check if a list is sorted.\n",
    "def sorted(lst):\n",
    "    for num in range(len(y1)-1):\n",
    "        if y1[num]>y1[num+1]:\n",
    "            return False\n",
    "            break\n",
    "        \n",
    "    return True\n",
    "y1=[1,2,3,4,5,6]\n",
    "if sorted(y1):\n",
    "    print(\"The list is sorted\")\n",
    "else:\n",
    "    print(\"The list is not sorted\")\n"
   ]
  },
  {
   "cell_type": "code",
   "execution_count": 19,
   "id": "506d51a8-b125-4c3e-8bcd-636da55f7f8f",
   "metadata": {},
   "outputs": [
    {
     "name": "stdout",
     "output_type": "stream",
     "text": [
      "Normal list [1, 2, 3, 4, 5, 6]\n"
     ]
    },
    {
     "name": "stdin",
     "output_type": "stream",
     "text": [
      "Enter positions 1\n"
     ]
    },
    {
     "name": "stdout",
     "output_type": "stream",
     "text": [
      "Rotated list [2, 3, 4, 5, 6, 1]\n"
     ]
    }
   ],
   "source": [
    "# 31. Rotate a list to the left by `n` positions.\n",
    "print(f\"Normal list {y1}\")\n",
    "l_list=[]\n",
    "pos=int(input(\"Enter positions\"))\n",
    "for i in range(len(y1)):\n",
    "    l_list.append(y1[(i+pos)%len(y1)])\n",
    "print(f\"Rotated list {l_list}\")"
   ]
  },
  {
   "cell_type": "code",
   "execution_count": 18,
   "id": "5d87d697-3182-45d7-8508-3d190f197577",
   "metadata": {},
   "outputs": [
    {
     "name": "stdout",
     "output_type": "stream",
     "text": [
      "Normal list [1, 2, 3, 4, 5, 6]\n"
     ]
    },
    {
     "name": "stdin",
     "output_type": "stream",
     "text": [
      "Enter positions 1\n"
     ]
    },
    {
     "name": "stdout",
     "output_type": "stream",
     "text": [
      "Rotated list [6, 1, 2, 3, 4, 5]\n"
     ]
    }
   ],
   "source": [
    "# 32. Rotate a list to the right by `n` positions.\n",
    "print(f\"Normal list {y1}\")\n",
    "l_list=[]\n",
    "pos=int(input(\"Enter positions\"))\n",
    "for i in range(len(y1)):\n",
    "    l_list.append(y1[(i-pos)%len(y1)])\n",
    "print(f\"Rotated list {l_list}\")"
   ]
  },
  {
   "cell_type": "code",
   "execution_count": 24,
   "id": "1a0dc85c-4cda-4969-b976-4bf4734c3450",
   "metadata": {},
   "outputs": [
    {
     "name": "stdout",
     "output_type": "stream",
     "text": [
      "Prime numbers up to 50 are: [2, 3, 5, 7, 11, 13, 17, 19, 23, 29, 31, 37, 41, 43, 47]\n"
     ]
    }
   ],
   "source": [
    "# 33. Create a list of prime numbers up to 50.\n",
    "def sieve_of_eratosthenes(limit):\n",
    "    primes = []\n",
    "    is_prime = [True] * (limit + 1)\n",
    "    is_prime[0] = is_prime[1] = False\n",
    "\n",
    "    for num in range(2, int(limit**0.5) + 1):\n",
    "        if is_prime[num]:\n",
    "            primes.append(num)\n",
    "            for multiple in range(num * num, limit + 1, num):\n",
    "                is_prime[multiple] = False\n",
    "\n",
    "    for num in range(int(limit**0.5) + 1, limit + 1):\n",
    "        if is_prime[num]:\n",
    "            primes.append(num)\n",
    "\n",
    "    return primes\n",
    "\n",
    "# Example usage:\n",
    "limit = 50\n",
    "\n",
    "prime_numbers = sieve_of_eratosthenes(limit)\n",
    "print(\"Prime numbers up to\", limit, \"are:\", prime_numbers)\n"
   ]
  },
  {
   "cell_type": "code",
   "execution_count": 67,
   "id": "4ce1940e-035d-4801-8351-54043d635201",
   "metadata": {},
   "outputs": [
    {
     "name": "stdin",
     "output_type": "stream",
     "text": [
      "Enter chunk size 2\n"
     ]
    },
    {
     "name": "stdout",
     "output_type": "stream",
     "text": [
      "[1, 2]\n",
      "[3, 4]\n",
      "[5, 6]\n",
      "[7, 8]\n"
     ]
    }
   ],
   "source": [
    "# 34. Split a list into chunks of size `n`.\n",
    "y1=[1,2,3,4,5,6,7,8,9]\n",
    "chunk=int(input(\"Enter chunk size\"))\n",
    "for i in range(int(len(y1)/chunk)):\n",
    "    print(y1[chunk*i:chunk*i+chunk])\n"
   ]
  },
  {
   "cell_type": "code",
   "execution_count": 69,
   "id": "177ae567-9246-449b-81b7-0ab5c45854d7",
   "metadata": {},
   "outputs": [
    {
     "name": "stdout",
     "output_type": "stream",
     "text": [
      "[1, 2, 3, 4, 5, 6, 7, 8, 9]\n",
      "The second largest number in y1 is 8\n"
     ]
    }
   ],
   "source": [
    "# 35. Find the second largest number in a list.\n",
    "print(y1)\n",
    "print(f\"The second largest number in y1 is {y1[-2]}\")\n",
    "\n"
   ]
  },
  {
   "cell_type": "code",
   "execution_count": 72,
   "id": "dca83b72-8924-4062-9ae9-087f8e32302d",
   "metadata": {},
   "outputs": [
    {
     "name": "stdout",
     "output_type": "stream",
     "text": [
      "The square of every element in y1 are [1, 4, 9, 16, 25, 36, 49, 64, 81]\n"
     ]
    }
   ],
   "source": [
    "#36. Replace every element in a list with its square.\n",
    "\n",
    "print(f\"The square of every element in y1 are {[x**2 for x in y1]}\")"
   ]
  },
  {
   "cell_type": "code",
   "execution_count": 86,
   "id": "ebf3f3e3-5542-4c5f-8f6c-d1ff90ded27d",
   "metadata": {},
   "outputs": [
    {
     "name": "stdout",
     "output_type": "stream",
     "text": [
      "The dictionary where y1 elements are keys and their indices are values :{'1': 0, '2': 1, '3': 2, '4': 3, '5': 4, '6': 5, '7': 6, '8': 7, '9': 8}\n"
     ]
    }
   ],
   "source": [
    "# 37. Convert a list to a dictionary where list elements become keys and their indices become values.\n",
    "values=[]\n",
    "for num in y1:\n",
    "    values.append(int(y1.index(num)))\n",
    "keys=[str(ele) for ele in y1]\n",
    "dictionary=dict(zip(keys,values))\n",
    "print(f\"The dictionary where y1 elements are keys and their indices are values :{dictionary}\")"
   ]
  },
  {
   "cell_type": "code",
   "execution_count": 88,
   "id": "64883c0f-1424-49e9-81f7-6d0090b180e8",
   "metadata": {},
   "outputs": [
    {
     "name": "stdout",
     "output_type": "stream",
     "text": [
      "The shuffled elements in y1 are [6, 5, 4, 9, 1, 3, 7, 2, 8]\n"
     ]
    }
   ],
   "source": [
    "# 38. Shuffle the elements of a list randomly.\n",
    "import random\n",
    "random.shuffle(y1)\n",
    "print(f\"The shuffled elements in y1 are {y1}\")\n"
   ]
  },
  {
   "cell_type": "code",
   "execution_count": 93,
   "id": "b29219a7-2aa4-437a-b8d9-8245a4cb7a8e",
   "metadata": {},
   "outputs": [
    {
     "name": "stdin",
     "output_type": "stream",
     "text": [
      "Enter number from where the factorial starts 10\n"
     ]
    },
    {
     "name": "stdout",
     "output_type": "stream",
     "text": [
      "[1, 1, 2, 6, 24, 120, 720, 5040, 40320, 362880, 3628800]\n"
     ]
    }
   ],
   "source": [
    "# 39. Create a list of the first 10 factorial numbers.\n",
    "res=[]\n",
    "fact=int(input(\"Enter number from where the factorial starts\"))\n",
    "for i in range(1,fact+1):\n",
    "    a=1\n",
    "    if i>1:\n",
    "        for num in range(1,i+1):\n",
    "            a=a*num\n",
    "    else:\n",
    "        res.append(i)\n",
    "    res.append(a)\n",
    "print(res)\n",
    "            \n",
    "            "
   ]
  },
  {
   "cell_type": "code",
   "execution_count": 1,
   "id": "b6ae6ddb-47d9-41c4-a52b-fa4e5ea9c7a8",
   "metadata": {},
   "outputs": [
    {
     "name": "stdin",
     "output_type": "stream",
     "text": [
      "enter list1 1,23,4,5\n",
      "enter list2 1,2,3,4,5\n"
     ]
    },
    {
     "name": "stdout",
     "output_type": "stream",
     "text": [
      "The lists have a common element\n"
     ]
    }
   ],
   "source": [
    "# 40. Check if two lists have at least one element in common.\n",
    "\n",
    "y1=list(map(int,input(\"enter list1\").split(',')))\n",
    "y2=list(map(int,input(\"enter list2\").split(',')))\n",
    "for num in y1:\n",
    "    for num1 in y2:\n",
    "        if num==num1:\n",
    "            print(\"The lists have a common element\")\n",
    "            break\n",
    "    break"
   ]
  },
  {
   "cell_type": "code",
   "execution_count": 3,
   "id": "160b0045-1129-4d8b-b8bc-e790f1f9536c",
   "metadata": {},
   "outputs": [
    {
     "name": "stdout",
     "output_type": "stream",
     "text": [
      "[1, 23, 4, 5]\n",
      "[]\n"
     ]
    }
   ],
   "source": [
    "# 41. Remove all elements from a list.\n",
    "print(y1)\n",
    "y1.clear()\n",
    "print(y1)"
   ]
  },
  {
   "cell_type": "code",
   "execution_count": 11,
   "id": "025cc322-24f4-42ae-a8b1-e2944b0da15a",
   "metadata": {},
   "outputs": [
    {
     "name": "stdout",
     "output_type": "stream",
     "text": [
      "[1, 2, 3, -4, 5, -6, -7]\n",
      "[1, 2, 3, 0, 5, 0, 0]\n"
     ]
    }
   ],
   "source": [
    "# 42. Replace negative numbers in a list with 0.\n",
    "\n",
    "y1=[1,2,3,-4,5,-6,-7]\n",
    "print(y1)\n",
    "for num in y1:\n",
    "    if num<0:\n",
    "        y1[y1.index(num)]=0\n",
    "print(y1)"
   ]
  },
  {
   "cell_type": "code",
   "execution_count": 7,
   "id": "ab629b57-6a02-4763-a274-dffd141e9cbc",
   "metadata": {},
   "outputs": [
    {
     "name": "stdout",
     "output_type": "stream",
     "text": [
      "djvf ebf bfe ekbr eb kebekfrk\n",
      "['djvf', 'ebf', 'bfe', 'ekbr', 'eb', 'kebekfrk']\n"
     ]
    }
   ],
   "source": [
    "# 43. Convert a string into a list of words.\n",
    "str=\"djvf ebf bfe ekbr eb kebekfrk\"\n",
    "print(str)\n",
    "lst=list(str.split(\" \"))\n",
    "print(lst)"
   ]
  },
  {
   "cell_type": "code",
   "execution_count": 8,
   "id": "3cc8f71f-c470-445b-a2e0-a754325bfbe9",
   "metadata": {},
   "outputs": [
    {
     "name": "stdout",
     "output_type": "stream",
     "text": [
      "djvf ebf bfe ekbr eb kebekfrk\n"
     ]
    }
   ],
   "source": [
    "# 44. Convert a list of words into a string\n",
    "\n",
    "str1=''.join(lst)\n",
    "print(str)"
   ]
  },
  {
   "cell_type": "code",
   "execution_count": 9,
   "id": "b572bdf3-2d52-4285-a028-114bed29300a",
   "metadata": {},
   "outputs": [
    {
     "name": "stdin",
     "output_type": "stream",
     "text": [
      " 10\n"
     ]
    },
    {
     "name": "stdout",
     "output_type": "stream",
     "text": [
      "2 4 8 16 32 64 128 256 512 1024 "
     ]
    }
   ],
   "source": [
    "# 45. Create a list of the first `n` powers of 2.\n",
    "n=int(input())\n",
    "for num in range(1,n+1):\n",
    "    print(2**num,end=\" \")"
   ]
  },
  {
   "cell_type": "code",
   "execution_count": 10,
   "id": "a0896c71-37df-4fba-aa8a-dd47b6abde6c",
   "metadata": {},
   "outputs": [
    {
     "name": "stdout",
     "output_type": "stream",
     "text": [
      "kebekfrk\n"
     ]
    }
   ],
   "source": [
    "# 46. Find the longest string in a list of strings.\n",
    "max=len(lst[0])\n",
    "for num in lst:\n",
    "    if len(num)>=max:\n",
    "        max=len(num)\n",
    "        maxw=num\n",
    "print(maxw)"
   ]
  },
  {
   "cell_type": "code",
   "execution_count": 11,
   "id": "7ad1c912-36e0-44af-b294-c9485fe0703f",
   "metadata": {},
   "outputs": [
    {
     "name": "stdout",
     "output_type": "stream",
     "text": [
      "ne\n"
     ]
    }
   ],
   "source": [
    "# 47. Find the shortest string in a list of strings.\n",
    "lst=[\"jkrbr\" ,\"rkb\",\" rkg\" ,\"ne\",\" rekjgb \",\"regjkeb\",\" erkjgbkrb\"]\n",
    "min=len(lst[0])\n",
    "for num in lst:\n",
    "    if len(num)<=min:\n",
    "        min=len(num)\n",
    "        minw=num\n",
    "print(minw)"
   ]
  },
  {
   "cell_type": "code",
   "execution_count": 13,
   "id": "e17e2aa5-3ad2-4f80-aab2-77886ea69330",
   "metadata": {},
   "outputs": [
    {
     "name": "stdin",
     "output_type": "stream",
     "text": [
      " 10\n"
     ]
    },
    {
     "name": "stdout",
     "output_type": "stream",
     "text": [
      "[1, 3, 6, 10, 15, 21, 28, 36, 45, 55]\n"
     ]
    }
   ],
   "source": [
    "# 48. Create a list of the first `n` triangular numbers.\n",
    "def triangular_nums(num):\n",
    "    return (num*(num+1))//2\n",
    "n=int(input())\n",
    "res=[]\n",
    "for i in range(1,n+1):\n",
    "    res.append(triangular_nums(i))\n",
    "print(res)"
   ]
  },
  {
   "cell_type": "code",
   "execution_count": 17,
   "id": "33910698-fe73-40d3-b4a2-f58ccec56a6d",
   "metadata": {},
   "outputs": [
    {
     "name": "stdout",
     "output_type": "stream",
     "text": [
      "The list does not contain another list\n"
     ]
    }
   ],
   "source": [
    "# 49. Check if a list contains another list as a subsequence.\n",
    "def is_nested(lst):\n",
    "    if not isinstance(lst,list):\n",
    "        return False\n",
    "    for num in lst:\n",
    "        if isinstance(num,list):\n",
    "            return True\n",
    "    return False\n",
    "nested_lst=[1,2,3,4,5]\n",
    "isnested=is_nested(nested_lst)\n",
    "if isnested:\n",
    "    print(\"The list contains another list\")\n",
    "else:\n",
    "    print(\"The list does not contain another list\")\n",
    "    "
   ]
  },
  {
   "cell_type": "code",
   "execution_count": 25,
   "id": "991c892d-a0af-46b1-8fbb-d9df5d48838b",
   "metadata": {},
   "outputs": [
    {
     "name": "stdout",
     "output_type": "stream",
     "text": [
      "Original list: [1, 2, 3, 4, 5]\n",
      "List after swapping: [1, 4, 3, 2, 5]\n"
     ]
    }
   ],
   "source": [
    "# 50. Swap two elements in a list by their indices.\n",
    "\n",
    "def swap_elements(lst, index1, index2):\n",
    "    # Check if the indices are valid\n",
    "    if 0 <= index1 < len(lst) and 0 <= index2 < len(lst):\n",
    "        # Swap the elements\n",
    "        lst[index1], lst[index2] = lst[index2], lst[index1]\n",
    "    else:\n",
    "        print(\"Invalid indices. Please provide valid indices.\")\n",
    "\n",
    "# Example usage:\n",
    "my_list = [1, 2, 3, 4, 5]\n",
    "print(\"Original list:\", my_list)\n",
    "\n",
    "# Swap elements at indices 1 and 3\n",
    "swap_elements(my_list, 1, 3)\n",
    "print(\"List after swapping:\", my_list)\n"
   ]
  },
  {
   "cell_type": "raw",
   "id": "1e6de90b-97ac-4d5a-95a7-58a22ce62475",
   "metadata": {},
   "source": [
    "\n",
    "Tuple Based Practice Problem \n",
    "\n",
    "\n"
   ]
  },
  {
   "cell_type": "code",
   "execution_count": 30,
   "id": "25da3d9e-eed7-42a5-9e99-88211b5304f9",
   "metadata": {},
   "outputs": [
    {
     "name": "stdout",
     "output_type": "stream",
     "text": [
      "(1, 2, 3, 4, 5)\n"
     ]
    }
   ],
   "source": [
    "# 1. Create a tuple with integers from 1 to 5.\n",
    "x=tuple(x for x in range(1,6))\n",
    "print(x)"
   ]
  },
  {
   "cell_type": "code",
   "execution_count": 29,
   "id": "8d4e77bf-ba4d-4d5d-b39f-02cfc6a85662",
   "metadata": {},
   "outputs": [
    {
     "name": "stdout",
     "output_type": "stream",
     "text": [
      "3\n"
     ]
    }
   ],
   "source": [
    "# 2. Access the third element of a tuple.\n",
    "y=x[2]\n",
    "print(y)\n"
   ]
  },
  {
   "cell_type": "code",
   "execution_count": 31,
   "id": "4ae2225b-9f41-4bb3-90b0-3c027aa7fcf6",
   "metadata": {},
   "outputs": [
    {
     "name": "stdout",
     "output_type": "stream",
     "text": [
      "5\n"
     ]
    }
   ],
   "source": [
    "# 3. Find the length of a tuple without using the `len()` function.\n",
    "z=0\n",
    "for num in x:\n",
    "   z+=1\n",
    "print(z)"
   ]
  },
  {
   "cell_type": "code",
   "execution_count": 37,
   "id": "6fc3a3b3-6098-4bf8-b20a-3915e48c8391",
   "metadata": {},
   "outputs": [
    {
     "data": {
      "text/plain": [
       "(1, 2, 3, 4, 5, 5)"
      ]
     },
     "execution_count": 37,
     "metadata": {},
     "output_type": "execute_result"
    }
   ],
   "source": [
    "x+(5,)\n"
   ]
  },
  {
   "cell_type": "code",
   "execution_count": 43,
   "id": "38beee7b-e2cb-40b8-9560-a99610828657",
   "metadata": {},
   "outputs": [
    {
     "name": "stdout",
     "output_type": "stream",
     "text": [
      "The count of 6 in x is :2\n"
     ]
    }
   ],
   "source": [
    "# 4. Count the occurrences of an element in a tuple.\n",
    "x=(1,2,3,4,5,6,6,7)\n",
    "print(f\"The count of 6 in x is :{x.count(6)}\")\n"
   ]
  },
  {
   "cell_type": "code",
   "execution_count": 44,
   "id": "4624b017-315e-4f2f-ada9-638ba4ebe064",
   "metadata": {},
   "outputs": [
    {
     "name": "stdin",
     "output_type": "stream",
     "text": [
      " 3\n"
     ]
    },
    {
     "name": "stdout",
     "output_type": "stream",
     "text": [
      "The index of the element is :2\n"
     ]
    }
   ],
   "source": [
    "# 5. Find the index of the first occurrence of an element in a tuple.\n",
    "num=int(input())\n",
    "for i in range(len(x)):\n",
    "    if num==x[i]:\n",
    "        print(f\"The index of the element is :{i}\")"
   ]
  },
  {
   "cell_type": "code",
   "execution_count": 45,
   "id": "8751f9eb-4c79-43df-8a4a-a92d3a9a30ab",
   "metadata": {},
   "outputs": [
    {
     "name": "stdin",
     "output_type": "stream",
     "text": [
      " 3\n"
     ]
    },
    {
     "name": "stdout",
     "output_type": "stream",
     "text": [
      "The element is in tuple\n"
     ]
    }
   ],
   "source": [
    "# 6.Check if an element exists in a tuple.\n",
    "num=int(input())\n",
    "if num in x:\n",
    "    print(\"The element is in tuple\")\n",
    "else:\n",
    "    print(\"no it is not in tuple\")"
   ]
  },
  {
   "cell_type": "code",
   "execution_count": 46,
   "id": "1fbe28e1-28bd-4b29-8c96-43559e474c8f",
   "metadata": {},
   "outputs": [
    {
     "name": "stdout",
     "output_type": "stream",
     "text": [
      "[1, 2, 3, 4, 5, 6, 6, 7]\n"
     ]
    }
   ],
   "source": [
    "# 6. Check if an element exists in a tuple.\n",
    "print(list(x))"
   ]
  },
  {
   "cell_type": "code",
   "execution_count": 48,
   "id": "fe14bd68-d8ae-45a6-b23d-ccbe9cbfdbaf",
   "metadata": {},
   "outputs": [
    {
     "name": "stdout",
     "output_type": "stream",
     "text": [
      "(1, 2, 3, 4)\n"
     ]
    }
   ],
   "source": [
    "# 8. Convert a list to a tuple.\n",
    "print(tuple([1,2,3,4]))"
   ]
  },
  {
   "cell_type": "code",
   "execution_count": 50,
   "id": "ff8b8bdb-3c12-4497-a4a0-fd529dfcd24d",
   "metadata": {},
   "outputs": [
    {
     "name": "stdout",
     "output_type": "stream",
     "text": [
      " variable a: 1\n",
      " varible b: 2\n",
      "variable c: 3\n"
     ]
    }
   ],
   "source": [
    "# 9. Unpack the elements of a tuple into variables.\n",
    "a,b,c,d=(1,2,3,4)\n",
    "print(\" variable a:\",a)\n",
    "print(\" varible b:\",b)\n",
    "print(\"variable c:\",c)\n",
    "print(\" variable d:\",d"
   ]
  },
  {
   "cell_type": "code",
   "execution_count": 4,
   "id": "e185b9d9-7612-4c00-80c8-2ced9968b14c",
   "metadata": {},
   "outputs": [
    {
     "name": "stdout",
     "output_type": "stream",
     "text": [
      "(2, 4, 6, 8, 10)\n"
     ]
    }
   ],
   "source": [
    "# 10. Create a tuple of even numbers from 1 to 10.\n",
    "x=tuple(s for s in range(2,11,2))\n",
    "print(x)"
   ]
  },
  {
   "cell_type": "code",
   "execution_count": 5,
   "id": "74b686a0-f142-4d20-a64c-f36d9413f08c",
   "metadata": {},
   "outputs": [
    {
     "name": "stdout",
     "output_type": "stream",
     "text": [
      "(1, 3, 5, 7, 9)\n"
     ]
    }
   ],
   "source": [
    "# 11. Create a tuple of odd numbers from 1 to 10.\n",
    "y=tuple(s for s in range(1,10,2))\n",
    "print(y)"
   ]
  },
  {
   "cell_type": "code",
   "execution_count": 6,
   "id": "4d119fbd-d432-496d-89a5-cfc95aef86c1",
   "metadata": {},
   "outputs": [
    {
     "name": "stdout",
     "output_type": "stream",
     "text": [
      "(2, 4, 6, 8, 10, 1, 3, 5, 7, 9)\n"
     ]
    }
   ],
   "source": [
    "# 12. Concatenate two tuples.\n",
    "print(x+y)"
   ]
  },
  {
   "cell_type": "code",
   "execution_count": 7,
   "id": "a5ff26aa-8b46-487f-ad41-df952e8e3627",
   "metadata": {},
   "outputs": [
    {
     "name": "stdout",
     "output_type": "stream",
     "text": [
      "(2, 4, 6, 8, 10, 1, 3, 5, 7, 9, 2, 4, 6, 8, 10, 1, 3, 5, 7, 9, 2, 4, 6, 8, 10, 1, 3, 5, 7, 9)\n"
     ]
    }
   ],
   "source": [
    "# 13. Repeat a tuple three times.\n",
    "print((x+y)*3)"
   ]
  },
  {
   "cell_type": "code",
   "execution_count": 8,
   "id": "e51a3e81-61ae-4e99-9099-5cdec60b04b4",
   "metadata": {},
   "outputs": [
    {
     "name": "stdout",
     "output_type": "stream",
     "text": [
      "The tuple is not empty\n"
     ]
    }
   ],
   "source": [
    "# 14. Check if a tuple is empty.\n",
    "if len(x)==0:\n",
    "    print(\"The tuple is empty\")\n",
    "else:\n",
    "    print(\"The tuple is not empty\")"
   ]
  },
  {
   "cell_type": "code",
   "execution_count": 11,
   "id": "9f2c90b4-8e05-4804-97a8-5d8637d6883e",
   "metadata": {},
   "outputs": [
    {
     "data": {
      "text/plain": [
       "((1, 2, 3, 4), (4, 5, 6, 7))"
      ]
     },
     "execution_count": 11,
     "metadata": {},
     "output_type": "execute_result"
    }
   ],
   "source": [
    "# 15. Create a nested tuple.\n",
    "\n",
    "y1=((1,2,3,4),(4,5,6,7))\n",
    "y1"
   ]
  },
  {
   "cell_type": "code",
   "execution_count": 13,
   "id": "9bb780a6-e497-40df-af0d-362086a299c5",
   "metadata": {},
   "outputs": [
    {
     "name": "stdout",
     "output_type": "stream",
     "text": [
      "1\n"
     ]
    }
   ],
   "source": [
    "# 16. Access the first element of a nested tuple.\n",
    "\n",
    "print(y1[0][0])"
   ]
  },
  {
   "cell_type": "code",
   "execution_count": 18,
   "id": "bd6c79cc-12eb-4dfd-9165-9e88ec2019d4",
   "metadata": {},
   "outputs": [
    {
     "data": {
      "text/plain": [
       "1"
      ]
     },
     "execution_count": 18,
     "metadata": {},
     "output_type": "execute_result"
    }
   ],
   "source": [
    "# 17. Create a tuple with a single element.\n",
    "y2=(1)\n",
    "y2\n"
   ]
  },
  {
   "cell_type": "code",
   "execution_count": 25,
   "id": "6fad850a-09f7-4221-870c-bae644e2b6fe",
   "metadata": {},
   "outputs": [
    {
     "name": "stdout",
     "output_type": "stream",
     "text": [
      "the two tuples are not the same\n"
     ]
    }
   ],
   "source": [
    "# 18. Compare two tuples.\n",
    "\n",
    "x=(1,2,3,4)\n",
    "y=(4,5,6,7)\n",
    "if x==y:\n",
    "    print(\"The two tuples are the same\")\n",
    "else:\n",
    "    print(\"the two tuples are not the same\")"
   ]
  },
  {
   "cell_type": "code",
   "execution_count": 27,
   "id": "bf36437f-0ff3-457e-99c6-d0ea15118f23",
   "metadata": {},
   "outputs": [
    {
     "ename": "NameError",
     "evalue": "name 'x' is not defined",
     "output_type": "error",
     "traceback": [
      "\u001b[0;31m---------------------------------------------------------------------------\u001b[0m",
      "\u001b[0;31mNameError\u001b[0m                                 Traceback (most recent call last)",
      "Cell \u001b[0;32mIn[27], line 3\u001b[0m\n\u001b[1;32m      1\u001b[0m \u001b[38;5;66;03m# 19. Delete a tuple.\u001b[39;00m\n\u001b[1;32m      2\u001b[0m \u001b[38;5;28;01mdel\u001b[39;00m(x)\n\u001b[0;32m----> 3\u001b[0m \u001b[38;5;28mprint\u001b[39m(\u001b[43mx\u001b[49m)\n",
      "\u001b[0;31mNameError\u001b[0m: name 'x' is not defined"
     ]
    }
   ],
   "source": [
    "# 19. Delete a tuple.\n",
    "del(x)\n",
    "print(x)"
   ]
  },
  {
   "cell_type": "code",
   "execution_count": 31,
   "id": "56376144-1d6e-44b7-8688-ce0527748460",
   "metadata": {},
   "outputs": [
    {
     "name": "stdout",
     "output_type": "stream",
     "text": [
      "The slice of tuple y :(6, 7)\n"
     ]
    }
   ],
   "source": [
    "# 20. Slice a tuple.\n",
    "print(f\"The slice of tuple y :{y[2:4]}\")"
   ]
  },
  {
   "cell_type": "code",
   "execution_count": 33,
   "id": "c00f8198-8289-4dac-a81f-e716f112b47e",
   "metadata": {},
   "outputs": [
    {
     "name": "stdout",
     "output_type": "stream",
     "text": [
      "The max value in y is :7\n"
     ]
    }
   ],
   "source": [
    "# 21. Find the maximum value in a tuple.\n",
    "print(f\"The max value in y is :{max(y)}\")"
   ]
  },
  {
   "cell_type": "code",
   "execution_count": 34,
   "id": "dd17186e-f358-474e-938c-6377218f75b6",
   "metadata": {},
   "outputs": [
    {
     "name": "stdout",
     "output_type": "stream",
     "text": [
      "The min value in y is :4\n"
     ]
    }
   ],
   "source": [
    "# 22. Find the minimum value in a tuple.\n",
    "print(f\"The min value in y is :{min(y)}\")"
   ]
  },
  {
   "cell_type": "code",
   "execution_count": 36,
   "id": "404a5223-09bf-4710-9547-e98194eb5acc",
   "metadata": {},
   "outputs": [
    {
     "name": "stdout",
     "output_type": "stream",
     "text": [
      "The tuple of str is :('r', 'b', 'f', 'j', 'h', 'b', 'f', 's', 'h', 'j', 'b')\n"
     ]
    }
   ],
   "source": [
    "# 23. Convert a string to a tuple of characters.\n",
    "\n",
    "str=\"rbfjhbfshjb\"\n",
    "tup=tuple(str)\n",
    "print(f\"The tuple of str is :{tup}\")"
   ]
  },
  {
   "cell_type": "code",
   "execution_count": 39,
   "id": "8d81a138-6ef1-431d-aecc-dc7af13dd4d8",
   "metadata": {},
   "outputs": [
    {
     "name": "stdout",
     "output_type": "stream",
     "text": [
      "The string from tuple of characters is :rbfjhbfshjb\n"
     ]
    }
   ],
   "source": [
    "#24. Convert a tuple of characters to a string.\n",
    "print(f\"The string from tuple of characters is :{''.join(tup)}\")\n"
   ]
  },
  {
   "cell_type": "code",
   "execution_count": 41,
   "id": "6a1a0965-e438-444f-82e2-557b93aca673",
   "metadata": {},
   "outputs": [
    {
     "data": {
      "text/plain": [
       "(1, 2, 3, 4, 'they', 'are', 'string', True, False)"
      ]
     },
     "execution_count": 41,
     "metadata": {},
     "output_type": "execute_result"
    }
   ],
   "source": [
    "# 25. Create a tuple from multiple data types.\n",
    "z=(1,2,3,4,\"they\",\"are\",\"string\",True,False)\n",
    "z"
   ]
  },
  {
   "cell_type": "code",
   "execution_count": 49,
   "id": "baead85f-eaf2-4abc-9ec1-a5cf4a99753a",
   "metadata": {},
   "outputs": [
    {
     "data": {
      "text/plain": [
       "(1, 2, 3, 4, 'they', 'are', 'string', True, False)"
      ]
     },
     "execution_count": 49,
     "metadata": {},
     "output_type": "execute_result"
    }
   ],
   "source": [
    "# 26. Check if two tuples are identical.\n",
    "\n",
    "z1=(1,2,3,4,\"they\",\"are\",\"string\",True,False)\n",
    "z1"
   ]
  },
  {
   "cell_type": "code",
   "execution_count": 47,
   "id": "34166383-b7ea-4112-8e44-54b6486368ff",
   "metadata": {},
   "outputs": [
    {
     "name": "stdout",
     "output_type": "stream",
     "text": [
      "(1, 2, 4, 4, 5, 7, 8, 9)\n"
     ]
    }
   ],
   "source": [
    "# 27. Sort the elements of a tuple.\n",
    "y=(2,5,4,7,1,8,4,9)\n",
    "print(tuple(sorted(y)))"
   ]
  },
  {
   "cell_type": "code",
   "execution_count": 58,
   "id": "cbd07957-5c47-401d-a6e9-0fb33a49cc56",
   "metadata": {},
   "outputs": [
    {
     "ename": "TypeError",
     "evalue": "'str' object is not callable",
     "output_type": "error",
     "traceback": [
      "\u001b[0;31m---------------------------------------------------------------------------\u001b[0m",
      "\u001b[0;31mTypeError\u001b[0m                                 Traceback (most recent call last)",
      "Cell \u001b[0;32mIn[58], line 3\u001b[0m\n\u001b[1;32m      1\u001b[0m \u001b[38;5;66;03m# 28. Convert a tuple of integers to a tuple of strings.\u001b[39;00m\n\u001b[1;32m      2\u001b[0m \u001b[38;5;28;01mfor\u001b[39;00m num \u001b[38;5;129;01min\u001b[39;00m y:\n\u001b[0;32m----> 3\u001b[0m     \u001b[38;5;28mprint\u001b[39m(\u001b[38;5;28;43mstr\u001b[39;49m\u001b[43m(\u001b[49m\u001b[43mnum\u001b[49m\u001b[43m)\u001b[49m)\n",
      "\u001b[0;31mTypeError\u001b[0m: 'str' object is not callable"
     ]
    }
   ],
   "source": [
    "# 28. Convert a tuple of integers to a tuple of strings.\n",
    "for num in y:\n",
    "    print(str(num))\n",
    "    #i used accidently used str as a variable so cannot do this one "
   ]
  },
  {
   "cell_type": "code",
   "execution_count": 59,
   "id": "5ff4df5e-717c-459f-9aed-bd21331225a0",
   "metadata": {},
   "outputs": [
    {
     "name": "stdout",
     "output_type": "stream",
     "text": [
      "(1, 2, 3, 4, 5)\n"
     ]
    }
   ],
   "source": [
    "# 29. Convert a tuple of strings to a tuple of integers.\n",
    "\n",
    "y2=('1','2','3','4','5')\n",
    "print(tuple(int(x) for x in y2))"
   ]
  },
  {
   "cell_type": "code",
   "execution_count": 25,
   "id": "19f4a8f6-88bf-40ae-8d57-ca789a21046e",
   "metadata": {},
   "outputs": [
    {
     "name": "stdout",
     "output_type": "stream",
     "text": [
      "(1, 2, 3, 4, 5, 2, 3, 4, 5, 6)\n"
     ]
    }
   ],
   "source": [
    "# 30. Merge two tuples.\n",
    "a=(1,2,3,4,5)\n",
    "b=(2,3,4,5,6)\n",
    "print(a+b)"
   ]
  },
  {
   "cell_type": "code",
   "execution_count": 4,
   "id": "47f58160-86d6-4604-8e37-4118bb9602d2",
   "metadata": {},
   "outputs": [
    {
     "name": "stdout",
     "output_type": "stream",
     "text": [
      "(1, 2, 3, 4, 5, 6, 7, 8, 9)\n"
     ]
    }
   ],
   "source": [
    "# 31. Flatten a nested tuple.\n",
    "y1=((1,2,3),(4,5,6),(7,8,9))\n",
    "flat=tuple(item for sub in y1 for item in sub)\n",
    "print(flat)"
   ]
  },
  {
   "cell_type": "code",
   "execution_count": 23,
   "id": "853e37e4-65b2-401d-94fb-d65ba62d259a",
   "metadata": {},
   "outputs": [
    {
     "name": "stdout",
     "output_type": "stream",
     "text": [
      "(2, 3, 5, 7, 11, 13)\n",
      "Prime numbers up to 50: None\n"
     ]
    }
   ],
   "source": [
    "# 32. Create a tuple of the first 5 prime numbers.\n",
    "def generate_primes(n):\n",
    "    primes = []\n",
    "    for num in range(2, n + 1):\n",
    "        is_prime = True\n",
    "        for i in range(2, int(num ** 0.5) + 1):\n",
    "            if num % i == 0:\n",
    "                is_prime = False\n",
    "                break\n",
    "        if is_prime:\n",
    "            primes.append(num)\n",
    "        if len(primes)>5:\n",
    "            print(tuple(primes))\n",
    "            break\n",
    "result = generate_primes(50)\n"
   ]
  },
  {
   "cell_type": "code",
   "execution_count": 30,
   "id": "3e0f7356-6f6c-42cb-afa2-f28c16dfa8de",
   "metadata": {},
   "outputs": [
    {
     "name": "stdout",
     "output_type": "stream",
     "text": [
      "The tuple is palindrome\n"
     ]
    }
   ],
   "source": [
    "# 33. Check if a tuple is a palindrome.\n",
    "a=(1,2,3,4,5,4,3,2,1)\n",
    "if a==a[::-1]:\n",
    "    print(f\"The tuple is palindrome\")\n",
    "else:\n",
    "    print(\"The tuple is not palindrome\")\n",
    "    "
   ]
  },
  {
   "cell_type": "code",
   "execution_count": 34,
   "id": "740b1865-82f0-47a8-8112-7e759796dd8e",
   "metadata": {},
   "outputs": [
    {
     "name": "stdout",
     "output_type": "stream",
     "text": [
      "The squares of ints in 'a' are :(1, 4, 9, 16, 25)\n"
     ]
    }
   ],
   "source": [
    "# 34. Create a tuple of squares of numbers from 1 to 5.\n",
    "a=tuple(x for x in range(1,6))\n",
    "print(f\"The squares of ints in 'a' are :{tuple(x**2 for x in a)}\")"
   ]
  },
  {
   "cell_type": "code",
   "execution_count": 37,
   "id": "7d61fbca-d8b5-45e8-93f0-f38bf72ebc84",
   "metadata": {},
   "outputs": [
    {
     "name": "stdout",
     "output_type": "stream",
     "text": [
      "2\n",
      "4\n",
      "6\n",
      "8\n",
      "10\n",
      "12\n",
      "14\n",
      "16\n",
      "18\n",
      "20\n",
      "22\n",
      "24\n",
      "26\n",
      "28\n",
      "30\n",
      "32\n",
      "34\n",
      "36\n",
      "38\n",
      "40\n",
      "42\n",
      "44\n",
      "46\n",
      "48\n",
      "50\n",
      "52\n",
      "54\n",
      "56\n",
      "58\n",
      "60\n",
      "62\n",
      "64\n",
      "66\n",
      "68\n",
      "70\n",
      "72\n",
      "74\n",
      "76\n",
      "78\n",
      "80\n",
      "82\n",
      "84\n",
      "86\n",
      "88\n",
      "90\n",
      "92\n",
      "94\n",
      "96\n",
      "98\n",
      "100\n"
     ]
    }
   ],
   "source": [
    "# 35. Filter out all even numbers from a tuple.\n",
    "a=tuple(x for x in range(1,101))\n",
    "for num in a:\n",
    "    if num%2==0:\n",
    "        print(num)\n"
   ]
  },
  {
   "cell_type": "code",
   "execution_count": 40,
   "id": "4fb3f084-376c-40db-9b75-035549ef3e52",
   "metadata": {},
   "outputs": [
    {
     "name": "stdout",
     "output_type": "stream",
     "text": [
      "(2, 4, 6, 8, 10, 12, 14, 16, 18, 20, 22, 24, 26, 28, 30, 32, 34, 36, 38, 40, 42, 44, 46, 48, 50, 52, 54, 56, 58, 60, 62, 64, 66, 68, 70, 72, 74, 76, 78, 80, 82, 84, 86, 88, 90, 92, 94, 96, 98, 100, 102, 104, 106, 108, 110, 112, 114, 116, 118, 120, 122, 124, 126, 128, 130, 132, 134, 136, 138, 140, 142, 144, 146, 148, 150, 152, 154, 156, 158, 160, 162, 164, 166, 168, 170, 172, 174, 176, 178, 180, 182, 184, 186, 188, 190, 192, 194, 196, 198, 200)\n"
     ]
    }
   ],
   "source": [
    "# 36. Multiply all elements in a tuple by 2.\n",
    "b=tuple(x*2 for x in a)\n",
    "print(b)"
   ]
  },
  {
   "cell_type": "code",
   "execution_count": 44,
   "id": "0241f8dd-9de1-4d25-bb91-441357ca8d35",
   "metadata": {},
   "outputs": [
    {
     "name": "stdout",
     "output_type": "stream",
     "text": [
      "(49, 93, 20, 15, 96, 65, 3, 34, 70, 71)\n"
     ]
    }
   ],
   "source": [
    "# 37. Create a tuple of random numbers.\n",
    "import random\n",
    "a=tuple(random.randint(1,100) for x in range(10))\n",
    "print(a)"
   ]
  },
  {
   "cell_type": "code",
   "execution_count": 45,
   "id": "de97c4e8-c882-46e1-ac2a-08103b311a3d",
   "metadata": {},
   "outputs": [
    {
     "name": "stdout",
     "output_type": "stream",
     "text": [
      "The tuple is sorted\n"
     ]
    }
   ],
   "source": [
    "# 38. Check if a tuple is sorted.\n",
    "def is_sorted(tup):\n",
    "    for num in tup:\n",
    "        if tup[num]>tup[num+1]:\n",
    "            return False\n",
    "        break\n",
    "    return True\n",
    "a=(1,2,3,4,5,6,7)\n",
    "if is_sorted(a):\n",
    "    print(\"The tuple is sorted\")\n",
    "else:\n",
    "    print(\"The tuple is not sorted\")"
   ]
  },
  {
   "cell_type": "code",
   "execution_count": 59,
   "id": "82946e0b-3e0c-4e92-b66e-c0a6675a7a2f",
   "metadata": {},
   "outputs": [
    {
     "name": "stdout",
     "output_type": "stream",
     "text": [
      "(1, 2, 3, 4, 5, 6, 7)\n"
     ]
    },
    {
     "name": "stdin",
     "output_type": "stream",
     "text": [
      " 1\n"
     ]
    },
    {
     "name": "stdout",
     "output_type": "stream",
     "text": [
      "(2, 3, 4, 5, 6, 7, 1)\n"
     ]
    }
   ],
   "source": [
    "# 39. Rotate a tuple to the left by `n` positions.\n",
    "print(a)\n",
    "key=int(input())\n",
    "res=()\n",
    "for i in range(len(a)):\n",
    "    res=res+(a[int((i+key)%len(a))],)\n",
    "print(res)"
   ]
  },
  {
   "cell_type": "code",
   "execution_count": 60,
   "id": "3e1a336f-db31-47d8-b6ba-5c3d6a3d9990",
   "metadata": {},
   "outputs": [
    {
     "name": "stdout",
     "output_type": "stream",
     "text": [
      "(1, 2, 3, 4, 5, 6, 7)\n"
     ]
    },
    {
     "name": "stdin",
     "output_type": "stream",
     "text": [
      " 1\n"
     ]
    },
    {
     "name": "stdout",
     "output_type": "stream",
     "text": [
      "(7, 1, 2, 3, 4, 5, 6)\n"
     ]
    }
   ],
   "source": [
    "# 40. Rotate a tuple to the right by `n` positions.\n",
    "print(a)\n",
    "key=int(input())\n",
    "res=()\n",
    "for i in range(len(a)):\n",
    "    res=res+(a[int((i-key)%len(a))],)\n",
    "print(res)"
   ]
  },
  {
   "cell_type": "code",
   "execution_count": 2,
   "id": "ea8f282d-81fc-4fb8-8b02-812d9146afe6",
   "metadata": {},
   "outputs": [
    {
     "name": "stdout",
     "output_type": "stream",
     "text": [
      "The tuple of first 5 fibo numbers are :(0, 1, 1, 2, 3, 5)\n"
     ]
    }
   ],
   "source": [
    "# 41. Create a tuple of the first 5 Fibonacci numbers.\n",
    "f=0\n",
    "s=1\n",
    "tup=(0,1)\n",
    "for i in range(5):\n",
    "    t=f+s\n",
    "    f=s\n",
    "    s=t\n",
    "    tup=tup+(t,)\n",
    "    if len(tup)>5:\n",
    "        break\n",
    "print(f\"The tuple of first 5 fibo numbers are :{tup}\")\n"
   ]
  },
  {
   "cell_type": "code",
   "execution_count": 2,
   "id": "967b6f18-a41b-4c0a-a439-fe98bb16e4ee",
   "metadata": {},
   "outputs": [
    {
     "name": "stdin",
     "output_type": "stream",
     "text": [
      " 123456\n"
     ]
    },
    {
     "name": "stdout",
     "output_type": "stream",
     "text": [
      "('1', '2', '3', '4', '5', '6')\n"
     ]
    }
   ],
   "source": [
    "# 42. Create a tuple from user input.\n",
    "tup=tuple(input())\n",
    "print(tup)"
   ]
  },
  {
   "cell_type": "code",
   "execution_count": 10,
   "id": "ac4db46a-0ce4-4f4d-a0bc-45ec6ff3dda2",
   "metadata": {},
   "outputs": [
    {
     "name": "stdout",
     "output_type": "stream",
     "text": [
      "Original tuple :('1', '2', '2', '4', '4', '5')\n",
      "swapped tuple :('2', '1', '2', '4', '4', '5')\n"
     ]
    }
   ],
   "source": [
    "# 43. Swap two elements in a tuple.\n",
    "print(f\"Original tuple :{tup}\")\n",
    "swapped_tuple=tup[1],tup[0],*tup[2:]\n",
    "print(f\"swapped tuple :{swapped_tuple}\")"
   ]
  },
  {
   "cell_type": "code",
   "execution_count": 3,
   "id": "37cae85c-a55b-4bc4-9a6b-de7b531a2655",
   "metadata": {},
   "outputs": [
    {
     "name": "stdout",
     "output_type": "stream",
     "text": [
      "('6', '5', '4', '3', '2', '1')\n"
     ]
    }
   ],
   "source": [
    "# 44. Reverse the elements of a tuple.\n",
    "print(tup[::-1])"
   ]
  },
  {
   "cell_type": "code",
   "execution_count": 4,
   "id": "849bea9c-8228-48cf-a7f0-99a9aa2142ab",
   "metadata": {},
   "outputs": [
    {
     "name": "stdin",
     "output_type": "stream",
     "text": [
      " 5\n"
     ]
    },
    {
     "name": "stdout",
     "output_type": "stream",
     "text": [
      " tuple of the first `n` powers of 2 is :(1, 4, 9, 16, 25)\n"
     ]
    }
   ],
   "source": [
    "# 45. Create a tuple of the first `n` powers of 2.\n",
    "n=int(input())\n",
    "print(f\" tuple of the first `n` powers of 2 is :{tuple(s**2 for s in range(1,n+1))}\")\n"
   ]
  },
  {
   "cell_type": "code",
   "execution_count": 7,
   "id": "6eefda8a-d499-4a75-aa9e-afdc15f2b729",
   "metadata": {},
   "outputs": [
    {
     "name": "stdout",
     "output_type": "stream",
     "text": [
      "the longest string in a tuple of strings is :ewkjbfdddddddjrhb with 17 letters\n"
     ]
    }
   ],
   "source": [
    "# 46. Find the longest string in a tuple of strings.\n",
    "tup1=(\"ewkfd\",\"ekqwrhkreb\",\"ekjfwbjebh\",\"ewkfrswwswwhjbf\",\"ewkjbfdddddddjrhb\",\"krbfchb\")\n",
    "max=0\n",
    "for num in tup1:\n",
    "    if len(num)>max:\n",
    "        max=len(num)\n",
    "        maxw=num\n",
    "        \n",
    "print(f\"the longest string in a tuple of strings is :{maxw} with {max} letters\")"
   ]
  },
  {
   "cell_type": "code",
   "execution_count": 10,
   "id": "5959d9e7-f5ed-4f5e-bfcd-a34cfba805e1",
   "metadata": {},
   "outputs": [
    {
     "name": "stdout",
     "output_type": "stream",
     "text": [
      "the shortest string in a tuple of string is :ewkfd with 5 letters\n"
     ]
    }
   ],
   "source": [
    "# 47. Find the shortest string in a tuple of strings.\n",
    "tup1=(\"ewkfd\",\"ekqwrhkreb\",\"ekjfwbjebh\",\"ewkfrswwswwhjbf\",\"ewkjbfdddddddjrhb\",\"krbfchb\")\n",
    "min=len(tup1[0])\n",
    "for num in tup1:\n",
    "    if len(num)<=min:\n",
    "        min=len(num)\n",
    "        minw=num\n",
    "print(f\"the shortest string in a tuple of string is :{minw} with {min} letters\")"
   ]
  },
  {
   "cell_type": "code",
   "execution_count": 11,
   "id": "6464c42f-ce42-4ad7-bcc0-8e0c53152a82",
   "metadata": {},
   "outputs": [
    {
     "name": "stdin",
     "output_type": "stream",
     "text": [
      " 10\n"
     ]
    },
    {
     "name": "stdout",
     "output_type": "stream",
     "text": [
      "(1, 3, 6, 10, 15, 21, 28, 36, 45, 55)\n"
     ]
    }
   ],
   "source": [
    "# 48. Create a list of the first `n` triangular numbers.\n",
    "\n",
    "def triangular_nums(num):\n",
    "    return (num*(num+1))//2\n",
    "n=int(input())\n",
    "res=()\n",
    "for i in range(1,n+1):\n",
    "    res=res+(triangular_nums(i),)\n",
    "print(res)"
   ]
  },
  {
   "cell_type": "code",
   "execution_count": 13,
   "id": "4aa01adc-6c4f-4b73-998c-5498fd233104",
   "metadata": {},
   "outputs": [
    {
     "name": "stdout",
     "output_type": "stream",
     "text": [
      "the tuple contains another tuple\n",
      "The tuple does not contain another tuple\n"
     ]
    }
   ],
   "source": [
    " # 49. Check if a tuple contains another tuple as a subsequence\n",
    "def is_nested(tup):\n",
    "    for num in tup:\n",
    "        if type(num)==tuple:\n",
    "            return \"the tuple contains another tuple\"\n",
    "            break\n",
    "    return \"The tuple does not contain another tuple\"\n",
    "a=(1,2,3,4,(5,6,7))\n",
    "b=(1,2,3,4,5,6,7)\n",
    "print(is_nested(a))\n",
    "print(is_nested(b))"
   ]
  },
  {
   "cell_type": "code",
   "execution_count": 14,
   "id": "c13747db-c720-4bdc-b300-05051c762d1b",
   "metadata": {},
   "outputs": [
    {
     "name": "stdin",
     "output_type": "stream",
     "text": [
      " 10\n"
     ]
    },
    {
     "name": "stdout",
     "output_type": "stream",
     "text": [
      "(0, 1, 0, 1, 0, 1, 0, 1, 0, 1)\n"
     ]
    }
   ],
   "source": [
    "# 50. Create a tuple of alternating 1s and 0s of length `n`.\n",
    "n=int(input())\n",
    "alter_tup=tuple(1 if i%2==0 else 0 for i in range(1,n+1))\n",
    "print(alter_tup)"
   ]
  },
  {
   "cell_type": "code",
   "execution_count": null,
   "id": "6519b5ed-4509-49af-9dba-05258a9b8fa6",
   "metadata": {},
   "outputs": [],
   "source": [
    "Set Based Practice Problem \n",
    "\n"
   ]
  },
  {
   "cell_type": "code",
   "execution_count": 15,
   "id": "055a4c86-f988-41f0-99e5-946014f62916",
   "metadata": {},
   "outputs": [
    {
     "name": "stdout",
     "output_type": "stream",
     "text": [
      "{1, 2, 3, 4, 5}\n"
     ]
    }
   ],
   "source": [
    "# 1.Create a set with integers from 1 to 5.\n",
    "my_set = {1, 2, 3, 4, 5}\n",
    "print(my_set)\n"
   ]
  },
  {
   "cell_type": "code",
   "execution_count": 16,
   "id": "33603db4-235c-4733-bd67-dcbb68c7ae67",
   "metadata": {},
   "outputs": [
    {
     "data": {
      "text/plain": [
       "{1, 2, 3, 4, 5, 6}"
      ]
     },
     "execution_count": 16,
     "metadata": {},
     "output_type": "execute_result"
    }
   ],
   "source": [
    "# 2.Add an element to a set.\n",
    "my_set.add(6)\n",
    "my_set\n"
   ]
  },
  {
   "cell_type": "code",
   "execution_count": 17,
   "id": "bfb3a5de-f1bb-46b8-940d-f964439b8203",
   "metadata": {},
   "outputs": [
    {
     "data": {
      "text/plain": [
       "{1, 2, 4, 5, 6}"
      ]
     },
     "execution_count": 17,
     "metadata": {},
     "output_type": "execute_result"
    }
   ],
   "source": [
    "# 3.Remove an element from a set.\n",
    "my_set.remove(3)\n",
    "my_set"
   ]
  },
  {
   "cell_type": "code",
   "execution_count": 18,
   "id": "0bc843e7-e03e-4d3d-b418-273255d59407",
   "metadata": {},
   "outputs": [
    {
     "data": {
      "text/plain": [
       "True"
      ]
     },
     "execution_count": 18,
     "metadata": {},
     "output_type": "execute_result"
    }
   ],
   "source": [
    "# 4.Check if an element exists in a set.\n",
    "element_exists = 2 in my_set\n",
    "element_exists"
   ]
  },
  {
   "cell_type": "code",
   "execution_count": 19,
   "id": "16e16923-d779-4780-a75d-6af54c6f6523",
   "metadata": {},
   "outputs": [
    {
     "data": {
      "text/plain": [
       "5"
      ]
     },
     "execution_count": 19,
     "metadata": {},
     "output_type": "execute_result"
    }
   ],
   "source": [
    "# 5.Find the length of a set without using the len() function.\n",
    "set_length = sum(1 for _ in my_set)\n",
    "set_length"
   ]
  },
  {
   "cell_type": "code",
   "execution_count": 21,
   "id": "0a506e89-bd1f-42e8-a185-df0c102d6189",
   "metadata": {},
   "outputs": [
    {
     "name": "stdout",
     "output_type": "stream",
     "text": [
      "set()\n"
     ]
    }
   ],
   "source": [
    "# 6.Clear all elements from a set.\n",
    "my_set.clear()\n",
    "print(my_set)"
   ]
  },
  {
   "cell_type": "code",
   "execution_count": 22,
   "id": "3e59dd59-f24d-4a01-9f65-5970cf587075",
   "metadata": {},
   "outputs": [
    {
     "name": "stdout",
     "output_type": "stream",
     "text": [
      "{2, 4, 6, 8, 10}\n"
     ]
    }
   ],
   "source": [
    "# 7.Create a set of even numbers from 1 to 10.\n",
    "even_numbers = {x for x in range(1, 11) if x % 2 == 0}\n",
    "print(even_numbers)"
   ]
  },
  {
   "cell_type": "code",
   "execution_count": 23,
   "id": "bd754b04-d848-4b6c-bf4d-5613f27026c0",
   "metadata": {},
   "outputs": [
    {
     "name": "stdout",
     "output_type": "stream",
     "text": [
      "{1, 3, 5, 7, 9}\n"
     ]
    }
   ],
   "source": [
    "# 8.Create a set of odd numbers from 1 to 10.\n",
    "odd_numbers = {x for x in range(1, 11) if x % 2 != 0}\n",
    "print(odd_numbers)"
   ]
  },
  {
   "cell_type": "code",
   "execution_count": 2,
   "id": "286c5bc3-9c36-4f85-ac63-baaa9cb0f45b",
   "metadata": {},
   "outputs": [
    {
     "name": "stdout",
     "output_type": "stream",
     "text": [
      "{1, 2, 3, 4, 5, 6, 7, 8}\n"
     ]
    }
   ],
   "source": [
    "# 9.Find the union of two sets.\n",
    "set1={1,2,3,4,5,6}\n",
    "set2={5,6,7,8}\n",
    "union_set = set1.union(set2)\n",
    "print(union_set)"
   ]
  },
  {
   "cell_type": "code",
   "execution_count": 30,
   "id": "2765847c-095a-4ca0-8737-6cc794741d5f",
   "metadata": {},
   "outputs": [
    {
     "data": {
      "text/plain": [
       "{5, 6}"
      ]
     },
     "execution_count": 30,
     "metadata": {},
     "output_type": "execute_result"
    }
   ],
   "source": [
    "# 10.Find the intersection of two sets.\n",
    "\n",
    "intersection_set = set1.intersection(set2)\n",
    "intersection_set"
   ]
  },
  {
   "cell_type": "code",
   "execution_count": 32,
   "id": "bd4f82ff-3bc2-499a-9b20-bfc23bc66d1c",
   "metadata": {},
   "outputs": [
    {
     "name": "stdout",
     "output_type": "stream",
     "text": [
      "{1, 2, 3, 4, 5, 6}\n"
     ]
    },
    {
     "data": {
      "text/plain": [
       "{1, 2, 3, 4}"
      ]
     },
     "execution_count": 32,
     "metadata": {},
     "output_type": "execute_result"
    }
   ],
   "source": [
    "# 11.Find the difference between two sets.\n",
    "print(set1)\n",
    "difference_set = set1.difference(set2)\n",
    "difference_set"
   ]
  },
  {
   "cell_type": "code",
   "execution_count": 33,
   "id": "f7dfe76b-aa80-42ff-8367-d01c01060e15",
   "metadata": {},
   "outputs": [
    {
     "data": {
      "text/plain": [
       "False"
      ]
     },
     "execution_count": 33,
     "metadata": {},
     "output_type": "execute_result"
    }
   ],
   "source": [
    "# 12.Check if a set is a subset of another set.\n",
    "is_subset = set1.issubset(set2)\n",
    "is_subset"
   ]
  },
  {
   "cell_type": "code",
   "execution_count": 35,
   "id": "540fb1a4-e2b0-4432-b467-35d7faece509",
   "metadata": {},
   "outputs": [
    {
     "data": {
      "text/plain": [
       "True"
      ]
     },
     "execution_count": 35,
     "metadata": {},
     "output_type": "execute_result"
    }
   ],
   "source": [
    "# 13.Check if a set is a superset of another set.\n",
    "set1={1,2,3,4,5,6,7,8}\n",
    "is_superset = set1.issuperset(set2)\n",
    "is_superset"
   ]
  },
  {
   "cell_type": "code",
   "execution_count": 1,
   "id": "1367e4cf-65ec-44ff-8403-07ce03e2b764",
   "metadata": {},
   "outputs": [
    {
     "data": {
      "text/plain": [
       "{1, 2, 3, 4, 5}"
      ]
     },
     "execution_count": 1,
     "metadata": {},
     "output_type": "execute_result"
    }
   ],
   "source": [
    "# 14. Create a set from a list.\n",
    "my_list = [1, 2, 3, 4, 5]\n",
    "my_set = set(my_list)\n",
    "my_set"
   ]
  },
  {
   "cell_type": "code",
   "execution_count": 2,
   "id": "27bbb51f-cb1c-43e0-8eb8-22b2d7820d0a",
   "metadata": {},
   "outputs": [
    {
     "data": {
      "text/plain": [
       "[1, 2, 3, 4, 5]"
      ]
     },
     "execution_count": 2,
     "metadata": {},
     "output_type": "execute_result"
    }
   ],
   "source": [
    "# 15.Convert a set to a list.\n",
    "my_list = list(my_set)\n",
    "my_list"
   ]
  },
  {
   "cell_type": "code",
   "execution_count": 3,
   "id": "ce5ed3bb-3377-40e2-bcfa-69eccd8616a0",
   "metadata": {},
   "outputs": [
    {
     "data": {
      "text/plain": [
       "1"
      ]
     },
     "execution_count": 3,
     "metadata": {},
     "output_type": "execute_result"
    }
   ],
   "source": [
    "# 16.Remove a random element from a set.\n",
    "import random\n",
    "random_element = my_set.pop()\n",
    "random_element"
   ]
  },
  {
   "cell_type": "code",
   "execution_count": 4,
   "id": "82d13926-f842-4689-ba82-e3fcdd728357",
   "metadata": {},
   "outputs": [
    {
     "data": {
      "text/plain": [
       "2"
      ]
     },
     "execution_count": 4,
     "metadata": {},
     "output_type": "execute_result"
    }
   ],
   "source": [
    "# 17.Pop an element from a set.\n",
    "popped_element = my_set.pop()\n",
    "popped_element"
   ]
  },
  {
   "cell_type": "code",
   "execution_count": 18,
   "id": "f0e27ec1-1526-4714-9c83-1773bb1a370e",
   "metadata": {},
   "outputs": [
    {
     "name": "stdout",
     "output_type": "stream",
     "text": [
      "They have common elements\n"
     ]
    }
   ],
   "source": [
    "# 18.Check if two sets have no elements in common.\n",
    "set1={1,2,3,4}\n",
    "set2={4,7,8}\n",
    "if set1.isdisjoint(set2):\n",
    "    print(\"No common elements\")\n",
    "else:\n",
    "    print(\"They have common elements\")"
   ]
  },
  {
   "cell_type": "code",
   "execution_count": 19,
   "id": "ebfc0e92-939e-49ef-b3d1-fafb8a94f47c",
   "metadata": {},
   "outputs": [
    {
     "data": {
      "text/plain": [
       "{1, 2, 3, 7, 8}"
      ]
     },
     "execution_count": 19,
     "metadata": {},
     "output_type": "execute_result"
    }
   ],
   "source": [
    "# 19.Find the symmetric difference between two sets.\n",
    "symmetric_difference = set1.symmetric_difference(set2)\n",
    "symmetric_difference"
   ]
  },
  {
   "cell_type": "code",
   "execution_count": 22,
   "id": "b647b281-61c6-4f23-add4-e6cc6c38f9ec",
   "metadata": {},
   "outputs": [
    {
     "data": {
      "text/plain": [
       "{1, 2, 3, 4, 7, 8}"
      ]
     },
     "execution_count": 22,
     "metadata": {},
     "output_type": "execute_result"
    }
   ],
   "source": [
    "# 20.Update a set with elements from another set.\n",
    "set1.update(set2)\n",
    "set1"
   ]
  },
  {
   "cell_type": "code",
   "execution_count": 24,
   "id": "621b2bac-92b7-410a-a7d3-b9b93af3b31b",
   "metadata": {},
   "outputs": [
    {
     "data": {
      "text/plain": [
       "{2, 3, 5, 7, 11}"
      ]
     },
     "execution_count": 24,
     "metadata": {},
     "output_type": "execute_result"
    }
   ],
   "source": [
    "# 21.Create a set of the first 5 prime numbers\n",
    "prime_numbers = {2, 3, 5, 7, 11}\n",
    "prime_numbers"
   ]
  },
  {
   "cell_type": "code",
   "execution_count": 4,
   "id": "fdc4268b-83b2-4da5-8e57-17edba92e87c",
   "metadata": {},
   "outputs": [
    {
     "data": {
      "text/plain": [
       "False"
      ]
     },
     "execution_count": 4,
     "metadata": {},
     "output_type": "execute_result"
    }
   ],
   "source": [
    "# 22.Check if two sets are identical.\n",
    "set1={1,2,4}\n",
    "set2={3,4,5}\n",
    "are_identical = set1 == set2\n",
    "are_identical"
   ]
  },
  {
   "cell_type": "code",
   "execution_count": 6,
   "id": "00e417f5-c9cb-4390-bae6-5b0fb62aefcf",
   "metadata": {},
   "outputs": [
    {
     "name": "stdout",
     "output_type": "stream",
     "text": [
      "frozenset({1, 2, 3, 5, 6})\n"
     ]
    }
   ],
   "source": [
    "# 23.Create a frozen set.\n",
    "my_set={1,2,3,5,6}\n",
    "frozen_set = frozenset(my_set)\n",
    "print(frozen_set)"
   ]
  },
  {
   "cell_type": "code",
   "execution_count": 8,
   "id": "176cdd7c-c006-406c-8b93-41982d059b46",
   "metadata": {},
   "outputs": [
    {
     "name": "stdout",
     "output_type": "stream",
     "text": [
      "False\n"
     ]
    }
   ],
   "source": [
    "# 24.Check if a set is disjoint with another set.\n",
    "is_disjoint = set1.isdisjoint(set2)\n",
    "print(is_disjoint)\n"
   ]
  },
  {
   "cell_type": "code",
   "execution_count": 10,
   "id": "482dfbc4-080a-4816-8cf9-a908538f72a0",
   "metadata": {},
   "outputs": [
    {
     "name": "stdout",
     "output_type": "stream",
     "text": [
      "{1, 4, 9, 16, 25}\n"
     ]
    }
   ],
   "source": [
    "# 25.Create a set of squares of numbers from 1 to 5.\n",
    "squares_set = {x*x for x in range(1, 6)}\n",
    "print(squares_set)\n"
   ]
  },
  {
   "cell_type": "code",
   "execution_count": 11,
   "id": "e30b87a0-e975-40ab-a378-2233a0dbde72",
   "metadata": {},
   "outputs": [
    {
     "name": "stdout",
     "output_type": "stream",
     "text": [
      "{2, 6}\n"
     ]
    }
   ],
   "source": [
    "# 26.Filter out all even numbers from a set\n",
    "even_numbers_set = {x for x in my_set if x % 2 == 0}\n",
    "print(even_numbers_set)"
   ]
  },
  {
   "cell_type": "code",
   "execution_count": 12,
   "id": "113c8a40-8253-4bb7-9a26-16d26fb41b89",
   "metadata": {},
   "outputs": [
    {
     "data": {
      "text/plain": [
       "{2, 4, 6, 10, 12}"
      ]
     },
     "execution_count": 12,
     "metadata": {},
     "output_type": "execute_result"
    }
   ],
   "source": [
    "# 26.Multiply all elements in a set by 2.\n",
    "multiplied_set = {x * 2 for x in my_set}\n",
    "multiplied_set"
   ]
  },
  {
   "cell_type": "code",
   "execution_count": 13,
   "id": "f5c2509a-77c1-4826-8f33-10666e724987",
   "metadata": {},
   "outputs": [
    {
     "data": {
      "text/plain": [
       "{17, 22, 44, 45, 57, 63, 83, 90, 92, 100}"
      ]
     },
     "execution_count": 13,
     "metadata": {},
     "output_type": "execute_result"
    }
   ],
   "source": [
    "# 27.Create a set of random numbers.\n",
    "import random\n",
    "random_set = {random.randint(1, 100) for _ in range(10)}\n",
    "random_set"
   ]
  },
  {
   "cell_type": "code",
   "execution_count": 15,
   "id": "de2cf8cd-e4ed-475e-871e-2496e272ce24",
   "metadata": {},
   "outputs": [
    {
     "data": {
      "text/plain": [
       "False"
      ]
     },
     "execution_count": 15,
     "metadata": {},
     "output_type": "execute_result"
    }
   ],
   "source": [
    "# 29. Check if a set is empty.\n",
    "is_empty = not bool(my_set)\n",
    "is_empty"
   ]
  },
  {
   "cell_type": "code",
   "execution_count": 16,
   "id": "7e609b02-9f8a-423f-9691-8aeb33b70396",
   "metadata": {},
   "outputs": [
    {
     "data": {
      "text/plain": [
       "frozenset({frozenset({3, 4}), frozenset({1, 2})})"
      ]
     },
     "execution_count": 16,
     "metadata": {},
     "output_type": "execute_result"
    }
   ],
   "source": [
    "# 30. Create a nested set (hint: use frozenset).\n",
    "nested_set = frozenset({frozenset({1, 2}), frozenset({3, 4})})\n",
    "nested_set"
   ]
  },
  {
   "cell_type": "code",
   "execution_count": 18,
   "id": "fad9d97f-f527-4437-b45b-7560848f5dff",
   "metadata": {},
   "outputs": [
    {
     "name": "stdout",
     "output_type": "stream",
     "text": [
      "{1, 2, 3, 5, 6}\n"
     ]
    },
    {
     "name": "stdin",
     "output_type": "stream",
     "text": [
      " 2\n"
     ]
    },
    {
     "data": {
      "text/plain": [
       "{1, 3, 5, 6}"
      ]
     },
     "execution_count": 18,
     "metadata": {},
     "output_type": "execute_result"
    }
   ],
   "source": [
    "# 31. Remove an element from a set using the discard method.\n",
    "print(my_set)\n",
    "n=int(input())\n",
    "my_set.discard(n)\n",
    "my_set"
   ]
  },
  {
   "cell_type": "code",
   "execution_count": 19,
   "id": "4dd86927-b961-4948-982f-49d381ae5635",
   "metadata": {},
   "outputs": [
    {
     "data": {
      "text/plain": [
       "False"
      ]
     },
     "execution_count": 19,
     "metadata": {},
     "output_type": "execute_result"
    }
   ],
   "source": [
    "# 32. Compare two sets.\n",
    "comparison_result = set1 == set2\n",
    "comparison_result\n"
   ]
  },
  {
   "cell_type": "code",
   "execution_count": 21,
   "id": "b5cf0a45-be15-447e-95dc-0ba9e2b49fb3",
   "metadata": {},
   "outputs": [
    {
     "data": {
      "text/plain": [
       "{'e', 'h', 'l', 'o'}"
      ]
     },
     "execution_count": 21,
     "metadata": {},
     "output_type": "execute_result"
    }
   ],
   "source": [
    "# 33. Create a set from a string.\n",
    "string_set = set(\"hello\")\n",
    "string_set"
   ]
  },
  {
   "cell_type": "code",
   "execution_count": 23,
   "id": "b70385a7-387a-45c6-b665-053de209c5a8",
   "metadata": {},
   "outputs": [
    {
     "data": {
      "text/plain": [
       "{101, 104, 108, 111}"
      ]
     },
     "execution_count": 23,
     "metadata": {},
     "output_type": "execute_result"
    }
   ],
   "source": [
    "# 34. Convert a set of strings to a set of integers.\n",
    "integer_set = {ord(x) for x in string_set}\n",
    "integer_set"
   ]
  },
  {
   "cell_type": "code",
   "execution_count": 26,
   "id": "79e42467-c281-4f95-98ed-3adaf86cd4f4",
   "metadata": {},
   "outputs": [
    {
     "data": {
      "text/plain": [
       "{'e', 'h', 'l', 'o'}"
      ]
     },
     "execution_count": 26,
     "metadata": {},
     "output_type": "execute_result"
    }
   ],
   "source": [
    "# 35. Convert a set of integers to a set of strings.\n",
    "string_set = {chr(x) for x in integer_set}\n",
    "string_set"
   ]
  },
  {
   "cell_type": "code",
   "execution_count": 28,
   "id": "3af288c7-d1fa-4f8d-839c-d099d03e00b1",
   "metadata": {},
   "outputs": [
    {
     "data": {
      "text/plain": [
       "{1, 2, 3, 4, 5}"
      ]
     },
     "execution_count": 28,
     "metadata": {},
     "output_type": "execute_result"
    }
   ],
   "source": [
    "# 36. Create a set from a tuple.\n",
    "tuple_set = set((1, 2, 3, 4, 5))\n",
    "tuple_set"
   ]
  },
  {
   "cell_type": "code",
   "execution_count": 29,
   "id": "ff7b5a7b-9e52-4700-beba-1efe8a03ce70",
   "metadata": {},
   "outputs": [
    {
     "data": {
      "text/plain": [
       "(1, 3, 5, 6)"
      ]
     },
     "execution_count": 29,
     "metadata": {},
     "output_type": "execute_result"
    }
   ],
   "source": [
    "# 37. Convert a set to a tuple.\n",
    "tuple_from_set = tuple(my_set)\n",
    "tuple_from_set"
   ]
  },
  {
   "cell_type": "code",
   "execution_count": 31,
   "id": "3bd87ad7-9886-4f40-896b-f1eb65535605",
   "metadata": {},
   "outputs": [
    {
     "data": {
      "text/plain": [
       "6"
      ]
     },
     "execution_count": 31,
     "metadata": {},
     "output_type": "execute_result"
    }
   ],
   "source": [
    "# 38. Find the maximum value in a set.\n",
    "max_value = max(my_set)\n",
    "max_value"
   ]
  },
  {
   "cell_type": "code",
   "execution_count": 32,
   "id": "e27aefb9-5f45-429c-aafa-62c1267a8f65",
   "metadata": {},
   "outputs": [
    {
     "data": {
      "text/plain": [
       "1"
      ]
     },
     "execution_count": 32,
     "metadata": {},
     "output_type": "execute_result"
    }
   ],
   "source": [
    "# 39. Find the minimum value in a set.\n",
    "min_value = min(my_set)\n",
    "min_value"
   ]
  },
  {
   "cell_type": "code",
   "execution_count": 33,
   "id": "a33b54f4-cdef-4dbf-b6a6-2e03b8bba54f",
   "metadata": {},
   "outputs": [
    {
     "name": "stdin",
     "output_type": "stream",
     "text": [
      "Enter elements separated by spaces:  1 2 3 4 5 6\n"
     ]
    },
    {
     "data": {
      "text/plain": [
       "{'1', '2', '3', '4', '5', '6'}"
      ]
     },
     "execution_count": 33,
     "metadata": {},
     "output_type": "execute_result"
    }
   ],
   "source": [
    "# 40. Create a set from user input.\n",
    "user_input_set = set(input(\"Enter elements separated by spaces: \").split())\n",
    "user_input_set"
   ]
  },
  {
   "cell_type": "code",
   "execution_count": 34,
   "id": "7bd4d1ec-509a-4afe-9577-2b82d5b5e760",
   "metadata": {},
   "outputs": [
    {
     "data": {
      "text/plain": [
       "False"
      ]
     },
     "execution_count": 34,
     "metadata": {},
     "output_type": "execute_result"
    }
   ],
   "source": [
    "# 41. Check if the intersection of two sets is empty.\n",
    "intersection_empty = not bool(set1 & set2)\n",
    "intersection_empty"
   ]
  },
  {
   "cell_type": "code",
   "execution_count": 35,
   "id": "a1a93b0f-4efc-4a33-bdf5-c0efc797dcf2",
   "metadata": {},
   "outputs": [
    {
     "name": "stdout",
     "output_type": "stream",
     "text": [
      "The tuple of first 5 fibo numbers are :{0, 1, 2, 3, 5, 8}\n"
     ]
    }
   ],
   "source": [
    "# 42. Create a set of the first 5 Fibonacci numbers.\n",
    "f=0\n",
    "s=1\n",
    "tup={0,1}\n",
    "for i in range(5):\n",
    "    t=f+s\n",
    "    f=s\n",
    "    s=t\n",
    "    tup.add(t)\n",
    "    if len(tup)>5:\n",
    "        break\n",
    "print(f\"The tuple of first 5 fibo numbers are :{tup}\")"
   ]
  },
  {
   "cell_type": "code",
   "execution_count": 36,
   "id": "3176dcbf-8c19-4c05-a27c-65579c817a82",
   "metadata": {},
   "outputs": [
    {
     "data": {
      "text/plain": [
       "[1, 2, 3, 4, 5, 6, 7]"
      ]
     },
     "execution_count": 36,
     "metadata": {},
     "output_type": "execute_result"
    }
   ],
   "source": [
    "# 43. Remove duplicates from a list using sets.\n",
    "duplicate_list={1,2,3,4,4,5,5,5,6,7}\n",
    "unique_list = list(set(duplicate_list))\n",
    "unique_list"
   ]
  },
  {
   "cell_type": "code",
   "execution_count": 37,
   "id": "711fb8ec-0b10-4062-a239-cd62765defb6",
   "metadata": {},
   "outputs": [
    {
     "data": {
      "text/plain": [
       "False"
      ]
     },
     "execution_count": 37,
     "metadata": {},
     "output_type": "execute_result"
    }
   ],
   "source": [
    "# 44. Check if two sets have the same elements, regardless of their count.\n",
    "same_elements = set1 == set2 or set1 == set2 or set1.symmetric_difference(set2) == set()\n",
    "same_elements"
   ]
  },
  {
   "cell_type": "code",
   "execution_count": 38,
   "id": "e8514dfb-7d9f-4574-bfb0-4d3d6c2df01d",
   "metadata": {},
   "outputs": [
    {
     "data": {
      "text/plain": [
       "{1, 2}"
      ]
     },
     "execution_count": 38,
     "metadata": {},
     "output_type": "execute_result"
    }
   ],
   "source": [
    "# 45. Create a set of the first `n` powers of 2.\n",
    "\n",
    "n_powers_of_2 = {2**i for i in range(n)}\n",
    "n_powers_of_2\n"
   ]
  },
  {
   "cell_type": "code",
   "execution_count": 41,
   "id": "bae3af73-5eb7-483b-bbb4-1ffa62d0ddc0",
   "metadata": {},
   "outputs": [
    {
     "data": {
      "text/plain": [
       "{1, 3, 5}"
      ]
     },
     "execution_count": 41,
     "metadata": {},
     "output_type": "execute_result"
    }
   ],
   "source": [
    "# 46. Find the common elements between a set and a list.\n",
    "my_list=[1,2,3,4,5]\n",
    "common_elements = my_set.intersection(my_list)\n",
    "common_elements"
   ]
  },
  {
   "cell_type": "code",
   "execution_count": 43,
   "id": "24530256-e084-49e7-a6aa-9554b9c44b7a",
   "metadata": {},
   "outputs": [
    {
     "name": "stdin",
     "output_type": "stream",
     "text": [
      " 10\n"
     ]
    },
    {
     "data": {
      "text/plain": [
       "{1, 3, 6, 10, 15, 21, 28, 36, 45, 55}"
      ]
     },
     "execution_count": 43,
     "metadata": {},
     "output_type": "execute_result"
    }
   ],
   "source": [
    "# 47. Create a set of the first `n` triangular numbers.\n",
    "n=int(input())\n",
    "triangular_numbers = {i * (i + 1) // 2 for i in range(1, n + 1)}\n",
    "triangular_numbers"
   ]
  },
  {
   "cell_type": "code",
   "execution_count": 45,
   "id": "ef37851c-9041-44a9-aa10-925bb951db61",
   "metadata": {},
   "outputs": [
    {
     "data": {
      "text/plain": [
       "True"
      ]
     },
     "execution_count": 45,
     "metadata": {},
     "output_type": "execute_result"
    }
   ],
   "source": [
    "# 48. Check if a set contains another set as a subset.\n",
    "super_set={1,2,3,4,5}\n",
    "subset_set={2,3,4}\n",
    "contains_subset = subset_set.issubset(super_set)\n",
    "contains_subset"
   ]
  },
  {
   "cell_type": "code",
   "execution_count": 46,
   "id": "696e4991-3f77-4497-b0a9-4d7ca3e5488c",
   "metadata": {},
   "outputs": [
    {
     "data": {
      "text/plain": [
       "{0, 1}"
      ]
     },
     "execution_count": 46,
     "metadata": {},
     "output_type": "execute_result"
    }
   ],
   "source": [
    "# 49. Create a set of alternating 1s and 0s of length `n`.\n",
    "alternating_set = {1 if i % 2 == 0 else 0 for i in range(n)}\n",
    "alternating_set"
   ]
  },
  {
   "cell_type": "code",
   "execution_count": 48,
   "id": "c944fac8-c67b-424d-a361-8645383b150a",
   "metadata": {},
   "outputs": [
    {
     "data": {
      "text/plain": [
       "{1, 2, 3, 4, 5, 6, 7, 8, 9}"
      ]
     },
     "execution_count": 48,
     "metadata": {},
     "output_type": "execute_result"
    }
   ],
   "source": [
    "# 50. Merge multiple sets into one.\n",
    "set1={1,2,3}\n",
    "set2={4,5,6}\n",
    "set3={7,8,9}\n",
    "set4={2,3,4}\n",
    "merged_set = set1.union(set2, set3,set4)\n",
    "merged_set"
   ]
  },
  {
   "cell_type": "code",
   "execution_count": null,
   "id": "7b8dd63f-3366-4128-ab0f-e82c186eb7db",
   "metadata": {},
   "outputs": [],
   "source": []
  }
 ],
 "metadata": {
  "kernelspec": {
   "display_name": "Python 3 (ipykernel)",
   "language": "python",
   "name": "python3"
  },
  "language_info": {
   "codemirror_mode": {
    "name": "ipython",
    "version": 3
   },
   "file_extension": ".py",
   "mimetype": "text/x-python",
   "name": "python",
   "nbconvert_exporter": "python",
   "pygments_lexer": "ipython3",
   "version": "3.10.8"
  }
 },
 "nbformat": 4,
 "nbformat_minor": 5
}
