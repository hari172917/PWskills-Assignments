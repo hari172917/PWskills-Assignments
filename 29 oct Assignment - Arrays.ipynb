{
 "cells": [
  {
   "cell_type": "code",
   "execution_count": 1,
   "metadata": {},
   "outputs": [
    {
     "name": "stdout",
     "output_type": "stream",
     "text": [
      "False\n"
     ]
    }
   ],
   "source": [
    "#1. Given an array, check if it contains any duplicates or not.\n",
    "#arr = [1, 2, 4, 2, 5, 9]\n",
    "#Output = True\n",
    "def is_dup(arr):\n",
    "    s={}\n",
    "    for n in arr:\n",
    "        if n in s:\n",
    "            return True\n",
    "        else:\n",
    "            s[n]=1\n",
    "    return False\n",
    "print(is_dup([1, 2,4, 5, 9]))\n"
   ]
  },
  {
   "cell_type": "code",
   "execution_count": 2,
   "metadata": {},
   "outputs": [
    {
     "name": "stdout",
     "output_type": "stream",
     "text": [
      "[8, 9, 10, 1, 2, 3, 4, 5, 6, 7]\n"
     ]
    }
   ],
   "source": [
    "#2. Given an array and an integer k, rotate the array to the right by k steps.\n",
    "#arr = [1, 2, 3, 4, 5, 6, 7,8,9,10] k = 3\n",
    "#Output = [5, 6, 7, 1, 2, 3, 4]\n",
    "def rotate_array(arr, k):\n",
    "    n=len(arr)\n",
    "    k%=n\n",
    "    res=[0]*n\n",
    "    for i in  range(n):\n",
    "        res[(k+i)%n]=arr[i]\n",
    "    return res\n",
    "    \n",
    "\n",
    "\n",
    "\n",
    "arr = [1, 2, 3, 4, 5, 6, 7,8,9,10]\n",
    "k = 3   \n",
    "print(rotate_array(arr, k)) \n"
   ]
  },
  {
   "cell_type": "code",
   "execution_count": 3,
   "metadata": {},
   "outputs": [
    {
     "name": "stdout",
     "output_type": "stream",
     "text": [
      "[12, 9, 7, 5, 4, 2]\n"
     ]
    }
   ],
   "source": [
    "#3. Reverse the given array in-place, means without using any extra data structure.\n",
    "#arr = [2, 4, 5, 7, 9, 12]\n",
    "#Output = [12, 9, 7, 5, 4, 2]\n",
    "def rev(arr):\n",
    "    if len(arr)<=1:\n",
    "        return arr\n",
    "    s=0\n",
    "    l=len(arr)-1\n",
    "    while s<l:\n",
    "        arr[s],arr[l]=arr[l],arr[s]\n",
    "        s+=1    \n",
    "        l-=1\n",
    "    return arr\n",
    "arr = [2, 4, 5, 7, 9, 12]\n",
    "print(rev(arr))\n"
   ]
  },
  {
   "cell_type": "code",
   "execution_count": 4,
   "metadata": {},
   "outputs": [
    {
     "name": "stdout",
     "output_type": "stream",
     "text": [
      "20\n"
     ]
    }
   ],
   "source": [
    "#4. Given an array of integers, find the maximum element in an array\n",
    "#arr = [10, 5, 20, 8, 15]\n",
    "#Output = 20\n",
    "def find_max(arr):\n",
    "    m=arr[0]\n",
    "    for i in range(1,len(arr)):\n",
    "        if arr[i]>m:\n",
    "            m=arr[i]\n",
    "    return m\n",
    "print(find_max([10, 5, 20, 8, 15]))\n",
    "    "
   ]
  },
  {
   "cell_type": "code",
   "execution_count": 5,
   "metadata": {},
   "outputs": [
    {
     "name": "stdout",
     "output_type": "stream",
     "text": [
      "[1, 2, 3, 4, 5]\n"
     ]
    }
   ],
   "source": [
    "#5. Given a sorted array, remove the duplicate element without using any extra data structure.\n",
    "#arr = [1, 1, 2, 2, 2, 3, 3, 4, 4, 4, 5, 5]\n",
    "#Output = [1, 2, 3, 4, 5]\n",
    "\n",
    "def remove_duplicates(arr):\n",
    "    if len(arr)<=1:\n",
    "        return arr\n",
    "    n=len(arr)\n",
    "    j=0\n",
    "    for i in range(1,n):\n",
    "        if arr[i]!=arr[j]:\n",
    "            j+=1\n",
    "            arr[j]=arr[i]\n",
    "    return arr[:j+1]\n",
    "l=[x for x in remove_duplicates([1, 1, 2, 2, 2, 3, 3, 4, 4, 4, 5, 5]) if x]\n",
    "print(l)"
   ]
  },
  {
   "cell_type": "code",
   "execution_count": null,
   "metadata": {},
   "outputs": [],
   "source": []
  },
  {
   "cell_type": "code",
   "execution_count": null,
   "metadata": {},
   "outputs": [],
   "source": []
  },
  {
   "cell_type": "code",
   "execution_count": null,
   "metadata": {},
   "outputs": [],
   "source": []
  },
  {
   "cell_type": "code",
   "execution_count": null,
   "metadata": {},
   "outputs": [],
   "source": []
  },
  {
   "cell_type": "code",
   "execution_count": null,
   "metadata": {},
   "outputs": [],
   "source": []
  },
  {
   "cell_type": "code",
   "execution_count": null,
   "metadata": {},
   "outputs": [],
   "source": []
  }
 ],
 "metadata": {
  "kernelspec": {
   "display_name": "Vsc_env",
   "language": "python",
   "name": "python3"
  },
  "language_info": {
   "codemirror_mode": {
    "name": "ipython",
    "version": 3
   },
   "file_extension": ".py",
   "mimetype": "text/x-python",
   "name": "python",
   "nbconvert_exporter": "python",
   "pygments_lexer": "ipython3",
   "version": "3.13.0"
  }
 },
 "nbformat": 4,
 "nbformat_minor": 2
}
