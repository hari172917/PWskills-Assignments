{
 "cells": [
  {
   "cell_type": "markdown",
   "id": "57e85261-008b-43a3-b3a9-ad7da82c6fd5",
   "metadata": {},
   "source": [
    "Basic Level:\n"
   ]
  },
  {
   "cell_type": "code",
   "execution_count": 6,
   "id": "af48d8eb-a43c-4545-83ae-3466ae558743",
   "metadata": {},
   "outputs": [
    {
     "name": "stdout",
     "output_type": "stream",
     "text": [
      "1\n",
      "2\n",
      "3\n",
      "4\n",
      "5\n",
      "6\n",
      "7\n",
      "8\n",
      "9\n",
      "10\n"
     ]
    }
   ],
   "source": [
    "# 1. Write a Python program to print the numbers from 1 to 10 using a `for` loop.\n",
    "for x in range(1,11):\n",
    "    print(x)"
   ]
  },
  {
   "cell_type": "code",
   "execution_count": 9,
   "id": "c14a53f0-d887-4eb6-b985-e0ab785c5aa5",
   "metadata": {},
   "outputs": [
    {
     "name": "stdout",
     "output_type": "stream",
     "text": [
      "55\n"
     ]
    }
   ],
   "source": [
    "# 2. Create a program that calculates the sum of all numbers in a list using a `for` loop.\n",
    "a=[x for x in range(1,11)]\n",
    "sum=0\n",
    "for num in a:\n",
    "    sum+=num\n",
    "print(sum)\n"
   ]
  },
  {
   "cell_type": "code",
   "execution_count": 10,
   "id": "ec42bc16-a8bf-490a-b360-1efb2c9a0023",
   "metadata": {},
   "outputs": [
    {
     "name": "stdout",
     "output_type": "stream",
     "text": [
      "m\n",
      "a\n",
      "r\n",
      "g\n",
      "o\n",
      "r\n",
      "p\n",
      "a\n",
      "e\n",
      "t\n",
      "i\n",
      "r\n",
      "w\n"
     ]
    }
   ],
   "source": [
    "# 3. Write a program to print the characters of a string in reverse order using a `for` loop.\n",
    "st=\"writeaprogram\"\n",
    "for num in st[::-1]:\n",
    "    print(num)"
   ]
  },
  {
   "cell_type": "code",
   "execution_count": 12,
   "id": "a658ed53-6f6f-42cf-9ce0-24a9e8f7fa0e",
   "metadata": {},
   "outputs": [
    {
     "name": "stdin",
     "output_type": "stream",
     "text": [
      " 10\n"
     ]
    },
    {
     "name": "stdout",
     "output_type": "stream",
     "text": [
      "3628800\n"
     ]
    }
   ],
   "source": [
    "# 4. Develop a program that finds the factorial of a given number using a `for` loop.\n",
    "n=int(input())\n",
    "fact=1\n",
    "for i in range(1,n+1):\n",
    "    fact*=i\n",
    "print(fact)"
   ]
  },
  {
   "cell_type": "code",
   "execution_count": 13,
   "id": "d8053f0b-f720-4bb8-8ccc-5f0663531fe2",
   "metadata": {},
   "outputs": [
    {
     "name": "stdin",
     "output_type": "stream",
     "text": [
      " 5\n",
      " 10\n"
     ]
    },
    {
     "name": "stdout",
     "output_type": "stream",
     "text": [
      "5*1=5\n",
      "5*2=10\n",
      "5*3=15\n",
      "5*4=20\n",
      "5*5=25\n",
      "5*6=30\n",
      "5*7=35\n",
      "5*8=40\n",
      "5*9=45\n",
      "5*10=50\n"
     ]
    }
   ],
   "source": [
    "# 5. Create a program to print the multiplication table of a given number using a `for` loop.\n",
    "n=int(input())\n",
    "length=int(input())\n",
    "for i in range(1,length+1):\n",
    "    print(f\"{n}*{i}={n*i}\")\n",
    "    "
   ]
  },
  {
   "cell_type": "code",
   "execution_count": 17,
   "id": "795d686c-00a6-47d9-810d-12dde3405c08",
   "metadata": {},
   "outputs": [
    {
     "name": "stdin",
     "output_type": "stream",
     "text": [
      " 1,2,3,4,5,6,7,8,9\n"
     ]
    },
    {
     "name": "stdout",
     "output_type": "stream",
     "text": [
      "The count of odd and even are 5 and 4\n"
     ]
    }
   ],
   "source": [
    "# 6. Write a program that counts the number of even and odd numbers in a list using a `for` loop.\n",
    "a=list(map(int,input().split(\",\")))\n",
    "odd=0\n",
    "even=0\n",
    "for num in a:\n",
    "    if num%2==0:\n",
    "        even+=1\n",
    "    else:\n",
    "        odd+=1\n",
    "print(f\"The count of odd and even are {odd} and {even}\")"
   ]
  },
  {
   "cell_type": "code",
   "execution_count": 21,
   "id": "ee80d463-a9dc-4672-a03a-b434bd3b468f",
   "metadata": {},
   "outputs": [
    {
     "name": "stdout",
     "output_type": "stream",
     "text": [
      "1\n",
      "4\n",
      "9\n",
      "16\n",
      "25\n"
     ]
    }
   ],
   "source": [
    "# 7. Develop a program that prints the squares of numbers from 1 to 5 using a `for` loop\n",
    "for x in range(1,6):\n",
    "    print(x*x)\n"
   ]
  },
  {
   "cell_type": "code",
   "execution_count": 23,
   "id": "cf878b81-715a-4416-a100-fefd1e085f21",
   "metadata": {},
   "outputs": [
    {
     "name": "stdout",
     "output_type": "stream",
     "text": [
      "11\n"
     ]
    }
   ],
   "source": [
    "# 8. Create a program to find the length of a string without using the `len()` function.\n",
    "a=\"erkjfnekrnf\"\n",
    "count=0\n",
    "\n",
    "for num in a:\n",
    "    count+=1\n",
    "print(count)"
   ]
  },
  {
   "cell_type": "code",
   "execution_count": 28,
   "id": "3ba4c8e7-8eb5-47e8-b6b2-934169618d04",
   "metadata": {},
   "outputs": [
    {
     "name": "stdin",
     "output_type": "stream",
     "text": [
      " 1 2 3 4 5 6 6 7 8 8 9 9 8 7 6 5\n"
     ]
    },
    {
     "name": "stdout",
     "output_type": "stream",
     "text": [
      "The sum and avg of a is :94 and 5.875\n"
     ]
    }
   ],
   "source": [
    "# 9. Write a program that calculates the average of a list of numbers using a `for` loop.\n",
    "a=list(map(int,input().split()))\n",
    "n=len(a)\n",
    "sum=0\n",
    "for num in a:\n",
    "    sum+=num\n",
    "print(f\"The sum and avg of a is :{sum} and {(sum/n)}\")"
   ]
  },
  {
   "cell_type": "code",
   "execution_count": 31,
   "id": "a18bc9cb-e72c-499c-90f4-dede2a44bfee",
   "metadata": {},
   "outputs": [
    {
     "name": "stdin",
     "output_type": "stream",
     "text": [
      "Enter number greater than 2 10\n"
     ]
    },
    {
     "name": "stdout",
     "output_type": "stream",
     "text": [
      "0 1 1 2 3 5 8 13 21 34 "
     ]
    }
   ],
   "source": [
    "# 10. Develop a program that prints the first `n` Fibonacci numbers using a `for` loop.\n",
    "n=int(input(\"Enter number greater than 2\"))\n",
    "f=0\n",
    "s=1\n",
    "print(f,s,end=\" \")\n",
    "for i in range(2,n):\n",
    "    t=f+s\n",
    "    f=s\n",
    "    s=t\n",
    "    print(t,end=\" \")"
   ]
  },
  {
   "cell_type": "markdown",
   "id": "84f81ad6-34e8-44c5-b558-2bb483cb179a",
   "metadata": {},
   "source": [
    "Intermediate Level:\n",
    "\n",
    "\n"
   ]
  },
  {
   "cell_type": "code",
   "execution_count": 4,
   "id": "310cffcc-14ef-4d1d-be2b-f43d23dcd4d0",
   "metadata": {},
   "outputs": [
    {
     "name": "stdin",
     "output_type": "stream",
     "text": [
      " 1,2,4,5,6,7,8,8\n"
     ]
    },
    {
     "name": "stdout",
     "output_type": "stream",
     "text": [
      "True\n"
     ]
    }
   ],
   "source": [
    "# 11. Write a program to check if a given list contains any duplicates using a `for` loop.\n",
    "a=list(map(int,input().split(\",\")))\n",
    "flag=0\n",
    "n=len(a)\n",
    "for i in range(0,n):\n",
    "    for j in range(i+1,n):\n",
    "        if a[i]==a[j]:\n",
    "            flag=1\n",
    "\n",
    "            \n",
    "if flag==0:\n",
    "    print(\"False\")\n",
    "else:\n",
    "    print(\"True\")"
   ]
  },
  {
   "cell_type": "code",
   "execution_count": 10,
   "id": "90129ed3-19fa-403b-9d26-c945ec46ddc7",
   "metadata": {},
   "outputs": [
    {
     "name": "stdout",
     "output_type": "stream",
     "text": [
      "3\n"
     ]
    }
   ],
   "source": [
    "# 13. Develop a program that counts the number of vowels in a string using a `for` loop.\n",
    "a=\"rkhbfkwjburegrehbgfrrhbfkrn\"\n",
    "count=0\n",
    "for num in a:\n",
    "    if num in \"AaEeIiOoUu\":\n",
    "        count+=1\n",
    "print(count)"
   ]
  },
  {
   "cell_type": "code",
   "execution_count": null,
   "id": "fa19a05d-bac7-42bd-ba07-76ab79211e87",
   "metadata": {},
   "outputs": [],
   "source": [
    "# 14. Write a program to find the maximum element in a 2D list using a nested `for` loop.\n",
    "rows=int(input())\n",
    "cols=int(input())\n",
    "matrix = [[int(input(f\"Enter element at position ({i}, {j}): \")) for j in range(cols)] for i in range(rows)]\n"
   ]
  },
  {
   "cell_type": "code",
   "execution_count": 1,
   "id": "98c4175e-3c49-482a-b50c-dfb89ec54d02",
   "metadata": {},
   "outputs": [
    {
     "name": "stdout",
     "output_type": "stream",
     "text": [
      "8\n"
     ]
    }
   ],
   "source": [
    "# 14. Write a program to find the maximum element in a 2D list using a nested `for` loop.\n",
    "a=[[1,2,3,4],[3,4,5,6],[4,5,6,7,8]]\n",
    "max=0\n",
    "for num in a:\n",
    "    for nu in num:\n",
    "        if nu>=max:\n",
    "            max=nu\n",
    "            \n",
    "        else:\n",
    "            pass\n",
    "print(max)"
   ]
  },
  {
   "cell_type": "code",
   "execution_count": 8,
   "id": "3dd22fc2-1858-4af9-9346-8dce91ec66dc",
   "metadata": {},
   "outputs": [
    {
     "name": "stdin",
     "output_type": "stream",
     "text": [
      "Enter the num 5\n"
     ]
    },
    {
     "name": "stdout",
     "output_type": "stream",
     "text": [
      "[1, 2, 3, 4, 6, 7]\n"
     ]
    }
   ],
   "source": [
    "# 15. Create a program that removes all occurrences of a specific element from a list using a `for` loop.\n",
    "n=int(input(\"Enter the num\"))\n",
    "a=[1,2,3,4,5,6,7]\n",
    "for num in a:\n",
    "        if num ==n:\n",
    "            a.remove(n)\n",
    "print(a)\n"
   ]
  },
  {
   "cell_type": "code",
   "execution_count": 11,
   "id": "10a0ded9-6701-4b7b-88a4-8f0b812b6e5e",
   "metadata": {},
   "outputs": [
    {
     "name": "stdout",
     "output_type": "stream",
     "text": [
      "1 * 1 =1\n",
      "1 * 2 =2\n",
      "1 * 3 =3\n",
      "1 * 4 =4\n",
      "1 * 5 =5\n",
      "  \n",
      "2 * 1 =2\n",
      "2 * 2 =4\n",
      "2 * 3 =6\n",
      "2 * 4 =8\n",
      "2 * 5 =10\n",
      "  \n",
      "3 * 1 =3\n",
      "3 * 2 =6\n",
      "3 * 3 =9\n",
      "3 * 4 =12\n",
      "3 * 5 =15\n",
      "  \n",
      "4 * 1 =4\n",
      "4 * 2 =8\n",
      "4 * 3 =12\n",
      "4 * 4 =16\n",
      "4 * 5 =20\n",
      "  \n",
      "6 * 1 =6\n",
      "6 * 2 =12\n",
      "6 * 3 =18\n",
      "6 * 4 =24\n",
      "6 * 5 =30\n",
      "  \n",
      "7 * 1 =7\n",
      "7 * 2 =14\n",
      "7 * 3 =21\n",
      "7 * 4 =28\n",
      "7 * 5 =35\n",
      "  \n"
     ]
    }
   ],
   "source": [
    "# 16. Develop a program that generates a multiplication table for numbers from 1 to 5 using a nested `for` loop.\n",
    "for num in a:\n",
    "    for i in range(1,6):\n",
    "        print(f\"{num} * {i} ={num*i}\")\n",
    "    print(\"  \")"
   ]
  },
  {
   "cell_type": "code",
   "execution_count": 21,
   "id": "61801959-08fe-4153-a177-33b9efbde363",
   "metadata": {},
   "outputs": [
    {
     "name": "stdin",
     "output_type": "stream",
     "text": [
      "The fahrenheit values 34 45 56 67 78 89\n"
     ]
    },
    {
     "name": "stdout",
     "output_type": "stream",
     "text": [
      "34°F = 1.1111111111111112°C\n",
      "45°F = 7.222222222222222°C\n",
      "56°F = 13.333333333333334°C\n",
      "67°F = 19.444444444444446°C\n",
      "78°F = 25.555555555555557°C\n",
      "89°F = 31.666666666666668°C\n"
     ]
    }
   ],
   "source": [
    "# 17. Write a program that converts a list of Fahrenheit temperatures to Celsius using a `for` loop.\n",
    "a=list(map(int,input(\"The fahrenheit values\").split()))\n",
    "for i in a:\n",
    "    print(f\"{i}°F = { ((i-32)*(5/9))}°C\")\n",
    "          \n",
    "          \n",
    "          "
   ]
  },
  {
   "cell_type": "code",
   "execution_count": 23,
   "id": "43d820c2-de4d-4211-88c6-345b1aa960f1",
   "metadata": {},
   "outputs": [
    {
     "name": "stdout",
     "output_type": "stream",
     "text": [
      "The common elements are [4, 5, 6, 7, 8]\n"
     ]
    }
   ],
   "source": [
    "# 18. Create a program to print the common elements from two lists using a `for` loop.\n",
    "a=[1,2,3,4,5,6,7,8]\n",
    "b=[4,5,6,7,8,9,9,0]\n",
    "c_eles=[]\n",
    "for A in a:\n",
    "    for B in b:\n",
    "        if A==B:\n",
    "            c_eles.append(A)\n",
    "print(f\"The common elements are {c_eles}\")"
   ]
  },
  {
   "cell_type": "code",
   "execution_count": 26,
   "id": "d582a6fe-a251-40f9-aa46-4097416a85c8",
   "metadata": {},
   "outputs": [
    {
     "name": "stdin",
     "output_type": "stream",
     "text": [
      "The height of r trinagle : 25\n"
     ]
    },
    {
     "name": "stdout",
     "output_type": "stream",
     "text": [
      "* \n",
      "* * \n",
      "* * * \n",
      "* * * * \n",
      "* * * * * \n",
      "* * * * * * \n",
      "* * * * * * * \n",
      "* * * * * * * * \n",
      "* * * * * * * * * \n",
      "* * * * * * * * * * \n",
      "* * * * * * * * * * * \n",
      "* * * * * * * * * * * * \n",
      "* * * * * * * * * * * * * \n",
      "* * * * * * * * * * * * * * \n",
      "* * * * * * * * * * * * * * * \n",
      "* * * * * * * * * * * * * * * * \n",
      "* * * * * * * * * * * * * * * * * \n",
      "* * * * * * * * * * * * * * * * * * \n",
      "* * * * * * * * * * * * * * * * * * * \n",
      "* * * * * * * * * * * * * * * * * * * * \n",
      "* * * * * * * * * * * * * * * * * * * * * \n",
      "* * * * * * * * * * * * * * * * * * * * * * \n",
      "* * * * * * * * * * * * * * * * * * * * * * * \n",
      "* * * * * * * * * * * * * * * * * * * * * * * * \n",
      "* * * * * * * * * * * * * * * * * * * * * * * * * \n"
     ]
    }
   ],
   "source": [
    "# 19. Develop a program that prints the pattern of right-angled triangles using a `for` loop. Use ‘*’ to draw the pattern\n",
    "n=int(input(\"The height of r trinagle :\"))\n",
    "for i in range(1,n+1):\n",
    "    print(i*\"* \")"
   ]
  },
  {
   "cell_type": "code",
   "execution_count": null,
   "id": "60e5daf5-70ac-4bdb-9d20-c57661807e1e",
   "metadata": {},
   "outputs": [],
   "source": [
    "# 20. Write a program to find the greatest common divisor (GCD) of two numbers using a `for` loop.\n",
    "n1=int(input())\n",
    "n2=int(input())\n",
    "gcd=1\n",
    "for i in range(1,min(n1,n2)+1):\n",
    "    if n1%i==0 and n2%i==0:\n",
    "        gcd=i\n",
    "print(gcd)"
   ]
  },
  {
   "cell_type": "markdown",
   "id": "04403fb9-1c91-40b7-bfc6-10ddcc43b211",
   "metadata": {},
   "source": [
    "ADVANCED LEVEL"
   ]
  },
  {
   "cell_type": "code",
   "execution_count": 1,
   "id": "8bbaacbd-97b7-49ce-a537-b83ff68ead41",
   "metadata": {},
   "outputs": [
    {
     "name": "stdin",
     "output_type": "stream",
     "text": [
      " 1 2 4 5 6\n"
     ]
    },
    {
     "name": "stdout",
     "output_type": "stream",
     "text": [
      "18\n"
     ]
    }
   ],
   "source": [
    "# 21. Create a program that calculates the sum of the digits of numbers in a list using a list comprehension.\n",
    "a=list(map(int,input().split()))\n",
    "summ=sum(x for x in a)\n",
    "print(summ)"
   ]
  },
  {
   "cell_type": "code",
   "execution_count": 3,
   "id": "32ab5856-24e8-4aae-bffa-a9f4cf239279",
   "metadata": {},
   "outputs": [
    {
     "name": "stdin",
     "output_type": "stream",
     "text": [
      "Enter a number to find its prime factors:  56\n"
     ]
    },
    {
     "name": "stdout",
     "output_type": "stream",
     "text": [
      "Prime factors of 56 are: [2, 2, 2, 7]\n"
     ]
    }
   ],
   "source": [
    "# 22. Write a program to find the prime factors of a given number using a `for` loop and list comprehension.\n",
    "def prime_factors(n):\n",
    "    factors = []\n",
    "    divisor = 2\n",
    "\n",
    "    for divisor in range(2, n + 1):\n",
    "        while n % divisor == 0:\n",
    "            factors.append(divisor)\n",
    "            n //= divisor\n",
    "\n",
    "    return factors\n",
    "\n",
    "# Example usage:\n",
    "number = int(input(\"Enter a number to find its prime factors: \"))\n",
    "print(\"Prime factors of\", number, \"are:\", prime_factors(number))\n"
   ]
  },
  {
   "cell_type": "code",
   "execution_count": 5,
   "id": "1aa71bba-a84b-4aae-b18e-41cb33ff49bb",
   "metadata": {},
   "outputs": [
    {
     "name": "stdin",
     "output_type": "stream",
     "text": [
      " 2 3 3 3 4 4 4 45 5 5 5 56 6 6 6\n"
     ]
    },
    {
     "name": "stdout",
     "output_type": "stream",
     "text": [
      "[{2, 3, 4, 5, 6, 45, 56}]\n"
     ]
    }
   ],
   "source": [
    "# 23. Develop a program that extracts unique elements from a list and stores them in a new list using a list comprehension.\n",
    "a=list(map(int,input().split()))\n",
    "unique=[set(x for x in a)]\n",
    "print(unique)"
   ]
  },
  {
   "cell_type": "code",
   "execution_count": 8,
   "id": "10855e47-ba16-4906-9dde-d57b276a3379",
   "metadata": {},
   "outputs": [
    {
     "name": "stdin",
     "output_type": "stream",
     "text": [
      "Enter the limit 45\n"
     ]
    },
    {
     "name": "stdout",
     "output_type": "stream",
     "text": [
      "[1, 2, 3, 4, 5, 6, 7, 8, 9, 11, 22, 33, 44]\n"
     ]
    }
   ],
   "source": [
    "# 24. Create a program that generates a list of all palindromic numbers up to a specified limit using a list comprehension.\n",
    "limit=int(input(\"Enter the limit\"))\n",
    "palindrome=[x for x in range(1,limit+1) if str(x)==str(x)[::-1]]\n",
    "print(palindrome)"
   ]
  },
  {
   "cell_type": "code",
   "execution_count": 9,
   "id": "e38ef4bb-56f0-43f8-914c-b05d49b6a63b",
   "metadata": {},
   "outputs": [
    {
     "name": "stdout",
     "output_type": "stream",
     "text": [
      "[1, 2, 3, 4, 5, 6, 7, 8, 4, 5, 6]\n"
     ]
    }
   ],
   "source": [
    "# 25. Write a program to flatten a nested list using list comprehension.\n",
    "a=[[1,2,3,4],[5,6,7,8],[4,5,6]]\n",
    "flat=[x for sub in a for x in sub]\n",
    "print(flat)"
   ]
  },
  {
   "cell_type": "code",
   "execution_count": 14,
   "id": "de91f3c2-c944-4609-b8ae-0a5f22878eca",
   "metadata": {},
   "outputs": [
    {
     "name": "stdout",
     "output_type": "stream",
     "text": [
      "[1, 2, 3, 4, 5, 6, 7, 8, 4, 5, 6]\n",
      "The sum of even numbers are :30\n",
      "The sum of oddnumber are :21\n"
     ]
    }
   ],
   "source": [
    "# 26. Develop a program that computes the sum of even and odd numbers in a list separately using list comprehension.\n",
    "print(flat)\n",
    "even_sum=sum(list(x for x in flat if x%2==0))\n",
    "print(f\"The sum of even numbers are :{even_sum}\")\n",
    "odd_sum=sum(list(y for y in flat if y%2!=0))\n",
    "print(f\"The sum of oddnumber are :{odd_sum}\")"
   ]
  },
  {
   "cell_type": "code",
   "execution_count": 15,
   "id": "89998d69-5f8b-42c3-85b7-6638de33435f",
   "metadata": {},
   "outputs": [
    {
     "name": "stdout",
     "output_type": "stream",
     "text": [
      " the squares of odd number are :[1, 4, 9, 16, 25, 36, 49, 64, 81, 100]\n"
     ]
    }
   ],
   "source": [
    "# 27. Create a program that generates a list of squares of odd numbers between 1 and 10 using list comprehension\n",
    "squares_of_odd_numbers=[x*x for x in range(1,11)]\n",
    "print(f\" the squares of odd number are :{squares_of_odd_numbers}\")"
   ]
  },
  {
   "cell_type": "code",
   "execution_count": 16,
   "id": "06f5617b-1d8a-4a0c-a38d-3bbdec57be28",
   "metadata": {},
   "outputs": [
    {
     "name": "stdout",
     "output_type": "stream",
     "text": [
      "{'a': 1, 'b': 2, 'c': 3, 'd': 4, 'e': 5}\n"
     ]
    }
   ],
   "source": [
    "# 28. Write a program that combines two lists into a dictionary using list comprehension.\n",
    "keys=['a','b','c','d','e']\n",
    "values=[1,2,3,4,5]\n",
    "combine_dict={keys[i]:values[i] for i in range(min(len(keys),len(values)))}\n",
    "print(combine_dict)\n"
   ]
  },
  {
   "cell_type": "code",
   "execution_count": 18,
   "id": "f8dd9c2c-b092-42e6-8f17-40efd43992d4",
   "metadata": {},
   "outputs": [
    {
     "name": "stdin",
     "output_type": "stream",
     "text": [
      "Enter a vowelful string : i am cse student spending my free time in pwskillslab for getting job\n"
     ]
    },
    {
     "name": "stdout",
     "output_type": "stream",
     "text": [
      "['i', 'a', 'e', 'u', 'e', 'e', 'i', 'e', 'e', 'i', 'e', 'i', 'i', 'a', 'o', 'e', 'i', 'o']\n"
     ]
    }
   ],
   "source": [
    "# 29. Develop a program that extracts the vowels from a string and stores them in a list using list comprehension\n",
    "st=input(\"Enter a vowelful string :\")\n",
    "vows=[x for x in st if x in \"AaEeIiOoUu\"]\n",
    "print(vows)"
   ]
  },
  {
   "cell_type": "code",
   "execution_count": 23,
   "id": "2ae8c103-7e8f-4cff-91d6-d6e4668cc472",
   "metadata": {},
   "outputs": [
    {
     "name": "stdin",
     "output_type": "stream",
     "text": [
      " 1 2 4 f g s 4 5 6 h a c i k\n"
     ]
    },
    {
     "name": "stdout",
     "output_type": "stream",
     "text": [
      "['1', '2', '4', '4', '5', '6']\n"
     ]
    }
   ],
   "source": [
    "# 30. Create a program that removes all non-numeric characters from a list of strings using list comprehension.\n",
    "lis=list(input().split())\n",
    "non_numeric=[x for x in lis if x.isnumeric()]\n",
    "print(non_numeric)"
   ]
  },
  {
   "cell_type": "markdown",
   "id": "05fd4b06-fbdb-4b98-97e2-e8bd00325ade",
   "metadata": {},
   "source": [
    "Challenge Level:\n"
   ]
  },
  {
   "cell_type": "code",
   "execution_count": 30,
   "id": "d5ce1da3-2b97-466e-9815-5b97f1459af2",
   "metadata": {},
   "outputs": [
    {
     "name": "stdin",
     "output_type": "stream",
     "text": [
      "Enter a limit 50\n"
     ]
    },
    {
     "name": "stdout",
     "output_type": "stream",
     "text": [
      "[2, 3, 5, 7, 11, 13, 17, 19, 23, 29, 31, 37, 41, 43, 47]\n"
     ]
    }
   ],
   "source": [
    "# 31. Write a program to generate a list of prime numbers using the Sieve of Eratosthenes algorithm and list comprehension\n",
    "n=int(input(\"Enter a limit\"))\n",
    "l=list(x for x in range(2,n+1))\n",
    "i=2\n",
    "while i<=int(n**0.5):\n",
    "    if i in l:\n",
    "        for j in l:\n",
    "            if j%i==0 and j!=i:\n",
    "                l.remove(j)\n",
    "    i+=1\n",
    "print(l)"
   ]
  },
  {
   "cell_type": "code",
   "execution_count": 4,
   "id": "36b0dbad-12e7-4eeb-8c5f-170e776212dd",
   "metadata": {},
   "outputs": [
    {
     "name": "stdin",
     "output_type": "stream",
     "text": [
      " 10\n"
     ]
    },
    {
     "name": "stdout",
     "output_type": "stream",
     "text": [
      "[(3, 4, 5), (6, 8, 10)]\n"
     ]
    }
   ],
   "source": [
    "# 32 Create a program that generates a list of all Pythagorean triplets up to a specified limit using list comprehension\n",
    "limit=int(input())\n",
    "triplets=[(a,b,c) for a in range(1,limit+1) for b in range(a,limit+1) for c in range(b,limit+1) if a**2+b**2==c**2]\n",
    "print(triplets)"
   ]
  },
  {
   "cell_type": "code",
   "execution_count": 5,
   "id": "e59cad41-a900-4fa5-a881-856a71bf0aa4",
   "metadata": {},
   "outputs": [
    {
     "name": "stdin",
     "output_type": "stream",
     "text": [
      " 1 2 3 4 5 6\n",
      " a b c d e f r \n"
     ]
    },
    {
     "name": "stdout",
     "output_type": "stream",
     "text": [
      "[('1', 'a'), ('1', 'b'), ('1', 'c'), ('1', 'd'), ('1', 'e'), ('1', 'f'), ('1', 'r'), ('2', 'a'), ('2', 'b'), ('2', 'c'), ('2', 'd'), ('2', 'e'), ('2', 'f'), ('2', 'r'), ('3', 'a'), ('3', 'b'), ('3', 'c'), ('3', 'd'), ('3', 'e'), ('3', 'f'), ('3', 'r'), ('4', 'a'), ('4', 'b'), ('4', 'c'), ('4', 'd'), ('4', 'e'), ('4', 'f'), ('4', 'r'), ('5', 'a'), ('5', 'b'), ('5', 'c'), ('5', 'd'), ('5', 'e'), ('5', 'f'), ('5', 'r'), ('6', 'a'), ('6', 'b'), ('6', 'c'), ('6', 'd'), ('6', 'e'), ('6', 'f'), ('6', 'r')]\n"
     ]
    }
   ],
   "source": [
    "# 33. Develop a program that generates a list of all possible combinations of two lists using list comprehension.\n",
    "a=list(input().split())\n",
    "b=list(input().split())\n",
    "comb=[(x,y) for x in a for y in b]\n",
    "print(comb)"
   ]
  },
  {
   "cell_type": "code",
   "execution_count": 7,
   "id": "f93deb86-0c23-4db1-a813-04647507deac",
   "metadata": {},
   "outputs": [
    {
     "name": "stdin",
     "output_type": "stream",
     "text": [
      " 1 2 3 4 5 6 6 7 8\n"
     ]
    },
    {
     "name": "stdout",
     "output_type": "stream",
     "text": [
      "Mean :4.666666666666667\n",
      "Median :5\n",
      "Mode :6\n"
     ]
    }
   ],
   "source": [
    "# 34. Write a program that calculates the mean, median, and mode of a list of numbers using list comprehension.\n",
    "import statistics\n",
    "a=list(map(int,input().split()))\n",
    "mean=sum(a)/len(a)\n",
    "a=sorted(a)\n",
    "if len(a)%2==0:\n",
    "    median=(a[len(a)//2-1]+a[len(a)//2])/2\n",
    "else:\n",
    "    median=a[len(a)//2]\n",
    "mode=statistics.mode(a)\n",
    "print(f\"Mean :{mean}\")\n",
    "print(f\"Median :{median}\")\n",
    "print(f\"Mode :{mode}\")\n",
    "    \n",
    "    "
   ]
  },
  {
   "cell_type": "code",
   "execution_count": 17,
   "id": "37cc834d-d493-43a4-908d-cbe86d9c04b4",
   "metadata": {},
   "outputs": [
    {
     "name": "stdin",
     "output_type": "stream",
     "text": [
      "Enter the limit : 10\n"
     ]
    },
    {
     "name": "stdout",
     "output_type": "stream",
     "text": [
      "[1]\n",
      "[1, 1]\n",
      "[1, 2, 1]\n",
      "[1, 3, 3, 1]\n",
      "[1, 4, 6, 4, 1]\n",
      "[1, 5, 10, 10, 5, 1]\n",
      "[1, 6, 15, 20, 15, 6, 1]\n",
      "[1, 7, 21, 35, 35, 21, 7, 1]\n",
      "[1, 8, 28, 56, 70, 56, 28, 8, 1]\n",
      "[1, 9, 36, 84, 126, 126, 84, 36, 9, 1]\n"
     ]
    }
   ],
   "source": [
    "# 35. Create a program that generates Pascal's triangle up to a specified number of rows using list comprehension\n",
    "n=int(input(\"Enter the limit :\"))\n",
    "l=[]\n",
    "for i in range(n):\n",
    "    t_l=[]\n",
    "    for j in range(i+1):\n",
    "        if j==0 or j==i:\n",
    "            t_l.append(1)\n",
    "        else:\n",
    "            t_l.append(l[i-1][j]+l[i-1][j-1])\n",
    "    l.append(t_l)\n",
    "for x in l:\n",
    "    print(x)"
   ]
  },
  {
   "cell_type": "code",
   "execution_count": 18,
   "id": "d2c39639-2cc2-4d67-8f53-1f5d47ce637e",
   "metadata": {},
   "outputs": [
    {
     "name": "stdout",
     "output_type": "stream",
     "text": [
      "The count of digits in 1 factorial is : 1\n",
      "The count of digits in 2 factorial is : 2\n",
      "The count of digits in 3 factorial is : 6\n",
      "The count of digits in 4 factorial is : 6\n",
      "The count of digits in 5 factorial is : 3\n"
     ]
    }
   ],
   "source": [
    "# 36. Develop a program that calculates the sum of the digits of a factorial of numbers from 1 to 5 using list comprehension\n",
    "import math\n",
    "l=[]\n",
    "for i in range(1,6):\n",
    "    fact=math.factorial(i)\n",
    "    l.append(sum(int(x) for x in str(fact)))\n",
    "for i in range(len(l)):\n",
    "    print(f\"The count of digits in {i+1} factorial is : {l[i]}\")"
   ]
  },
  {
   "cell_type": "code",
   "execution_count": 22,
   "id": "69e7c71f-a230-49ab-aa24-b4706eb05f7c",
   "metadata": {},
   "outputs": [
    {
     "name": "stdin",
     "output_type": "stream",
     "text": [
      "Enter the sentence : Write a program that finds the longest word in a sentence using list comprehension\n"
     ]
    },
    {
     "name": "stdout",
     "output_type": "stream",
     "text": [
      "The longest word in given sen is :comprehension\n"
     ]
    }
   ],
   "source": [
    "# 37. Write a program that finds the longest word in a sentence using list comprehension.\n",
    "sen=input(\"Enter the sentence :\")\n",
    "sens=sen.split(\" \")\n",
    "lis=list(len(x) for x in sen.split(\" \"))\n",
    "max_len=max(lis)\n",
    "max_word=lis.index(max_len)\n",
    "print(f\"The longest word in given sen is :{sens[max_word]}\")"
   ]
  },
  {
   "cell_type": "code",
   "execution_count": 23,
   "id": "54b78187-ac60-40d6-9d8f-f20ec3c39d67",
   "metadata": {},
   "outputs": [
    {
     "name": "stdin",
     "output_type": "stream",
     "text": [
      "Enter a string in which some of the words should have more 3 vowels : sdeaeio hebfh haaaari suuuumi ajaaay\n"
     ]
    },
    {
     "name": "stdout",
     "output_type": "stream",
     "text": [
      "['sdeaeio', 'haaaari', 'suuuumi', 'ajaaay']\n"
     ]
    }
   ],
   "source": [
    "# 38. Create a program that filters a list of strings to include only those with more than three vowels using list comprehension.\n",
    "st=input(\"Enter a string in which some of the words should have more 3 vowels :\")\n",
    "sts=st.split()\n",
    "res=[]\n",
    "for x in sts:\n",
    "    vow=[i for i in x if i in \"AaEeIiOoUu\"]\n",
    "    if len(vow)>3:\n",
    "        res.append(x)\n",
    "print(res)"
   ]
  },
  {
   "cell_type": "code",
   "execution_count": 25,
   "id": "440b661d-2404-49c0-9ad7-c4bc79323d57",
   "metadata": {},
   "outputs": [
    {
     "name": "stdout",
     "output_type": "stream",
     "text": [
      "The count of digits in 1 is :1\n",
      "The count of digits in 2 is :1\n",
      "The count of digits in 3 is :1\n",
      "The count of digits in 4 is :1\n",
      "The count of digits in 5 is :1\n",
      "The count of digits in 6 is :1\n",
      "The count of digits in 7 is :1\n",
      "The count of digits in 8 is :1\n",
      "The count of digits in 9 is :1\n",
      "The count of digits in 10 is :2\n",
      "The count of digits in 11 is :2\n",
      "The count of digits in 12 is :2\n",
      "The count of digits in 13 is :2\n",
      "The count of digits in 14 is :2\n",
      "The count of digits in 15 is :2\n",
      "The count of digits in 16 is :2\n",
      "The count of digits in 17 is :2\n",
      "The count of digits in 18 is :2\n",
      "The count of digits in 19 is :2\n",
      "The count of digits in 20 is :2\n",
      "The count of digits in 21 is :2\n",
      "The count of digits in 22 is :2\n",
      "The count of digits in 23 is :2\n",
      "The count of digits in 24 is :2\n",
      "The count of digits in 25 is :2\n",
      "The count of digits in 26 is :2\n",
      "The count of digits in 27 is :2\n",
      "The count of digits in 28 is :2\n",
      "The count of digits in 29 is :2\n",
      "The count of digits in 30 is :2\n",
      "The count of digits in 31 is :2\n",
      "The count of digits in 32 is :2\n",
      "The count of digits in 33 is :2\n",
      "The count of digits in 34 is :2\n",
      "The count of digits in 35 is :2\n",
      "The count of digits in 36 is :2\n",
      "The count of digits in 37 is :2\n",
      "The count of digits in 38 is :2\n",
      "The count of digits in 39 is :2\n",
      "The count of digits in 40 is :2\n",
      "The count of digits in 41 is :2\n",
      "The count of digits in 42 is :2\n",
      "The count of digits in 43 is :2\n",
      "The count of digits in 44 is :2\n",
      "The count of digits in 45 is :2\n",
      "The count of digits in 46 is :2\n",
      "The count of digits in 47 is :2\n",
      "The count of digits in 48 is :2\n",
      "The count of digits in 49 is :2\n",
      "The count of digits in 50 is :2\n",
      "The count of digits in 51 is :2\n",
      "The count of digits in 52 is :2\n",
      "The count of digits in 53 is :2\n",
      "The count of digits in 54 is :2\n",
      "The count of digits in 55 is :2\n",
      "The count of digits in 56 is :2\n",
      "The count of digits in 57 is :2\n",
      "The count of digits in 58 is :2\n",
      "The count of digits in 59 is :2\n",
      "The count of digits in 60 is :2\n",
      "The count of digits in 61 is :2\n",
      "The count of digits in 62 is :2\n",
      "The count of digits in 63 is :2\n",
      "The count of digits in 64 is :2\n",
      "The count of digits in 65 is :2\n",
      "The count of digits in 66 is :2\n",
      "The count of digits in 67 is :2\n",
      "The count of digits in 68 is :2\n",
      "The count of digits in 69 is :2\n",
      "The count of digits in 70 is :2\n",
      "The count of digits in 71 is :2\n",
      "The count of digits in 72 is :2\n",
      "The count of digits in 73 is :2\n",
      "The count of digits in 74 is :2\n",
      "The count of digits in 75 is :2\n",
      "The count of digits in 76 is :2\n",
      "The count of digits in 77 is :2\n",
      "The count of digits in 78 is :2\n",
      "The count of digits in 79 is :2\n",
      "The count of digits in 80 is :2\n",
      "The count of digits in 81 is :2\n",
      "The count of digits in 82 is :2\n",
      "The count of digits in 83 is :2\n",
      "The count of digits in 84 is :2\n",
      "The count of digits in 85 is :2\n",
      "The count of digits in 86 is :2\n",
      "The count of digits in 87 is :2\n",
      "The count of digits in 88 is :2\n",
      "The count of digits in 89 is :2\n",
      "The count of digits in 90 is :2\n",
      "The count of digits in 91 is :2\n",
      "The count of digits in 92 is :2\n",
      "The count of digits in 93 is :2\n",
      "The count of digits in 94 is :2\n",
      "The count of digits in 95 is :2\n",
      "The count of digits in 96 is :2\n",
      "The count of digits in 97 is :2\n",
      "The count of digits in 98 is :2\n",
      "The count of digits in 99 is :2\n",
      "The count of digits in 100 is :3\n",
      "The count of digits in 101 is :3\n",
      "The count of digits in 102 is :3\n",
      "The count of digits in 103 is :3\n",
      "The count of digits in 104 is :3\n",
      "The count of digits in 105 is :3\n",
      "The count of digits in 106 is :3\n",
      "The count of digits in 107 is :3\n",
      "The count of digits in 108 is :3\n",
      "The count of digits in 109 is :3\n",
      "The count of digits in 110 is :3\n",
      "The count of digits in 111 is :3\n",
      "The count of digits in 112 is :3\n",
      "The count of digits in 113 is :3\n",
      "The count of digits in 114 is :3\n",
      "The count of digits in 115 is :3\n",
      "The count of digits in 116 is :3\n",
      "The count of digits in 117 is :3\n",
      "The count of digits in 118 is :3\n",
      "The count of digits in 119 is :3\n",
      "The count of digits in 120 is :3\n",
      "The count of digits in 121 is :3\n",
      "The count of digits in 122 is :3\n",
      "The count of digits in 123 is :3\n",
      "The count of digits in 124 is :3\n",
      "The count of digits in 125 is :3\n",
      "The count of digits in 126 is :3\n",
      "The count of digits in 127 is :3\n",
      "The count of digits in 128 is :3\n",
      "The count of digits in 129 is :3\n",
      "The count of digits in 130 is :3\n",
      "The count of digits in 131 is :3\n",
      "The count of digits in 132 is :3\n",
      "The count of digits in 133 is :3\n",
      "The count of digits in 134 is :3\n",
      "The count of digits in 135 is :3\n",
      "The count of digits in 136 is :3\n",
      "The count of digits in 137 is :3\n",
      "The count of digits in 138 is :3\n",
      "The count of digits in 139 is :3\n",
      "The count of digits in 140 is :3\n",
      "The count of digits in 141 is :3\n",
      "The count of digits in 142 is :3\n",
      "The count of digits in 143 is :3\n",
      "The count of digits in 144 is :3\n",
      "The count of digits in 145 is :3\n",
      "The count of digits in 146 is :3\n",
      "The count of digits in 147 is :3\n",
      "The count of digits in 148 is :3\n",
      "The count of digits in 149 is :3\n",
      "The count of digits in 150 is :3\n",
      "The count of digits in 151 is :3\n",
      "The count of digits in 152 is :3\n",
      "The count of digits in 153 is :3\n",
      "The count of digits in 154 is :3\n",
      "The count of digits in 155 is :3\n",
      "The count of digits in 156 is :3\n",
      "The count of digits in 157 is :3\n",
      "The count of digits in 158 is :3\n",
      "The count of digits in 159 is :3\n",
      "The count of digits in 160 is :3\n",
      "The count of digits in 161 is :3\n",
      "The count of digits in 162 is :3\n",
      "The count of digits in 163 is :3\n",
      "The count of digits in 164 is :3\n",
      "The count of digits in 165 is :3\n",
      "The count of digits in 166 is :3\n",
      "The count of digits in 167 is :3\n",
      "The count of digits in 168 is :3\n",
      "The count of digits in 169 is :3\n",
      "The count of digits in 170 is :3\n",
      "The count of digits in 171 is :3\n",
      "The count of digits in 172 is :3\n",
      "The count of digits in 173 is :3\n",
      "The count of digits in 174 is :3\n",
      "The count of digits in 175 is :3\n",
      "The count of digits in 176 is :3\n",
      "The count of digits in 177 is :3\n",
      "The count of digits in 178 is :3\n",
      "The count of digits in 179 is :3\n",
      "The count of digits in 180 is :3\n",
      "The count of digits in 181 is :3\n",
      "The count of digits in 182 is :3\n",
      "The count of digits in 183 is :3\n",
      "The count of digits in 184 is :3\n",
      "The count of digits in 185 is :3\n",
      "The count of digits in 186 is :3\n",
      "The count of digits in 187 is :3\n",
      "The count of digits in 188 is :3\n",
      "The count of digits in 189 is :3\n",
      "The count of digits in 190 is :3\n",
      "The count of digits in 191 is :3\n",
      "The count of digits in 192 is :3\n",
      "The count of digits in 193 is :3\n",
      "The count of digits in 194 is :3\n",
      "The count of digits in 195 is :3\n",
      "The count of digits in 196 is :3\n",
      "The count of digits in 197 is :3\n",
      "The count of digits in 198 is :3\n",
      "The count of digits in 199 is :3\n",
      "The count of digits in 200 is :3\n",
      "The count of digits in 201 is :3\n",
      "The count of digits in 202 is :3\n",
      "The count of digits in 203 is :3\n",
      "The count of digits in 204 is :3\n",
      "The count of digits in 205 is :3\n",
      "The count of digits in 206 is :3\n",
      "The count of digits in 207 is :3\n",
      "The count of digits in 208 is :3\n",
      "The count of digits in 209 is :3\n",
      "The count of digits in 210 is :3\n",
      "The count of digits in 211 is :3\n",
      "The count of digits in 212 is :3\n",
      "The count of digits in 213 is :3\n",
      "The count of digits in 214 is :3\n",
      "The count of digits in 215 is :3\n",
      "The count of digits in 216 is :3\n",
      "The count of digits in 217 is :3\n",
      "The count of digits in 218 is :3\n",
      "The count of digits in 219 is :3\n",
      "The count of digits in 220 is :3\n",
      "The count of digits in 221 is :3\n",
      "The count of digits in 222 is :3\n",
      "The count of digits in 223 is :3\n",
      "The count of digits in 224 is :3\n",
      "The count of digits in 225 is :3\n",
      "The count of digits in 226 is :3\n",
      "The count of digits in 227 is :3\n",
      "The count of digits in 228 is :3\n",
      "The count of digits in 229 is :3\n",
      "The count of digits in 230 is :3\n",
      "The count of digits in 231 is :3\n",
      "The count of digits in 232 is :3\n",
      "The count of digits in 233 is :3\n",
      "The count of digits in 234 is :3\n",
      "The count of digits in 235 is :3\n",
      "The count of digits in 236 is :3\n",
      "The count of digits in 237 is :3\n",
      "The count of digits in 238 is :3\n",
      "The count of digits in 239 is :3\n",
      "The count of digits in 240 is :3\n",
      "The count of digits in 241 is :3\n",
      "The count of digits in 242 is :3\n",
      "The count of digits in 243 is :3\n",
      "The count of digits in 244 is :3\n",
      "The count of digits in 245 is :3\n",
      "The count of digits in 246 is :3\n",
      "The count of digits in 247 is :3\n",
      "The count of digits in 248 is :3\n",
      "The count of digits in 249 is :3\n",
      "The count of digits in 250 is :3\n",
      "The count of digits in 251 is :3\n",
      "The count of digits in 252 is :3\n",
      "The count of digits in 253 is :3\n",
      "The count of digits in 254 is :3\n",
      "The count of digits in 255 is :3\n",
      "The count of digits in 256 is :3\n",
      "The count of digits in 257 is :3\n",
      "The count of digits in 258 is :3\n",
      "The count of digits in 259 is :3\n",
      "The count of digits in 260 is :3\n",
      "The count of digits in 261 is :3\n",
      "The count of digits in 262 is :3\n",
      "The count of digits in 263 is :3\n",
      "The count of digits in 264 is :3\n",
      "The count of digits in 265 is :3\n",
      "The count of digits in 266 is :3\n",
      "The count of digits in 267 is :3\n",
      "The count of digits in 268 is :3\n",
      "The count of digits in 269 is :3\n",
      "The count of digits in 270 is :3\n",
      "The count of digits in 271 is :3\n",
      "The count of digits in 272 is :3\n",
      "The count of digits in 273 is :3\n",
      "The count of digits in 274 is :3\n",
      "The count of digits in 275 is :3\n",
      "The count of digits in 276 is :3\n",
      "The count of digits in 277 is :3\n",
      "The count of digits in 278 is :3\n",
      "The count of digits in 279 is :3\n",
      "The count of digits in 280 is :3\n",
      "The count of digits in 281 is :3\n",
      "The count of digits in 282 is :3\n",
      "The count of digits in 283 is :3\n",
      "The count of digits in 284 is :3\n",
      "The count of digits in 285 is :3\n",
      "The count of digits in 286 is :3\n",
      "The count of digits in 287 is :3\n",
      "The count of digits in 288 is :3\n",
      "The count of digits in 289 is :3\n",
      "The count of digits in 290 is :3\n",
      "The count of digits in 291 is :3\n",
      "The count of digits in 292 is :3\n",
      "The count of digits in 293 is :3\n",
      "The count of digits in 294 is :3\n",
      "The count of digits in 295 is :3\n",
      "The count of digits in 296 is :3\n",
      "The count of digits in 297 is :3\n",
      "The count of digits in 298 is :3\n",
      "The count of digits in 299 is :3\n",
      "The count of digits in 300 is :3\n",
      "The count of digits in 301 is :3\n",
      "The count of digits in 302 is :3\n",
      "The count of digits in 303 is :3\n",
      "The count of digits in 304 is :3\n",
      "The count of digits in 305 is :3\n",
      "The count of digits in 306 is :3\n",
      "The count of digits in 307 is :3\n",
      "The count of digits in 308 is :3\n",
      "The count of digits in 309 is :3\n",
      "The count of digits in 310 is :3\n",
      "The count of digits in 311 is :3\n",
      "The count of digits in 312 is :3\n",
      "The count of digits in 313 is :3\n",
      "The count of digits in 314 is :3\n",
      "The count of digits in 315 is :3\n",
      "The count of digits in 316 is :3\n",
      "The count of digits in 317 is :3\n",
      "The count of digits in 318 is :3\n",
      "The count of digits in 319 is :3\n",
      "The count of digits in 320 is :3\n",
      "The count of digits in 321 is :3\n",
      "The count of digits in 322 is :3\n",
      "The count of digits in 323 is :3\n",
      "The count of digits in 324 is :3\n",
      "The count of digits in 325 is :3\n",
      "The count of digits in 326 is :3\n",
      "The count of digits in 327 is :3\n",
      "The count of digits in 328 is :3\n",
      "The count of digits in 329 is :3\n",
      "The count of digits in 330 is :3\n",
      "The count of digits in 331 is :3\n",
      "The count of digits in 332 is :3\n",
      "The count of digits in 333 is :3\n",
      "The count of digits in 334 is :3\n",
      "The count of digits in 335 is :3\n",
      "The count of digits in 336 is :3\n",
      "The count of digits in 337 is :3\n",
      "The count of digits in 338 is :3\n",
      "The count of digits in 339 is :3\n",
      "The count of digits in 340 is :3\n",
      "The count of digits in 341 is :3\n",
      "The count of digits in 342 is :3\n",
      "The count of digits in 343 is :3\n",
      "The count of digits in 344 is :3\n",
      "The count of digits in 345 is :3\n",
      "The count of digits in 346 is :3\n",
      "The count of digits in 347 is :3\n",
      "The count of digits in 348 is :3\n",
      "The count of digits in 349 is :3\n",
      "The count of digits in 350 is :3\n",
      "The count of digits in 351 is :3\n",
      "The count of digits in 352 is :3\n",
      "The count of digits in 353 is :3\n",
      "The count of digits in 354 is :3\n",
      "The count of digits in 355 is :3\n",
      "The count of digits in 356 is :3\n",
      "The count of digits in 357 is :3\n",
      "The count of digits in 358 is :3\n",
      "The count of digits in 359 is :3\n",
      "The count of digits in 360 is :3\n",
      "The count of digits in 361 is :3\n",
      "The count of digits in 362 is :3\n",
      "The count of digits in 363 is :3\n",
      "The count of digits in 364 is :3\n",
      "The count of digits in 365 is :3\n",
      "The count of digits in 366 is :3\n",
      "The count of digits in 367 is :3\n",
      "The count of digits in 368 is :3\n",
      "The count of digits in 369 is :3\n",
      "The count of digits in 370 is :3\n",
      "The count of digits in 371 is :3\n",
      "The count of digits in 372 is :3\n",
      "The count of digits in 373 is :3\n",
      "The count of digits in 374 is :3\n",
      "The count of digits in 375 is :3\n",
      "The count of digits in 376 is :3\n",
      "The count of digits in 377 is :3\n",
      "The count of digits in 378 is :3\n",
      "The count of digits in 379 is :3\n",
      "The count of digits in 380 is :3\n",
      "The count of digits in 381 is :3\n",
      "The count of digits in 382 is :3\n",
      "The count of digits in 383 is :3\n",
      "The count of digits in 384 is :3\n",
      "The count of digits in 385 is :3\n",
      "The count of digits in 386 is :3\n",
      "The count of digits in 387 is :3\n",
      "The count of digits in 388 is :3\n",
      "The count of digits in 389 is :3\n",
      "The count of digits in 390 is :3\n",
      "The count of digits in 391 is :3\n",
      "The count of digits in 392 is :3\n",
      "The count of digits in 393 is :3\n",
      "The count of digits in 394 is :3\n",
      "The count of digits in 395 is :3\n",
      "The count of digits in 396 is :3\n",
      "The count of digits in 397 is :3\n",
      "The count of digits in 398 is :3\n",
      "The count of digits in 399 is :3\n",
      "The count of digits in 400 is :3\n",
      "The count of digits in 401 is :3\n",
      "The count of digits in 402 is :3\n",
      "The count of digits in 403 is :3\n",
      "The count of digits in 404 is :3\n",
      "The count of digits in 405 is :3\n",
      "The count of digits in 406 is :3\n",
      "The count of digits in 407 is :3\n",
      "The count of digits in 408 is :3\n",
      "The count of digits in 409 is :3\n",
      "The count of digits in 410 is :3\n",
      "The count of digits in 411 is :3\n",
      "The count of digits in 412 is :3\n",
      "The count of digits in 413 is :3\n",
      "The count of digits in 414 is :3\n",
      "The count of digits in 415 is :3\n",
      "The count of digits in 416 is :3\n",
      "The count of digits in 417 is :3\n",
      "The count of digits in 418 is :3\n",
      "The count of digits in 419 is :3\n",
      "The count of digits in 420 is :3\n",
      "The count of digits in 421 is :3\n",
      "The count of digits in 422 is :3\n",
      "The count of digits in 423 is :3\n",
      "The count of digits in 424 is :3\n",
      "The count of digits in 425 is :3\n",
      "The count of digits in 426 is :3\n",
      "The count of digits in 427 is :3\n",
      "The count of digits in 428 is :3\n",
      "The count of digits in 429 is :3\n",
      "The count of digits in 430 is :3\n",
      "The count of digits in 431 is :3\n",
      "The count of digits in 432 is :3\n",
      "The count of digits in 433 is :3\n",
      "The count of digits in 434 is :3\n",
      "The count of digits in 435 is :3\n",
      "The count of digits in 436 is :3\n",
      "The count of digits in 437 is :3\n",
      "The count of digits in 438 is :3\n",
      "The count of digits in 439 is :3\n",
      "The count of digits in 440 is :3\n",
      "The count of digits in 441 is :3\n",
      "The count of digits in 442 is :3\n",
      "The count of digits in 443 is :3\n",
      "The count of digits in 444 is :3\n",
      "The count of digits in 445 is :3\n",
      "The count of digits in 446 is :3\n",
      "The count of digits in 447 is :3\n",
      "The count of digits in 448 is :3\n",
      "The count of digits in 449 is :3\n",
      "The count of digits in 450 is :3\n",
      "The count of digits in 451 is :3\n",
      "The count of digits in 452 is :3\n",
      "The count of digits in 453 is :3\n",
      "The count of digits in 454 is :3\n",
      "The count of digits in 455 is :3\n",
      "The count of digits in 456 is :3\n",
      "The count of digits in 457 is :3\n",
      "The count of digits in 458 is :3\n",
      "The count of digits in 459 is :3\n",
      "The count of digits in 460 is :3\n",
      "The count of digits in 461 is :3\n",
      "The count of digits in 462 is :3\n",
      "The count of digits in 463 is :3\n",
      "The count of digits in 464 is :3\n",
      "The count of digits in 465 is :3\n",
      "The count of digits in 466 is :3\n",
      "The count of digits in 467 is :3\n",
      "The count of digits in 468 is :3\n",
      "The count of digits in 469 is :3\n",
      "The count of digits in 470 is :3\n",
      "The count of digits in 471 is :3\n",
      "The count of digits in 472 is :3\n",
      "The count of digits in 473 is :3\n",
      "The count of digits in 474 is :3\n",
      "The count of digits in 475 is :3\n",
      "The count of digits in 476 is :3\n",
      "The count of digits in 477 is :3\n",
      "The count of digits in 478 is :3\n",
      "The count of digits in 479 is :3\n",
      "The count of digits in 480 is :3\n",
      "The count of digits in 481 is :3\n",
      "The count of digits in 482 is :3\n",
      "The count of digits in 483 is :3\n",
      "The count of digits in 484 is :3\n",
      "The count of digits in 485 is :3\n",
      "The count of digits in 486 is :3\n",
      "The count of digits in 487 is :3\n",
      "The count of digits in 488 is :3\n",
      "The count of digits in 489 is :3\n",
      "The count of digits in 490 is :3\n",
      "The count of digits in 491 is :3\n",
      "The count of digits in 492 is :3\n",
      "The count of digits in 493 is :3\n",
      "The count of digits in 494 is :3\n",
      "The count of digits in 495 is :3\n",
      "The count of digits in 496 is :3\n",
      "The count of digits in 497 is :3\n",
      "The count of digits in 498 is :3\n",
      "The count of digits in 499 is :3\n",
      "The count of digits in 500 is :3\n",
      "The count of digits in 501 is :3\n",
      "The count of digits in 502 is :3\n",
      "The count of digits in 503 is :3\n",
      "The count of digits in 504 is :3\n",
      "The count of digits in 505 is :3\n",
      "The count of digits in 506 is :3\n",
      "The count of digits in 507 is :3\n",
      "The count of digits in 508 is :3\n",
      "The count of digits in 509 is :3\n",
      "The count of digits in 510 is :3\n",
      "The count of digits in 511 is :3\n",
      "The count of digits in 512 is :3\n",
      "The count of digits in 513 is :3\n",
      "The count of digits in 514 is :3\n",
      "The count of digits in 515 is :3\n",
      "The count of digits in 516 is :3\n",
      "The count of digits in 517 is :3\n",
      "The count of digits in 518 is :3\n",
      "The count of digits in 519 is :3\n",
      "The count of digits in 520 is :3\n",
      "The count of digits in 521 is :3\n",
      "The count of digits in 522 is :3\n",
      "The count of digits in 523 is :3\n",
      "The count of digits in 524 is :3\n",
      "The count of digits in 525 is :3\n",
      "The count of digits in 526 is :3\n",
      "The count of digits in 527 is :3\n",
      "The count of digits in 528 is :3\n",
      "The count of digits in 529 is :3\n",
      "The count of digits in 530 is :3\n",
      "The count of digits in 531 is :3\n",
      "The count of digits in 532 is :3\n",
      "The count of digits in 533 is :3\n",
      "The count of digits in 534 is :3\n",
      "The count of digits in 535 is :3\n",
      "The count of digits in 536 is :3\n",
      "The count of digits in 537 is :3\n",
      "The count of digits in 538 is :3\n",
      "The count of digits in 539 is :3\n",
      "The count of digits in 540 is :3\n",
      "The count of digits in 541 is :3\n",
      "The count of digits in 542 is :3\n",
      "The count of digits in 543 is :3\n",
      "The count of digits in 544 is :3\n",
      "The count of digits in 545 is :3\n",
      "The count of digits in 546 is :3\n",
      "The count of digits in 547 is :3\n",
      "The count of digits in 548 is :3\n",
      "The count of digits in 549 is :3\n",
      "The count of digits in 550 is :3\n",
      "The count of digits in 551 is :3\n",
      "The count of digits in 552 is :3\n",
      "The count of digits in 553 is :3\n",
      "The count of digits in 554 is :3\n",
      "The count of digits in 555 is :3\n",
      "The count of digits in 556 is :3\n",
      "The count of digits in 557 is :3\n",
      "The count of digits in 558 is :3\n",
      "The count of digits in 559 is :3\n",
      "The count of digits in 560 is :3\n",
      "The count of digits in 561 is :3\n",
      "The count of digits in 562 is :3\n",
      "The count of digits in 563 is :3\n",
      "The count of digits in 564 is :3\n",
      "The count of digits in 565 is :3\n",
      "The count of digits in 566 is :3\n",
      "The count of digits in 567 is :3\n",
      "The count of digits in 568 is :3\n",
      "The count of digits in 569 is :3\n",
      "The count of digits in 570 is :3\n",
      "The count of digits in 571 is :3\n",
      "The count of digits in 572 is :3\n",
      "The count of digits in 573 is :3\n",
      "The count of digits in 574 is :3\n",
      "The count of digits in 575 is :3\n",
      "The count of digits in 576 is :3\n",
      "The count of digits in 577 is :3\n",
      "The count of digits in 578 is :3\n",
      "The count of digits in 579 is :3\n",
      "The count of digits in 580 is :3\n",
      "The count of digits in 581 is :3\n",
      "The count of digits in 582 is :3\n",
      "The count of digits in 583 is :3\n",
      "The count of digits in 584 is :3\n",
      "The count of digits in 585 is :3\n",
      "The count of digits in 586 is :3\n",
      "The count of digits in 587 is :3\n",
      "The count of digits in 588 is :3\n",
      "The count of digits in 589 is :3\n",
      "The count of digits in 590 is :3\n",
      "The count of digits in 591 is :3\n",
      "The count of digits in 592 is :3\n",
      "The count of digits in 593 is :3\n",
      "The count of digits in 594 is :3\n",
      "The count of digits in 595 is :3\n",
      "The count of digits in 596 is :3\n",
      "The count of digits in 597 is :3\n",
      "The count of digits in 598 is :3\n",
      "The count of digits in 599 is :3\n",
      "The count of digits in 600 is :3\n",
      "The count of digits in 601 is :3\n",
      "The count of digits in 602 is :3\n",
      "The count of digits in 603 is :3\n",
      "The count of digits in 604 is :3\n",
      "The count of digits in 605 is :3\n",
      "The count of digits in 606 is :3\n",
      "The count of digits in 607 is :3\n",
      "The count of digits in 608 is :3\n",
      "The count of digits in 609 is :3\n",
      "The count of digits in 610 is :3\n",
      "The count of digits in 611 is :3\n",
      "The count of digits in 612 is :3\n",
      "The count of digits in 613 is :3\n",
      "The count of digits in 614 is :3\n",
      "The count of digits in 615 is :3\n",
      "The count of digits in 616 is :3\n",
      "The count of digits in 617 is :3\n",
      "The count of digits in 618 is :3\n",
      "The count of digits in 619 is :3\n",
      "The count of digits in 620 is :3\n",
      "The count of digits in 621 is :3\n",
      "The count of digits in 622 is :3\n",
      "The count of digits in 623 is :3\n",
      "The count of digits in 624 is :3\n",
      "The count of digits in 625 is :3\n",
      "The count of digits in 626 is :3\n",
      "The count of digits in 627 is :3\n",
      "The count of digits in 628 is :3\n",
      "The count of digits in 629 is :3\n",
      "The count of digits in 630 is :3\n",
      "The count of digits in 631 is :3\n",
      "The count of digits in 632 is :3\n",
      "The count of digits in 633 is :3\n",
      "The count of digits in 634 is :3\n",
      "The count of digits in 635 is :3\n",
      "The count of digits in 636 is :3\n",
      "The count of digits in 637 is :3\n",
      "The count of digits in 638 is :3\n",
      "The count of digits in 639 is :3\n",
      "The count of digits in 640 is :3\n",
      "The count of digits in 641 is :3\n",
      "The count of digits in 642 is :3\n",
      "The count of digits in 643 is :3\n",
      "The count of digits in 644 is :3\n",
      "The count of digits in 645 is :3\n",
      "The count of digits in 646 is :3\n",
      "The count of digits in 647 is :3\n",
      "The count of digits in 648 is :3\n",
      "The count of digits in 649 is :3\n",
      "The count of digits in 650 is :3\n",
      "The count of digits in 651 is :3\n",
      "The count of digits in 652 is :3\n",
      "The count of digits in 653 is :3\n",
      "The count of digits in 654 is :3\n",
      "The count of digits in 655 is :3\n",
      "The count of digits in 656 is :3\n",
      "The count of digits in 657 is :3\n",
      "The count of digits in 658 is :3\n",
      "The count of digits in 659 is :3\n",
      "The count of digits in 660 is :3\n",
      "The count of digits in 661 is :3\n",
      "The count of digits in 662 is :3\n",
      "The count of digits in 663 is :3\n",
      "The count of digits in 664 is :3\n",
      "The count of digits in 665 is :3\n",
      "The count of digits in 666 is :3\n",
      "The count of digits in 667 is :3\n",
      "The count of digits in 668 is :3\n",
      "The count of digits in 669 is :3\n",
      "The count of digits in 670 is :3\n",
      "The count of digits in 671 is :3\n",
      "The count of digits in 672 is :3\n",
      "The count of digits in 673 is :3\n",
      "The count of digits in 674 is :3\n",
      "The count of digits in 675 is :3\n",
      "The count of digits in 676 is :3\n",
      "The count of digits in 677 is :3\n",
      "The count of digits in 678 is :3\n",
      "The count of digits in 679 is :3\n",
      "The count of digits in 680 is :3\n",
      "The count of digits in 681 is :3\n",
      "The count of digits in 682 is :3\n",
      "The count of digits in 683 is :3\n",
      "The count of digits in 684 is :3\n",
      "The count of digits in 685 is :3\n",
      "The count of digits in 686 is :3\n",
      "The count of digits in 687 is :3\n",
      "The count of digits in 688 is :3\n",
      "The count of digits in 689 is :3\n",
      "The count of digits in 690 is :3\n",
      "The count of digits in 691 is :3\n",
      "The count of digits in 692 is :3\n",
      "The count of digits in 693 is :3\n",
      "The count of digits in 694 is :3\n",
      "The count of digits in 695 is :3\n",
      "The count of digits in 696 is :3\n",
      "The count of digits in 697 is :3\n",
      "The count of digits in 698 is :3\n",
      "The count of digits in 699 is :3\n",
      "The count of digits in 700 is :3\n",
      "The count of digits in 701 is :3\n",
      "The count of digits in 702 is :3\n",
      "The count of digits in 703 is :3\n",
      "The count of digits in 704 is :3\n",
      "The count of digits in 705 is :3\n",
      "The count of digits in 706 is :3\n",
      "The count of digits in 707 is :3\n",
      "The count of digits in 708 is :3\n",
      "The count of digits in 709 is :3\n",
      "The count of digits in 710 is :3\n",
      "The count of digits in 711 is :3\n",
      "The count of digits in 712 is :3\n",
      "The count of digits in 713 is :3\n",
      "The count of digits in 714 is :3\n",
      "The count of digits in 715 is :3\n",
      "The count of digits in 716 is :3\n",
      "The count of digits in 717 is :3\n",
      "The count of digits in 718 is :3\n",
      "The count of digits in 719 is :3\n",
      "The count of digits in 720 is :3\n",
      "The count of digits in 721 is :3\n",
      "The count of digits in 722 is :3\n",
      "The count of digits in 723 is :3\n",
      "The count of digits in 724 is :3\n",
      "The count of digits in 725 is :3\n",
      "The count of digits in 726 is :3\n",
      "The count of digits in 727 is :3\n",
      "The count of digits in 728 is :3\n",
      "The count of digits in 729 is :3\n",
      "The count of digits in 730 is :3\n",
      "The count of digits in 731 is :3\n",
      "The count of digits in 732 is :3\n",
      "The count of digits in 733 is :3\n",
      "The count of digits in 734 is :3\n",
      "The count of digits in 735 is :3\n",
      "The count of digits in 736 is :3\n",
      "The count of digits in 737 is :3\n",
      "The count of digits in 738 is :3\n",
      "The count of digits in 739 is :3\n",
      "The count of digits in 740 is :3\n",
      "The count of digits in 741 is :3\n",
      "The count of digits in 742 is :3\n",
      "The count of digits in 743 is :3\n",
      "The count of digits in 744 is :3\n",
      "The count of digits in 745 is :3\n",
      "The count of digits in 746 is :3\n",
      "The count of digits in 747 is :3\n",
      "The count of digits in 748 is :3\n",
      "The count of digits in 749 is :3\n",
      "The count of digits in 750 is :3\n",
      "The count of digits in 751 is :3\n",
      "The count of digits in 752 is :3\n",
      "The count of digits in 753 is :3\n",
      "The count of digits in 754 is :3\n",
      "The count of digits in 755 is :3\n",
      "The count of digits in 756 is :3\n",
      "The count of digits in 757 is :3\n",
      "The count of digits in 758 is :3\n",
      "The count of digits in 759 is :3\n",
      "The count of digits in 760 is :3\n",
      "The count of digits in 761 is :3\n",
      "The count of digits in 762 is :3\n",
      "The count of digits in 763 is :3\n",
      "The count of digits in 764 is :3\n",
      "The count of digits in 765 is :3\n",
      "The count of digits in 766 is :3\n",
      "The count of digits in 767 is :3\n",
      "The count of digits in 768 is :3\n",
      "The count of digits in 769 is :3\n",
      "The count of digits in 770 is :3\n",
      "The count of digits in 771 is :3\n",
      "The count of digits in 772 is :3\n",
      "The count of digits in 773 is :3\n",
      "The count of digits in 774 is :3\n",
      "The count of digits in 775 is :3\n",
      "The count of digits in 776 is :3\n",
      "The count of digits in 777 is :3\n",
      "The count of digits in 778 is :3\n",
      "The count of digits in 779 is :3\n",
      "The count of digits in 780 is :3\n",
      "The count of digits in 781 is :3\n",
      "The count of digits in 782 is :3\n",
      "The count of digits in 783 is :3\n",
      "The count of digits in 784 is :3\n",
      "The count of digits in 785 is :3\n",
      "The count of digits in 786 is :3\n",
      "The count of digits in 787 is :3\n",
      "The count of digits in 788 is :3\n",
      "The count of digits in 789 is :3\n",
      "The count of digits in 790 is :3\n",
      "The count of digits in 791 is :3\n",
      "The count of digits in 792 is :3\n",
      "The count of digits in 793 is :3\n",
      "The count of digits in 794 is :3\n",
      "The count of digits in 795 is :3\n",
      "The count of digits in 796 is :3\n",
      "The count of digits in 797 is :3\n",
      "The count of digits in 798 is :3\n",
      "The count of digits in 799 is :3\n",
      "The count of digits in 800 is :3\n",
      "The count of digits in 801 is :3\n",
      "The count of digits in 802 is :3\n",
      "The count of digits in 803 is :3\n",
      "The count of digits in 804 is :3\n",
      "The count of digits in 805 is :3\n",
      "The count of digits in 806 is :3\n",
      "The count of digits in 807 is :3\n",
      "The count of digits in 808 is :3\n",
      "The count of digits in 809 is :3\n",
      "The count of digits in 810 is :3\n",
      "The count of digits in 811 is :3\n",
      "The count of digits in 812 is :3\n",
      "The count of digits in 813 is :3\n",
      "The count of digits in 814 is :3\n",
      "The count of digits in 815 is :3\n",
      "The count of digits in 816 is :3\n",
      "The count of digits in 817 is :3\n",
      "The count of digits in 818 is :3\n",
      "The count of digits in 819 is :3\n",
      "The count of digits in 820 is :3\n",
      "The count of digits in 821 is :3\n",
      "The count of digits in 822 is :3\n",
      "The count of digits in 823 is :3\n",
      "The count of digits in 824 is :3\n",
      "The count of digits in 825 is :3\n",
      "The count of digits in 826 is :3\n",
      "The count of digits in 827 is :3\n",
      "The count of digits in 828 is :3\n",
      "The count of digits in 829 is :3\n",
      "The count of digits in 830 is :3\n",
      "The count of digits in 831 is :3\n",
      "The count of digits in 832 is :3\n",
      "The count of digits in 833 is :3\n",
      "The count of digits in 834 is :3\n",
      "The count of digits in 835 is :3\n",
      "The count of digits in 836 is :3\n",
      "The count of digits in 837 is :3\n",
      "The count of digits in 838 is :3\n",
      "The count of digits in 839 is :3\n",
      "The count of digits in 840 is :3\n",
      "The count of digits in 841 is :3\n",
      "The count of digits in 842 is :3\n",
      "The count of digits in 843 is :3\n",
      "The count of digits in 844 is :3\n",
      "The count of digits in 845 is :3\n",
      "The count of digits in 846 is :3\n",
      "The count of digits in 847 is :3\n",
      "The count of digits in 848 is :3\n",
      "The count of digits in 849 is :3\n",
      "The count of digits in 850 is :3\n",
      "The count of digits in 851 is :3\n",
      "The count of digits in 852 is :3\n",
      "The count of digits in 853 is :3\n",
      "The count of digits in 854 is :3\n",
      "The count of digits in 855 is :3\n",
      "The count of digits in 856 is :3\n",
      "The count of digits in 857 is :3\n",
      "The count of digits in 858 is :3\n",
      "The count of digits in 859 is :3\n",
      "The count of digits in 860 is :3\n",
      "The count of digits in 861 is :3\n",
      "The count of digits in 862 is :3\n",
      "The count of digits in 863 is :3\n",
      "The count of digits in 864 is :3\n",
      "The count of digits in 865 is :3\n",
      "The count of digits in 866 is :3\n",
      "The count of digits in 867 is :3\n",
      "The count of digits in 868 is :3\n",
      "The count of digits in 869 is :3\n",
      "The count of digits in 870 is :3\n",
      "The count of digits in 871 is :3\n",
      "The count of digits in 872 is :3\n",
      "The count of digits in 873 is :3\n",
      "The count of digits in 874 is :3\n",
      "The count of digits in 875 is :3\n",
      "The count of digits in 876 is :3\n",
      "The count of digits in 877 is :3\n",
      "The count of digits in 878 is :3\n",
      "The count of digits in 879 is :3\n",
      "The count of digits in 880 is :3\n",
      "The count of digits in 881 is :3\n",
      "The count of digits in 882 is :3\n",
      "The count of digits in 883 is :3\n",
      "The count of digits in 884 is :3\n",
      "The count of digits in 885 is :3\n",
      "The count of digits in 886 is :3\n",
      "The count of digits in 887 is :3\n",
      "The count of digits in 888 is :3\n",
      "The count of digits in 889 is :3\n",
      "The count of digits in 890 is :3\n",
      "The count of digits in 891 is :3\n",
      "The count of digits in 892 is :3\n",
      "The count of digits in 893 is :3\n",
      "The count of digits in 894 is :3\n",
      "The count of digits in 895 is :3\n",
      "The count of digits in 896 is :3\n",
      "The count of digits in 897 is :3\n",
      "The count of digits in 898 is :3\n",
      "The count of digits in 899 is :3\n",
      "The count of digits in 900 is :3\n",
      "The count of digits in 901 is :3\n",
      "The count of digits in 902 is :3\n",
      "The count of digits in 903 is :3\n",
      "The count of digits in 904 is :3\n",
      "The count of digits in 905 is :3\n",
      "The count of digits in 906 is :3\n",
      "The count of digits in 907 is :3\n",
      "The count of digits in 908 is :3\n",
      "The count of digits in 909 is :3\n",
      "The count of digits in 910 is :3\n",
      "The count of digits in 911 is :3\n",
      "The count of digits in 912 is :3\n",
      "The count of digits in 913 is :3\n",
      "The count of digits in 914 is :3\n",
      "The count of digits in 915 is :3\n",
      "The count of digits in 916 is :3\n",
      "The count of digits in 917 is :3\n",
      "The count of digits in 918 is :3\n",
      "The count of digits in 919 is :3\n",
      "The count of digits in 920 is :3\n",
      "The count of digits in 921 is :3\n",
      "The count of digits in 922 is :3\n",
      "The count of digits in 923 is :3\n",
      "The count of digits in 924 is :3\n",
      "The count of digits in 925 is :3\n",
      "The count of digits in 926 is :3\n",
      "The count of digits in 927 is :3\n",
      "The count of digits in 928 is :3\n",
      "The count of digits in 929 is :3\n",
      "The count of digits in 930 is :3\n",
      "The count of digits in 931 is :3\n",
      "The count of digits in 932 is :3\n",
      "The count of digits in 933 is :3\n",
      "The count of digits in 934 is :3\n",
      "The count of digits in 935 is :3\n",
      "The count of digits in 936 is :3\n",
      "The count of digits in 937 is :3\n",
      "The count of digits in 938 is :3\n",
      "The count of digits in 939 is :3\n",
      "The count of digits in 940 is :3\n",
      "The count of digits in 941 is :3\n",
      "The count of digits in 942 is :3\n",
      "The count of digits in 943 is :3\n",
      "The count of digits in 944 is :3\n",
      "The count of digits in 945 is :3\n",
      "The count of digits in 946 is :3\n",
      "The count of digits in 947 is :3\n",
      "The count of digits in 948 is :3\n",
      "The count of digits in 949 is :3\n",
      "The count of digits in 950 is :3\n",
      "The count of digits in 951 is :3\n",
      "The count of digits in 952 is :3\n",
      "The count of digits in 953 is :3\n",
      "The count of digits in 954 is :3\n",
      "The count of digits in 955 is :3\n",
      "The count of digits in 956 is :3\n",
      "The count of digits in 957 is :3\n",
      "The count of digits in 958 is :3\n",
      "The count of digits in 959 is :3\n",
      "The count of digits in 960 is :3\n",
      "The count of digits in 961 is :3\n",
      "The count of digits in 962 is :3\n",
      "The count of digits in 963 is :3\n",
      "The count of digits in 964 is :3\n",
      "The count of digits in 965 is :3\n",
      "The count of digits in 966 is :3\n",
      "The count of digits in 967 is :3\n",
      "The count of digits in 968 is :3\n",
      "The count of digits in 969 is :3\n",
      "The count of digits in 970 is :3\n",
      "The count of digits in 971 is :3\n",
      "The count of digits in 972 is :3\n",
      "The count of digits in 973 is :3\n",
      "The count of digits in 974 is :3\n",
      "The count of digits in 975 is :3\n",
      "The count of digits in 976 is :3\n",
      "The count of digits in 977 is :3\n",
      "The count of digits in 978 is :3\n",
      "The count of digits in 979 is :3\n",
      "The count of digits in 980 is :3\n",
      "The count of digits in 981 is :3\n",
      "The count of digits in 982 is :3\n",
      "The count of digits in 983 is :3\n",
      "The count of digits in 984 is :3\n",
      "The count of digits in 985 is :3\n",
      "The count of digits in 986 is :3\n",
      "The count of digits in 987 is :3\n",
      "The count of digits in 988 is :3\n",
      "The count of digits in 989 is :3\n",
      "The count of digits in 990 is :3\n",
      "The count of digits in 991 is :3\n",
      "The count of digits in 992 is :3\n",
      "The count of digits in 993 is :3\n",
      "The count of digits in 994 is :3\n",
      "The count of digits in 995 is :3\n",
      "The count of digits in 996 is :3\n",
      "The count of digits in 997 is :3\n",
      "The count of digits in 998 is :3\n",
      "The count of digits in 999 is :3\n",
      "The count of digits in 1000 is :4\n",
      "Total digits count is :2893\n"
     ]
    }
   ],
   "source": [
    "# 39. Develop a program that calculates the sum of the digits of numbers from 1 to 1000 using list comprehension\n",
    "b=0\n",
    "for i in range(1,1001):\n",
    "    a=len(list(x for x in str(i)))\n",
    "    print(f\"The count of digits in {i} is :{a}\")\n",
    "    b+=a\n",
    "print(f\"Total digits count is :{b}\")\n",
    "    "
   ]
  },
  {
   "cell_type": "code",
   "execution_count": 42,
   "id": "f783fe0f-485a-4688-91cb-f2158fc4609c",
   "metadata": {},
   "outputs": [
    {
     "name": "stdin",
     "output_type": "stream",
     "text": [
      "Enter a limit 10000\n"
     ]
    },
    {
     "name": "stdout",
     "output_type": "stream",
     "text": [
      "[2, 3, 5, 7, 11, 13, 17, 19, 23, 29, 31, 37, 41, 43, 47, 53, 59, 61, 67, 71, 73, 79, 83, 89, 97, 101, 103, 107, 109, 113, 127, 131, 137, 139, 149, 151, 157, 163, 167, 173, 179, 181, 191, 193, 197, 199, 211, 223, 227, 229, 233, 239, 241, 251, 257, 263, 269, 271, 277, 281, 283, 293, 307, 311, 313, 317, 331, 337, 347, 349, 353, 359, 367, 373, 379, 383, 389, 397, 401, 409, 419, 421, 431, 433, 439, 443, 449, 457, 461, 463, 467, 479, 487, 491, 499, 503, 509, 521, 523, 541, 547, 557, 563, 569, 571, 577, 587, 593, 599, 601, 607, 613, 617, 619, 631, 641, 643, 647, 653, 659, 661, 673, 677, 683, 691, 701, 709, 719, 727, 733, 739, 743, 751, 757, 761, 769, 773, 787, 797, 809, 811, 821, 823, 827, 829, 839, 853, 857, 859, 863, 877, 881, 883, 887, 907, 911, 919, 929, 937, 941, 947, 953, 967, 971, 977, 983, 991, 997, 1009, 1013, 1019, 1021, 1031, 1033, 1039, 1049, 1051, 1061, 1063, 1069, 1087, 1091, 1093, 1097, 1103, 1109, 1117, 1123, 1129, 1151, 1153, 1163, 1171, 1181, 1187, 1193, 1201, 1213, 1217, 1223, 1229, 1231, 1237, 1249, 1259, 1277, 1279, 1283, 1289, 1291, 1297, 1301, 1303, 1307, 1319, 1321, 1327, 1361, 1367, 1373, 1381, 1399, 1409, 1423, 1427, 1429, 1433, 1439, 1447, 1451, 1453, 1459, 1471, 1481, 1483, 1487, 1489, 1493, 1499, 1511, 1523, 1531, 1543, 1549, 1553, 1559, 1567, 1571, 1579, 1583, 1597, 1601, 1607, 1609, 1613, 1619, 1621, 1627, 1637, 1657, 1663, 1667, 1669, 1693, 1697, 1699, 1709, 1721, 1723, 1733, 1741, 1747, 1753, 1759, 1777, 1783, 1787, 1789, 1801, 1811, 1823, 1831, 1847, 1861, 1867, 1871, 1873, 1877, 1879, 1889, 1901, 1907, 1913, 1931, 1933, 1949, 1951, 1973, 1979, 1987, 1993, 1997, 1999, 2003, 2011, 2017, 2027, 2029, 2039, 2053, 2063, 2069, 2081, 2083, 2087, 2089, 2099, 2111, 2113, 2129, 2131, 2137, 2141, 2143, 2153, 2161, 2179, 2203, 2207, 2213, 2221, 2237, 2239, 2243, 2251, 2267, 2269, 2273, 2281, 2287, 2293, 2297, 2309, 2311, 2333, 2339, 2341, 2347, 2351, 2357, 2371, 2377, 2381, 2383, 2389, 2393, 2399, 2411, 2417, 2423, 2437, 2441, 2447, 2459, 2467, 2473, 2477, 2503, 2521, 2531, 2539, 2543, 2549, 2551, 2557, 2579, 2591, 2593, 2609, 2617, 2621, 2633, 2647, 2657, 2659, 2663, 2671, 2677, 2683, 2687, 2689, 2693, 2699, 2707, 2711, 2713, 2719, 2729, 2731, 2741, 2749, 2753, 2767, 2777, 2789, 2791, 2797, 2801, 2803, 2819, 2833, 2837, 2843, 2851, 2857, 2861, 2879, 2887, 2897, 2903, 2909, 2917, 2927, 2939, 2953, 2957, 2963, 2969, 2971, 2999, 3001, 3011, 3019, 3023, 3037, 3041, 3049, 3061, 3067, 3079, 3083, 3089, 3109, 3119, 3121, 3137, 3163, 3167, 3169, 3181, 3187, 3191, 3203, 3209, 3217, 3221, 3229, 3251, 3253, 3257, 3259, 3271, 3299, 3301, 3307, 3313, 3319, 3323, 3329, 3331, 3343, 3347, 3359, 3361, 3371, 3373, 3389, 3391, 3407, 3413, 3433, 3449, 3457, 3461, 3463, 3467, 3469, 3491, 3499, 3511, 3517, 3527, 3529, 3533, 3539, 3541, 3547, 3557, 3559, 3571, 3581, 3583, 3593, 3607, 3613, 3617, 3623, 3631, 3637, 3643, 3659, 3671, 3673, 3677, 3691, 3697, 3701, 3709, 3719, 3727, 3733, 3739, 3761, 3767, 3769, 3779, 3793, 3797, 3803, 3821, 3823, 3833, 3847, 3851, 3853, 3863, 3877, 3881, 3889, 3907, 3911, 3917, 3919, 3923, 3929, 3931, 3943, 3947, 3967, 3989, 4001, 4003, 4007, 4013, 4019, 4021, 4027, 4049, 4051, 4057, 4073, 4079, 4091, 4093, 4099, 4111, 4127, 4129, 4133, 4139, 4153, 4157, 4159, 4177, 4201, 4211, 4217, 4219, 4229, 4231, 4241, 4243, 4253, 4259, 4261, 4271, 4273, 4283, 4289, 4297, 4327, 4337, 4339, 4349, 4357, 4363, 4373, 4391, 4397, 4409, 4421, 4423, 4441, 4447, 4451, 4457, 4463, 4481, 4483, 4493, 4507, 4513, 4517, 4519, 4523, 4547, 4549, 4561, 4567, 4583, 4591, 4597, 4603, 4621, 4637, 4639, 4643, 4649, 4651, 4657, 4663, 4673, 4679, 4691, 4703, 4721, 4723, 4729, 4733, 4751, 4759, 4783, 4787, 4789, 4793, 4799, 4801, 4813, 4817, 4831, 4861, 4871, 4877, 4889, 4903, 4909, 4919, 4931, 4933, 4937, 4943, 4951, 4957, 4967, 4969, 4973, 4987, 4993, 4999, 5003, 5009, 5011, 5021, 5023, 5039, 5051, 5059, 5077, 5081, 5087, 5099, 5101, 5107, 5113, 5119, 5147, 5153, 5167, 5171, 5179, 5189, 5197, 5209, 5227, 5231, 5233, 5237, 5261, 5273, 5279, 5281, 5297, 5303, 5309, 5323, 5333, 5347, 5351, 5381, 5387, 5393, 5399, 5407, 5413, 5417, 5419, 5431, 5437, 5441, 5443, 5449, 5471, 5477, 5479, 5483, 5501, 5503, 5507, 5519, 5521, 5527, 5531, 5557, 5563, 5569, 5573, 5581, 5591, 5623, 5639, 5641, 5647, 5651, 5653, 5657, 5659, 5669, 5683, 5689, 5693, 5701, 5711, 5717, 5737, 5741, 5743, 5749, 5779, 5783, 5791, 5801, 5807, 5813, 5821, 5827, 5839, 5843, 5849, 5851, 5857, 5861, 5867, 5869, 5879, 5881, 5897, 5903, 5923, 5927, 5939, 5953, 5981, 5987, 6007, 6011, 6029, 6037, 6043, 6047, 6053, 6067, 6073, 6079, 6089, 6091, 6101, 6113, 6121, 6131, 6133, 6143, 6151, 6163, 6173, 6197, 6199, 6203, 6211, 6217, 6221, 6229, 6247, 6257, 6263, 6269, 6271, 6277, 6287, 6299, 6301, 6311, 6317, 6323, 6329, 6337, 6343, 6353, 6359, 6361, 6367, 6373, 6379, 6389, 6397, 6421, 6427, 6449, 6451, 6469, 6473, 6481, 6491, 6521, 6529, 6547, 6551, 6553, 6563, 6569, 6571, 6577, 6581, 6599, 6607, 6619, 6637, 6653, 6659, 6661, 6673, 6679, 6689, 6691, 6701, 6703, 6709, 6719, 6733, 6737, 6761, 6763, 6779, 6781, 6791, 6793, 6803, 6823, 6827, 6829, 6833, 6841, 6857, 6863, 6869, 6871, 6883, 6899, 6907, 6911, 6917, 6947, 6949, 6959, 6961, 6967, 6971, 6977, 6983, 6991, 6997, 7001, 7013, 7019, 7027, 7039, 7043, 7057, 7069, 7079, 7103, 7109, 7121, 7127, 7129, 7151, 7159, 7177, 7187, 7193, 7207, 7211, 7213, 7219, 7229, 7237, 7243, 7247, 7253, 7283, 7297, 7307, 7309, 7321, 7331, 7333, 7349, 7351, 7369, 7393, 7411, 7417, 7433, 7451, 7457, 7459, 7477, 7481, 7487, 7489, 7499, 7507, 7517, 7523, 7529, 7537, 7541, 7547, 7549, 7559, 7561, 7573, 7577, 7583, 7589, 7591, 7603, 7607, 7621, 7639, 7643, 7649, 7669, 7673, 7681, 7687, 7691, 7699, 7703, 7717, 7723, 7727, 7741, 7753, 7757, 7759, 7789, 7793, 7817, 7823, 7829, 7841, 7853, 7867, 7873, 7877, 7879, 7883, 7901, 7907, 7919, 7927, 7933, 7937, 7949, 7951, 7963, 7993, 8009, 8011, 8017, 8039, 8053, 8059, 8069, 8081, 8087, 8089, 8093, 8101, 8111, 8117, 8123, 8147, 8161, 8167, 8171, 8179, 8191, 8209, 8219, 8221, 8231, 8233, 8237, 8243, 8263, 8269, 8273, 8287, 8291, 8293, 8297, 8311, 8317, 8329, 8353, 8363, 8369, 8377, 8387, 8389, 8419, 8423, 8429, 8431, 8443, 8447, 8461, 8467, 8501, 8513, 8521, 8527, 8537, 8539, 8543, 8563, 8573, 8581, 8597, 8599, 8609, 8623, 8627, 8629, 8641, 8647, 8663, 8669, 8677, 8681, 8689, 8693, 8699, 8707, 8713, 8719, 8731, 8737, 8741, 8747, 8753, 8761, 8779, 8783, 8803, 8807, 8819, 8821, 8831, 8837, 8839, 8849, 8861, 8863, 8867, 8887, 8893, 8923, 8929, 8933, 8941, 8951, 8963, 8969, 8971, 8999, 9001, 9007, 9011, 9013, 9029, 9041, 9043, 9049, 9059, 9067, 9091, 9103, 9109, 9127, 9133, 9137, 9151, 9157, 9161, 9173, 9181, 9187, 9199, 9203, 9209, 9221, 9227, 9239, 9241, 9257, 9277, 9281, 9283, 9293, 9311, 9319, 9323, 9337, 9341, 9343, 9349, 9371, 9377, 9391, 9397, 9403, 9413, 9419, 9421, 9431, 9433, 9437, 9439, 9461, 9463, 9467, 9473, 9479, 9491, 9497, 9511, 9521, 9533, 9539, 9547, 9551, 9587, 9601, 9613, 9619, 9623, 9629, 9631, 9643, 9649, 9661, 9677, 9679, 9689, 9697, 9719, 9721, 9733, 9739, 9743, 9749, 9767, 9769, 9781, 9787, 9791, 9803, 9811, 9817, 9829, 9833, 9839, 9851, 9857, 9859, 9871, 9883, 9887, 9901, 9907, 9923, 9929, 9931, 9941, 9949, 9967, 9973]\n",
      "The palindrome prime numbers are : [2, 3, 5, 7, 11, 101, 131, 151, 181, 191, 313, 353, 373, 383, 727, 757, 787, 797, 919, 929]\n"
     ]
    }
   ],
   "source": [
    "# 40. Write a program that generates a list of prime palindromic numbers using list comprehension\n",
    "n=int(input(\"Enter a limit\"))\n",
    "l=list(x for x in range(2,n+1))\n",
    "i=2\n",
    "while i<=int(n**0.5):\n",
    "    if i in l:\n",
    "        for j in l:\n",
    "            if j%i==0 and j!=i:\n",
    "                l.remove(j)\n",
    "    i+=1\n",
    "print(l)\n",
    "res=[]\n",
    "pal=list(x for x in l if str(x)==str(x)[::-1])\n",
    "if len(pal)>0:\n",
    "    print(f\"The palindrome prime numbers are : {pal}\")\n",
    "else:\n",
    "    print(\"No such number occurs\")"
   ]
  },
  {
   "cell_type": "code",
   "execution_count": null,
   "id": "90d80b3b-a4e1-4ba1-821f-2130666662d5",
   "metadata": {},
   "outputs": [],
   "source": []
  }
 ],
 "metadata": {
  "kernelspec": {
   "display_name": "Python 3 (ipykernel)",
   "language": "python",
   "name": "python3"
  },
  "language_info": {
   "codemirror_mode": {
    "name": "ipython",
    "version": 3
   },
   "file_extension": ".py",
   "mimetype": "text/x-python",
   "name": "python",
   "nbconvert_exporter": "python",
   "pygments_lexer": "ipython3",
   "version": "3.10.8"
  }
 },
 "nbformat": 4,
 "nbformat_minor": 5
}
