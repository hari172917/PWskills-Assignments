{
 "cells": [
  {
   "cell_type": "code",
   "execution_count": 26,
   "id": "b1f6d33e-012f-4fe9-89d0-f569a75517ac",
   "metadata": {},
   "outputs": [],
   "source": [
    "# Problem 1: Bank Account Create a class representing a bank account with attributes like account number, account holder name, and balance. Implement methods to deposit and withdraw money from the account.\n",
    "class Bank_acc:\n",
    "    def __init__(self,acc_num,h_name,bal):\n",
    "        self.acc_num=acc_num\n",
    "        self.h_name=h_name\n",
    "        self.bal=bal\n",
    "    def depo(self,amt):\n",
    "        self.bal+=amt\n",
    "        return f\"Amount deposited and the balance is {self.bal}\"\n",
    "    def withdraw(self,amt):\n",
    "        self.bal-=amt\n",
    "        print(self.bal)\n",
    "        if self.bal>=0:\n",
    "            return f\"Amount withdraw successfully and balance is {self.bal}\"\n",
    "        else:\n",
    "            return \"Can't withdraw more than the balance\"\n",
    "x=Bank_acc(123,\"hari\",5000)\n",
    "\n",
    "    "
   ]
  },
  {
   "cell_type": "code",
   "execution_count": 27,
   "id": "08752255-8167-4884-9a4b-c5994c09ddc8",
   "metadata": {},
   "outputs": [
    {
     "data": {
      "text/plain": [
       "'Amount deposited and the balance is 5500'"
      ]
     },
     "execution_count": 27,
     "metadata": {},
     "output_type": "execute_result"
    }
   ],
   "source": [
    "x.depo(500)"
   ]
  },
  {
   "cell_type": "code",
   "execution_count": 28,
   "id": "07751271-83e0-4257-9dec-f8ba6b3ee464",
   "metadata": {},
   "outputs": [
    {
     "name": "stdout",
     "output_type": "stream",
     "text": [
      "100\n"
     ]
    },
    {
     "data": {
      "text/plain": [
       "'Amount withdraw successfully and balance is 100'"
      ]
     },
     "execution_count": 28,
     "metadata": {},
     "output_type": "execute_result"
    }
   ],
   "source": [
    "x.withdraw(5400)"
   ]
  },
  {
   "cell_type": "code",
   "execution_count": 38,
   "id": "884437ef-8d73-4026-af7a-a92d68944077",
   "metadata": {},
   "outputs": [
    {
     "name": "stdout",
     "output_type": "stream",
     "text": [
      "Bonus amount is 20000.0\n",
      "The salary will be 120000.0 for every year\n",
      "The details of the employee are :\n",
      "Employee ID : 101\n",
      "Employee Salary : 100000\n",
      "Employee Name : Hari\n"
     ]
    }
   ],
   "source": [
    "# Problem 2: Employee Management Create a class representing an employee with attributes like employee ID, name, and salary. Implement methods to calculate the yearly bonus and display employee details.\n",
    "class employee:\n",
    "    def __init__(self,emp_id,name,salary):\n",
    "        self.emp_id=emp_id\n",
    "        self.name=name\n",
    "        self.salary=salary\n",
    "    def bonus(self,bonus_per):\n",
    "        self.bonus_per=bonus_per\n",
    "        self.bonus=(self.bonus_per/100)*self.salary\n",
    "        print(f\"Bonus amount is {self.bonus}\")\n",
    "        print(f\"The salary will be {self.salary+self.bonus} for every year\")\n",
    "    def details(self):\n",
    "        print(\"The details of the employee are :\")\n",
    "        print(\"Employee ID :\",self.emp_id)\n",
    "        print(\"Employee Salary :\",self.salary)\n",
    "        print(\"Employee Name :\",self.name)\n",
    "        \n",
    "x=employee(101,\"Hari\",100000)\n",
    "x.bonus(20)\n",
    "x.details()"
   ]
  },
  {
   "cell_type": "code",
   "execution_count": 2,
   "id": "af028ec5-02ae-4d3f-898c-c0a68e93918b",
   "metadata": {},
   "outputs": [
    {
     "name": "stdout",
     "output_type": "stream",
     "text": [
      "The Vehicle c101 of type car is added successfully \n",
      "The Vehicle c102 of type car is added successfully \n",
      "The Vehicle c103 of type car is added successfully \n",
      "The Vehicle b101 of type bike is added successfully \n",
      "The Vehicle b102 of type bike is added successfully \n",
      "The Vehicle b103 of type bike is added successfully \n"
     ]
    }
   ],
   "source": [
    "# Problem 3: Vehicle Rental Create a class representing a vehicle rental system. Implement methods to rent a vehicle, return a vehicle, and display available vehicles.\n",
    "class rent:\n",
    "    def __init__(self):\n",
    "        self.available_vehicles={}\n",
    "    def rent(self,vehicle_type,vehicle_id):\n",
    "        if vehicle_type in self.available_vehicles and vehicle_id in self.available_vehicles[vehicle_type]:\n",
    "            self.available_vehicles[vehicle_type][vehicle_id]=False\n",
    "            print(f\"The vehicle {vehicle_type} of {vehicle_id} is rented successfully \")\n",
    "            \n",
    "        else:\n",
    "            print(\"The vehicle is not available\")\n",
    "    def return_vehicle(self,vehicle_type,vehicle_id):\n",
    "        if vehicle_type in self.available_vehicles and vehicle_id in self.available_vehicles[vehicle_type]:\n",
    "            self.available_vehicles[vehicle_type][vehicle_id]=True\n",
    "            print(f\"Thanks to return the vehicle {vehicle_id} of type {vehicle_type}\")\n",
    "        else:\n",
    "            print(f\"Invalid vehicle {vehicle_id} of type {vehicle_type}\")\n",
    "    def display_vehicles(self):\n",
    "        for vehicle_type,vehicles in self.available_vehicles.items():\n",
    "            print(vehicle_type)\n",
    "            for vehicle_id,free in vehicles.items():\n",
    "                if free:\n",
    "                    print(vehicle_id)\n",
    "                    \n",
    "                else:\n",
    "                    pass\n",
    "    \n",
    "    def add_vehicle(self,vehicle_type,vehicle_id):\n",
    "        if vehicle_type not in self.available_vehicles:\n",
    "            self.available_vehicles[vehicle_type]={}\n",
    "        self.available_vehicles[vehicle_type][vehicle_id]=True\n",
    "        print(f\"The Vehicle {vehicle_id} of type {vehicle_type} is added successfully \")\n",
    "hi=rent()\n",
    "hi.add_vehicle(\"car\",\"c101\")\n",
    "hi.add_vehicle(\"car\",\"c102\")\n",
    "hi.add_vehicle(\"car\",\"c103\")\n",
    "hi.add_vehicle(\"bike\",\"b101\")\n",
    "hi.add_vehicle(\"bike\",\"b102\")\n",
    "hi.add_vehicle(\"bike\",\"b103\")\n",
    "\n"
   ]
  },
  {
   "cell_type": "code",
   "execution_count": 3,
   "id": "be339e9d-abdc-43c8-b70e-448bbcb8c90a",
   "metadata": {},
   "outputs": [
    {
     "name": "stdout",
     "output_type": "stream",
     "text": [
      "The vehicle bike of b102 is rented successfully \n"
     ]
    }
   ],
   "source": [
    "hi.rent(\"bike\",\"b102\")"
   ]
  },
  {
   "cell_type": "code",
   "execution_count": 4,
   "id": "f059172e-253b-4cf9-b192-cdce548e42cf",
   "metadata": {},
   "outputs": [
    {
     "name": "stdout",
     "output_type": "stream",
     "text": [
      "car\n",
      "c101\n",
      "c102\n",
      "c103\n",
      "bike\n",
      "b101\n",
      "b103\n",
      "Invalid vehicle j101 of type jeep\n"
     ]
    }
   ],
   "source": [
    "hi.display_vehicles()\n",
    "hi.return_vehicle(\"jeep\",\"j101\")"
   ]
  },
  {
   "cell_type": "code",
   "execution_count": 40,
   "id": "807525bf-670a-4665-9f1f-e393e7c5527a",
   "metadata": {},
   "outputs": [],
   "source": [
    "# Problem 4: Library Catalog Create classes representing a library and a book. Implement methods to add books to the library, borrow books, and display available books.\n",
    "class lib:\n",
    "    def __init__(self):\n",
    "        self.available_books={}\n",
    "    def add_books(self,book_type,book_name):\n",
    "        if book_type not in self.available_books:\n",
    "            self.available_books[book_type]={}\n",
    "        self.available_books[book_type][book_name]=True\n",
    "        print(f\"{book_name} added successfully \")\n",
    "    def borrow_books(self,book_type,book_name):\n",
    "        if book_type in self.available_books and book_name in self.available_books[book_type]:\n",
    "            self.available_books[book_type][book_name]=False\n",
    "            print(f\"You have picked {book_name} in {book_type} type successfully\")\n",
    "        elif book_type in self.available_books and book_name not in  self.available_books[book_type]:\n",
    "            print(f\"The book in {book_type} is not available and select to another book\")\n",
    "        else:\n",
    "            print(f\"There is no book in {book_type} type \")\n",
    "            print(\"Please select one from below :\")\n",
    "            for bk_type,books in self.available_books.items():\n",
    "                print(f\"{bk_type} :\")\n",
    "                for book_names,free in books.items():\n",
    "                        print(book_names)\n",
    "    def display_books(self):\n",
    "        for bk_type,books in self.available_books.items():\n",
    "            print(f\"{bk_type} :\")\n",
    "            for book_names,free in books.items():\n",
    "                if free:\n",
    "                    print(book_names)\n",
    "\n",
    "            "
   ]
  },
  {
   "cell_type": "code",
   "execution_count": 41,
   "id": "64bda00b-ecff-4b14-82bd-930c3361e9c3",
   "metadata": {},
   "outputs": [
    {
     "name": "stdout",
     "output_type": "stream",
     "text": [
      "Information Technology added successfully \n",
      "AIDS added successfully \n",
      "CSE added successfully \n",
      "ECE added successfully \n",
      "EEE added successfully \n",
      "MECH added successfully \n",
      "Cindrella and her adventures added successfully \n",
      "Joseph and Killer added successfully \n",
      "Cristopher Nolan added successfully \n",
      "Hari and his life added successfully \n",
      "Praveen and his life added successfully \n",
      "Mansa Musa and his loot added successfully \n"
     ]
    }
   ],
   "source": [
    "hari=lib()\n",
    "hari.add_books(\"Technical\",\"Information Technology\")\n",
    "hari.add_books(\"Technical\",\"AIDS\")\n",
    "hari.add_books(\"Technical\",\"CSE\")\n",
    "hari.add_books(\"Technical\",\"ECE\")\n",
    "hari.add_books(\"Technical\",\"EEE\")\n",
    "hari.add_books(\"Technical\",\"MECH\")\n",
    "hari.add_books(\"Non Technical\",\"Cindrella and her adventures\")\n",
    "hari.add_books(\"Non Technical\",\"Joseph and Killer\")\n",
    "hari.add_books(\"Non Technical\",\"Cristopher Nolan\")\n",
    "hari.add_books(\"Non Technical\",\"Hari and his life\")\n",
    "hari.add_books(\"Non Technical\",\"Praveen and his life\")\n",
    "hari.add_books(\"Non Technical\",\"Mansa Musa and his loot\")\n",
    "\n"
   ]
  },
  {
   "cell_type": "code",
   "execution_count": 42,
   "id": "15479fbd-1f0d-41d0-b946-cb610e0c39db",
   "metadata": {},
   "outputs": [
    {
     "name": "stdout",
     "output_type": "stream",
     "text": [
      "You have picked CSE in Technical type successfully\n"
     ]
    }
   ],
   "source": [
    "hari.borrow_books(\"Technical\",\"CSE\")"
   ]
  },
  {
   "cell_type": "code",
   "execution_count": 43,
   "id": "7a3ef86b-7a15-46a2-9c09-8cad6b61c219",
   "metadata": {},
   "outputs": [
    {
     "name": "stdout",
     "output_type": "stream",
     "text": [
      "Technical :\n",
      "Information Technology\n",
      "AIDS\n",
      "ECE\n",
      "EEE\n",
      "MECH\n",
      "Non Technical :\n",
      "Cindrella and her adventures\n",
      "Joseph and Killer\n",
      "Cristopher Nolan\n",
      "Hari and his life\n",
      "Praveen and his life\n",
      "Mansa Musa and his loot\n"
     ]
    }
   ],
   "source": [
    "hari.display_books()"
   ]
  },
  {
   "cell_type": "code",
   "execution_count": 44,
   "id": "51a4c31d-af5e-4638-b267-502e5c6485dd",
   "metadata": {},
   "outputs": [
    {
     "name": "stdout",
     "output_type": "stream",
     "text": [
      "There is no book in Story type \n",
      "Please select one from below :\n",
      "Technical :\n",
      "Information Technology\n",
      "AIDS\n",
      "CSE\n",
      "ECE\n",
      "EEE\n",
      "MECH\n",
      "Non Technical :\n",
      "Cindrella and her adventures\n",
      "Joseph and Killer\n",
      "Cristopher Nolan\n",
      "Hari and his life\n",
      "Praveen and his life\n",
      "Mansa Musa and his loot\n"
     ]
    }
   ],
   "source": [
    "hari.borrow_books(\"Story\",\"Princess\")"
   ]
  },
  {
   "cell_type": "code",
   "execution_count": 74,
   "id": "65594ded-d489-47d0-9d72-6a93bb35296a",
   "metadata": {},
   "outputs": [],
   "source": [
    "# Problem 5: Product Inventory Create classes representing a product and an inventory system. Implement methods to add products to the inventory, update product quantity, and display available products.\n",
    "class product_inventory:\n",
    "    def __init__(self):\n",
    "        self.available_products={}\n",
    "    def add_product(self,pro_name,pro_count):\n",
    "        if pro_name not in self.available_products:\n",
    "            self.available_products[pro_name]=[]\n",
    "        self.available_products[pro_name].append(pro_count)\n",
    "        print(f\"{pro_count}  {pro_name} added successfully \")\n",
    "# Here I written a function for both product update and product display \n",
    "    def update_product(self):\n",
    "        for names,count in self.available_products.items():\n",
    "            print(f\"{names} : {sum(count)}\")\n",
    "       "
   ]
  },
  {
   "cell_type": "code",
   "execution_count": 79,
   "id": "e64250a5-c266-4df9-818b-c4d7c52705a1",
   "metadata": {},
   "outputs": [
    {
     "name": "stdout",
     "output_type": "stream",
     "text": [
      "10  Apple added successfully \n",
      "20  Banana added successfully \n",
      "10  Apple added successfully \n",
      "10  Apple added successfully \n",
      "20  Banana added successfully \n",
      "5  Apple added successfully \n",
      "15  Orange added successfully \n",
      "12  Mango added successfully \n",
      "8  Grapes added successfully \n"
     ]
    }
   ],
   "source": [
    "inventory = product_inventory()\n",
    "inventory.add_product(\"Apple\", 10)\n",
    "inventory.add_product(\"Banana\", 20)\n",
    "inventory.add_product(\"Apple\", 10)\n",
    "inventory.add_product(\"Apple\", 10)\n",
    "inventory.add_product(\"Banana\", 20)\n",
    "inventory.add_product(\"Apple\", 5)\n",
    "inventory.add_product(\"Orange\", 15)\n",
    "inventory.add_product(\"Mango\", 12)\n",
    "inventory.add_product(\"Grapes\", 8)\n",
    "\n"
   ]
  },
  {
   "cell_type": "code",
   "execution_count": 80,
   "id": "d4bd1b2a-7524-487f-800d-4fedf2106008",
   "metadata": {},
   "outputs": [
    {
     "name": "stdout",
     "output_type": "stream",
     "text": [
      "Apple : 35\n",
      "Banana : 40\n",
      "Orange : 15\n",
      "Mango : 12\n",
      "Grapes : 8\n"
     ]
    }
   ],
   "source": [
    "inventory.update_product()"
   ]
  },
  {
   "cell_type": "code",
   "execution_count": 14,
   "id": "ef4c463c-b5d4-4e50-8fd0-5c3ff8fdb1f5",
   "metadata": {},
   "outputs": [],
   "source": [
    "# Problem 6: Shape Calculation Create a class representing a shape with attributes like length, width, and height. Implement methods to calculate the area and perimeter of the shape.\n",
    "class Shape:\n",
    "    def __init__(self,length,width,height):\n",
    "        self.l=length\n",
    "        self.w=width\n",
    "        self.h=height\n",
    "class Triangle(Shape):\n",
    "    def Area(self):\n",
    "        s = int((self.l + self.w + self.h) / 2)\n",
    "        print(f\"The Area of Triangle is {(s * (s - self.l) * (s - self.w) * (s - self.h)) ** 0.5}\")\n",
    "    def Perimeter(self):\n",
    "        print(f\"The perimeter of Triangle is {self.l+self.w+self.h}\")\n",
    "class Rectangle(Shape):\n",
    "    def Area(self):\n",
    "        print(f\"The area of rectangle is {self.l*self.w}\")\n",
    "    def Perimeter(self):\n",
    "        print(f\"The perimeter of rectangle is {2*self.l+2*self.w}\")\n",
    "\n",
    "        \n",
    "            \n",
    "        \n",
    "        "
   ]
  },
  {
   "cell_type": "code",
   "execution_count": 15,
   "id": "026a207c-7763-47cb-a6d8-0f4d6e97e7c2",
   "metadata": {},
   "outputs": [
    {
     "name": "stdout",
     "output_type": "stream",
     "text": [
      "The area of rectangle is 12\n",
      "The perimeter of rectangle is 14\n",
      "None None\n"
     ]
    }
   ],
   "source": [
    "h=Rectangle(3,4,0)\n",
    "print(h.Area(),h.Perimeter())"
   ]
  },
  {
   "cell_type": "code",
   "execution_count": 16,
   "id": "7cd2ffe7-a653-482b-952f-469802781745",
   "metadata": {},
   "outputs": [
    {
     "name": "stdout",
     "output_type": "stream",
     "text": [
      "The Area of Triangle is 6.0\n",
      "The perimeter of Triangle is 12\n",
      "None None\n"
     ]
    }
   ],
   "source": [
    "h=Triangle(3,4,5)\n",
    "print(h.Area(),h.Perimeter())"
   ]
  },
  {
   "cell_type": "code",
   "execution_count": 51,
   "id": "e483426d-dd64-4968-a429-7fbbe3eee38a",
   "metadata": {},
   "outputs": [],
   "source": [
    "# Problem 7: Student Management Create a class representing a student with attributes like student ID, name, and grades. Implement methods to calculate the average grade and display student details.\n",
    "class Student:\n",
    "    def __init__(self,Id,name,grades):\n",
    "        self.id=Id\n",
    "        self.name=name\n",
    "        self.grades=grades\n",
    "    def avg_grades(self):\n",
    "        if not self.grades:\n",
    "            return 0\n",
    "        return f\"The average grade is {int(sum(self.grades)/len(self.grades))}\"\n",
    "    def student_details(self):\n",
    "        print(\"The student details aree :\")\n",
    "        print(self.id)\n",
    "        print(self.name)\n",
    "        print(self.grades)   \n",
    "        print(self.avg_grades())"
   ]
  },
  {
   "cell_type": "code",
   "execution_count": 52,
   "id": "6c90b3d2-d725-4220-8ab6-a56a848e7a25",
   "metadata": {},
   "outputs": [],
   "source": [
    "h=Student(101,\"Hari\",[90,89,98,96,95,100])"
   ]
  },
  {
   "cell_type": "code",
   "execution_count": 53,
   "id": "8b751981-b1cb-4eb8-b93c-b6b9cb74e22e",
   "metadata": {},
   "outputs": [
    {
     "data": {
      "text/plain": [
       "'The average grade is 94'"
      ]
     },
     "execution_count": 53,
     "metadata": {},
     "output_type": "execute_result"
    }
   ],
   "source": [
    "h.avg_grades()"
   ]
  },
  {
   "cell_type": "code",
   "execution_count": 54,
   "id": "0234fda2-d3f3-4b4d-9428-618481671e59",
   "metadata": {},
   "outputs": [
    {
     "name": "stdout",
     "output_type": "stream",
     "text": [
      "The student details aree :\n",
      "101\n",
      "Hari\n",
      "[90, 89, 98, 96, 95, 100]\n",
      "The average grade is 94\n"
     ]
    }
   ],
   "source": [
    "h.student_details()"
   ]
  },
  {
   "cell_type": "code",
   "execution_count": 1,
   "id": "72a794ba-0a21-4858-9d07-ff08ac07a4fe",
   "metadata": {},
   "outputs": [],
   "source": [
    "# Problem 8: Email Management Create a class representing an email with attributes like sender, recipient, and subject. Implement methods to send an email and display email details.\n",
    "class email:\n",
    "    def __init__(self,sender,recipient,subject):\n",
    "        self.sender=sender\n",
    "        self.recipient=recipient\n",
    "        self.subject=subject\n",
    "    def send(self):\n",
    "        print(\"Email is sending.....\")\n",
    "        print(f\"Email send to {self.sender} successfully\")\n",
    "    def email_details(self):\n",
    "        print(\"Email details :\")\n",
    "        print(f\"Sender :{self.sender}\")\n",
    "        print(f\"Reciever :{self.recipient}\")\n",
    "        print(f\"Subject :{self.subject}\")\n",
    "        "
   ]
  },
  {
   "cell_type": "code",
   "execution_count": 4,
   "id": "e26bc1ac-9568-4dfa-bb8c-1558a5c42ed8",
   "metadata": {},
   "outputs": [],
   "source": [
    "h=email(\"example_sender@example.com\",\"example_recipient@example.com\",\"Test Email\")"
   ]
  },
  {
   "cell_type": "code",
   "execution_count": 5,
   "id": "0b444a0d-56cb-4800-9fda-874eabfd435c",
   "metadata": {},
   "outputs": [
    {
     "name": "stdout",
     "output_type": "stream",
     "text": [
      "Email is sending.....\n",
      "Email send to example_sender@example.com successfully\n"
     ]
    }
   ],
   "source": [
    "h.send()"
   ]
  },
  {
   "cell_type": "code",
   "execution_count": 6,
   "id": "6ebb8133-80e7-4f68-b5ab-49f5c3338524",
   "metadata": {},
   "outputs": [
    {
     "name": "stdout",
     "output_type": "stream",
     "text": [
      "Email details :\n",
      "Sender :example_sender@example.com\n",
      "Reciever :example_recipient@example.com\n",
      "Subject :Test Email\n"
     ]
    }
   ],
   "source": [
    "h.email_details()"
   ]
  },
  {
   "cell_type": "code",
   "execution_count": 14,
   "id": "aab7cd04-137e-4198-8ed2-58133544c82d",
   "metadata": {},
   "outputs": [
    {
     "name": "stdout",
     "output_type": "stream",
     "text": [
      "\n",
      "The posts by user123 are :\n",
      "Hello everyone! This is my first post.\n",
      "Just had a great time at the beach!\n",
      "Feeling excited about the upcoming trip.\n",
      "\n",
      "The posts by another_user are :\n",
      "Enjoying the sunset.\n",
      "Trying out some new recipes.\n",
      "\n",
      "The posts which contains the keyword excited are  :\n",
      "Feeling excited about the upcoming trip..\n",
      "\n",
      "There is no posts matching the keyword sunst in another_user\n"
     ]
    }
   ],
   "source": [
    "# Problem 9: Social Media Profile Create a class representing a social media profile with attributes like username and posts. Implement methods to add posts, display posts, and search for posts by keyword.\n",
    "class Socialmediaprofile:\n",
    "    def __init__(self,user_name):\n",
    "        self.un=user_name\n",
    "        self.post=[]\n",
    "    def add_post(self,post):\n",
    "        self.post.append(post)\n",
    "    def display(self):\n",
    "        print(f\"The posts by {self.un} are :\")\n",
    "        for num in self.post:\n",
    "            print(f\"{num}\")\n",
    "    def search_post(self,key):\n",
    "        self.post_by_key=[]\n",
    "        for num in self.post:\n",
    "            if key in num:\n",
    "                self.post_by_key.append(num)\n",
    "        if self.post_by_key:\n",
    "            print(f\"The posts which contains the keyword {key} are  :\")\n",
    "            for i in self.post_by_key:\n",
    "                print(f\"{i}.\")\n",
    "        else:\n",
    "            print(f\"There is no posts matching the keyword {key} in {self.un}\")\n",
    "        \n",
    "if __name__==\"__main__\":\n",
    "    \n",
    "    \n",
    "    profile1 = Socialmediaprofile(\"user123\")\n",
    "    profile1.add_post(\"Hello everyone! This is my first post.\")\n",
    "    profile1.add_post(\"Just had a great time at the beach!\")\n",
    "    profile1.add_post(\"Feeling excited about the upcoming trip.\")\n",
    "\n",
    "    profile2 = Socialmediaprofile(\"another_user\")\n",
    "    profile2.add_post(\"Enjoying the sunset.\")\n",
    "    profile2.add_post(\"Trying out some new recipes.\")\n",
    "    print()\n",
    "    profile1.display()\n",
    "    print()\n",
    "    profile2.display()\n",
    "    print()\n",
    "    profile1.search_post(\"excited\")\n",
    "    print()\n",
    "    profile2.search_post(\"sunst\")\n"
   ]
  },
  {
   "cell_type": "code",
   "execution_count": 15,
   "id": "a463cecc-584e-435b-b1ae-8c396b0e2c6f",
   "metadata": {},
   "outputs": [
    {
     "name": "stdout",
     "output_type": "stream",
     "text": [
      "The posts which contains the keyword sunset are  :\n",
      "Enjoying the sunset..\n"
     ]
    }
   ],
   "source": [
    " profile2.search_post(\"sunset\")"
   ]
  },
  {
   "cell_type": "code",
   "execution_count": 36,
   "id": "a5c551a6-ca01-4d97-8eef-e7b6fc9a2c09",
   "metadata": {},
   "outputs": [
    {
     "name": "stdout",
     "output_type": "stream",
     "text": [
      "Your task Finish homework added successfully\n",
      "\n",
      "Your task Call Mom added successfully\n",
      "\n",
      "Your task Call GF added successfully\n",
      "\n",
      "Your task Call Friend added successfully\n",
      "\n",
      "You have already entered this task Finish homework.\n",
      "\n",
      "The pending tasks are :\n",
      "\n",
      "Finish homework\n",
      "Call Mom\n",
      "Call GF\n",
      "Call Friend\n",
      "your task Finish homework completed .\n",
      "\n",
      "your task Call Mom completed .\n",
      "\n",
      "The pending tasks are :\n",
      "\n",
      "Call GF\n",
      "Call Friend\n"
     ]
    }
   ],
   "source": [
    "# Problem 10: ToDo List Create a class representing a ToDo list with attributes like tasks and due dates. Implement methods to add tasks, mark tasks as completed, and display pending tasks.\n",
    "class todo:\n",
    "    def __init__(self):\n",
    "        self.tasks=[]\n",
    "        self.c_tasks=[]\n",
    "    def add_task(self,task):\n",
    "        if task not in self.c_tasks:\n",
    "            if task not in self.tasks:\n",
    "                self.tasks.append(task)\n",
    "                print(f\"Your task {task} added successfully\\n\")\n",
    "            else:\n",
    "                print(f\"You have already entered this task {task}.\\n\")\n",
    "        else:\n",
    "            print(f\"You have already completed this task {task}\\n\")\n",
    "\n",
    "    def mark_complete(self,task):\n",
    "        if task in self.tasks:\n",
    "            self.tasks.remove(task)\n",
    "            self.c_tasks.append(task)\n",
    "            print(f\"your task {task} completed .\\n\")\n",
    "        else:\n",
    "            print(\"You don't have this task in the 'list'\\n\")\n",
    "    def pending(self):\n",
    "        if self.tasks:\n",
    "            print(\"The pending tasks are :\\n\")\n",
    "            for num in self.tasks:\n",
    "                print(f\"{num}\")\n",
    "            \n",
    "my_todo = todo()\n",
    "my_todo.add_task(\"Finish homework\")\n",
    "my_todo.add_task(\"Call Mom\")\n",
    "my_todo.add_task(\"Call GF\")\n",
    "my_todo.add_task(\"Call Friend\")\n",
    "my_todo.add_task(\"Finish homework\")  # Try to add a duplicate task\n",
    "my_todo.pending()\n",
    "\n",
    "my_todo.mark_complete(\"Finish homework\")\n",
    "my_todo.mark_complete(\"Call Mom\")\n",
    "\n",
    "my_todo.pending()          "
   ]
  },
  {
   "cell_type": "code",
   "execution_count": null,
   "id": "5c6e2efb-2790-4f2c-8068-70f9c8b826b9",
   "metadata": {},
   "outputs": [],
   "source": []
  }
 ],
 "metadata": {
  "kernelspec": {
   "display_name": "Python 3 (ipykernel)",
   "language": "python",
   "name": "python3"
  },
  "language_info": {
   "codemirror_mode": {
    "name": "ipython",
    "version": 3
   },
   "file_extension": ".py",
   "mimetype": "text/x-python",
   "name": "python",
   "nbconvert_exporter": "python",
   "pygments_lexer": "ipython3",
   "version": "3.10.8"
  }
 },
 "nbformat": 4,
 "nbformat_minor": 5
}
