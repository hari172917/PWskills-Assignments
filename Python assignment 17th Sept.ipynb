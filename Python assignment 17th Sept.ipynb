{
 "cells": [
  {
   "cell_type": "markdown",
   "id": "c92bdb7b-7904-4592-b4d3-a0b28ca03425",
   "metadata": {},
   "source": [
    "# For Loop :-\n"
   ]
  },
  {
   "cell_type": "code",
   "execution_count": 5,
   "id": "5666a110-602d-4559-99a7-30be29b813bb",
   "metadata": {},
   "outputs": [
    {
     "name": "stdout",
     "output_type": "stream",
     "text": [
      "The numbers b/w 1 -10 are :[1, 2, 3, 4, 5, 6, 7, 8, 9, 10]\n"
     ]
    }
   ],
   "source": [
    "# 1. Write a Python program to print numbers from 1 to 10 using a for loop.\n",
    "x=[int(x) for x in range(1,11)]\n",
    "print(f\"The numbers b/w 1 -10 are :{x}\")"
   ]
  },
  {
   "cell_type": "code",
   "execution_count": null,
   "id": "93e29ab4-1784-4d3c-b63e-1dbe924381e8",
   "metadata": {},
   "outputs": [],
   "source": [
    "# 2. Explain the difference between a for loop and a while loop in Python.\n",
    "For loop:\n",
    "    In for loop the range in which the statements are going to executed is known at the beginning .\n",
    "while loop:\n",
    "    Here the range is unknown and statements inside the loop are execute  according to the condition\n",
    "    \n",
    "    "
   ]
  },
  {
   "cell_type": "code",
   "execution_count": 9,
   "id": "075bf6d5-69ca-4593-a845-156ba3360b86",
   "metadata": {},
   "outputs": [
    {
     "name": "stdout",
     "output_type": "stream",
     "text": [
      "5050\n"
     ]
    }
   ],
   "source": [
    "# 3. Write a Python program to calculate the sum of all numbers from 1 to 100 using a for loop.\n",
    "x=sum([int(x) for x in range(1,101)])\n",
    "print(x)"
   ]
  },
  {
   "cell_type": "code",
   "execution_count": null,
   "id": "b6633483-4a1c-4c8f-9d88-5df5ca457584",
   "metadata": {},
   "outputs": [],
   "source": [
    "# 4. How do you iterate through a list using a for loop in Python?\n",
    "Ans :\n",
    "    for num in list:\n",
    "        "
   ]
  },
  {
   "cell_type": "code",
   "execution_count": 11,
   "id": "5d9190e2-4a1f-4a7c-b01b-64547a5e9a60",
   "metadata": {},
   "outputs": [
    {
     "name": "stdout",
     "output_type": "stream",
     "text": [
      "3628800\n"
     ]
    }
   ],
   "source": [
    "# 5. Write a Python program to find the product of all elements in a list using a for loop.\n",
    "\n",
    "x=[int(x) for x in range(1,11)]\n",
    "pro=1\n",
    "for i in x:\n",
    "    pro*=i\n",
    "print(pro)"
   ]
  },
  {
   "cell_type": "code",
   "execution_count": 12,
   "id": "3a47b10e-8b04-490a-95ef-0bf346f8ad17",
   "metadata": {},
   "outputs": [
    {
     "name": "stdout",
     "output_type": "stream",
     "text": [
      "2 4 6 8 10 12 14 16 18 20 "
     ]
    }
   ],
   "source": [
    "# 6. Create a Python program that prints all even numbers from 1 to 20 using a for loop.\n",
    "x=[int(x) for x in range(1,21) if x%2==0]\n",
    "for y in x:\n",
    "    print(y,end=\" \")"
   ]
  },
  {
   "cell_type": "code",
   "execution_count": 14,
   "id": "ac6db6eb-588d-470d-b979-74898afbd317",
   "metadata": {},
   "outputs": [
    {
     "name": "stdin",
     "output_type": "stream",
     "text": [
      " 10\n"
     ]
    },
    {
     "name": "stdout",
     "output_type": "stream",
     "text": [
      "The factorial of 10 is :3628800\n"
     ]
    }
   ],
   "source": [
    "# 7. Write a Python program that calculates the factorial of a number using a for loop.\n",
    "def fact(n):\n",
    "    if n<0:\n",
    "        return \"Factorial can't be determined to a negative number!\"\n",
    "    elif n==0:\n",
    "        return 1\n",
    "    else:\n",
    "        result=1\n",
    "        for i in range(1,n+1):\n",
    "            result*=i\n",
    "        return result\n",
    "n=int(input())\n",
    "print(f\"The factorial of {n} is :{fact(n)}\")"
   ]
  },
  {
   "cell_type": "code",
   "execution_count": 17,
   "id": "36745fb8-849f-48a6-b03b-e7f025dd1961",
   "metadata": {},
   "outputs": [
    {
     "name": "stdout",
     "output_type": "stream",
     "text": [
      "d\n",
      "r\n",
      "h\n",
      "e\n",
      "b\n",
      "f\n",
      "h\n",
      "e\n",
      "b\n",
      "f\n",
      "j\n",
      "k\n",
      "e\n",
      "n\n",
      "r\n"
     ]
    }
   ],
   "source": [
    "# 8. How can you iterate through the characters of a string using a for loop in Python?\n",
    "st=\"drhebfhebfjkenr\"\n",
    "for num in st:\n",
    "    print(num)"
   ]
  },
  {
   "cell_type": "code",
   "execution_count": 20,
   "id": "b486d50f-70d0-4228-892f-362fa6bfeab2",
   "metadata": {},
   "outputs": [
    {
     "name": "stdout",
     "output_type": "stream",
     "text": [
      "[2, 4, 6, 8, 10, 12, 14, 16, 18, 20]\n",
      "The largest number in 'x' is 20\n"
     ]
    }
   ],
   "source": [
    "# 9. Write a Python program to find the largest number in a list using a for loop.\n",
    "print(x)\n",
    "print(f\"The largest number in 'x' is {max(x)}\")"
   ]
  },
  {
   "cell_type": "code",
   "execution_count": 22,
   "id": "19dabff4-840c-4fc2-a73b-289bd76b0ca1",
   "metadata": {},
   "outputs": [
    {
     "name": "stdin",
     "output_type": "stream",
     "text": [
      "Enter limit >2: 10\n"
     ]
    },
    {
     "name": "stdout",
     "output_type": "stream",
     "text": [
      "The fibo series are :\n",
      "0 1 1 2 3 5 8 13 21 34 "
     ]
    }
   ],
   "source": [
    "# 10. Create a Python program that prints the Fibonacci sequence up to a specified limit using a for loop.\n",
    "n=int(input(\"Enter limit >2:\"))\n",
    "print(\"The fibo series are :\")   \n",
    "f=0\n",
    "s=1\n",
    "print(f,s,end=\" \")\n",
    "for i in range(2,n):\n",
    "    t=f+s\n",
    "    f=s\n",
    "    s=t\n",
    "    print(t,end=\" \")"
   ]
  },
  {
   "cell_type": "code",
   "execution_count": 26,
   "id": "2cf5aec7-b6cf-4039-a8a6-8d4f7c3be112",
   "metadata": {},
   "outputs": [
    {
     "name": "stdin",
     "output_type": "stream",
     "text": [
      " ejk fkj edawndjknejndckjsnisjcdosjkdskju\n"
     ]
    },
    {
     "name": "stdout",
     "output_type": "stream",
     "text": [
      "e\n",
      "e\n",
      "a\n",
      "e\n",
      "i\n",
      "o\n",
      "u\n",
      "The number of vowels is :7\n"
     ]
    }
   ],
   "source": [
    "# 11. Write a Python program to count the number of vowels in a given string using a for loop.\n",
    "a=str(input().strip())\n",
    "count=0\n",
    "for num in a:\n",
    "    if num in \"AaEeIiOoUu\":\n",
    "        print(num)\n",
    "        count+=1\n",
    "print(f\"The number of vowels is :{count}\")"
   ]
  },
  {
   "cell_type": "code",
   "execution_count": 28,
   "id": "34c8a0c7-2d6e-448b-b2a7-2e619d3e04bf",
   "metadata": {},
   "outputs": [
    {
     "name": "stdin",
     "output_type": "stream",
     "text": [
      "Which table do u want : 9\n",
      "enter the length : 10\n"
     ]
    },
    {
     "name": "stdout",
     "output_type": "stream",
     "text": [
      "9*1=9\n",
      "9*2=18\n",
      "9*3=27\n",
      "9*4=36\n",
      "9*5=45\n",
      "9*6=54\n",
      "9*7=63\n",
      "9*8=72\n",
      "9*9=81\n",
      "9*10=90\n"
     ]
    }
   ],
   "source": [
    "# 12. Create a Python program that generates a multiplication table for a given number using a for loop\n",
    "n=int(input(\"Which table do u want :\"))\n",
    "length=int(input(\"enter the length :\"))\n",
    "for i in range(1,length+1):\n",
    "    print(f\"{n}*{i}={n*i}\")\n"
   ]
  },
  {
   "cell_type": "code",
   "execution_count": 30,
   "id": "cfddf34e-94a3-407a-bf4f-e77c2e88fc9d",
   "metadata": {},
   "outputs": [
    {
     "name": "stdout",
     "output_type": "stream",
     "text": [
      "8\n",
      "7\n",
      "6\n",
      "5\n",
      "3\n",
      "2\n",
      "1\n"
     ]
    }
   ],
   "source": [
    "# 13. Write a Python program to reverse a list using a for loop.\n",
    "st=[1,2,3,5,6,7,8]\n",
    "for num in st[::-1]:\n",
    "    print(num)"
   ]
  },
  {
   "cell_type": "code",
   "execution_count": 4,
   "id": "d9106c37-2f03-45d0-a17c-8a4e096e39f2",
   "metadata": {},
   "outputs": [
    {
     "name": "stdin",
     "output_type": "stream",
     "text": [
      " 1,2,3,4,5,6\n",
      " 2,4,6,8\n"
     ]
    },
    {
     "name": "stdout",
     "output_type": "stream",
     "text": [
      "The common elements are :\n",
      "2 4 6 "
     ]
    }
   ],
   "source": [
    "# 14. Write a Python program to find the common elements between two lists using a for loop.\n",
    "\n",
    "st1=list(map(int,input().split(\",\")))\n",
    "st2=list(map(int,input().split(\",\")))\n",
    "print(\"The common elements are :\")\n",
    "for n1 in st1:\n",
    "    for n2 in st2:\n",
    "        if n1==n2:\n",
    "            print(n1,end=\" \")"
   ]
  },
  {
   "cell_type": "code",
   "execution_count": null,
   "id": "e751b216-8c44-427b-a5bc-e21212fae911",
   "metadata": {},
   "outputs": [],
   "source": [
    "# 15. Explain how to use a for loop to iterate through the keys and values of a dictionary in Python.\n",
    "Ans:\n",
    "    for keys,values in dict_name.items():"
   ]
  },
  {
   "cell_type": "code",
   "execution_count": 6,
   "id": "65db3a45-7430-449d-a298-71ad8cb66f0c",
   "metadata": {},
   "outputs": [
    {
     "name": "stdin",
     "output_type": "stream",
     "text": [
      " 100\n",
      " 25\n"
     ]
    },
    {
     "name": "stdout",
     "output_type": "stream",
     "text": [
      "The gcd of 100 and 25 is :25\n"
     ]
    }
   ],
   "source": [
    "# 16. Write a Python program to find the GCD (Greatest Common Divisor) of two numbers using a for loopf\"The gcd of {n1} and {n2} is :{\n",
    "n1=int(input())\n",
    "n2=int(input())\n",
    "gcd=1\n",
    "for i in range(1,min(n1,n2)+1):\n",
    "    if n1%i==0 and n2%i==0:\n",
    "        gcd=i\n",
    "print(f\"The gcd of {n1} and {n2} is :{gcd}\")"
   ]
  },
  {
   "cell_type": "code",
   "execution_count": 16,
   "id": "272399f9-efe7-4816-a14f-9c131ac2574f",
   "metadata": {},
   "outputs": [
    {
     "name": "stdin",
     "output_type": "stream",
     "text": [
      " malayalam\n"
     ]
    },
    {
     "name": "stdout",
     "output_type": "stream",
     "text": [
      "malayalam is palindrome\n"
     ]
    }
   ],
   "source": [
    "# 17. Create a Python program that checks if a string is a palindrome using a for loop.\n",
    "s1=input().strip()\n",
    "s2=\"\"\n",
    "for num in s1[::-1]:\n",
    "    s2+=num\n",
    "if s1==s2:\n",
    "    print(f\"{s1} is palindrome\")\n",
    "else:\n",
    "    print(f\"{s2} is not a palindrome\")"
   ]
  },
  {
   "cell_type": "code",
   "execution_count": 19,
   "id": "80d6e091-befd-4cad-880c-1e09a60b57a8",
   "metadata": {},
   "outputs": [
    {
     "name": "stdout",
     "output_type": "stream",
     "text": [
      "[1, 2, 3, 9, 4, 5, 6, 7, 8]\n"
     ]
    }
   ],
   "source": [
    "# 18. Write a Python program to remove duplicates from a list using a for loop.\n",
    "l1=[1,2,3,4,5,6,7,8,9,4,5,6,7,8]\n",
    "for num in l1:\n",
    "    if l1.count(num)!=1:\n",
    "        l1.remove(num)\n",
    "print(l1)\n",
    "\n"
   ]
  },
  {
   "cell_type": "code",
   "execution_count": 20,
   "id": "023c6f9f-64e2-47e4-94bf-8eef1ab7dad6",
   "metadata": {},
   "outputs": [
    {
     "name": "stdin",
     "output_type": "stream",
     "text": [
      " Create a Python program that counts the number of words in a sentence using a for loop\n"
     ]
    },
    {
     "name": "stdout",
     "output_type": "stream",
     "text": [
      "17\n"
     ]
    }
   ],
   "source": [
    "# 19. Create a Python program that counts the number of words in a sentence using a for loop.\n",
    "s=input().strip()\n",
    "S=s.split(\" \")\n",
    "print(len(S))\n"
   ]
  },
  {
   "cell_type": "code",
   "execution_count": 22,
   "id": "88b9dbda-dd76-46f2-8464-7feca25265d4",
   "metadata": {},
   "outputs": [
    {
     "name": "stdout",
     "output_type": "stream",
     "text": [
      "The sum of all odd nums b/w 1-50 :625\n"
     ]
    }
   ],
   "source": [
    "# 20. Write a Python program to find the sum of all odd numbers from 1 to 50 using a for loop.\n",
    "odd=[int(x) for x in range(1,51) if x%2!=0]\n",
    "print(f\"The sum of all odd nums b/w 1-50 :{sum(odd)}\")"
   ]
  },
  {
   "cell_type": "code",
   "execution_count": 24,
   "id": "564655b1-9303-435d-a7b7-05d839edb999",
   "metadata": {},
   "outputs": [
    {
     "name": "stdin",
     "output_type": "stream",
     "text": [
      " 2034\n"
     ]
    },
    {
     "name": "stdout",
     "output_type": "stream",
     "text": [
      "leap year\n"
     ]
    }
   ],
   "source": [
    "# 21. Write a Python program that checks if a given year is a leap year using a for loop.\n",
    "yr=int(input())\n",
    "a=0\n",
    "if yr==0:\n",
    "    print(\"year must be > 0 :\")\n",
    "else:\n",
    "    \n",
    "    for i in range(1,yr+1):\n",
    "        if a<4:\n",
    "            a+=i\n",
    "        else:\n",
    "            a=0\n",
    "if a==0:\n",
    "    print(\"leap year\")\n",
    "else:\n",
    "    print(\"not a leap year\")"
   ]
  },
  {
   "cell_type": "code",
   "execution_count": 1,
   "id": "44058626-850a-4219-9ec3-ea225858213b",
   "metadata": {},
   "outputs": [
    {
     "name": "stdin",
     "output_type": "stream",
     "text": [
      "Enter a number :  67\n"
     ]
    },
    {
     "name": "stdout",
     "output_type": "stream",
     "text": [
      "Square root of 67.0 is approximately 8.185352771872674\n"
     ]
    }
   ],
   "source": [
    "# 22. Create a Python program that calculates the square root of a number using a for loop.\n",
    "def square_root(number, precision=0.00001):\n",
    "    if number < 0:\n",
    "        return \"Square root can't be determined for negative numbers\"\n",
    "    \n",
    "    guess=number / 2.0 \n",
    "    \n",
    "    while abs(guess * guess - number) > precision:\n",
    "        guess = (guess + number / guess) / 2.0\n",
    "    \n",
    "    return guess\n",
    "num = float(input(\"Enter a number : \"))\n",
    "print(\"Square root of\", num, \"is approximately\", square_root(num))\n"
   ]
  },
  {
   "cell_type": "code",
   "execution_count": 5,
   "id": "bbc9dcff-d53e-4e72-ae67-f3ea994b5c54",
   "metadata": {},
   "outputs": [
    {
     "name": "stdin",
     "output_type": "stream",
     "text": [
      " 45\n",
      " 56\n"
     ]
    },
    {
     "name": "stdout",
     "output_type": "stream",
     "text": [
      "The lcm of 45 and 56 are :2520\n"
     ]
    }
   ],
   "source": [
    "# 23. Write a Python program to find the LCM (Least Common Multiple) of two numbers using a for loop.\n",
    "x=int(input())\n",
    "y=int(input())\n",
    "if x>y:\n",
    "    greater=x\n",
    "else:\n",
    "    greater=y\n",
    "while True:\n",
    "    if (greater%x==0) and (greater%y==0):\n",
    "        lcm=greater\n",
    "        break\n",
    "    greater+=1\n",
    "print(f\"The lcm of {x} and {y} are :{greater}\")\n",
    "    "
   ]
  },
  {
   "cell_type": "markdown",
   "id": "35831cd4-c955-40b5-b98e-4dc1e4ded596",
   "metadata": {},
   "source": [
    "# If else "
   ]
  },
  {
   "cell_type": "code",
   "execution_count": 6,
   "id": "c949441f-130d-4098-b03c-dda6852e4be7",
   "metadata": {},
   "outputs": [
    {
     "name": "stdin",
     "output_type": "stream",
     "text": [
      " 9\n"
     ]
    },
    {
     "name": "stdout",
     "output_type": "stream",
     "text": [
      "Positive\n"
     ]
    }
   ],
   "source": [
    "# 1. Write a Python program to check if a number is positive, negative, or zero using an if-else statement.\n",
    "m=int(input())\n",
    "if m==0:\n",
    "    print(\"Zero\")\n",
    "else:\n",
    "    if m>0:\n",
    "        print(\"Positive\")\n",
    "    else:\n",
    "        print(\"Negative\")\n",
    "        \n"
   ]
  },
  {
   "cell_type": "code",
   "execution_count": 7,
   "id": "00714ee1-4e2e-4ffa-8ab0-66b32335021d",
   "metadata": {},
   "outputs": [
    {
     "name": "stdin",
     "output_type": "stream",
     "text": [
      " 10\n"
     ]
    },
    {
     "name": "stdout",
     "output_type": "stream",
     "text": [
      "Even\n"
     ]
    }
   ],
   "source": [
    "# 2. Create a Python program that checks if a given number is even or odd using an if-else statement.\n",
    "n=int(input())\n",
    "if n%2==0:\n",
    "    print(\"Even\")\n",
    "else:\n",
    "    print(\"Odd\")"
   ]
  },
  {
   "cell_type": "code",
   "execution_count": null,
   "id": "3745beb3-3a91-4ee4-b482-0997862f58c6",
   "metadata": {},
   "outputs": [],
   "source": [
    "# 3. How can you use nested if-else statements in Python, and provide an example?\n",
    "nested if else:\n",
    "    it is used whenever we like declare condition inside another condition\n",
    "example:\n",
    "    Greatest of all three"
   ]
  },
  {
   "cell_type": "code",
   "execution_count": 2,
   "id": "e3f80c92-f6ba-49a5-b3dc-abced7dbfcef",
   "metadata": {},
   "outputs": [
    {
     "name": "stdin",
     "output_type": "stream",
     "text": [
      " 45 56 67\n"
     ]
    },
    {
     "name": "stdout",
     "output_type": "stream",
     "text": [
      "67 is greatest\n"
     ]
    }
   ],
   "source": [
    "# 4. Write a Python program to determine the largest of three numbers using if-else.\n",
    "x,y,z=map(int,input().split())\n",
    "if x>y:\n",
    "    if x>z:\n",
    "        print(f\"{x} is greatest \")\n",
    "    else:\n",
    "        print(f\"{z} is greatest\")\n",
    "else:\n",
    "    if y>z:\n",
    "        print(f\"{y} is greatest \")\n",
    "    else:\n",
    "        print(f\"{z} is greatest\")\n",
    "        "
   ]
  },
  {
   "cell_type": "code",
   "execution_count": 2,
   "id": "70c85e5b-1f48-4be7-bf77-158564a729ee",
   "metadata": {},
   "outputs": [
    {
     "name": "stdin",
     "output_type": "stream",
     "text": [
      " -9\n"
     ]
    },
    {
     "name": "stdout",
     "output_type": "stream",
     "text": [
      "9\n"
     ]
    }
   ],
   "source": [
    "# 5. Write a Python program that calculates the absolute value of a number using if-else.\n",
    "n=int(input())\n",
    "if n==0:\n",
    "    print(\"0\")\n",
    "else:\n",
    "    if n<0:\n",
    "        print(f\"{n*-1}\")\n",
    "    else:\n",
    "        print(n)"
   ]
  },
  {
   "cell_type": "code",
   "execution_count": null,
   "id": "19188765-5da2-45ba-b2b2-91be9c08b6d0",
   "metadata": {},
   "outputs": [],
   "source": []
  },
  {
   "cell_type": "code",
   "execution_count": 4,
   "id": "243a874d-18ee-4e66-a656-dfa155e7bb51",
   "metadata": {},
   "outputs": [
    {
     "name": "stdin",
     "output_type": "stream",
     "text": [
      " e\n"
     ]
    },
    {
     "name": "stdout",
     "output_type": "stream",
     "text": [
      "Vowel\n"
     ]
    },
    {
     "name": "stdin",
     "output_type": "stream",
     "text": [
      " w\n"
     ]
    },
    {
     "name": "stdout",
     "output_type": "stream",
     "text": [
      "Consonant\n"
     ]
    }
   ],
   "source": [
    "# 6. Create a Python program that checks if a given character is a vowel or consonant using if-else.\n",
    "for _ in range(2):\n",
    "    a=input()\n",
    "    if a in \"AaEeIiOoUu\":\n",
    "        print(\"Vowel\")\n",
    "    else:\n",
    "        print(\"Consonant\")\n"
   ]
  },
  {
   "cell_type": "code",
   "execution_count": 7,
   "id": "5ae0fefd-ca35-4c17-adb3-65fd2a508d9c",
   "metadata": {},
   "outputs": [
    {
     "name": "stdin",
     "output_type": "stream",
     "text": [
      " 34\n"
     ]
    },
    {
     "name": "stdout",
     "output_type": "stream",
     "text": [
      "Eligible to vote\n"
     ]
    }
   ],
   "source": [
    "# 7. Write a Python program to determine if a user is eligible to vote based on their age using if-else.\n",
    "\n",
    "age=int(input())\n",
    "if age<0:\n",
    "    print(\"Age should be positive\")\n",
    "else:\n",
    "    if age>=18:\n",
    "        print(\"Eligible to vote\")\n",
    "    else:\n",
    "        print(\"Not eligible to vote\")"
   ]
  },
  {
   "cell_type": "code",
   "execution_count": 11,
   "id": "26a06dfd-6e27-48f4-9950-28ec26d24e26",
   "metadata": {},
   "outputs": [
    {
     "name": "stdin",
     "output_type": "stream",
     "text": [
      "Enter purchase amount : 1200\n"
     ]
    },
    {
     "name": "stdout",
     "output_type": "stream",
     "text": [
      "The discount of 1200.0 is 120.0 /-\n"
     ]
    }
   ],
   "source": [
    "# 8. Create a Python program that calculates the discount amount based on the purchase amount using if-else\n",
    "def cal_dis(amt):\n",
    "    if amt>=1000:\n",
    "        dr=0.1\n",
    "    else:\n",
    "        if amt>=500:\n",
    "            dr=0.05\n",
    "        else:\n",
    "            dr=0\n",
    "    return amt*dr\n",
    "amt=float(input(\"Enter purchase amount :\"))\n",
    "discount=cal_dis(amt)\n",
    "print(f\"The discount of {amt} is {discount} /-\")"
   ]
  },
  {
   "cell_type": "code",
   "execution_count": 14,
   "id": "1252a798-8046-4a49-9d43-67cea9404b1a",
   "metadata": {},
   "outputs": [
    {
     "name": "stdin",
     "output_type": "stream",
     "text": [
      " 50\n",
      " 34\n"
     ]
    },
    {
     "name": "stdout",
     "output_type": "stream",
     "text": [
      "True\n"
     ]
    }
   ],
   "source": [
    "# 9. Write a Python program to check if a number is within a specified range using if-else.\n",
    "limit=int(input())\n",
    "num=int(input())\n",
    "if num in [int(a) for a in range(1,limit+1)]:\n",
    "    print(\"True\")\n",
    "else:\n",
    "    print(\"False\")\n"
   ]
  },
  {
   "cell_type": "code",
   "execution_count": 15,
   "id": "0bf7ae00-5ce2-4c4d-90ae-c7288bcb5a7d",
   "metadata": {},
   "outputs": [
    {
     "name": "stdin",
     "output_type": "stream",
     "text": [
      "Enter score:  98\n"
     ]
    },
    {
     "name": "stdout",
     "output_type": "stream",
     "text": [
      "The student grade is: A\n"
     ]
    }
   ],
   "source": [
    "# 10. Create a Python program that determines the grade of a student based on their score using if-else\n",
    "def calculate_grade(score):\n",
    "    if score >= 90:\n",
    "        grade = 'A'\n",
    "    elif score >= 80:\n",
    "        grade = 'B'\n",
    "    elif score >= 70:\n",
    "        grade = 'C'\n",
    "    elif score >= 60:\n",
    "        grade = 'D'\n",
    "    else:\n",
    "        grade = 'F'\n",
    "    return grade\n",
    "\n",
    "score = float(input(\"Enter score: \"))\n",
    "grade = calculate_grade(score)\n",
    "print(f\"The student grade is: {grade}\")\n"
   ]
  },
  {
   "cell_type": "code",
   "execution_count": 16,
   "id": "28143e29-24ef-44b9-9d8a-61cdc8e3b3aa",
   "metadata": {},
   "outputs": [
    {
     "name": "stdin",
     "output_type": "stream",
     "text": [
      " \n"
     ]
    },
    {
     "name": "stdout",
     "output_type": "stream",
     "text": [
      "Empty string\n"
     ]
    }
   ],
   "source": [
    "# 11. Write a Python program to check if a string is empty or not using if-else.\n",
    "st=input()\n",
    "if len(st)==0:\n",
    "    print(\"Empty string\")\n",
    "else:\n",
    "    print(\"Non empty string\")"
   ]
  },
  {
   "cell_type": "code",
   "execution_count": 20,
   "id": "0a4b5749-3a23-49f2-9bd7-4d75a93bd464",
   "metadata": {},
   "outputs": [
    {
     "name": "stdin",
     "output_type": "stream",
     "text": [
      "Enter the angles 60,70,50\n"
     ]
    },
    {
     "name": "stdout",
     "output_type": "stream",
     "text": [
      "Scalene triangle\n"
     ]
    }
   ],
   "source": [
    "# 12. Create a Python program that identifies the type of a triangle (e.g., equilateral, isosceles, or scalene) based on input values using if-else\n",
    "def det_tri(a,b,c):\n",
    "    if a==b==c:\n",
    "        return \"Equilateral triangle\"\n",
    "    else:\n",
    "        if a==b or b==c or c==a:\n",
    "            return \"Isoceles triangle\"\n",
    "        else:\n",
    "            return \"Scalene triangle\"\n",
    "\n",
    "s1,s2,s3=map(int,input(\"Enter the angles\").split(\",\"))\n",
    "res=det_tri(s1,s2,s3)\n",
    "print(res)"
   ]
  },
  {
   "cell_type": "code",
   "execution_count": 21,
   "id": "2e032914-4392-422f-b962-5fe5842a2a20",
   "metadata": {},
   "outputs": [
    {
     "name": "stdin",
     "output_type": "stream",
     "text": [
      "Enter a number 1-7 : 3\n"
     ]
    },
    {
     "name": "stdout",
     "output_type": "stream",
     "text": [
      "Tuesday\n"
     ]
    }
   ],
   "source": [
    "# 13. Write a Python program to determine the day of the week based on a user-provided number using if-else.\n",
    "d=int(input(\"Enter a number 1-7 :\"))\n",
    "if d==1:\n",
    "    print(\"Sunday\")\n",
    "elif d==2:\n",
    "    print(\"Monday\")\n",
    "elif d==3:\n",
    "    print(\"Tuesday\")\n",
    "elif d==4:\n",
    "    print(\"Wednesday\")\n",
    "elif d==5:\n",
    "    print(\"Thursday\")\n",
    "elif d==6:\n",
    "    print(\"Friday\")\n",
    "elif d==7:\n",
    "    print(\"Sunday\")"
   ]
  },
  {
   "cell_type": "code",
   "execution_count": 22,
   "id": "c623a102-9ef3-4e4f-afec-623df892daff",
   "metadata": {},
   "outputs": [
    {
     "name": "stdin",
     "output_type": "stream",
     "text": [
      " 400\n"
     ]
    },
    {
     "name": "stdout",
     "output_type": "stream",
     "text": [
      "Leap Year\n"
     ]
    }
   ],
   "source": [
    "# 14. Create a Python program that checks if a given year is a leap year using both if-else and a function\n",
    "def check_leap(n):\n",
    "    if n%4==0:\n",
    "        return \"Leap Year\"\n",
    "    else:\n",
    "        return \"Not a Leap Year\"\n",
    "yr=int(input())\n",
    "res=check_leap(yr)\n",
    "print(res)\n"
   ]
  },
  {
   "cell_type": "code",
   "execution_count": 2,
   "id": "bad4be86-c2e5-465f-9865-267e754361fa",
   "metadata": {},
   "outputs": [
    {
     "name": "stdin",
     "output_type": "stream",
     "text": [
      " 45 56 67\n"
     ]
    },
    {
     "ename": "AssertionError",
     "evalue": "56 is greatest ",
     "output_type": "error",
     "traceback": [
      "\u001b[0;31m---------------------------------------------------------------------------\u001b[0m",
      "\u001b[0;31mAssertionError\u001b[0m                            Traceback (most recent call last)",
      "Cell \u001b[0;32mIn[2], line 10\u001b[0m\n\u001b[1;32m      8\u001b[0m         \u001b[38;5;28;01massert\u001b[39;00m c\u001b[38;5;241m>\u001b[39mb, \u001b[38;5;124mf\u001b[39m\u001b[38;5;124m\"\u001b[39m\u001b[38;5;132;01m{\u001b[39;00mc\u001b[38;5;132;01m}\u001b[39;00m\u001b[38;5;124m is greatest\u001b[39m\u001b[38;5;124m\"\u001b[39m\n\u001b[1;32m      9\u001b[0m x,y,z\u001b[38;5;241m=\u001b[39m\u001b[38;5;28mmap\u001b[39m(\u001b[38;5;28mint\u001b[39m,\u001b[38;5;28minput\u001b[39m()\u001b[38;5;241m.\u001b[39msplit())\n\u001b[0;32m---> 10\u001b[0m res\u001b[38;5;241m=\u001b[39m\u001b[43mgreat\u001b[49m\u001b[43m(\u001b[49m\u001b[43mx\u001b[49m\u001b[43m,\u001b[49m\u001b[43my\u001b[49m\u001b[43m,\u001b[49m\u001b[43mz\u001b[49m\u001b[43m)\u001b[49m\n\u001b[1;32m     11\u001b[0m \u001b[38;5;28mprint\u001b[39m(res)\n",
      "Cell \u001b[0;32mIn[2], line 7\u001b[0m, in \u001b[0;36mgreat\u001b[0;34m(a, b, c)\u001b[0m\n\u001b[1;32m      5\u001b[0m     \u001b[38;5;28;01massert\u001b[39;00m c\u001b[38;5;241m>\u001b[39ma,\u001b[38;5;124mf\u001b[39m\u001b[38;5;124m\"\u001b[39m\u001b[38;5;132;01m{\u001b[39;00mc\u001b[38;5;132;01m}\u001b[39;00m\u001b[38;5;124m is greatest\u001b[39m\u001b[38;5;124m\"\u001b[39m\n\u001b[1;32m      6\u001b[0m \u001b[38;5;28;01melse\u001b[39;00m:\n\u001b[0;32m----> 7\u001b[0m     \u001b[38;5;28;01massert\u001b[39;00m b\u001b[38;5;241m>\u001b[39mc,\u001b[38;5;124mf\u001b[39m\u001b[38;5;124m\"\u001b[39m\u001b[38;5;132;01m{\u001b[39;00mb\u001b[38;5;132;01m}\u001b[39;00m\u001b[38;5;124m is greatest \u001b[39m\u001b[38;5;124m\"\u001b[39m\n\u001b[1;32m      8\u001b[0m     \u001b[38;5;28;01massert\u001b[39;00m c\u001b[38;5;241m>\u001b[39mb, \u001b[38;5;124mf\u001b[39m\u001b[38;5;124m\"\u001b[39m\u001b[38;5;132;01m{\u001b[39;00mc\u001b[38;5;132;01m}\u001b[39;00m\u001b[38;5;124m is greatest\u001b[39m\u001b[38;5;124m\"\u001b[39m\n",
      "\u001b[0;31mAssertionError\u001b[0m: 56 is greatest "
     ]
    }
   ],
   "source": [
    "# 15. How do you use the \"assert\" statement in Python to add debugging checks within if-else blocks?\n",
    "def great(a,b,c):\n",
    "    if a>b:\n",
    "        assert a>c, f\"{a} is greatest\"\n",
    "        assert c>a,f\"{c} is greatest\"\n",
    "    else:\n",
    "        assert b>c,f\"{b} is greatest \"\n",
    "        assert c>b, f\"{c} is greatest\"\n",
    "x,y,z=map(int,input().split())\n",
    "res=great(x,y,z)\n",
    "print(res)"
   ]
  },
  {
   "cell_type": "code",
   "execution_count": 3,
   "id": "d9527c7c-12a6-460a-9933-39626a9084f0",
   "metadata": {},
   "outputs": [],
   "source": [
    "# I used the assertion in if-else blocks anyhow "
   ]
  },
  {
   "cell_type": "code",
   "execution_count": 4,
   "id": "dc6d04b2-014d-4f55-9216-8f74f56863da",
   "metadata": {},
   "outputs": [
    {
     "name": "stdin",
     "output_type": "stream",
     "text": [
      " 45\n"
     ]
    },
    {
     "name": "stdout",
     "output_type": "stream",
     "text": [
      "Not eligible\n"
     ]
    }
   ],
   "source": [
    "# 16. Create a Python program that determines the eligibility of a person for a senior citizen discount based on age using if-else\n",
    "age=int(input())\n",
    "if age>=60:\n",
    "    print(\"Eligible\")\n",
    "else:\n",
    "    print(\"Not eligible\")"
   ]
  },
  {
   "cell_type": "code",
   "execution_count": 8,
   "id": "33538d83-0948-47a1-8064-eba0bd897e11",
   "metadata": {},
   "outputs": [
    {
     "name": "stdin",
     "output_type": "stream",
     "text": [
      " 3\n"
     ]
    },
    {
     "name": "stdout",
     "output_type": "stream",
     "text": [
      "Neither lower nor upper\n"
     ]
    },
    {
     "name": "stdin",
     "output_type": "stream",
     "text": [
      " a\n"
     ]
    },
    {
     "name": "stdout",
     "output_type": "stream",
     "text": [
      "Lower case\n"
     ]
    },
    {
     "name": "stdin",
     "output_type": "stream",
     "text": [
      " A\n"
     ]
    },
    {
     "name": "stdout",
     "output_type": "stream",
     "text": [
      "Upper case\n"
     ]
    }
   ],
   "source": [
    "# 17. Write a Python program to categorize a given character as uppercase, lowercase, or neither using if-else.\n",
    "for _ in range(3):\n",
    "    a=input()\n",
    "    if a in [chr(ord('a')+i) for i in range(26)]:\n",
    "        print(\"Lower case\")\n",
    "    else:\n",
    "        if  a in [chr(ord('A')+i) for i in range(26)]:\n",
    "            print(\"Upper case\")\n",
    "        else:\n",
    "            print(\"Neither lower nor upper\")"
   ]
  },
  {
   "cell_type": "code",
   "execution_count": 10,
   "id": "a410c51d-eb26-4c66-94f7-ad51401900b2",
   "metadata": {},
   "outputs": [
    {
     "name": "stdin",
     "output_type": "stream",
     "text": [
      " 200\n"
     ]
    },
    {
     "name": "stdout",
     "output_type": "stream",
     "text": [
      "Century year\n"
     ]
    }
   ],
   "source": [
    "# 19. Create a Python program that checks if a given year is a century year or not using if-else.\n",
    "yr=int(input())\n",
    "if yr%100==0:\n",
    "    print(\"Century year\")\n",
    "else:\n",
    "    print(\"not a century year\")"
   ]
  },
  {
   "cell_type": "code",
   "execution_count": 17,
   "id": "b8e730b5-1a6e-4607-bc4b-6ba14c38e936",
   "metadata": {},
   "outputs": [
    {
     "name": "stdin",
     "output_type": "stream",
     "text": [
      " 25\n"
     ]
    },
    {
     "name": "stdout",
     "output_type": "stream",
     "text": [
      "Yes it is perfect square\n"
     ]
    },
    {
     "name": "stdin",
     "output_type": "stream",
     "text": [
      " 45\n"
     ]
    },
    {
     "name": "stdout",
     "output_type": "stream",
     "text": [
      "No its not\n"
     ]
    }
   ],
   "source": [
    "# 20. Write a Python program to determine if a given number is a perfect square using if-else.\n",
    "for _ in range(2):\n",
    "    a=int(input())\n",
    "    if a==int(a**0.5)*int(a**0.5):\n",
    "                          print(\"Yes it is perfect square\")\n",
    "    else:\n",
    "        print(\"No its not\")"
   ]
  },
  {
   "cell_type": "code",
   "execution_count": null,
   "id": "ac74792c-1b85-403b-9a5a-af30dae37b02",
   "metadata": {},
   "outputs": [],
   "source": [
    "# 21. Explain the purpose of the \"continue\" and \"break\" statements within if-else loops.\n",
    "continue :\n",
    "    it is used to skip the statements after it .\n",
    "break:\n",
    "    it is used to terminate the loop without checking all iterations executed or not"
   ]
  },
  {
   "cell_type": "code",
   "execution_count": 2,
   "id": "11d4b628-f525-4f2b-a3e4-036676bc0ffd",
   "metadata": {},
   "outputs": [
    {
     "name": "stdin",
     "output_type": "stream",
     "text": [
      "Enter weight in : 200\n",
      "Enter height : 1.5\n"
     ]
    },
    {
     "name": "stdout",
     "output_type": "stream",
     "text": [
      "Your bmi is 88.88888888888889 which means you are obese go hit gym\n"
     ]
    }
   ],
   "source": [
    "# 22. Create a Python program that calculates the BMI (Body Mass Index) of a person based on their weight and height using if-else\n",
    "weight=float(input(\"Enter weight in :\"))\n",
    "height=float(input(\"Enter height :\"))            \n",
    "bmi=weight/(height**2)\n",
    "if bmi<18.5:\n",
    "    print(f\"Your bmi is {bmi} whuich means you are underweight \")\n",
    "elif 18.5<bmi<25:\n",
    "    print(f\"Your bmi is {bmi} which means you are normal \")\n",
    "elif 25<bmi<30:\n",
    "    print(f\"Your bmi is {bmi} which means you are overweight \")\n",
    "else:\n",
    "    print(f\"Your bmi is {bmi} which means you are obese go hit gym\")\n",
    "    "
   ]
  },
  {
   "cell_type": "code",
   "execution_count": 3,
   "id": "f59b4806-ebf8-4df3-b853-0c56e48a2eda",
   "metadata": {},
   "outputs": [
    {
     "name": "stdout",
     "output_type": "stream",
     "text": [
      "[18, 23, 45, 34]\n"
     ]
    }
   ],
   "source": [
    "# 23. How can you use the \"filter()\" function with if-else statements to filter elements from a list?\n",
    "def voter_age(n):\n",
    "    if n>=18:\n",
    "        return n\n",
    "    else:\n",
    "        pass\n",
    "a=[18,15,23,13,45,16,10,34]\n",
    "filtr=filter(voter_age,a)\n",
    "print(list(filtr))"
   ]
  },
  {
   "cell_type": "code",
   "execution_count": 5,
   "id": "4ee184a1-dc99-4b9e-acac-c00dd2de35e2",
   "metadata": {},
   "outputs": [
    {
     "name": "stdin",
     "output_type": "stream",
     "text": [
      " 34\n"
     ]
    },
    {
     "name": "stdout",
     "output_type": "stream",
     "text": [
      "False\n"
     ]
    }
   ],
   "source": [
    "# 24. Write a Python program to determine if a given number is prime or not using if-else.\n",
    "def prime(n):\n",
    "    if n<=1:\n",
    "        return False\n",
    "    elif n==2:\n",
    "        return False\n",
    "    else:\n",
    "        for i in range(2,int((n**0.5)+1)):\n",
    "            if n%i==0:\n",
    "                return False\n",
    "            return True\n",
    "n=int(input())\n",
    "res=prime(n)\n",
    "print(res)"
   ]
  },
  {
   "cell_type": "markdown",
   "id": "1c5e850e-4b02-42ee-a224-9a86ff03e7b3",
   "metadata": {},
   "source": [
    "# Map :"
   ]
  },
  {
   "cell_type": "code",
   "execution_count": null,
   "id": "9d92b536-7511-4e7b-89e6-ea6064408050",
   "metadata": {},
   "outputs": [],
   "source": [
    "# 1. Explain the purpose of the `map()` function in Python and provide an example of how it can be used to apply a function to each element of an iterable.\n",
    "Map:\n",
    "    it is inbuilt function used to assign a method or values to specific variables\n",
    "example:\n",
    "    x,y,z=map(int,input().split())"
   ]
  },
  {
   "cell_type": "code",
   "execution_count": 7,
   "id": "1f75a907-6d87-4fbc-91d0-c6932fe9372b",
   "metadata": {},
   "outputs": [
    {
     "name": "stdout",
     "output_type": "stream",
     "text": [
      "[1, 4, 9, 16, 25, 36, 49, 64]\n"
     ]
    }
   ],
   "source": [
    "# 2. Write a Python program that uses the `map()` function to square each element of a list of number\n",
    "def sqr(n):\n",
    "    return n*n\n",
    "l=[1,2,3,4,5,6,7,8]\n",
    "res=list(map(sqr,l))\n",
    "print(res)"
   ]
  },
  {
   "cell_type": "code",
   "execution_count": null,
   "id": "db33bbf4-2bd6-4309-9896-90a5d4d31919",
   "metadata": {},
   "outputs": [],
   "source": [
    "# 3. How does the `map()` function differ from a list comprehension in Python, and when would you choose one over the other?\n",
    "map() function: \n",
    "    map(function, iterable)\n",
    "    we can make a function work over different iteration \n",
    "    \n",
    "List comprehension: \n",
    "    [expression for item in iterable if condition]\n",
    "    it makes list of elements which satisfy a condition"
   ]
  },
  {
   "cell_type": "code",
   "execution_count": 11,
   "id": "afa6e727-9609-4e55-bc98-d909d03d8d76",
   "metadata": {},
   "outputs": [
    {
     "name": "stdout",
     "output_type": "stream",
     "text": [
      "['HARI', 'MANEESH', 'AJAY', 'VISHW', 'VICKY', 'SARO']\n"
     ]
    }
   ],
   "source": [
    "# 4. Create a Python program that uses the `map()` function to convert a list of names to uppercase.\n",
    "l=[\"hari\",\"maneesh\",\"ajay\",\"vishw\",\"vicky\",\"saro\"]\n",
    "res=list(map(str.upper,l))\n",
    "print(res)"
   ]
  },
  {
   "cell_type": "code",
   "execution_count": 16,
   "id": "b2e6bd0c-8e2b-429b-9c38-50232274fefd",
   "metadata": {},
   "outputs": [
    {
     "name": "stdout",
     "output_type": "stream",
     "text": [
      "['hari', 'maneesh', 'ajay', 'vishw', 'vicky', 'saro']\n",
      "[4, 7, 4, 5, 5, 4]\n"
     ]
    }
   ],
   "source": [
    "# 5. Write a Python program that uses the `map()` function to calculate the length of each word in a list of strings\n",
    "print(l)\n",
    "res=list(map(len,l))\n",
    "print(res)"
   ]
  },
  {
   "cell_type": "code",
   "execution_count": 17,
   "id": "230d4bee-9452-4d21-9d64-53d7ab403e84",
   "metadata": {},
   "outputs": [
    {
     "name": "stdout",
     "output_type": "stream",
     "text": [
      "[6, 8, 10, 12, 14, 12]\n"
     ]
    }
   ],
   "source": [
    "# 6. How can you use the `map()` function to apply a custom function to elements of multiple lists simultaneously in Python?\n",
    "def multiple(x,y):\n",
    "    return x+y\n",
    "l1=[1,2,3,4,5,6]\n",
    "l2=[5,6,7,8,9,6]\n",
    "res=list(map(multiple,l1,l2))\n",
    "print(res)"
   ]
  },
  {
   "cell_type": "code",
   "execution_count": 18,
   "id": "8ac6fb96-d855-4566-b0fd-ba7ef70f6947",
   "metadata": {},
   "outputs": [
    {
     "name": "stdout",
     "output_type": "stream",
     "text": [
      "[73.4, 113.0, 132.8, 172.4, 194.0]\n"
     ]
    }
   ],
   "source": [
    "# 7. Create a Python program that uses `map()` to convert a list of temperatures from Celsius to Fahrenheit.\n",
    "def fah(c):\n",
    "    return (c*(9/5)+32)\n",
    "tem=[23,45,56,78,90]\n",
    "res=list(map(fah,tem))\n",
    "print(res)"
   ]
  },
  {
   "cell_type": "code",
   "execution_count": 2,
   "id": "23fe3d98-093d-4c77-afcb-9f5105583783",
   "metadata": {},
   "outputs": [
    {
     "name": "stdout",
     "output_type": "stream",
     "text": [
      "[3, 5, 7, 8]\n"
     ]
    }
   ],
   "source": [
    "# 8. Write a Python program that uses the `map()` function to round each element of a list of floating-point numbers to the nearest integer.\n",
    "float_nums=[3.45,5.45,6.54,7.56]\n",
    "res=list(map(round,float_nums))\n",
    "print(res)\n",
    "def add(x,y):\n",
    "        return x+y\n",
    "    lis=[1,2,3,4,5,6]\n",
    "    res=reduce(add,lis)"
   ]
  },
  {
   "cell_type": "markdown",
   "id": "6eaf45ee-8cf1-4543-ab65-5b7ba268f91a",
   "metadata": {},
   "source": [
    "# Reduce :"
   ]
  },
  {
   "cell_type": "code",
   "execution_count": null,
   "id": "a51cc4d6-0dfb-4171-9dbf-36867f1ed07b",
   "metadata": {},
   "outputs": [],
   "source": [
    "# 1. What is the `reduce()` function in Python, and what module should you import to use it? Provide an example of its basic usage.\n",
    "\n",
    "reduce():\n",
    "    it is used to make use of a function with iterables \n",
    "module:\n",
    "    from functools import reduce\n",
    "example:\n",
    "    "
   ]
  },
  {
   "cell_type": "code",
   "execution_count": 6,
   "id": "40a17b88-5cd0-4d63-a12c-c539ebb73038",
   "metadata": {},
   "outputs": [
    {
     "name": "stdout",
     "output_type": "stream",
     "text": [
      "21\n"
     ]
    }
   ],
   "source": [
    "example:\n",
    "from functools import reduce\n",
    "def add(x,y):\n",
    "        return x+y\n",
    "lis=[1,2,3,4,5,6]\n",
    "res=reduce(add,lis)\n",
    "print(res)"
   ]
  },
  {
   "cell_type": "code",
   "execution_count": 7,
   "id": "b4e96c09-9479-45fc-b35a-acc4ef35124c",
   "metadata": {},
   "outputs": [
    {
     "name": "stdout",
     "output_type": "stream",
     "text": [
      "720\n"
     ]
    }
   ],
   "source": [
    "# 2. Write a Python program that uses the `reduce()` function to find the product of all elements in a list.\n",
    "from functools import reduce\n",
    "def prod(x,y):\n",
    "        return x*y\n",
    "lis=[1,2,3,4,5,6]\n",
    "res=reduce(prod,lis)\n",
    "print(res)\n"
   ]
  },
  {
   "cell_type": "code",
   "execution_count": 4,
   "id": "14f82f94-9872-4551-b8de-d70bd4c4c8b1",
   "metadata": {},
   "outputs": [
    {
     "name": "stdin",
     "output_type": "stream",
     "text": [
      " 1,2,3,4,5\n"
     ]
    },
    {
     "name": "stdout",
     "output_type": "stream",
     "text": [
      "1\n"
     ]
    },
    {
     "name": "stdin",
     "output_type": "stream",
     "text": [
      " 6,7,8,9\n"
     ]
    },
    {
     "name": "stdout",
     "output_type": "stream",
     "text": [
      "6\n"
     ]
    },
    {
     "name": "stdin",
     "output_type": "stream",
     "text": [
      " 34,45,56,67,78\n"
     ]
    },
    {
     "name": "stdout",
     "output_type": "stream",
     "text": [
      "34\n"
     ]
    }
   ],
   "source": [
    "# 3. Create a Python program that uses `reduce()` to find the maximum element in a list of numbers.\n",
    "from functools import reduce\n",
    "for _ in range(3):\n",
    "    l=list(map(int,input().split(\",\")))\n",
    "    min=reduce(lambda a,b: a if a<=b else b,l)\n",
    "    print(min)\n",
    "    "
   ]
  },
  {
   "cell_type": "code",
   "execution_count": 9,
   "id": "fbdf7754-05a8-4aa5-95f0-82b06bdc95bb",
   "metadata": {},
   "outputs": [
    {
     "name": "stdin",
     "output_type": "stream",
     "text": [
      "Enter : hari krishna\n"
     ]
    },
    {
     "name": "stdout",
     "output_type": "stream",
     "text": [
      "harikrishna\n"
     ]
    },
    {
     "name": "stdin",
     "output_type": "stream",
     "text": [
      "Enter : sujitha naidu\n"
     ]
    },
    {
     "name": "stdout",
     "output_type": "stream",
     "text": [
      "sujithanaidu\n"
     ]
    },
    {
     "name": "stdin",
     "output_type": "stream",
     "text": [
      "Enter : komala ramesh\n"
     ]
    },
    {
     "name": "stdout",
     "output_type": "stream",
     "text": [
      "komalaramesh\n"
     ]
    }
   ],
   "source": [
    "# 4. How can you use the `reduce()` function to concatenate a list of strings into a single string?\n",
    "from functools import reduce\n",
    "for _ in range(3):\n",
    "    l=list(map(str,input(\"Enter :\").split()))\n",
    "    res=reduce(lambda a,b:a+ b,l)\n",
    "    print(res)"
   ]
  },
  {
   "cell_type": "code",
   "execution_count": 11,
   "id": "788a9954-cb4e-462f-b4d7-031c69fdfc98",
   "metadata": {},
   "outputs": [
    {
     "name": "stdin",
     "output_type": "stream",
     "text": [
      " 45\n"
     ]
    },
    {
     "name": "stdout",
     "output_type": "stream",
     "text": [
      "The fact of num is 119622220865480194561963161495657715064383733760000000000\n"
     ]
    }
   ],
   "source": [
    "# 5. Write a Python program that calculates the factorial of a number using the `reduce()` function\n",
    "from functools import reduce\n",
    "def fact(n):\n",
    "    multiply=lambda a,b:a*b\n",
    "    return reduce(multiply,range(1,n+1),1)\n",
    "num=int(input())\n",
    "if num<0:\n",
    "    print(\"Negative values not allowed\")\n",
    "else:\n",
    "    print(f\"The fact of num is {fact(num)}\")\n"
   ]
  },
  {
   "cell_type": "code",
   "execution_count": 14,
   "id": "02524798-1a51-481e-846a-ae1617d119c4",
   "metadata": {},
   "outputs": [
    {
     "name": "stdin",
     "output_type": "stream",
     "text": [
      " 24 36 48 60\n"
     ]
    },
    {
     "name": "stdout",
     "output_type": "stream",
     "text": [
      "The gcd of a list of numbers is 12\n"
     ]
    }
   ],
   "source": [
    "# 6. Create a Python program that uses `reduce()` to find the GCD (Greatest Common Divisor) of a list of numbers.\n",
    "from functools import reduce\n",
    "import math\n",
    "def gcd(x,y):\n",
    "    return math.gcd(x,y)\n",
    "def gcd_of_nums(numbers):\n",
    "    res=reduce(gcd,numbers)\n",
    "    return res\n",
    "nums=list(map(int,input().split()))\n",
    "if len(nums)==0:\n",
    "    print(\"Gcd can't be determined to a empty list \")\n",
    "else:\n",
    "    print(f\"The gcd of a list of numbers is {gcd_of_nums(nums)}\")"
   ]
  },
  {
   "cell_type": "code",
   "execution_count": 20,
   "id": "0dc17652-acfb-4d25-80d1-5291e166d521",
   "metadata": {},
   "outputs": [
    {
     "name": "stdin",
     "output_type": "stream",
     "text": [
      " 456.678\n"
     ]
    },
    {
     "name": "stdout",
     "output_type": "stream",
     "text": [
      "36\n"
     ]
    }
   ],
   "source": [
    "# 7. Write a Python program that uses the `reduce()` function to find the sum of the digits of a given number.\n",
    "from functools import reduce\n",
    "def dig_sum(n):\n",
    "    digs=[int(num) for num in str(n) if num.isdigit()]\n",
    "    res=reduce(lambda a,b:a+b ,digs)\n",
    "    return res\n",
    "n=input()\n",
    "print(dig_sum(n))\n"
   ]
  },
  {
   "cell_type": "markdown",
   "id": "dc7e3c97-b29f-4d02-8242-e1bd6181be47",
   "metadata": {},
   "source": [
    "# Filter"
   ]
  },
  {
   "cell_type": "code",
   "execution_count": 23,
   "id": "ef6b1d1a-0910-42ef-8656-f594ff4ccb51",
   "metadata": {},
   "outputs": [
    {
     "name": "stdout",
     "output_type": "stream",
     "text": [
      "[2, 4, 6, 8]\n"
     ]
    }
   ],
   "source": [
    "# 1. Explain the purpose of the `filter()` function in Python and provide an example of how it can be used to filter elements from an iterable.\n",
    "#filter:\n",
    " #   it is method which takes a function if provided and iterable and picks up the elements in iterables which satisfy the condition \n",
    "#example:\n",
    "    def even(n):\n",
    "        if n%2==0:\n",
    "            return n\n",
    "        else:\n",
    "            pass\n",
    "    lis=[1,2,3,4,5,6,7,8,9]\n",
    "    res=list(filter(even,lis))\n",
    "    print(res)"
   ]
  },
  {
   "cell_type": "code",
   "execution_count": 26,
   "id": "bb7d8888-12ae-43d0-8a7d-db2a63d3e89b",
   "metadata": {},
   "outputs": [
    {
     "name": "stdout",
     "output_type": "stream",
     "text": [
      "[2, 4, 6, 8]\n"
     ]
    }
   ],
   "source": [
    "# 2. Write a Python program that uses the `filter()` function to select even numbers from a list of integers.\n",
    "def even(n):\n",
    "        if n%2==0:\n",
    "            return n\n",
    "        else:\n",
    "            pass\n",
    "lis=[1,2,3,4,5,6,7,8,9]\n",
    "res=list(filter(even,lis))\n",
    "print(res)"
   ]
  },
  {
   "cell_type": "code",
   "execution_count": 30,
   "id": "2d08365e-5a8d-4c3a-b7a1-66f1d5059db4",
   "metadata": {},
   "outputs": [
    {
     "name": "stdin",
     "output_type": "stream",
     "text": [
      " hari anjali archana abinaya\n"
     ]
    },
    {
     "name": "stdout",
     "output_type": "stream",
     "text": [
      "['anjali', 'archana', 'abinaya']\n"
     ]
    }
   ],
   "source": [
    "# 3. Create a Python program that uses the `filter()` function to select names that start with a specific letter from a list of strings.\n",
    "def sel(n):\n",
    "    if n[0] in'aA':\n",
    "        return n\n",
    "\n",
    "\n",
    "\n",
    "l=[str(item) for item in input().split() if len(item)>0]\n",
    "res=list(filter(sel,l))\n",
    "print(res)\n",
    "\n"
   ]
  },
  {
   "cell_type": "code",
   "execution_count": 1,
   "id": "56d7cf20-4dc1-4957-9c9b-1748e7f5b5da",
   "metadata": {},
   "outputs": [
    {
     "name": "stdin",
     "output_type": "stream",
     "text": [
      " 1,2,3,4,5,6,7,8,9,13,11,17,19\n"
     ]
    },
    {
     "name": "stdout",
     "output_type": "stream",
     "text": [
      "[2, 3, 5, 7, 13, 11, 17, 19]\n"
     ]
    }
   ],
   "source": [
    "# 4. Write a Python program that uses the `filter()` function to select prime numbers from a list of integers\n",
    "def isprim(n):\n",
    "    if n>1:\n",
    "        if n==2:\n",
    "            return True\n",
    "        else:\n",
    "            for i in range(2,int(n**0.5 )+1):\n",
    "                if n%i==0:\n",
    "                    return False\n",
    "            return True\n",
    "lis=list(map(int,input().split(\",\")))\n",
    "res=list(filter(isprim,lis))\n",
    "print(res)\n"
   ]
  },
  {
   "cell_type": "code",
   "execution_count": 9,
   "id": "d6d3a950-ba22-4893-b2e6-5cf908a8c677",
   "metadata": {},
   "outputs": [
    {
     "name": "stdout",
     "output_type": "stream",
     "text": [
      "['hari', 'g', [], '']\n"
     ]
    }
   ],
   "source": [
    "# 5. How can you use the `filter()` function to remove None values from a list in Python?\n",
    "    \n",
    "l=[\"hari\",'g',[],None,'']\n",
    "res=list(filter(lambda x:x is not None,l))\n",
    "print(res)"
   ]
  },
  {
   "cell_type": "code",
   "execution_count": 10,
   "id": "eb5af82b-eb5f-4ba5-8f46-981d9b2772e9",
   "metadata": {},
   "outputs": [
    {
     "name": "stdin",
     "output_type": "stream",
     "text": [
      " hari,archana,komala,gunabhushanam\n"
     ]
    },
    {
     "name": "stdout",
     "output_type": "stream",
     "text": [
      "['archana', 'komala', 'gunabhushanam']\n"
     ]
    }
   ],
   "source": [
    "# 6. Create a Python program that uses `filter()` to select words longer than a certain length from a list of strings\n",
    "def length(n):\n",
    "    if len(n)>=6:\n",
    "        return n\n",
    "l=list(map(str,input().split(\",\")))\n",
    "res=list(filter(length,l))\n",
    "print(res)"
   ]
  },
  {
   "cell_type": "code",
   "execution_count": 12,
   "id": "d38f170a-1063-474d-a325-8c27e43a5d69",
   "metadata": {},
   "outputs": [
    {
     "name": "stdin",
     "output_type": "stream",
     "text": [
      " 1,2,3,4,5,6,7,8,9\n"
     ]
    },
    {
     "name": "stdout",
     "output_type": "stream",
     "text": [
      "[7, 8, 9]\n"
     ]
    }
   ],
   "source": [
    "# 7. def length(n):Write a Python program that uses the `filter()` function to select elements greater than a specified threshold from a list of values.\n",
    "def length(n):\n",
    "    if n>6:\n",
    "        return n\n",
    "l=list(map(int,input().split(\",\")))\n",
    "res=list(filter(length,l))\n",
    "print(res)"
   ]
  },
  {
   "cell_type": "markdown",
   "id": "c397c52c-39cd-4e31-9bb5-296890459090",
   "metadata": {},
   "source": [
    "# Recursion:-\n",
    "\n"
   ]
  },
  {
   "cell_type": "code",
   "execution_count": null,
   "id": "5977a11d-6bae-4012-9f01-9aebaf848fcf",
   "metadata": {},
   "outputs": [],
   "source": [
    "# 1. Explain the concept of recursion in Python. How does it differ from iteration?\n",
    "recursion:\n",
    "    we make use of a function in its own function that is a function use a piece of code present in it\n",
    "iteration:\n",
    "    In this method loop may undergo finite or infinite(while  loop) times "
   ]
  },
  {
   "cell_type": "code",
   "execution_count": 18,
   "id": "7453cfab-7e9d-4eef-9143-e9eae06c2b11",
   "metadata": {},
   "outputs": [
    {
     "name": "stdout",
     "output_type": "stream",
     "text": [
      "1307674368000\n"
     ]
    }
   ],
   "source": [
    "# 2. Write a Python program to calculate the factorial of a number using recursion.\n",
    "def fact(n):\n",
    "    if n>0:\n",
    "        if n==0 or n==1:\n",
    "            return 1\n",
    "        else:\n",
    "            return n*fact(n-1)\n",
    "    else:\n",
    "        return \"Factorial can't be determined for negative\"\n",
    "print(fact(15))\n",
    "\n"
   ]
  },
  {
   "cell_type": "code",
   "execution_count": 1,
   "id": "874ec7b9-7890-4006-9d1c-4f6dd9dd77dc",
   "metadata": {},
   "outputs": [
    {
     "name": "stdin",
     "output_type": "stream",
     "text": [
      " 45\n"
     ]
    },
    {
     "name": "stdout",
     "output_type": "stream",
     "text": [
      " The fibonacci number in nth position is 701408733\n"
     ]
    }
   ],
   "source": [
    "# 3. Create a recursive Python function to find the nth Fibonacci number.\n",
    "def n_fibo_num(n):\n",
    "    fib=[]\n",
    "    fib.append(0)\n",
    "    fib.append(1)\n",
    "    if n<2:\n",
    "        return fib[n-1]\n",
    "    else:\n",
    "        for i in range(2,n+1):\n",
    "            f=fib[i-2]\n",
    "            s=fib[i-1]\n",
    "            fib.append(f+s)\n",
    "            f=s\n",
    "            s=fib[i]\n",
    "        return fib[n-1]\n",
    "n=int(input())\n",
    "print(f\" The fibonacci number in nth position is {n_fibo_num(n)}\")"
   ]
  },
  {
   "cell_type": "code",
   "execution_count": 6,
   "id": "a2dec881-c923-467b-a146-ba2399cee7b5",
   "metadata": {},
   "outputs": [
    {
     "name": "stdout",
     "output_type": "stream",
     "text": [
      "15\n"
     ]
    }
   ],
   "source": [
    "# 4. Write a recursive Python function to calculate the sum of all elements in a list.\n",
    "sum=0\n",
    "def sum_l(l):\n",
    "    if len(l)==0:\n",
    "        return 0\n",
    "    else:\n",
    "        return l[0]+sum_l(l[1:])\n",
    "\n",
    "l=[1,2,3,4,5]\n",
    "print(sum_l(l))\n",
    "    "
   ]
  },
  {
   "cell_type": "code",
   "execution_count": null,
   "id": "af80c44d-68c4-4813-8136-964357b78544",
   "metadata": {},
   "outputs": [],
   "source": [
    "#5. How can you prevent a recursive function from running indefinitely, causing a stack overflow error?\n",
    "I simply set condition as\n",
    "if len(list)==0:\n",
    "    return \"statements\"\n",
    "This will prevent running indefinitely\n"
   ]
  },
  {
   "cell_type": "code",
   "execution_count": 10,
   "id": "cb03516d-c224-49c4-a590-3787e4fbc60b",
   "metadata": {},
   "outputs": [
    {
     "name": "stdin",
     "output_type": "stream",
     "text": [
      " 100,34\n"
     ]
    },
    {
     "name": "stdout",
     "output_type": "stream",
     "text": [
      "The gcd of 100 and 34 is 2\n"
     ]
    }
   ],
   "source": [
    "# 6. Create a recursive Python function to find the greatest common divisor (GCD) of two numbers using the Euclidean algorithm.\n",
    "def gcd_Ec(a,b):\n",
    "    while b!=0:\n",
    "        a,b=b,a%b\n",
    "    return a\n",
    "a,b=map(int,input().split(\",\"))\n",
    "print(f\"The gcd of {a} and {b} is {gcd_Ec(a,b)}\")"
   ]
  },
  {
   "cell_type": "code",
   "execution_count": 3,
   "id": "c67771e5-4515-48cf-b606-303b5d729426",
   "metadata": {},
   "outputs": [
    {
     "name": "stdout",
     "output_type": "stream",
     "text": [
      ".gnirts a esrever ot noitcnuf nohtyP evisrucer a etirW\n"
     ]
    }
   ],
   "source": [
    "# 7. Write a recursive Python function to reverse a string.\n",
    "def rev(st):\n",
    "    if len(st)<=1:\n",
    "        return st\n",
    "    else:\n",
    "        return st[-1]+rev(st[0:-1])\n",
    "print(rev(\"Write a recursive Python function to reverse a string.\"))"
   ]
  },
  {
   "cell_type": "code",
   "execution_count": 10,
   "id": "f8c8d7da-f430-484d-a96c-3e9fd0c119df",
   "metadata": {},
   "outputs": [
    {
     "name": "stdin",
     "output_type": "stream",
     "text": [
      "Number 4\n",
      "Power 6\n"
     ]
    },
    {
     "name": "stdout",
     "output_type": "stream",
     "text": [
      "4096\n"
     ]
    }
   ],
   "source": [
    "# 8. Create a recursive Python function to calculate the power of a number (x^n).\n",
    "def power(x,n):\n",
    "    if n==1:\n",
    "        return x\n",
    "    else:\n",
    "        return x*power(x,n-1)\n",
    "x=int(input(\"Number\"))\n",
    "n=int(input(\"Power\"))\n",
    "print(power(x,n))\n",
    "        "
   ]
  },
  {
   "cell_type": "code",
   "execution_count": 3,
   "id": "bbd8f362-aec2-4f6c-8159-8c9d8ab892ab",
   "metadata": {},
   "outputs": [
    {
     "name": "stdin",
     "output_type": "stream",
     "text": [
      "Enter a string:  hari\n"
     ]
    },
    {
     "name": "stdout",
     "output_type": "stream",
     "text": [
      "Permutations of the string: ['hari', 'hair', 'hrai', 'hria', 'hiar', 'hira', 'ahri', 'ahir', 'arhi', 'arih', 'aihr', 'airh', 'rhai', 'rhia', 'rahi', 'raih', 'riha', 'riah', 'ihar', 'ihra', 'iahr', 'iarh', 'irha', 'irah']\n"
     ]
    }
   ],
   "source": [
    "# 9. Write a recursive Python function to find all permutations of a given string.\n",
    "def find_permutations(string):\n",
    "    if len(string) == 0:\n",
    "        return ['']\n",
    "\n",
    "    permutations = []\n",
    "    for i in range(len(string)):\n",
    "        current_char = string[i]\n",
    "        remaining_chars = string[:i] + string[i + 1:]\n",
    "\n",
    "        for permutation in find_permutations(remaining_chars):\n",
    "            permutations.append(current_char + permutation)\n",
    "\n",
    "    return permutations\n",
    "\n",
    "input_string = input(\"Enter a string: \")\n",
    "print(\"Permutations of the string:\", find_permutations(input_string))\n"
   ]
  },
  {
   "cell_type": "code",
   "execution_count": 4,
   "id": "5434d198-5035-4bb3-91c1-06bd250c328a",
   "metadata": {},
   "outputs": [
    {
     "name": "stdout",
     "output_type": "stream",
     "text": [
      "True\n"
     ]
    }
   ],
   "source": [
    "# 10. Write a recursive Python function to check if a string is a palindrome.\n",
    "def is_pal(st):\n",
    "    if len(st)<=1:\n",
    "        return True\n",
    "    if st[0]==st[-1]:\n",
    "        return is_pal(st[1:-1])\n",
    "    else:\n",
    "        return False\n",
    "print(is_pal(\"haah\"))"
   ]
  },
  {
   "cell_type": "code",
   "execution_count": 6,
   "id": "4f228223-45c6-4e24-85a9-beda0938024e",
   "metadata": {},
   "outputs": [
    {
     "name": "stdout",
     "output_type": "stream",
     "text": [
      "Permutations of the string: ['haris', 'harsi', 'hairs', 'haisr', 'hasri', 'hasir', 'hrais', 'hrasi', 'hrias', 'hrisa', 'hrsai', 'hrsia', 'hiars', 'hiasr', 'hiras', 'hirsa', 'hisar', 'hisra', 'hsari', 'hsair', 'hsrai', 'hsria', 'hsiar', 'hsira', 'ahris', 'ahrsi', 'ahirs', 'ahisr', 'ahsri', 'ahsir', 'arhis', 'arhsi', 'arihs', 'arish', 'arshi', 'arsih', 'aihrs', 'aihsr', 'airhs', 'airsh', 'aishr', 'aisrh', 'ashri', 'ashir', 'asrhi', 'asrih', 'asihr', 'asirh', 'rhais', 'rhasi', 'rhias', 'rhisa', 'rhsai', 'rhsia', 'rahis', 'rahsi', 'raihs', 'raish', 'rashi', 'rasih', 'rihas', 'rihsa', 'riahs', 'riash', 'risha', 'risah', 'rshai', 'rshia', 'rsahi', 'rsaih', 'rsiha', 'rsiah', 'ihars', 'ihasr', 'ihras', 'ihrsa', 'ihsar', 'ihsra', 'iahrs', 'iahsr', 'iarhs', 'iarsh', 'iashr', 'iasrh', 'irhas', 'irhsa', 'irahs', 'irash', 'irsha', 'irsah', 'ishar', 'ishra', 'isahr', 'isarh', 'isrha', 'israh', 'shari', 'shair', 'shrai', 'shria', 'shiar', 'shira', 'sahri', 'sahir', 'sarhi', 'sarih', 'saihr', 'sairh', 'srhai', 'srhia', 'srahi', 'sraih', 'sriha', 'sriah', 'sihar', 'sihra', 'siahr', 'siarh', 'sirha', 'sirah']\n"
     ]
    }
   ],
   "source": [
    "# 11. Create a recursive Python function to generate all possible combinations of a list of elements.\n",
    "def find_permutations(string):\n",
    "    if len(string) == 0:\n",
    "        return ['']\n",
    "\n",
    "    permutations = []\n",
    "    for i in range(len(string)):\n",
    "        current_char = string[i]\n",
    "        remaining_chars = string[:i] + string[i + 1:]\n",
    "\n",
    "        for permutation in find_permutations(remaining_chars):\n",
    "            permutations.append(current_char + permutation)\n",
    "\n",
    "    return permutations\n",
    "\n",
    "input_list=['h','a','r','i','s']\n",
    "print(\"Permutations of the string:\", find_permutations(input_list))\n"
   ]
  },
  {
   "cell_type": "markdown",
   "id": "3696841a-77bc-46f1-8da9-915b66eb9221",
   "metadata": {},
   "source": [
    "# Basics of Functions"
   ]
  },
  {
   "cell_type": "markdown",
   "id": "a0e3ddb8-b2de-450d-bcc3-38fa36b3d1a6",
   "metadata": {},
   "source": [
    " 1. What is a function in Python, and why is it used?\n",
    "\n",
    " Function is a collection of statements which can accessed or reused by name of the function again and again \n",
    " \n",
    " \n",
    " Usage : Reusability\n",
    " "
   ]
  },
  {
   "cell_type": "code",
   "execution_count": 1,
   "id": "ef226435-c9b9-410f-9f6d-39f49b8c11d8",
   "metadata": {},
   "outputs": [
    {
     "name": "stdout",
     "output_type": "stream",
     "text": [
      "I am really lazy right now\n"
     ]
    }
   ],
   "source": [
    "# 2. How do you define a function in Python? Provide an example.\n",
    "\n",
    "Function can be defined by the keyword \"def\" and the functiion name\n",
    "\n",
    "def example():\n",
    "    return \"I am really lazy right now\" \n",
    "print(example())"
   ]
  },
  {
   "cell_type": "code",
   "execution_count": null,
   "id": "48021d85-52a5-4ab1-bd97-cb284ef7027a",
   "metadata": {},
   "outputs": [],
   "source": [
    "#3. Explain the difference between a function definition and a function call.\n",
    "sno  Function definition                Function call\n",
    "\n",
    "1    here we right the actual        here we call function with its name whenever \n",
    "     structure and all statements     we require the set of statements "
   ]
  },
  {
   "cell_type": "code",
   "execution_count": 2,
   "id": "49c3d0f2-0ad8-4ccc-82f2-d23c37f34f71",
   "metadata": {},
   "outputs": [
    {
     "name": "stdout",
     "output_type": "stream",
     "text": [
      "69\n"
     ]
    }
   ],
   "source": [
    "# 4. Write a Python program that defines a function to calculate the sum of two numbers and then calls the function.\n",
    "def add(a,b):\n",
    "    return a+b\n",
    "print(add(24,45))"
   ]
  },
  {
   "cell_type": "code",
   "execution_count": 3,
   "id": "cc6585f7-67df-4d2a-926b-f4c9fed83020",
   "metadata": {},
   "outputs": [
    {
     "name": "stdout",
     "output_type": "stream",
     "text": [
      "6\n"
     ]
    }
   ],
   "source": [
    "# 6. Create a Python function that takes two arguments and returns their product.\n",
    "def mul(a,b):\n",
    "    return a*b\n",
    "print(mul(2, 3))"
   ]
  },
  {
   "cell_type": "markdown",
   "id": "f8eec55a-f9c3-4a89-9d76-06189bae1181",
   "metadata": {},
   "source": [
    "# Function Parameters and Arguments:"
   ]
  },
  {
   "cell_type": "code",
   "execution_count": null,
   "id": "6a3f20a0-4874-41f7-88db-1931923f76f8",
   "metadata": {},
   "outputs": [],
   "source": [
    "# 1. Explain the concepts of formal parameters and actual arguments in Python functions.\n",
    "Formal parameters:\n",
    "    These are the place holders that are assigned with a specific values \n",
    "\n",
    "    \n",
    "Actual parameters:\n",
    "    These are the actual values which are given to place holders in  function"
   ]
  },
  {
   "cell_type": "code",
   "execution_count": 4,
   "id": "0d31e500-07c6-4a37-8649-f3d47e61cefb",
   "metadata": {},
   "outputs": [
    {
     "name": "stdout",
     "output_type": "stream",
     "text": [
      "79\n"
     ]
    }
   ],
   "source": [
    "# 2. Write a Python program that defines a function with default argument values.\n",
    "def add():\n",
    "    return 34+45\n",
    "print(add())"
   ]
  },
  {
   "cell_type": "code",
   "execution_count": 5,
   "id": "e54283cd-7ab2-44f2-9506-78c5d3cff819",
   "metadata": {},
   "outputs": [
    {
     "name": "stdout",
     "output_type": "stream",
     "text": [
      "hari is 20years old and studying in chennai Vidhyalaya\n"
     ]
    }
   ],
   "source": [
    "# 3. How do you use keyword arguments in Python function calls? Provide an example.\n",
    "def info(name,age,school):\n",
    "    return f\"{name} is {age}years old and studying in {school}\"\n",
    "print(info(\"hari\",20,\"chennai Vidhyalaya\"))\n"
   ]
  },
  {
   "cell_type": "code",
   "execution_count": 7,
   "id": "053194f7-e0d5-482d-b978-62b755045db5",
   "metadata": {},
   "outputs": [
    {
     "name": "stdout",
     "output_type": "stream",
     "text": [
      "28\n"
     ]
    }
   ],
   "source": [
    "# 4. Create a Python function that accepts a variable number of arguments and calculates their sum.\n",
    "\n",
    "def add(*nums):\n",
    "    return sum(nums)\n",
    "nums=[1,2,3,4,5,6,7]\n",
    "print(add(*nums))"
   ]
  },
  {
   "cell_type": "code",
   "execution_count": null,
   "id": "ff95c28a-b594-4655-bf88-44af0708836a",
   "metadata": {},
   "outputs": [],
   "source": [
    "# 5. What is the purpose of the `*args` and `**kwargs` syntax in function parameter lists?\n",
    "*args:\n",
    "    It collects all the arguements passed to the function into a tuple and run the function with the arguements \n",
    "**kwargs:\n",
    "    It collects all the arguements passed to the function into a dictionary and  run the function with the arguements \n"
   ]
  },
  {
   "cell_type": "markdown",
   "id": "d7f2e06c-5042-4b52-84d0-346a7aa29ca4",
   "metadata": {},
   "source": [
    "# Return Values and Scoping:\n"
   ]
  },
  {
   "cell_type": "code",
   "execution_count": 8,
   "id": "2a797dd2-fa04-4b22-bb69-74da62237ae6",
   "metadata": {},
   "outputs": [
    {
     "data": {
      "text/plain": [
       "'Hello fellas welcome to the world of data science'"
      ]
     },
     "execution_count": 8,
     "metadata": {},
     "output_type": "execute_result"
    }
   ],
   "source": [
    "# 1. Describe the role of the `return` statement in Python functions and provide examples.\n",
    "Return:\n",
    "    It displays the result which may be a statement or an expression \n",
    "Example:\n",
    "        def greetings():\n",
    "            return \"Hello fellas welcome to the world of data science\"\n",
    "greetings()"
   ]
  },
  {
   "cell_type": "code",
   "execution_count": null,
   "id": "9e36b857-1320-4325-9bd1-7e1d25969715",
   "metadata": {},
   "outputs": [],
   "source": [
    "# 2. Explain the concept of variable scope in Python, including local and global variables.\n",
    "Variable Scope :\n",
    "    It is nothing but how we are accessing the variable within or outside the function \n",
    "    \n",
    "    \n",
    "Local Scope:\n",
    "    It is innermost variable within the function and it can be accessed within the function only \n",
    "    \n",
    "    \n",
    "Global Scope:\n",
    "    It is the outermost variable which can be accessed anywhere in the main body and it cannot be changed inside the function without using the \"global\"\n",
    "keyword \n"
   ]
  },
  {
   "cell_type": "code",
   "execution_count": 1,
   "id": "c84c9ce4-063a-4108-b0b3-961fd1715ad0",
   "metadata": {},
   "outputs": [
    {
     "name": "stdout",
     "output_type": "stream",
     "text": [
      "3000\n",
      "30\n"
     ]
    }
   ],
   "source": [
    "# 3. Write a Python program that demonstrates the use of global variables within functions.\n",
    "y=30\n",
    "def inside():\n",
    "    y=3000\n",
    "    print(y)\n",
    "inside()\n",
    "print(y)"
   ]
  },
  {
   "cell_type": "code",
   "execution_count": 5,
   "id": "5850d8c3-9fac-4e82-a650-762cc082b79f",
   "metadata": {},
   "outputs": [
    {
     "data": {
      "text/plain": [
       "1307674368000"
      ]
     },
     "execution_count": 5,
     "metadata": {},
     "output_type": "execute_result"
    }
   ],
   "source": [
    "# 4. Create a Python function that calculates the factorial of a number and returns it.\n",
    "def fact(n):\n",
    "    res=1\n",
    "    for i in range(1,n+1):\n",
    "        res*=i\n",
    "    return res\n",
    "fact(15)"
   ]
  },
  {
   "cell_type": "code",
   "execution_count": 7,
   "id": "d227a1d0-b2ea-4f9d-b5b3-5b3fad6b8606",
   "metadata": {},
   "outputs": [
    {
     "name": "stdout",
     "output_type": "stream",
     "text": [
      "3000\n",
      "3000\n"
     ]
    }
   ],
   "source": [
    "#5. How can you access variables defined outside a function from within the function?\n",
    "y=30\n",
    "def inside():\n",
    "    global y\n",
    "    y=3000\n",
    "    print(y)\n",
    "inside()  \n",
    "print(y)  #after modify\n"
   ]
  },
  {
   "cell_type": "markdown",
   "id": "3efc3e0a-0176-4dbd-aaf1-e5710079d160",
   "metadata": {},
   "source": [
    "# Lambda Functions and Higher-Order Functions:\n"
   ]
  },
  {
   "cell_type": "code",
   "execution_count": null,
   "id": "d4efc07e-d4b9-4518-a308-4068493ff319",
   "metadata": {},
   "outputs": [],
   "source": [
    "# 1. What are lambda functions in Python, and when are they typically used?\n",
    "Lambda Functions :\n",
    "    They are typically same like a regular functions but can be used without defining with a proper name or a structure \n",
    "Usage :\n",
    "    It can be used to create a very small functions that may perform simple instructions\n",
    "    "
   ]
  },
  {
   "cell_type": "code",
   "execution_count": 12,
   "id": "e155e4e7-16eb-40ae-9e8e-f6c131c33071",
   "metadata": {},
   "outputs": [
    {
     "name": "stdout",
     "output_type": "stream",
     "text": [
      "[(6, 0), (3, 1), (5, 1), (4, 2), (2, 4), (1, 5)]\n"
     ]
    }
   ],
   "source": [
    "# 2. Write a Python program that uses lambda functions to sort a list of tuples based on the second element.\n",
    "a=[(1,5),(2,4),(3,1),(4,2),(5,1),(6,0)]\n",
    "sort=sorted(a,key=lambda x:x[1])\n",
    "print(sort)"
   ]
  },
  {
   "cell_type": "code",
   "execution_count": null,
   "id": "a1288d06-9140-4aaa-b645-d343211e6196",
   "metadata": {},
   "outputs": [],
   "source": [
    "# "
   ]
  },
  {
   "cell_type": "code",
   "execution_count": 3,
   "id": "e84acc13-fb0c-43ac-9904-1c26c9d446cf",
   "metadata": {},
   "outputs": [
    {
     "name": "stdout",
     "output_type": "stream",
     "text": [
      "[1, 4, 9, 16, 25, 36]\n"
     ]
    }
   ],
   "source": [
    "# 4. Create a Python function that takes a list of numbers and a function as arguments, applying the function to each element in the list.\n",
    "def sqr(num):\n",
    "    return num*num\n",
    "\n",
    "\n",
    "\n",
    "def num_func(sqr,nums):\n",
    "    res=[]\n",
    "    for i in nums:\n",
    "        res.append(sqr(i))\n",
    "    return res\n",
    "\n",
    "\n",
    "l=[1,2,3,4,5,6]\n",
    "print(num_func(sqr,l))\n"
   ]
  },
  {
   "cell_type": "code",
   "execution_count": 7,
   "id": "baee6d07-5d35-4e28-b20b-69026426c416",
   "metadata": {},
   "outputs": [
    {
     "name": "stdout",
     "output_type": "stream",
     "text": [
      "11\n",
      "12\n"
     ]
    }
   ],
   "source": [
    "# 3. Explain the concept of higher-order functions in Python, and provide an example.\n",
    "\n",
    "def addition(num):\n",
    "    def add(x):\n",
    "        return num+x\n",
    "    return add\n",
    "\n",
    "single=addition(1)\n",
    "double=addition(2)\n",
    "print(single(10))\n",
    "print(double(10))\n"
   ]
  },
  {
   "cell_type": "markdown",
   "id": "32dabb74-a181-4cf0-bf5b-667d4237f237",
   "metadata": {},
   "source": [
    "# Built-in Functions"
   ]
  },
  {
   "cell_type": "code",
   "execution_count": null,
   "id": "2d993fe9-2179-4312-8ec8-6a81f988c2ee",
   "metadata": {},
   "outputs": [],
   "source": [
    "# 1. Describe the role of built-in functions like `len()`, `max()`, and `min()` in Python.\n",
    "len():\n",
    "    It returns the number of elements in list,array and tuple\n",
    "max():\n",
    "    It returns the maximum number in a collection of elements\n",
    "min():\n",
    "    It returns the minimum number in a collection of elements\n",
    "    "
   ]
  },
  {
   "cell_type": "code",
   "execution_count": 16,
   "id": "0ecbf787-67d2-4f5d-90b4-ebdada422df1",
   "metadata": {},
   "outputs": [
    {
     "name": "stdout",
     "output_type": "stream",
     "text": [
      "[1, 2, 3, 4, 5, 6]\n",
      "[2, 4, 6, 8, 10, 12]\n"
     ]
    }
   ],
   "source": [
    "# 2. Write a Python program that uses the `map()` function to apply a function to each element of a list.\n",
    "def double(num):\n",
    "    return num*2\n",
    "l=[1,2,3,4,5,6]\n",
    "res=list(map(double,l))\n",
    "print(l)\n",
    "print(res)"
   ]
  },
  {
   "cell_type": "code",
   "execution_count": null,
   "id": "14b87d7c-c2a8-4cb5-b56f-cf71818b57a5",
   "metadata": {},
   "outputs": [],
   "source": [
    "# 3. How does the `filter()` function work in Python, and when would you use it?\n",
    "Filter():\n",
    "    It works under the concept check and pick where each element is undergo a condition provided inside the filter statement and selected only when it satisfies the condition \n",
    "Example:\n",
    "    I would use it  when i want to pick some particular elements satisfy the condition\n",
    "    "
   ]
  },
  {
   "cell_type": "code",
   "execution_count": 2,
   "id": "6e3060d2-43d5-4b5f-bc95-f2ec8f10e114",
   "metadata": {},
   "outputs": [
    {
     "name": "stdout",
     "output_type": "stream",
     "text": [
      "40320\n"
     ]
    }
   ],
   "source": [
    "# 4. Create a Python program that uses the `reduce()` function to find the product of all elements in a list.\n",
    "from functools import reduce\n",
    "l=[1,2,3,4,5,6,7,8]\n",
    "res=reduce(lambda x,y:x*y,l)\n",
    "print(res)"
   ]
  },
  {
   "cell_type": "markdown",
   "id": "2daa914a-693d-4db3-9dbb-9f2de2f7fa2b",
   "metadata": {},
   "source": [
    "# Function Documentation and Best Practices:\n"
   ]
  },
  {
   "cell_type": "code",
   "execution_count": 11,
   "id": "36340b2b-e488-4052-988f-994c6f23992b",
   "metadata": {},
   "outputs": [
    {
     "name": "stdout",
     "output_type": "stream",
     "text": [
      "Only return this sentence\n",
      "\n",
      "rejnfk ew\n",
      "   ewfkjekj fwe\n",
      "   ewbfnkjenkndw\n",
      "   ewejbkbwae\n"
     ]
    }
   ],
   "source": [
    "# 1. Explain the purpose of docstrings in Python functions and how to write them.\n",
    "#Docstrings:\n",
    " #   They are the lines or paragraphs which gives the information of the function\n",
    "def hari():\n",
    "    \n",
    "   \"\"\"rejnfk ew\n",
    "   ewfkjekj fwe\n",
    "   ewbfnkjenkndw\n",
    "   ewejbkbwae\"\"\"\n",
    "   return \"Only return this sentence\"\n",
    "print(hari())\n",
    "print()\n",
    "print(hari.__doc__)\n"
   ]
  },
  {
   "cell_type": "code",
   "execution_count": null,
   "id": "e364e418-c675-43d2-aef4-44112788dcde",
   "metadata": {},
   "outputs": [],
   "source": [
    "# 2.Describe some best practices for naming functions and variables in python ,including naming conventions and guidlines\n",
    "Use Descriptive Names: \n",
    "    Choose names that accurately describe the purpose or functionality of functions and variables. This makes your code more readable and understandable.\n",
    "\n",
    "Follow PEP 8 Style Guide: \n",
    "    PEP 8 is the official style guide for Python code. It provides conventions for naming functions, variables, and other elements of Python code. Some key points include:\n",
    "\n",
    "    Use lowercase letters for function names and variable names.\n",
    "    Separate words in function names and variable names with underscores (snake_case).\n",
    "    Use descriptive names that convey the purpose of the function or variable.\n",
    "    Avoid Single-letter Names: Unless the variable's scope is very limited, avoid using single-letter variable names like x, y, or z. Instead, choose names that reflect the purpose of the variable.\n",
    "\n",
    "Be Consistent:\n",
    "    Maintain consistency in naming conventions throughout your codebase. Consistent naming makes your code easier to understand and maintain.\n",
    "\n",
    "    Use Verb-Noun Naming for Functions: Function names should typically start with a verb that describes the action performed by the function, followed by a noun that represents the object or data the function operates on.\n",
    "\n",
    "    Use Noun Naming for Variables: Variable names should typically be nouns or noun phrases that describe the data they hold.\n",
    "\n",
    "    Avoid Ambiguous Names: Choose names that are specific and unambiguous. Ambiguous names can lead to confusion and errors.\n",
    "\n",
    "    Avoid Reserved Keywords: Avoid using Python reserved keywords as function or variable names to prevent conflicts and errors.\n",
    "\n",
    "    Use Meaningful Parameters: Choose meaningful names for function parameters that indicate their purpose or role in the function.\n",
    "\n",
    "    Document Your Code: Use docstrings to provide documentation for functions, classes, and modules. Document the purpose, parameters, return values, and any other relevant information to help users understand how to use the code."
   ]
  }
 ],
 "metadata": {
  "kernelspec": {
   "display_name": "Python 3 (ipykernel)",
   "language": "python",
   "name": "python3"
  },
  "language_info": {
   "codemirror_mode": {
    "name": "ipython",
    "version": 3
   },
   "file_extension": ".py",
   "mimetype": "text/x-python",
   "name": "python",
   "nbconvert_exporter": "python",
   "pygments_lexer": "ipython3",
   "version": "3.10.8"
  }
 },
 "nbformat": 4,
 "nbformat_minor": 5
}
