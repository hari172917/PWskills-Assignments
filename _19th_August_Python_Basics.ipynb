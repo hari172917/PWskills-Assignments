{
 "cells": [
  {
   "cell_type": "code",
   "execution_count": null,
   "id": "6f2fb1cc-c096-4fc6-bac3-6072b2d80d26",
   "metadata": {},
   "outputs": [],
   "source": [
    "# TOPIC: Python Basics Variable\n",
    "\n",
    "\n",
    "\n",
    "\n"
   ]
  },
  {
   "cell_type": "code",
   "execution_count": 35,
   "id": "1192330e-1340-4d7c-b8f9-a001b622424b",
   "metadata": {},
   "outputs": [
    {
     "name": "stdout",
     "output_type": "stream",
     "text": [
      "10 20\n",
      "20 10\n"
     ]
    }
   ],
   "source": [
    "# 1\n",
    "x=10\n",
    "y=20\n",
    "print(x,y)\n",
    "x,y=y,x #assignment operator\n",
    "print(x,y)\n"
   ]
  },
  {
   "cell_type": "code",
   "execution_count": 36,
   "id": "b7ead872-5afd-4ad0-884a-33c3fe9a94a4",
   "metadata": {},
   "outputs": [
    {
     "name": "stdin",
     "output_type": "stream",
     "text": [
      " 10\n",
      " 20\n"
     ]
    },
    {
     "name": "stdout",
     "output_type": "stream",
     "text": [
      "the area of rect 200\n"
     ]
    }
   ],
   "source": [
    "#2\n",
    "l=int(input())\n",
    "w=int(input())\n",
    "c=l*w \n",
    "print(\"the area of rect \"+str(c))"
   ]
  },
  {
   "cell_type": "code",
   "execution_count": 37,
   "id": "595832ab-2a42-4a55-8c14-b9ac43eeb7e1",
   "metadata": {},
   "outputs": [
    {
     "name": "stdin",
     "output_type": "stream",
     "text": [
      "Enter celcius value 40\n"
     ]
    },
    {
     "name": "stdout",
     "output_type": "stream",
     "text": [
      "The 40° Celcius is equal to 104.0° fahrenheit\n"
     ]
    }
   ],
   "source": [
    "#3\n",
    "a=int(input(\"Enter celcius value\"))\n",
    "f=a*1.8+32 #9/5=1.8\n",
    "print(\"The \"+str(a)+\"° Celcius is equal to \"+str(f)+\"° fahrenheit\")"
   ]
  },
  {
   "cell_type": "code",
   "execution_count": null,
   "id": "c2bc5a30-cc1b-4565-a03e-8ebdc54f18fc",
   "metadata": {},
   "outputs": [],
   "source": [
    "#TOPIC: String Based Question\n",
    "\n",
    "\n",
    "\n",
    "\n"
   ]
  },
  {
   "cell_type": "code",
   "execution_count": 38,
   "id": "19f93f8a-074a-4661-8c23-1bc945550abe",
   "metadata": {},
   "outputs": [
    {
     "name": "stdin",
     "output_type": "stream",
     "text": [
      "Enter a string The conversion formula for a temperature that is expressed on the\n"
     ]
    },
    {
     "name": "stdout",
     "output_type": "stream",
     "text": [
      "65\n"
     ]
    }
   ],
   "source": [
    "a=input(\"Enter a string\")\n",
    "print(len(a))\n"
   ]
  },
  {
   "cell_type": "code",
   "execution_count": 40,
   "id": "002ea034-6626-46a4-b45e-9e84ef89b7cc",
   "metadata": {},
   "outputs": [
    {
     "name": "stdin",
     "output_type": "stream",
     "text": [
      "Enter a sentence: The conversion formula for a temperature that is expressed\n"
     ]
    },
    {
     "name": "stdout",
     "output_type": "stream",
     "text": [
      "Count of a is 4\n",
      "Count of e is 8\n",
      "Count of i is 2\n",
      "Count of o is 4\n",
      "Count of u is 2\n",
      "total vowels count is 20\n"
     ]
    }
   ],
   "source": [
    "st=input(\"Enter a sentence:\")\n",
    "vowels=['a','e','i','o','u']\n",
    "a=0\n",
    "tot=0\n",
    "for num in vowels:\n",
    "    for p in st:\n",
    "        if num==p:\n",
    "            a+=1\n",
    "            tot+=1\n",
    "    print(\"Count of \"+num+\" is \"+ str(a))\n",
    "    a=0\n",
    "print(\"total vowels count is \"+str(tot))\n",
    "    \n",
    "        \n",
    "    \n",
    "    "
   ]
  },
  {
   "cell_type": "code",
   "execution_count": 41,
   "id": "0edf3955-bde4-4959-9bba-c89c4a7954d4",
   "metadata": {},
   "outputs": [
    {
     "name": "stdin",
     "output_type": "stream",
     "text": [
      "Enter a string: The conversion formula for a temperature that is expressed on the\n"
     ]
    },
    {
     "name": "stdout",
     "output_type": "stream",
     "text": [
      "eht no desserpxe si taht erutarepmet a rof alumrof noisrevnoc ehT\n"
     ]
    }
   ],
   "source": [
    "st=input(\"Enter a string:\")\n",
    "L=len(st)\n",
    "print(st[::-1])"
   ]
  },
  {
   "cell_type": "code",
   "execution_count": 42,
   "id": "a95c1c83-bb03-4f18-810a-f4f2aec45b7c",
   "metadata": {},
   "outputs": [
    {
     "name": "stdin",
     "output_type": "stream",
     "text": [
      "Enter string: malayalam\n"
     ]
    },
    {
     "name": "stdout",
     "output_type": "stream",
     "text": [
      "True\n"
     ]
    }
   ],
   "source": [
    "#define a function\n",
    "def isPalindrome(S):\n",
    "    rev=''.join(reversed(S))\n",
    "    if rev==S:\n",
    "        return True\n",
    "    else:\n",
    "        return False\n",
    "    \n",
    "#Actual Code\n",
    "st=input(\"Enter string:\")\n",
    "print(isPalindrome(st))\n"
   ]
  },
  {
   "cell_type": "code",
   "execution_count": 43,
   "id": "53981cb1-c2aa-4c83-ad2e-a8cae2071163",
   "metadata": {},
   "outputs": [
    {
     "name": "stdin",
     "output_type": "stream",
     "text": [
      "Enter a sentence: The conversion formula for a temperature that is expressed on the\n"
     ]
    },
    {
     "name": "stdout",
     "output_type": "stream",
     "text": [
      "Theconversionformulaforatemperaturethatisexpressedonthe\n"
     ]
    }
   ],
   "source": [
    "a=input(\"Enter a sentence:\")\n",
    "print(a.replace(\" \",\"\"))\n",
    "\n"
   ]
  },
  {
   "cell_type": "code",
   "execution_count": null,
   "id": "af96a486-a3cc-4280-ac38-e3bb0f8983cc",
   "metadata": {},
   "outputs": [],
   "source": []
  }
 ],
 "metadata": {
  "kernelspec": {
   "display_name": "Python 3 (ipykernel)",
   "language": "python",
   "name": "python3"
  },
  "language_info": {
   "codemirror_mode": {
    "name": "ipython",
    "version": 3
   },
   "file_extension": ".py",
   "mimetype": "text/x-python",
   "name": "python",
   "nbconvert_exporter": "python",
   "pygments_lexer": "ipython3",
   "version": "3.10.8"
  }
 },
 "nbformat": 4,
 "nbformat_minor": 5
}
