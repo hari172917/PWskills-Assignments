{
 "cells": [
  {
   "cell_type": "markdown",
   "id": "96bb2b00-14c5-407f-8411-6c22eefa863f",
   "metadata": {},
   "source": [
    "# Constructor:\n"
   ]
  },
  {
   "cell_type": "code",
   "execution_count": null,
   "id": "dde3ef0a-3123-4d30-b30f-d54f8667ff32",
   "metadata": {},
   "outputs": [],
   "source": [
    "# 1. What is a constructor in Python? Explain its purpose and usage.\n",
    "Constructor:\n",
    "    It is a method within a class which is automatically called while creating new instances of a class(objects)\n",
    "purpose and usage:\n",
    "    It is used to initialize the the parameters and variables"
   ]
  },
  {
   "cell_type": "code",
   "execution_count": null,
   "id": "73863f93-f9ac-4a5a-ae8e-a103b0b1812f",
   "metadata": {},
   "outputs": [],
   "source": [
    "# 2. Differentiate between a parameterless constructor and a parameterized constructor in Python.\n",
    "Parameterless constructor:\n",
    "    It is a default constructor accepts zero arguements which is used for a small tasks \n",
    "Parameterized  constructor:\n",
    "    It accepts one or more parameters or arguements during object initialization "
   ]
  },
  {
   "cell_type": "code",
   "execution_count": 22,
   "id": "5755329d-a765-4144-936e-384564a2c743",
   "metadata": {},
   "outputs": [
    {
     "data": {
      "text/plain": [
       "'This is my name'"
      ]
     },
     "execution_count": 22,
     "metadata": {},
     "output_type": "execute_result"
    }
   ],
   "source": [
    "# 3. How do you define a constructor in a Python class? Provide an example.\n",
    "A Constructor can be defined as \"def __init__()\" \n",
    "Example:\n",
    "class hari:\n",
    "    def __init__(self):\n",
    "        self.name=\"This is my name\"\n",
    "    def display(self):\n",
    "        return self.name\n",
    "obj=hari()\n",
    "obj.__init__()\n",
    "obj.display()"
   ]
  },
  {
   "cell_type": "code",
   "execution_count": null,
   "id": "e200e8f8-dd65-4f1a-82c1-d17b1f508995",
   "metadata": {},
   "outputs": [],
   "source": [
    "# 4. Explain the `__init__` method in Python and its role in constructors.\n",
    "__init__():\n",
    "    This method is used to initialize the variables or parameters\n",
    "It is used in constructors inorder to run the object initialization at first "
   ]
  },
  {
   "cell_type": "code",
   "execution_count": 26,
   "id": "8195a03a-5c4d-4808-8994-c73f9d97b073",
   "metadata": {},
   "outputs": [],
   "source": [
    "# 5. In a class named `Person`, create a constructor that initializes the `name` and `age` attributes. Provide an  example of creating an object of this class\n",
    "class person:\n",
    "    def __init__(self,name,age):\n",
    "        self.name=name\n",
    "        self.age=age\n",
    "    def display(self):\n",
    "        return self.name , self.age\n",
    "    \n"
   ]
  },
  {
   "cell_type": "code",
   "execution_count": 2,
   "id": "769d9df1-2a88-478c-9de4-281075fa5a3c",
   "metadata": {},
   "outputs": [
    {
     "name": "stdout",
     "output_type": "stream",
     "text": [
      "Constructor called with x = 3\n",
      "Constructor called with x = 5\n",
      "Value of x is 5\n"
     ]
    }
   ],
   "source": [
    "#6. How can you call a constructor explicitly in Python? Give an example.\n",
    "\n",
    "class MyClass:\n",
    "    def __init__(self, x):\n",
    "        self.x = x\n",
    "        print(\"Constructor called with x =\", self.x)\n",
    "\n",
    "    def display(self):\n",
    "        print(\"Value of x is\", self.x)\n",
    "\n",
    "# Explicitly calling the constructor\n",
    "\n",
    "obj = MyClass(3)\n",
    "obj.__init__(5)\n",
    "# Accessing the attributes\n",
    "obj.display()\n"
   ]
  },
  {
   "cell_type": "code",
   "execution_count": 12,
   "id": "2a19e0f6-dad2-4697-8978-6b4c0a98406a",
   "metadata": {},
   "outputs": [
    {
     "name": "stdout",
     "output_type": "stream",
     "text": [
      "It is inside example\n",
      "It is inside the example\n"
     ]
    }
   ],
   "source": [
    "# 7. What is the significance of the `self` parameter in Python constructors? Explain with an example.\n",
    "self:\n",
    "  It is used to bind all the methods in a class together ,so user knows what are all the methods inside a class\n",
    "example:\n",
    "\n",
    "class example:\n",
    "    \n",
    "    def method1(self):\n",
    "        print(\"It is inside example\")\n",
    "    def method2(self):\n",
    "        print(\"It is inside the example\")\n",
    "    def method3(self):\n",
    "        print(\"It is inside the example\")\n",
    "ob=example()\n",
    "ob.method1()\n",
    "ob.method2()"
   ]
  },
  {
   "cell_type": "code",
   "execution_count": null,
   "id": "1e738d45-f6ec-4e20-93d8-61daabb95005",
   "metadata": {},
   "outputs": [],
   "source": [
    "# 8. Discuss the concept of default constructors in Python. When are they used?\n",
    "Default Constructors:\n",
    "    They are inbuild constructors which are used to initialize the variable and also used to display the results \n"
   ]
  },
  {
   "cell_type": "code",
   "execution_count": 15,
   "id": "ffcc2ce8-8332-45dc-a0bd-7e03d094eb89",
   "metadata": {},
   "outputs": [
    {
     "data": {
      "text/plain": [
       "'The area of rectangle if 35 units'"
      ]
     },
     "execution_count": 15,
     "metadata": {},
     "output_type": "execute_result"
    }
   ],
   "source": [
    "#  9. Create a Python class called `Rectangle` with a constructor that initializes the `width` and `height`  attributes. Provide a method to calculate the area of the rectangle\n",
    "class rectangle:\n",
    "    def __init__(self,width,height):\n",
    "        self.w=width\n",
    "        self.h=height\n",
    "    def area(self):\n",
    "        return f\"The area of rectangle if {self.w*self.h} units\"\n",
    "shape=rectangle(5,7)\n",
    "shape.area()\n",
    "        "
   ]
  },
  {
   "cell_type": "code",
   "execution_count": 28,
   "id": "83be12e5-4a13-43ae-9e14-5e914f727e57",
   "metadata": {},
   "outputs": [
    {
     "name": "stdout",
     "output_type": "stream",
     "text": [
      "10 20\n",
      "50 100\n",
      "0 0\n"
     ]
    }
   ],
   "source": [
    "# 10. How can you have multiple constructors in a Python class? Explain with an example.\n",
    "#Class method:\n",
    " #  It is used to have multiple constructors in a class\n",
    "#example:\n",
    "class ex:\n",
    "    def __init__(self,x,y):\n",
    "        self.x=x\n",
    "        self.y=y\n",
    "    @classmethod\n",
    "    def from_string(cls,string):\n",
    "        x,y=map(int,string.split(\",\"))\n",
    "        return cls(x,y)\n",
    "    @classmethod\n",
    "    def default(cls):\n",
    "        return cls(0,0)\n",
    "                                 \n",
    "    \n",
    "ob=ex(10,20)\n",
    "print(ob.x,ob.y)\n",
    "ob=ex.from_string(\"50,100\")\n",
    "print(ob.x,ob.y)\n",
    "ob=ex.default()\n",
    "print(ob.x,ob.y)\n",
    "                                 "
   ]
  },
  {
   "cell_type": "code",
   "execution_count": null,
   "id": "1582b25d-4712-4098-afb6-9903804c9325",
   "metadata": {},
   "outputs": [],
   "source": [
    "#11. What is method overloading, and how is it related to constructors in Python?\n",
    "Method Overloading:\n",
    "    It is a way to create several functions with a same name but results different outputs but the constructors are used to create the instances of the class\n",
    "    "
   ]
  },
  {
   "cell_type": "code",
   "execution_count": 37,
   "id": "d5c41574-8c52-45fa-95dc-3a5c7b7a3257",
   "metadata": {},
   "outputs": [
    {
     "name": "stdout",
     "output_type": "stream",
     "text": [
      "Name:Alice\n",
      "Age:20\n"
     ]
    }
   ],
   "source": [
    "# 12. Explain the use of the `super()` function in Python constructors. Provide an example.\n",
    "class parent:\n",
    "    def __init__(self,name):\n",
    "        self.name=name\n",
    "    def info(self):\n",
    "        print(f\"Name:{self.name}\")\n",
    "class child(parent):\n",
    "    def __init__(self,name,age):\n",
    "        super().__init__(name)\n",
    "        self.age=age\n",
    "    def show(self):\n",
    "        super().info()\n",
    "        print(f\"Age:{self.age}\")\n",
    "name=child(\"Alice\",20)\n",
    "name.show()"
   ]
  },
  {
   "cell_type": "code",
   "execution_count": 47,
   "id": "73b4059f-d17d-4895-85ea-d317891343ac",
   "metadata": {},
   "outputs": [
    {
     "name": "stdout",
     "output_type": "stream",
     "text": [
      " Title:Hari Life\n",
      " Author:Hari \n",
      " Published Year :1999\n"
     ]
    }
   ],
   "source": [
    "# 13. Create a class called `Book` with a constructor that initializes the `title`, `author`, and `published_year`  attributes. Provide a method to display book details\n",
    "class book:\n",
    "    def __init__(self,title,author,pub_year):\n",
    "        self.t=title\n",
    "        self.a=author\n",
    "        self.py=pub_year\n",
    "    def display(self):\n",
    "        print(f\" Title:{self.t}\\n Author:{self.a} \\n Published Year :{self.py}\")\n",
    "ob=book(\"Hari Life\",\"Hari\",1999)\n",
    "ob.display()"
   ]
  },
  {
   "cell_type": "code",
   "execution_count": null,
   "id": "2fe0a558-8644-42d9-a9ae-7bed15e63feb",
   "metadata": {},
   "outputs": [],
   "source": [
    "# 14. Discuss the differences between constructors and regular methods in Python classes.\n",
    "Ans:\n",
    "    The constructors are used to initialize the variables or instances of a class \n",
    "Regular Method:\n",
    "    The regular methods are only used to reuse the set of statements repeatedly"
   ]
  },
  {
   "cell_type": "code",
   "execution_count": null,
   "id": "b7196e92-7615-442a-a592-5e01f7f17a3a",
   "metadata": {},
   "outputs": [],
   "source": [
    "# 15. Explain the role of the `self` parameter in instance variable initialization within a constructor.\n",
    "Self:\n",
    "    It is used to remind that variable is inside the class .\n",
    "    It acts as a placeholder for the instance itself within instance methods."
   ]
  },
  {
   "cell_type": "code",
   "execution_count": null,
   "id": "98f307a4-6fe2-4ec8-b4f4-c267192cf369",
   "metadata": {},
   "outputs": [],
   "source": []
  },
  {
   "cell_type": "code",
   "execution_count": 4,
   "id": "930e9ada-6411-41d1-9a0b-c7814c59e526",
   "metadata": {},
   "outputs": [
    {
     "name": "stdout",
     "output_type": "stream",
     "text": [
      "['tamil', 'maths', 'science', 'social', 'englis']\n"
     ]
    }
   ],
   "source": [
    "# 17. Create a Python class called `Student` with a constructor that takes a list of subjects as a parameter and  initializes the `subjects` attribute\n",
    "class Student:\n",
    "    def __init__(self,subs):\n",
    "        self.subjects=subs\n",
    "    def display(self):\n",
    "        return self.subjects\n",
    "ob=Student([\"tamil\",\"maths\",\"science\",\"social\",\"englis\"])\n",
    "print(ob.display())"
   ]
  },
  {
   "cell_type": "code",
   "execution_count": 8,
   "id": "4958fefb-d5b0-4ad7-ad07-125dec3b34d9",
   "metadata": {},
   "outputs": [],
   "source": [
    "# 20. Create a Python class called `Car` with a default constructor that initializes the `make` and `model`  attributes. Provide a method to display car information\n",
    "class Car:\n",
    "    def __init__(self,make,model):\n",
    "        self.make=make\n",
    "        self.model=model\n",
    "    def display(self):\n",
    "        print(f\"Make :{self.make}\\nModel :{self.model}\")\n",
    "veh=Car(\"GT Charger\",\"Dodge Charger SRT\")"
   ]
  },
  {
   "cell_type": "code",
   "execution_count": 9,
   "id": "027f46e3-32d5-4b50-815d-56dc7e9c67b3",
   "metadata": {},
   "outputs": [
    {
     "name": "stdout",
     "output_type": "stream",
     "text": [
      "Make :GT Charger\n",
      "Model :Dodge Charger SRT\n"
     ]
    }
   ],
   "source": [
    "veh.display()"
   ]
  },
  {
   "cell_type": "markdown",
   "id": "0dbcbf24-508d-4ac8-8548-9038bf4621db",
   "metadata": {},
   "source": [
    "# Inheritance"
   ]
  },
  {
   "cell_type": "code",
   "execution_count": null,
   "id": "a9163c22-ac41-4ba7-8d92-63d2f3f114ee",
   "metadata": {},
   "outputs": [],
   "source": [
    "# 1. What is inheritance in Python? Explain its significance in object-oriented programming.\n",
    "Inheritance:\n",
    "    It is a way of using the attributes and the qualities of one class in another class\n",
    "Significance:\n",
    "    *We dont need to create the instances and variables that is going to be used in more than one class\n",
    "    "
   ]
  },
  {
   "cell_type": "code",
   "execution_count": null,
   "id": "05bd9d5d-e213-43e8-82e8-ed9889bc0b7b",
   "metadata": {},
   "outputs": [],
   "source": []
  },
  {
   "cell_type": "code",
   "execution_count": 12,
   "id": "168fbef8-6b28-4872-be8a-d01814677441",
   "metadata": {},
   "outputs": [
    {
     "name": "stdout",
     "output_type": "stream",
     "text": [
      "Car Color :Black\n",
      "Car Speed :400\n",
      "Car Brand :Gt Charger\n"
     ]
    }
   ],
   "source": [
    "# 3. Create a Python class called `Vehicle` with attributes `color` and `speed`. Then, create a child class called  `Car` that inherits from `Vehicle` and adds a `brand` attribute. Provide an example of creating a `Car` object\n",
    "class Vehicle:\n",
    "    def __init__(self,color,speed):\n",
    "        self.color=color\n",
    "        self.speed=speed\n",
    "class Car(Vehicle):\n",
    "    def __init__(self,color,speed,brand):\n",
    "        super().__init__(color,speed)\n",
    "        self.brand=brand\n",
    "car=Car(\"Black\",400,\"Gt Charger\")\n",
    "\n",
    "print(f\"Car Color :{car.color}\")\n",
    "print(f\"Car Speed :{car.speed}\")\n",
    "print(f\"Car Brand :{car.brand}\")\n",
    "        "
   ]
  },
  {
   "cell_type": "code",
   "execution_count": null,
   "id": "5d3dfe6a-a11a-449f-a494-17baa5c0925d",
   "metadata": {},
   "outputs": [],
   "source": []
  },
  {
   "cell_type": "code",
   "execution_count": 13,
   "id": "f99fed48-841c-4dbe-96b2-faef1ba2cc89",
   "metadata": {},
   "outputs": [
    {
     "name": "stdout",
     "output_type": "stream",
     "text": [
      "Car Color :Black\n",
      "Car Speed :400\n",
      "Car Brand :Gt Charger\n"
     ]
    }
   ],
   "source": [
    "# 5. How can you access the methods and attributes of a parent class from a child class in Python? Give an  example\n",
    "Ans:\n",
    "    The methods and attributes of a parent class can be accessed from the child class using the super() method .\n",
    "Example:\n",
    "    class Vehicle:\n",
    "        def __init__(self,color,speed):\n",
    "            self.color=color\n",
    "            self.speed=speed\n",
    "    class Car(Vehicle):\n",
    "        def __init__(self,color,speed,brand):\n",
    "            super().__init__(color,speed)\n",
    "            self.brand=brand\n",
    "    car=Car(\"Black\",400,\"Gt Charger\")\n",
    "\n",
    "    print(f\"Car Color :{car.color}\")\n",
    "    print(f\"Car Speed :{car.speed}\")\n",
    "    print(f\"Car Brand :{car.brand}\")\n"
   ]
  },
  {
   "cell_type": "code",
   "execution_count": 1,
   "id": "6d7866f3-2fe2-4abe-937d-a55c254919ca",
   "metadata": {},
   "outputs": [
    {
     "name": "stdout",
     "output_type": "stream",
     "text": [
      "Car Color :Black\n",
      "Car Speed :400\n",
      "Car Brand :Gt Charger\n"
     ]
    }
   ],
   "source": [
    "# 6. Discuss the use of the `super()` function in Python inheritance. When and why is it used? Provide an  example.\n",
    "Super():\n",
    "     *It is used to enable the ability to use the attributes and varibles of one class in another class \n",
    "     *It can be used when user wants to load the attributes of parent class in child class\n",
    "example:\n",
    "    class Vehicle:\n",
    "        def __init__(self,color,speed):\n",
    "            self.color=color\n",
    "            self.speed=speed\n",
    "    class Car(Vehicle):\n",
    "        def __init__(self,color,speed,brand):\n",
    "            super().__init__(color,speed)\n",
    "            self.brand=brand\n",
    "    car=Car(\"Black\",400,\"Gt Charger\")\n",
    "\n",
    "    print(f\"Car Color :{car.color}\")\n",
    "    print(f\"Car Speed :{car.speed}\")\n",
    "    print(f\"Car Brand :{car.brand}\")"
   ]
  },
  {
   "cell_type": "code",
   "execution_count": 11,
   "id": "aa6167c7-0ef0-4656-ad08-5bd3e41beec5",
   "metadata": {},
   "outputs": [],
   "source": [
    "# 7. Create a Python class called `Animal` with a method `speak()`. Then, create child classes `Dog` and `Cat` that inherit from `Animal` and override the `speak()` method. Provide an example of using these classes.\n",
    "class animal:\n",
    "    def speak(self):\n",
    "        return \"sub class must be implemented\"\n",
    "class dog(animal):\n",
    "    def speak(Self):\n",
    "        return \"Woof\"\n",
    "class cat(animal):\n",
    "    def speak(self):\n",
    "        return \"Meow\""
   ]
  },
  {
   "cell_type": "code",
   "execution_count": 12,
   "id": "f3f7f67a-d179-4bc7-8509-e849194aad4c",
   "metadata": {},
   "outputs": [],
   "source": [
    "dog=dog()\n",
    "cat=cat()"
   ]
  },
  {
   "cell_type": "code",
   "execution_count": 13,
   "id": "944a01e6-6c6d-4d21-a0af-e49a082f1a48",
   "metadata": {},
   "outputs": [
    {
     "name": "stdout",
     "output_type": "stream",
     "text": [
      "Dog speaks Woof\n",
      "Cat speaks Meow\n"
     ]
    }
   ],
   "source": [
    "print(f\"Dog speaks {dog.speak()}\")\n",
    "print(f\"Cat speaks {cat.speak()}\")"
   ]
  },
  {
   "cell_type": "code",
   "execution_count": 3,
   "id": "b062d130-b588-41b4-a590-13210b51bc5c",
   "metadata": {},
   "outputs": [
    {
     "name": "stdout",
     "output_type": "stream",
     "text": [
      "The area of the circle :100\n",
      "The area of the rectangle :35\n"
     ]
    }
   ],
   "source": [
    "# 11. Create a Python class called `Shape` with a method `area()` that calculates the area of a shape. Then, create child classes `Circle` and `Rectangle` that inherit from `Shape` and implement the `area()` method accordingly. Provide an example\n",
    "class shape:\n",
    "    def area (self):\n",
    "        pass\n",
    "class circle(shape):\n",
    "    def __init__(self,radius):\n",
    "        self.r=radius\n",
    "    def area(self):\n",
    "        return self.r*self.r\n",
    "class rectangle(shape):\n",
    "    def __init__(self,height,width):\n",
    "        self.height=height\n",
    "        self.width=width\n",
    "    def area(self):\n",
    "        return self.height*self.width\n",
    "ob=circle(10)\n",
    "print(f\"The area of the circle :{ob.area()}\")\n",
    "ob1=rectangle(5,7)\n",
    "print(f\"The area of the rectangle :{ob1.area()}\")"
   ]
  },
  {
   "cell_type": "code",
   "execution_count": null,
   "id": "7a1a3539-22ae-44bb-92c7-6495b09fbbed",
   "metadata": {},
   "outputs": [],
   "source": []
  },
  {
   "cell_type": "code",
   "execution_count": null,
   "id": "2fc360ed-b35f-4f2c-8f35-34c9d8e8a25e",
   "metadata": {},
   "outputs": [],
   "source": [
    "# 14. Create a Python class called `Employee` with attributes `name` and `salary`. Then, create a child class `Manager` that inherits from `Employee` and adds an attribute `department`. Provide an example.\n",
    "class employee:\n",
    "    def __init__(self,name,salary):\n",
    "        self.name=name\n",
    "        self.salary=salary\n",
    "    def displat\n",
    "class manager(employee):\n",
    "    def __init__(self,name,salary,dep):\n",
    "        super().__init__(name,salary):\n",
    "            self.dep=dep\n",
    "    "
   ]
  },
  {
   "cell_type": "code",
   "execution_count": null,
   "id": "b5fad219-7b08-4775-bff6-146a528db797",
   "metadata": {},
   "outputs": [],
   "source": [
    "# 15. Discuss the concept of method overloading in Python inheritance. How does it differ from method  overriding?\n",
    "Method Overloading:\n",
    "    It is a way using the method in parent class in child class as many number of times we want\n",
    "Method Overriding:\n",
    "    It is way of changing the structure or functionality of method in parent class in child class with a same method name\n"
   ]
  },
  {
   "cell_type": "code",
   "execution_count": null,
   "id": "9ef2009f-1a1e-45a1-93b9-ac2084af3168",
   "metadata": {},
   "outputs": [],
   "source": [
    "# 16. Explain the purpose of the `__init__()` method in Python inheritance and how it is utilized in child classes.\n",
    "__init__():\n",
    "    *It is used to initialize the parameters that the user pass on creating the objects\n",
    "    *It can be used in the child classes by using super().__init__() keyword"
   ]
  },
  {
   "cell_type": "code",
   "execution_count": 9,
   "id": "a18edfb0-3ddb-4de4-98d8-89d629452d6a",
   "metadata": {},
   "outputs": [
    {
     "name": "stdout",
     "output_type": "stream",
     "text": [
      "Sparrow is flapping its wings\n",
      "Eagle is flying at high \n"
     ]
    }
   ],
   "source": [
    "# 17. Create a Python class called `Bird` with a method `fly()`. Then, create child classes `Eagle` and `Sparrow` that inherit from `Bird` and implement the `fly()` method differently. Provide an example of using these  classes.\n",
    "class bird:\n",
    "    def fly(self):\n",
    "        pass\n",
    "class sparrow(bird):\n",
    "    def fly(self):\n",
    "        return \"Sparrow is flapping its wings\"\n",
    "class eagle(bird):\n",
    "    def fly(self):\n",
    "        return \"Eagle is flying at high \"\n",
    "sp=sparrow()\n",
    "print(sp.fly())\n",
    "eg=eagle()\n",
    "print(eg.fly())"
   ]
  },
  {
   "cell_type": "code",
   "execution_count": 23,
   "id": "397ac126-6432-4b94-9cba-e699c2385c2b",
   "metadata": {},
   "outputs": [
    {
     "name": "stdout",
     "output_type": "stream",
     "text": [
      "Woof\n",
      "Meow\n",
      "Engine started\n"
     ]
    }
   ],
   "source": [
    "# 19. Discuss the concept of \"is-a\" and \"has-a\" relationships in inheritance, and provide examples of each.\n",
    "\"IS-a\"\n",
    "class animal:\n",
    "    def speak(self):\n",
    "        return \"sub class must be implemented\"\n",
    "class dog(animal):\n",
    "    def speak(Self):\n",
    "        return \"Woof\"\n",
    "class cat(animal):\n",
    "    def speak(self):\n",
    "        return \"Meow\"\n",
    "dog=dog()\n",
    "print(dog.speak())\n",
    "cat=cat()\n",
    "print(cat.speak())\n",
    "\n",
    "\"HAS-a\"\n",
    "class engine:\n",
    "    def start(self):\n",
    "        print(\"Engine started\")\n",
    "class car:\n",
    "    def __init__(self):\n",
    "        self.Engine=engine()\n",
    "    def start(self):\n",
    "        return self.Engine.start()\n",
    "car=car()\n",
    "car.start()"
   ]
  },
  {
   "cell_type": "code",
   "execution_count": 29,
   "id": "da98fead-ac61-46f8-a7ea-638f13239d52",
   "metadata": {},
   "outputs": [
    {
     "name": "stdout",
     "output_type": "stream",
     "text": [
      "Name: Alice, Age: 20, Gender: Female\n",
      "Alice is studying Computer Science\n",
      "\n",
      "\n",
      "Name: Dr. Smith, Age: 45, Gender: Male\n",
      "Dr. Smith is teaching in the Computer Science department\n",
      "\n",
      "\n",
      "Name: Dr. Smith, Age: 45, Gender: Male\n"
     ]
    }
   ],
   "source": [
    "# 20. Create a Python class hierarchy for a university system. Start with a base class `Person` and create child classes `Student` and `Professor`, each with their own attributes and methods. Provide an example of using  these classes in a university context\n",
    "class Person:\n",
    "    def __init__(self, name, age, gender):\n",
    "        self.name = name\n",
    "        self.age = age\n",
    "        self.gender = gender\n",
    "\n",
    "    def __str__(self):\n",
    "        return f\"Name: {self.name}, Age: {self.age}, Gender: {self.gender}\"\n",
    "\n",
    "\n",
    "class Student(Person):\n",
    "    def __init__(self, name, age, gender, student_id, major):\n",
    "        super().__init__(name, age, gender)\n",
    "        self.student_id = student_id\n",
    "        self.major = major\n",
    "\n",
    "    def study(self):\n",
    "        return f\"{self.name} is studying {self.major}\"\n",
    "\n",
    "\n",
    "class Professor(Person):\n",
    "    def __init__(self, name, age, gender, employee_id, department):\n",
    "        super().__init__(name, age, gender)\n",
    "        self.employee_id = employee_id\n",
    "        self.department = department\n",
    "\n",
    "    def teach(self):\n",
    "        return f\"{self.name} is teaching in the {self.department} department\"\n",
    "\n",
    "student1 = Student(\"Alice\", 20, \"Female\", \"S12345\", \"Computer Science\")\n",
    "print(student1) \n",
    "print(student1.study())\n",
    "print(\"\\n\")\n",
    "\n",
    "professor1 = Professor(\"Dr. Smith\", 45, \"Male\", \"P9876\", \"Computer Science\")\n",
    "print(professor1)  \n",
    "print(professor1.teach())  \n",
    "print(\"\\n\")\n",
    "print(professor1.__str__())\n",
    "   "
   ]
  },
  {
   "cell_type": "markdown",
   "id": "39eb284c-62cc-4319-be99-28f02a5865fa",
   "metadata": {},
   "source": [
    "# Polymorphism:"
   ]
  },
  {
   "cell_type": "code",
   "execution_count": null,
   "id": "e9ad7910-7003-40b9-b0fc-b2a084e23ed9",
   "metadata": {},
   "outputs": [],
   "source": [
    "# 1. What is polymorphism in Python? Explain how it is related to object-oriented programming."
   ]
  },
  {
   "cell_type": "code",
   "execution_count": null,
   "id": "4561d68d-df7a-4efa-a3aa-1a8764435d5a",
   "metadata": {},
   "outputs": [],
   "source": [
    "# 2. Describe the difference between compile-time polymorphism and runtime polymorphism in Python.\n",
    "compile-time polymorphism:\n",
    "    Compile-time polymorphism is a  static polymorphism\n",
    "    It is also know as method overloading and it is decided by the attributes\n",
    "\n",
    "Runtime polymorphism:\n",
    "    It is also known as dynamic polymorphism.\n",
    "    The method to be executed is determined at runtime based on the actual type of the object.\n",
    "    Achieved through method overriding and dynamic binding."
   ]
  },
  {
   "cell_type": "code",
   "execution_count": 8,
   "id": "67e6c672-b040-465e-8620-c56afff4e4df",
   "metadata": {},
   "outputs": [
    {
     "name": "stdout",
     "output_type": "stream",
     "text": [
      "Area :  50.26548245743669\n",
      "Area :  25\n",
      "Area :  15.0\n"
     ]
    }
   ],
   "source": [
    "# 3. Create a Python class hierarchy for shapes (e.g., circle, square, triangle) and demonstrate polymorphism through a common method, such as `calculate_area()`.\n",
    "import math as m\n",
    "class Circle:\n",
    "    def __init__(self,rad):\n",
    "        self.r=rad\n",
    "    def Cal_Area(self):\n",
    "        return m.pi*self.r**2\n",
    "class Square:\n",
    "    def __init__(self,side_len):\n",
    "        self.s=side_len\n",
    "    def Cal_Area(self):\n",
    "        return self.s**2\n",
    "class Triangle:\n",
    "    def __init__(self,base,height):\n",
    "        self.b=base\n",
    "        self.h=height\n",
    "    def Cal_Area(self):\n",
    "        return 0.5*self.b*self.h\n",
    "shapes=[Circle(4),Square(5),Triangle(5,6)]\n",
    "for s in shapes:\n",
    "    print(f\"Area :  {s.Cal_Area()}\") "
   ]
  },
  {
   "cell_type": "code",
   "execution_count": 14,
   "id": "8e7de591-d788-44c0-ae5e-fd5ce0b01bcd",
   "metadata": {},
   "outputs": [
    {
     "name": "stdout",
     "output_type": "stream",
     "text": [
      "super prints\n",
      "child prints\n"
     ]
    }
   ],
   "source": [
    "# 4. Explain the concept of method overriding in polymorphism. Provide an example.\n",
    "\n",
    "Method overriding:\n",
    "    It is a feature of object-oriented programming that allows a subclass to provide its own implementation of a method that is already defined in its superclass.\n",
    "    This allows for the subclass to customize the behavior of the method for its own specific needs.\n",
    "class super:\n",
    "    def print(self):\n",
    "        return \"super prints\"\n",
    "class child:\n",
    "    def print(self):\n",
    "        return \"child prints\"\n",
    "a=super()\n",
    "print(a.print())\n",
    "b=child()\n",
    "print(b.print())"
   ]
  },
  {
   "cell_type": "code",
   "execution_count": null,
   "id": "1457744e-e38b-49ad-97fe-e0a939eca200",
   "metadata": {},
   "outputs": [],
   "source": [
    "# 5. How is polymorphism different from method overloading in Python? Provide examples for both.\n",
    "Polymorphism:\n",
    "    It refers to the method in which different objects respond to same function call \n",
    "    It is achieved through method overriding\n",
    "Method overriding:\n",
    "    It is a feature of object-oriented programming that allows a subclass to provide its own implementation of a method that is already defined in its superclass.\n",
    "    This allows for the subclass to customize the behavior of the method for its own specific needs. "
   ]
  },
  {
   "cell_type": "code",
   "execution_count": 19,
   "id": "27bcec02-1767-458f-8aa0-bacd619e81bf",
   "metadata": {},
   "outputs": [
    {
     "name": "stdout",
     "output_type": "stream",
     "text": [
      "Woof\n",
      "Meow\n",
      "bird speaks\n"
     ]
    }
   ],
   "source": [
    "#6. Create a Python class called `Animal` with a method `speak()`. Then, create child classes like `Dog`, `Cat`, and `Bird`, each with their own `speak()` method. Demonstrate polymorphism by calling the `speak()` method on objects of different subclasses.\n",
    "class animal:\n",
    "    def speak(self):\n",
    "        print(\"sub class must be implemented\")\n",
    "class dog(animal):\n",
    "    def speak(Self):\n",
    "        print(\"Woof\")\n",
    "class cat(animal):\n",
    "    def speak(self):\n",
    "        print(\"Meow\")\n",
    "class bird:\n",
    "    def speak(self):\n",
    "        print(\"bird speaks\")\n",
    "dog=dog()\n",
    "dog.speak()\n",
    "cat=cat()\n",
    "cat.speak()\n",
    "bird=bird()\n",
    "bird.speak()"
   ]
  },
  {
   "cell_type": "code",
   "execution_count": 20,
   "id": "9b18ac49-b7fc-4e70-8499-33b9d77307f6",
   "metadata": {},
   "outputs": [
    {
     "name": "stdout",
     "output_type": "stream",
     "text": [
      "Area: 78.5\n",
      "Area: 16\n",
      "Area: 9.0\n"
     ]
    }
   ],
   "source": [
    "#7. Discuss the use of abstract methods and classes in achieving polymorphism in Python. Provide an example using the `abc` module.\n",
    "from abc import ABC, abstractmethod\n",
    "\n",
    "class Shape(ABC):\n",
    "    @abstractmethod\n",
    "    def calculate_area(self):\n",
    "        pass\n",
    "\n",
    "class Circle(Shape):\n",
    "    def __init__(self, radius):\n",
    "        self.radius = radius\n",
    "    \n",
    "    def calculate_area(self):\n",
    "        return 3.14 * self.radius ** 2\n",
    "\n",
    "class Square(Shape):\n",
    "    def __init__(self, side_length):\n",
    "        self.side_length = side_length\n",
    "    \n",
    "    def calculate_area(self):\n",
    "        return self.side_length ** 2\n",
    "\n",
    "class Triangle(Shape):\n",
    "    def __init__(self, base, height):\n",
    "        self.base = base\n",
    "        self.height = height\n",
    "    \n",
    "    def calculate_area(self):\n",
    "        return 0.5 * self.base * self.height\n",
    "\n",
    "# Usage example:\n",
    "shapes = [Circle(5), Square(4), Triangle(3, 6)]\n",
    "\n",
    "for shape in shapes:\n",
    "    print(\"Area:\", shape.calculate_area())\n"
   ]
  },
  {
   "cell_type": "code",
   "execution_count": 21,
   "id": "c8aafdf5-92f8-4b98-a65f-0f631269f47f",
   "metadata": {},
   "outputs": [
    {
     "name": "stdout",
     "output_type": "stream",
     "text": [
      "Car started. Vroom vroom!\n",
      "Bicycle started. Pedal pedal!\n",
      "Boat started. Vroom splash!\n"
     ]
    }
   ],
   "source": [
    "# 8. Create a Python class hierarchy for a vehicle system (e.g., car, bicycle, boat) and implement a polymorphic `start()` method that prints a message specific to each vehicle type.\n",
    "class Vehicle:\n",
    "    def start(self):\n",
    "        pass\n",
    "\n",
    "class Car(Vehicle):\n",
    "    def start(self):\n",
    "        return \"Car started. Vroom vroom!\"\n",
    "\n",
    "class Bicycle(Vehicle):\n",
    "    def start(self):\n",
    "        return \"Bicycle started. Pedal pedal!\"\n",
    "\n",
    "class Boat(Vehicle):\n",
    "    def start(self):\n",
    "        return \"Boat started. Vroom splash!\"\n",
    "\n",
    "\n",
    "car = Car()\n",
    "print(car.start())  #\n",
    "\n",
    "bicycle = Bicycle()\n",
    "print(bicycle.start())  \n",
    "\n",
    "boat = Boat()\n",
    "print(boat.start())  \n"
   ]
  },
  {
   "cell_type": "code",
   "execution_count": null,
   "id": "121ea22a-6c14-4198-a166-1c6af51c0697",
   "metadata": {},
   "outputs": [],
   "source": [
    "# 9. Explain the significance of the `isinstance()` and `issubclass()` functions in Python polymorphism.\n",
    "isinstance():\n",
    "        The isinstance() function checks if an object is an instance of a specified class or any of its subclasses.\n",
    "        It takes two arguments: the object and the class (or a tuple of classes) to check against.\n",
    "issubclass():\n",
    "    \n",
    "        The issubclass() function checks if a given class is a subclass of another class. \n",
    "        It takes two arguments: the subclass and the superclass.\n"
   ]
  },
  {
   "cell_type": "code",
   "execution_count": null,
   "id": "cc48877b-7390-492c-bf56-b77446300515",
   "metadata": {},
   "outputs": [],
   "source": [
    "#10. What is the role of the `@abstractmethod` decorator in achieving polymorphism in Python? Provide an example.\n",
    "`@abstractmethod` decorator:  \n",
    "        The @abstractmethod decorator, provided by the abc module in Python, is used to define abstract methods in abstract base classes (ABCs).\n",
    "        An abstract method is a method declared in a superclass but not implemented there. \n",
    "        Instead, its implementation is left to its subclasses. \n",
    "        The @abstractmethod decorator marks a method as abstract, indicating that any subclass must implement it."
   ]
  },
  {
   "cell_type": "code",
   "execution_count": 2,
   "id": "486b747e-9245-4d1b-8975-b52101c5dc65",
   "metadata": {},
   "outputs": [
    {
     "name": "stdout",
     "output_type": "stream",
     "text": [
      "Area of rectangle: 15\n",
      "Area of circle: 50.26548245743669\n"
     ]
    }
   ],
   "source": [
    "# 11. Create a Python class called `Shape` with a polymorphic method `area()` that calculates the area of different shapes (e.g., circle, rectangle, triangle).\n",
    "import math\n",
    "class Shape:\n",
    "    def area(self):\n",
    "        raise NotImplementedError(\"Subclasses must implement the area method\")\n",
    "\n",
    "class Rectangle(Shape):\n",
    "    def __init__(self, length, width):\n",
    "        self.length = length\n",
    "        self.width = width\n",
    "\n",
    "    def area(self):\n",
    "        return self.length * self.width\n",
    "\n",
    "class Circle(Shape):\n",
    "    def __init__(self, radius):\n",
    "        self.radius = radius\n",
    "\n",
    "    def area(self):\n",
    "        return math.pi * self.radius ** 2\n",
    "\n",
    "# Usage\n",
    "rectangle = Rectangle(5, 3)\n",
    "circle = Circle(4)\n",
    "\n",
    "print(f\"Area of rectangle: {rectangle.area()}\")\n",
    "print(f\"Area of circle: {circle.area()}\")"
   ]
  },
  {
   "cell_type": "code",
   "execution_count": null,
   "id": "5e3eff4c-57c5-49a6-a022-4c52ce647b29",
   "metadata": {},
   "outputs": [],
   "source": [
    "#  12. Discuss the benefits of polymorphism in terms of code reusability and flexibility in Python programs.\n",
    "Code Reusability:\n",
    "- Polymorphism allows you to write code that can work with different types of objects without having to rewrite the code for each type.\n",
    "- For example, you can write a function that takes a shape object as an argument and calculates its area. This function will work with any type of shape object, such as a rectangle, triangle, or circle, without having to be modified.\n",
    "\n"
   ]
  },
  {
   "cell_type": "code",
   "execution_count": 5,
   "id": "7e66074e-08fd-4464-8763-8b5ebb36743d",
   "metadata": {},
   "outputs": [
    {
     "name": "stdout",
     "output_type": "stream",
     "text": [
      "Animal speaks\n",
      "Dog barks\n"
     ]
    }
   ],
   "source": [
    "# 13. Explain the use of the `super()` function in Python polymorphism. How does it help call methods of parent  classes?\n",
    "class Animal:\n",
    "    \n",
    "    def speak(self):\n",
    "        print(\"Animal speaks\")\n",
    "\n",
    "class Dog(Animal):\n",
    "    def speak(self):\n",
    "        super().speak() # Call the parent class's speak method\n",
    "        print(\"Dog barks\")\n",
    "\n",
    "dog = Dog()\n",
    "dog.speak()"
   ]
  },
  {
   "cell_type": "code",
   "execution_count": 6,
   "id": "c6326d5b-058e-4564-8c91-debc0bd1b95b",
   "metadata": {},
   "outputs": [
    {
     "name": "stdout",
     "output_type": "stream",
     "text": [
      "Savings account balance: 800\n",
      "Checking account balance: 200\n",
      "Credit card account balance: -200\n"
     ]
    }
   ],
   "source": [
    "# 14. Create a Python class hierarchy for a banking system with various account types (e.g., savings, checking, credit card) and demonstrate polymorphism by implementing a common `withdraw()` method.\n",
    "class Account:\n",
    "    def __init__(self, account_number, balance):\n",
    "        self.account_number = account_number\n",
    "        self.balance = balance\n",
    "\n",
    "    def withdraw(self, amount):\n",
    "        if amount > self.balance:\n",
    "            print(\"Insufficient funds\")\n",
    "        else:\n",
    "            self.balance -= amount\n",
    "\n",
    "\n",
    "class SavingsAccount(Account):\n",
    "    def __init__(self, account_number, balance, interest_rate):\n",
    "        super().__init__(account_number, balance)\n",
    "        self.interest_rate = interest_rate\n",
    "\n",
    "\n",
    "class CheckingAccount(Account):\n",
    "    def __init__(self, account_number, balance, overdraft_limit):\n",
    "        super().__init__(account_number, balance)\n",
    "        self.overdraft_limit = overdraft_limit\n",
    "\n",
    "    def withdraw(self, amount):\n",
    "        if amount > self.balance + self.overdraft_limit:\n",
    "            print(\"Insufficient funds\")\n",
    "        else:\n",
    "            self.balance -= amount\n",
    "\n",
    "\n",
    "class CreditCardAccount(Account):\n",
    "    def __init__(self, account_number, balance, credit_limit):\n",
    "        super().__init__(account_number, balance)\n",
    "        self.credit_limit = credit_limit\n",
    "\n",
    "    def withdraw(self, amount):\n",
    "        if amount > self.balance + self.credit_limit:\n",
    "            print(\"Insufficient funds\")\n",
    "        else:\n",
    "            self.balance -= amount\n",
    "\n",
    "\n",
    "savings_account = SavingsAccount(\"12345\", 1000, 0.05)\n",
    "checking_account = CheckingAccount(\"54321\", 500, 1000)\n",
    "credit_card_account = CreditCardAccount(\"67890\", 200, 5000)\n",
    "\n",
    "savings_account.withdraw(200)\n",
    "checking_account.withdraw(300)\n",
    "credit_card_account.withdraw(400)\n",
    "\n",
    "print(\"Savings account balance:\", savings_account.balance)\n",
    "print(\"Checking account balance:\", checking_account.balance)\n",
    "print(\"Credit card account balance:\", credit_card_account.balance)"
   ]
  },
  {
   "cell_type": "code",
   "execution_count": 7,
   "id": "0bd2948c-93a9-4f69-9186-fd144fa77abc",
   "metadata": {},
   "outputs": [
    {
     "name": "stdout",
     "output_type": "stream",
     "text": [
      "Dog barks\n",
      "Cat meows\n"
     ]
    }
   ],
   "source": [
    "# 16. What is dynamic polymorphism, and how is it achieved in Python?\n",
    "\n",
    "Dynamic polymorphism is a concept in object-oriented programming where the behavior of a method depends on the actual type of the object that calls it. In Python, dynamic polymorphism is achieved through method overriding.\n",
    "\n",
    "Consider the following example:\n",
    "class Animal:\n",
    "    def sound(self):\n",
    "        print(\"Animal makes a sound\")\n",
    "\n",
    "class Dog(Animal):\n",
    "    def sound(self):\n",
    "        print(\"Dog barks\")\n",
    "\n",
    "class Cat(Animal):\n",
    "    def sound(self):\n",
    "        print(\"Cat meows\")\n",
    "\n",
    "# Create instances of Dog and Cat\n",
    "dog = Dog()\n",
    "cat = Cat()\n",
    "\n",
    "# Call the sound method on each instance\n",
    "dog.sound()  # Output: Dog barks\n",
    "cat.sound()  # Output: Cat meows\n",
    "\n",
    "    "
   ]
  },
  {
   "cell_type": "code",
   "execution_count": null,
   "id": "2d69e26e-5e90-46be-a2f5-4886f3854004",
   "metadata": {},
   "outputs": [],
   "source": [
    "# 18.Create a Python class hierarchy for employees in a company (e.g., manager, developer, designer) and implement polymorphism through a com\n",
    "class Employee:\n",
    "    def __init__(self, name, hours_worked):\n",
    "        self.name = name\n",
    "        self.hours_worked = hours_worked\n",
    "\n",
    "    def calculate_salary(self):\n",
    "        raise NotImplementedError(\"Subclass must implement abstract method\")\n",
    "\n",
    "class Manager(Employee):\n",
    "    def calculate_salary(self):\n",
    "        # For simplicity, let's say managers have a fixed monthly salary\n",
    "        return 5000\n",
    "\n",
    "class Developer(Employee):\n",
    "    def calculate_salary(self):\n",
    "        # Developers are paid based on the number of hours worked\n",
    "        hourly_rate = 50\n",
    "        return self.hours_worked * hourly_rate\n",
    "\n",
    "class Designer(Employee):\n",
    "    def calculate_salary(self):\n",
    "        # Designers are paid based on the number of hours worked\n",
    "        hourly_rate = 40\n",
    "        return self.hours_worked * hourly_rate\n",
    "\n",
    "# Example usage:\n",
    "manager = Manager(\"John Smith\", 0)\n",
    "developer = Developer(\"Alice Johnson\", 160)\n",
    "designer = Designer(\"Emily Brown\", 140)\n",
    "\n",
    "print(f\"{manager.name}'s salary: ${manager.calculate_salary()}\")\n",
    "print(f\"{developer.name}'s salary: ${developer.calculate_salary()}\")\n",
    "print(f\"{designer.name}'s salary: ${designer.calculate_salary()}\")\n"
   ]
  },
  {
   "cell_type": "code",
   "execution_count": null,
   "id": "0c80d471-3ab1-40da-a549-4716a7b350bb",
   "metadata": {},
   "outputs": [],
   "source": [
    "# 19. Explain the role of interfaces and abstract classes in polymorphism, drawing comparisons between them.\n",
    "Interfaces:\n",
    "\n",
    "- Define a contract that specifies the methods that a class must implement.\n",
    "- Do not provide any implementation for the methods.\n",
    "- Allow multiple inheritance, enabling a class to implement multiple interfaces.\n",
    "\n",
    "Abstract Classes:\n",
    "\n",
    "- Define a partial implementation of a class.\n",
    "- May contain both abstract methods (without implementation) and concrete methods (with implementation).\n",
    "- Cannot be instantiated directly, but must be subclassed.\n",
    "\n",
    "Comparisons:\n",
    "\n",
    "- Abstraction: Interfaces define pure abstraction, while abstract classes provide partial abstraction.\n",
    "- Implementation: Interfaces do not provide any implementation, while abstract classes may provide partial implementation.\n",
    "- Inheritance: Interfaces support multiple inheritance, while abstract classes support single inheritance.\n",
    "- Flexibility: Interfaces offer more flexibility as they allow multiple inheritance and can be implemented by any class. Abstract classes are more rigid as they require subclasses to inherit from them."
   ]
  },
  {
   "cell_type": "code",
   "execution_count": 8,
   "id": "b44a095d-fc93-48e2-8a3a-1e655a41f93c",
   "metadata": {},
   "outputs": [
    {
     "name": "stdout",
     "output_type": "stream",
     "text": [
      "Leo the lion is eating.\n",
      "Leo the lion is sleeping.\n",
      "Leo the lion says 'hello'.\n",
      "Polly the parrot is eating seeds.\n",
      "Polly the parrot is sleeping in a nest.\n",
      "Polly the parrot says 'chirp'.\n",
      "Snappy the snake is eating insects.\n",
      "Snappy the snake is sleeping in the sun.\n",
      "Snappy the snake says 'hiss'.\n"
     ]
    }
   ],
   "source": [
    "# prompt: 20. Create a Python class for a zoo simulation, demonstrating polymorphism with different animal types (e.g., mammals, birds, reptiles) and their behavior (e.g., eating, sleeping, making sounds).\n",
    "\n",
    "class Animal:\n",
    "    def __init__(self, name, species):\n",
    "        self.name = name\n",
    "        self.species = species\n",
    "\n",
    "    def eat(self):\n",
    "        raise NotImplementedError(\"Subclasses must implement the eat method\")\n",
    "\n",
    "    def sleep(self):\n",
    "        raise NotImplementedError(\"Subclasses must implement the sleep method\")\n",
    "\n",
    "    def make_sound(self):\n",
    "        raise NotImplementedError(\"Subclasses must implement the make_sound method\")\n",
    "\n",
    "class Mammal(Animal):\n",
    "    def eat(self):\n",
    "        print(f\"{self.name} the {self.species} is eating.\")\n",
    "\n",
    "    def sleep(self):\n",
    "        print(f\"{self.name} the {self.species} is sleeping.\")\n",
    "\n",
    "    def make_sound(self):\n",
    "        print(f\"{self.name} the {self.species} says 'hello'.\")\n",
    "\n",
    "class Bird(Animal):\n",
    "    def eat(self):\n",
    "        print(f\"{self.name} the {self.species} is eating seeds.\")\n",
    "\n",
    "    def sleep(self):\n",
    "        print(f\"{self.name} the {self.species} is sleeping in a nest.\")\n",
    "\n",
    "    def make_sound(self):\n",
    "        print(f\"{self.name} the {self.species} says 'chirp'.\")\n",
    "\n",
    "class Reptile(Animal):\n",
    "    def eat(self):\n",
    "        print(f\"{self.name} the {self.species} is eating insects.\")\n",
    "\n",
    "    def sleep(self):\n",
    "        print(f\"{self.name} the {self.species} is sleeping in the sun.\")\n",
    "\n",
    "    def make_sound(self):\n",
    "        print(f\"{self.name} the {self.species} says 'hiss'.\")\n",
    "\n",
    "# Create instances of different animal types\n",
    "mammal = Mammal(\"Leo\", \"lion\")\n",
    "bird = Bird(\"Polly\", \"parrot\")\n",
    "reptile = Reptile(\"Snappy\", \"snake\")\n",
    "\n",
    "# Call the methods for each animal\n",
    "mammal.eat()\n",
    "mammal.sleep()\n",
    "mammal.make_sound()\n",
    "\n",
    "bird.eat()\n",
    "bird.sleep()\n",
    "bird.make_sound()\n",
    "\n",
    "reptile.eat()\n",
    "reptile.sleep()\n",
    "reptile.make_sound()"
   ]
  },
  {
   "cell_type": "markdown",
   "id": "217f98b9-0f24-4ca6-985c-e1f96ae9b543",
   "metadata": {},
   "source": [
    "# Abstraction:\n"
   ]
  },
  {
   "cell_type": "code",
   "execution_count": null,
   "id": "00054e9e-fa42-4f9e-b54c-bd4ce937b43d",
   "metadata": {},
   "outputs": [],
   "source": [
    "# 1. What is abstraction in Python, and how does it relate to object-oriented programming?\n",
    "\n",
    "Abstraction in Python is the process of hiding the implementation details of a class or module from the user. This allows the user to interact with the class or module without having to know how it works.\n",
    "\n",
    "Abstraction is related to object-oriented programming (OOP) in that it allows you to create classes that represent real-world objects. These classes can then be used to create objects that have their own unique properties and behaviors.\n"
   ]
  },
  {
   "cell_type": "code",
   "execution_count": null,
   "id": "8ad23a6c-57e7-45f9-96cf-616c3debe3f2",
   "metadata": {},
   "outputs": [],
   "source": [
    " # 2. Describe the benefits of abstraction in terms of code organization and complexity reduction.\n",
    "\n",
    "- Improved code organization:\n",
    "    Abstraction allows you to group related code into logical units, making your code easier to read, understand, and maintain.\n",
    "- Reduced complexity:\n",
    "    By hiding the implementation details of complex systems, abstraction can help to reduce the overall complexity of your code. This makes it easier to understand how the system works and to make changes to it in the future.\n",
    "- Increased flexibility:\n",
    "    Abstraction allows you to create interfaces that can be used by multiple different implementations. This makes your code more flexible and reusable, as you can easily swap out one implementation for another without having to change the rest of your code.\n",
    "- Improved security:\n",
    "    Abstraction can help to improve security by hiding sensitive data from unauthorized users. For example, you could create an abstract class that defines the methods that users need to access, but hides the implementation details of those methods. This would prevent users from being able to directly access the sensitive data that is used by those methods.\n",
    "- Enhanced maintainability:\n",
    "    By grouping related code into logical units, abstraction makes it easier to maintain your code. When you need to make a change to a particular part of your code, you only need to modify the code in the relevant abstract class or interface. This can save you a lot of time and effort in the long run."
   ]
  },
  {
   "cell_type": "code",
   "execution_count": 9,
   "id": "66a68084-b246-4f08-b2ed-9c53eb4d0800",
   "metadata": {},
   "outputs": [
    {
     "name": "stdout",
     "output_type": "stream",
     "text": [
      "Circle area: 78.53981633974483\n",
      "Rectangle area: 24\n"
     ]
    }
   ],
   "source": [
    "# 3. Create a Python class called `Shape` with an abstract method `calculate_area()`. Then, create child classes (e.g., `Circle`, `Rectangle`) that implement the `calculate_area()` method. Provide an example of  using these classes.\n",
    "\n",
    "from abc import ABC, abstractmethod\n",
    "\n",
    "class Shape(ABC):\n",
    "    @abstractmethod\n",
    "    def calculate_area(self):\n",
    "        pass\n",
    "\n",
    "class Circle(Shape):\n",
    "    def __init__(self, radius):\n",
    "        self.radius = radius\n",
    "\n",
    "    def calculate_area(self):\n",
    "        return math.pi * self.radius ** 2\n",
    "\n",
    "class Rectangle(Shape):\n",
    "    def __init__(self, length, width):\n",
    "        self.length = length\n",
    "        self.width = width\n",
    "\n",
    "    def calculate_area(self):\n",
    "        return self.length * self.width\n",
    "\n",
    "# Example usage\n",
    "circle = Circle(5)\n",
    "rectangle = Rectangle(4, 6)\n",
    "\n",
    "print(\"Circle area:\", circle.calculate_area())\n",
    "print(\"Rectangle area:\", rectangle.calculate_area())\n"
   ]
  },
  {
   "cell_type": "code",
   "execution_count": null,
   "id": "115c34de-b372-486f-8a88-e1ec26211c54",
   "metadata": {},
   "outputs": [],
   "source": [
    "#  4. Explain the concept of abstract classes in Python and how they are defined using the `abc` module. Provide  an example\n",
    "\n",
    "Abstract Classes in Python:\n",
    "\n",
    "Abstract classes in Python are defined using the `abc` module. They allow you to create classes that define a set of methods that must be implemented by any subclass. This can be useful for creating interfaces or for defining a common set of behavior for a group of related classes.\n",
    "\n",
    "To define an abstract class, you need to import the `abc` module and use the `@abc.abstractmethod` decorator on the methods that you want to be abstract. For example:\n",
    "\n"
   ]
  },
  {
   "cell_type": "code",
   "execution_count": null,
   "id": "0ca3686f-a0d2-48f4-8322-34e43172dbee",
   "metadata": {},
   "outputs": [],
   "source": [
    "#  5. How do abstract classes differ from regular classes in Python? Discuss their use cases.\n",
    "\n",
    "Differences between abstract classes and regular classes in Python:\n",
    "\n",
    "- Abstract methods:\n",
    "    Abstract classes can contain abstract methods, which are methods that have no implementation. These methods are defined using the `abc.abstractmethod` decorator.\n",
    "- Inheritance: \n",
    "    Abstract classes cannot be instantiated directly. They must be subclassed, and the subclasses must provide implementations for all of the abstract methods.\n",
    "- Use cases for abstract classes:\n",
    "    - Defining interfaces:\n",
    "        Abstract classes can be used to define interfaces that can be implemented by multiple different classes. This can be useful for creating libraries or frameworks that can be used with a variety of different objects.\n",
    "    - Enforcing certain behaviors:\n",
    "        Abstract classes can be used to enforce certain behaviors on subclasses. For example, you could create an abstract class that defines the methods that all of its subclasses must implement. This would ensure that all of the subclasses have the same functionality.\n",
    "    - Reducing code duplication:\n",
    "        Abstract classes can be used to reduce code duplication by grouping related code into logical units. This can make your code easier to read, understand, and maintain.\n"
   ]
  },
  {
   "cell_type": "code",
   "execution_count": 10,
   "id": "08873637-1163-4129-abfd-8731b511ff82",
   "metadata": {},
   "outputs": [
    {
     "name": "stdout",
     "output_type": "stream",
     "text": [
      "Account balance: 1300\n"
     ]
    }
   ],
   "source": [
    "# 6. Create a Python class for a bank account and demonstrate abstraction by hiding the account balance and  providing methods to deposit and withdraw funds.\n",
    "\n",
    "class BankAccount:\n",
    "    def __init__(self, balance):\n",
    "        self.__balance = balance\n",
    "\n",
    "    def deposit(self, amount):\n",
    "        self.__balance += amount\n",
    "\n",
    "    def withdraw(self, amount):\n",
    "        if amount <= self.__balance:\n",
    "            self.__balance -= amount\n",
    "        else:\n",
    "            print(\"Insufficient funds\")\n",
    "\n",
    "    def get_balance(self):\n",
    "        return self.__balance\n",
    "\n",
    "# Create a bank account object\n",
    "account = BankAccount(1000)\n",
    "\n",
    "# Deposit funds\n",
    "account.deposit(500)\n",
    "\n",
    "# Withdraw funds\n",
    "account.withdraw(200)\n",
    "\n",
    "# Get the account balance\n",
    "balance = account.get_balance()\n",
    "\n",
    "# Print the account balance\n",
    "print(f\"Account balance: {balance}\")\n"
   ]
  },
  {
   "cell_type": "code",
   "execution_count": null,
   "id": "6f972af9-c209-437b-a811-ea6b969d218f",
   "metadata": {},
   "outputs": [],
   "source": [
    "# 7. Discuss the concept of interface classes in Python and role in achieving abstraction.\n",
    "\n",
    "Interface classes in Python are a way to define a set of methods that a class must implement. This allows you to create a common interface for multiple classes, even if they have different implementations.\n",
    "\n",
    "code defines an interface class called `Animal` with two methods, `eat()` and `sleep()`\n",
    "\n"
   ]
  },
  {
   "cell_type": "code",
   "execution_count": 11,
   "id": "6e290db8-627b-4d2f-8716-69bb90bc65b4",
   "metadata": {},
   "outputs": [
    {
     "name": "stdout",
     "output_type": "stream",
     "text": [
      "Leo the mammal is eating.\n",
      "Leo the mammal is sleeping.\n",
      "Polly the bird is eating seeds.\n",
      "Polly the bird is sleeping in a nest.\n",
      "Snappy the reptile is eating insects.\n",
      "Snappy the reptile is sleeping in the sun.\n"
     ]
    }
   ],
   "source": [
    "#  8. Create a Python class hierarchy for animals and implement abstraction by defining common methods (e.g., `eat()`, `sleep()`) in an abstract base class.\n",
    "\n",
    "from abc import ABC, abstractmethod\n",
    "\n",
    "class Animal(ABC):\n",
    "\n",
    "    @abstractmethod\n",
    "    def eat(self):\n",
    "        pass\n",
    "\n",
    "    @abstractmethod\n",
    "    def sleep(self):\n",
    "        pass\n",
    "\n",
    "class Mammal(Animal):\n",
    "\n",
    "    def eat(self):\n",
    "        print(f\"{self.name} the mammal is eating.\")\n",
    "\n",
    "    def sleep(self):\n",
    "        print(f\"{self.name} the mammal is sleeping.\")\n",
    "\n",
    "class Bird(Animal):\n",
    "\n",
    "    def eat(self):\n",
    "        print(f\"{self.name} the bird is eating seeds.\")\n",
    "\n",
    "    def sleep(self):\n",
    "        print(f\"{self.name} the bird is sleeping in a nest.\")\n",
    "\n",
    "class Reptile(Animal):\n",
    "\n",
    "    def eat(self):\n",
    "        print(f\"{self.name} the reptile is eating insects.\")\n",
    "\n",
    "    def sleep(self):\n",
    "        print(f\"{self.name} the reptile is sleeping in the sun.\")\n",
    "\n",
    "# Create instances of different animal types\n",
    "mammal = Mammal()\n",
    "mammal.name = \"Leo\"\n",
    "bird = Bird()\n",
    "bird.name = \"Polly\"\n",
    "reptile = Reptile()\n",
    "reptile.name = \"Snappy\"\n",
    "\n",
    "# Call the methods for each animal\n",
    "mammal.eat()\n",
    "mammal.sleep()\n",
    "\n",
    "bird.eat()\n",
    "bird.sleep()\n",
    "\n",
    "reptile.eat()\n",
    "reptile.sleep()\n"
   ]
  },
  {
   "cell_type": "code",
   "execution_count": null,
   "id": "fcb7bb9c-a948-4017-8e4d-33691e2dc3f4",
   "metadata": {},
   "outputs": [],
   "source": [
    "# 9. Explain the significance of encapsulation in achieving abstraction. Provide examples.\n",
    "\n",
    "Encapsulation is the process of bundling data and methods together into a single unit, called an object. This allows you to hide the implementation details of your code from the rest of the program, and to only expose the methods that are necessary for other parts of the program to interact with your object.\n",
    "\n",
    "Encapsulation is essential for achieving abstraction, as it allows you to create abstract classes and interfaces that define the methods that objects should implement, without having to specify how those methods are implemented. This allows you to create a more flexible and reusable codebase, as you can easily swap out one implementation of an abstract class or interface for another without having to change the rest of your code.\n",
    "\n",
    "Here is an example of how encapsulation can be used to achieve abstraction:\n",
    "    BankAccount Class\n",
    "    Student Class"
   ]
  },
  {
   "cell_type": "code",
   "execution_count": null,
   "id": "3d343fba-ff03-4cc6-8068-b9289bd45297",
   "metadata": {},
   "outputs": [],
   "source": [
    "# 10. What is the purpose of abstract methods, and how do they enforce abstraction in Python classes?\n",
    "\n",
    "Abstract methods in Python are methods that are declared in an abstract base class (ABC) but do not have an implementation. This means that any subclasses of the ABC must implement these methods in order to be considered concrete classes.\n",
    "\n",
    "Abstract methods are used to enforce abstraction in Python classes by ensuring that all subclasses of an ABC provide implementations for the methods that are declared as abstract. This helps to ensure that all subclasses of an ABC have the same interface, even if they have different implementations.\n",
    "\n",
    "To define an abstract method in Python, you simply use the @abstractmethod decorator. For example:\n",
    "\n"
   ]
  },
  {
   "cell_type": "code",
   "execution_count": 12,
   "id": "8710c2cb-88b1-45fc-9f72-577023db777b",
   "metadata": {},
   "outputs": [
    {
     "name": "stdout",
     "output_type": "stream",
     "text": [
      "Car started.\n",
      "Car stopped.\n",
      "Motorcycle started.\n",
      "Motorcycle stopped.\n"
     ]
    }
   ],
   "source": [
    "#  11. Create a Python class for a vehicle system and demonstrate abstraction by defining common methods (e.g., `start()`, `stop()`) in an abstract base class.\n",
    "\n",
    "from abc import ABC, abstractmethod\n",
    "\n",
    "class Vehicle(ABC):\n",
    "    @abstractmethod\n",
    "    def start(self):\n",
    "        pass\n",
    "\n",
    "    @abstractmethod\n",
    "    def stop(self):\n",
    "        pass\n",
    "\n",
    "class Car(Vehicle):\n",
    "    def start(self):\n",
    "        print(\"Car started.\")\n",
    "\n",
    "    def stop(self):\n",
    "        print(\"Car stopped.\")\n",
    "\n",
    "class Motorcycle(Vehicle):\n",
    "    def start(self):\n",
    "        print(\"Motorcycle started.\")\n",
    "\n",
    "    def stop(self):\n",
    "        print(\"Motorcycle stopped.\")\n",
    "\n",
    "car = Car()\n",
    "motorcycle = Motorcycle()\n",
    "\n",
    "car.start()\n",
    "car.stop()\n",
    "\n",
    "motorcycle.start()\n",
    "motorcycle.stop()\n"
   ]
  },
  {
   "cell_type": "code",
   "execution_count": null,
   "id": "0eeb7b92-48eb-4d5f-ac7f-f4a0ba92379f",
   "metadata": {},
   "outputs": [],
   "source": [
    "#  12. Describe the use of abstract properties in Python and how they can be employed in abstract classes.\n",
    "\n",
    "Abstract properties in Python are a way to define properties that do not have an implementation in the abstract base class. This allows you to create abstract classes that define the interface for a set of classes, without having to provide a concrete implementation for all of the properties.\n",
    "\n",
    "Abstract properties are defined using the `abc.abstractmethod` decorator. For example, the following code defines an abstract class called `Shape` with an abstract property called `area`:\n",
    "\n"
   ]
  },
  {
   "cell_type": "code",
   "execution_count": 14,
   "id": "27e84801-7215-4207-b824-62c116ac358d",
   "metadata": {},
   "outputs": [
    {
     "name": "stdout",
     "output_type": "stream",
     "text": [
      "Manager salary: 100000\n",
      "Developer salary: 80000\n",
      "Designer salary: 70000\n"
     ]
    }
   ],
   "source": [
    "# 13. Create a Python class hierarchy for employees in a company (e.g., manager, developer, designer) and implement abstraction by defining a common `get_salary()` method.\n",
    "\n",
    "from abc import ABC, abstractmethod\n",
    "\n",
    "class Employee(ABC):\n",
    "    def __init__(self, name, position):\n",
    "        self.name = name\n",
    "        self.position = position\n",
    "\n",
    "    @abstractmethod\n",
    "    def get_salary(self):\n",
    "        pass\n",
    "\n",
    "class Manager(Employee):\n",
    "    def __init__(self, name):\n",
    "        super().__init__(name, 'Manager')\n",
    "\n",
    "    def get_salary(self):\n",
    "        return 100000\n",
    "\n",
    "class Developer(Employee):\n",
    "    def __init__(self, name):\n",
    "        super().__init__(name, 'Developer')\n",
    "\n",
    "    def get_salary(self):\n",
    "        return 80000\n",
    "\n",
    "class Designer(Employee):\n",
    "    def __init__(self, name):\n",
    "        super().__init__(name, 'Designer')\n",
    "\n",
    "    def get_salary(self):\n",
    "        return 70000\n",
    "\n",
    "manager = Manager('John')\n",
    "developer = Developer('Jane')\n",
    "designer = Designer('Alice')\n",
    "\n",
    "print(f'Manager salary: {manager.get_salary()}')\n",
    "print(f'Developer salary: {developer.get_salary()}')\n",
    "print(f'Designer salary: {designer.get_salary()}')\n"
   ]
  },
  {
   "cell_type": "code",
   "execution_count": null,
   "id": "9869f93e-ea5b-47e6-87f6-d92dd2a46087",
   "metadata": {},
   "outputs": [],
   "source": [
    "# 14. Discuss the differences between abstract classes and concrete classes in Python, including their  instantiation\n",
    "\n",
    "**Abstract classes:**\n",
    "\n",
    "- Abstract classes are defined using the `abc` module and the `ABC` metaclass.\n",
    "- They contain abstract methods, which are methods without an implementation.\n",
    "- Abstract classes cannot be instantiated.\n",
    "- They are used to define a common interface for concrete subclasses.\n",
    "\n",
    "**Concrete classes:**\n",
    "\n",
    "- Concrete classes are classes that implement the abstract methods of an abstract class.\n",
    "- They can be instantiated and used to create objects.\n",
    "\n",
    "\n",
    "\n"
   ]
  },
  {
   "cell_type": "code",
   "execution_count": null,
   "id": "23d25a2d-6693-4ed5-b3b7-c237c4d79a3e",
   "metadata": {},
   "outputs": [],
   "source": [
    "#  15. Explain the concept of abstract data types (ADTs) and their role in achieving abstraction in Python.\n",
    "\n",
    "Abstract data types (ADTs) are a fundamental concept in programming that allows you to define data structures and operations on those data structures without specifying the concrete implementation details. This separation of interface and implementation provides a number of benefits, including:\n",
    "\n",
    "- Encapsulation:ADTs hide the implementation details of data structures from the rest of the program. This allows you to change the implementation of an ADT without affecting the code that uses it.\n",
    "- Modularity: ADTs can be used to create modular programs that are easier to understand and maintain.\n",
    "- Reusability: ADTs can be reused in multiple programs, which can save time and effort.\n",
    "\n",
    "In Python, ADTs are typically implemented using classes. For example, the following code defines an abstract data type called `Stack`:\n",
    "\n"
   ]
  },
  {
   "cell_type": "code",
   "execution_count": 15,
   "id": "935fc3e3-95d0-4643-82b2-76b334f6a074",
   "metadata": {},
   "outputs": [
    {
     "name": "stdout",
     "output_type": "stream",
     "text": [
      "Laptop powering on...\n",
      "Desktop powering on...\n",
      "Laptop shutting down...\n",
      "Desktop shutting down...\n"
     ]
    }
   ],
   "source": [
    "# 16. Create a Python class for a computer system, demonstrating abstraction by defining common methods (e.g., `power_on()`, `shutdown()`) in an abstract base class\n",
    "\n",
    "from abc import ABC, abstractmethod\n",
    "\n",
    "class Computer(ABC):\n",
    "    @abstractmethod\n",
    "    def power_on(self):\n",
    "        pass\n",
    "\n",
    "    @abstractmethod\n",
    "    def shutdown(self):\n",
    "        pass\n",
    "\n",
    "class Laptop(Computer):\n",
    "    def power_on(self):\n",
    "        print(\"Laptop powering on...\")\n",
    "\n",
    "    def shutdown(self):\n",
    "        print(\"Laptop shutting down...\")\n",
    "\n",
    "class Desktop(Computer):\n",
    "    def power_on(self):\n",
    "        print(\"Desktop powering on...\")\n",
    "\n",
    "    def shutdown(self):\n",
    "        print(\"Desktop shutting down...\")\n",
    "\n",
    "# Create instances of Laptop and Desktop classes\n",
    "laptop = Laptop()\n",
    "desktop = Desktop()\n",
    "\n",
    "# Power on the devices\n",
    "laptop.power_on()\n",
    "desktop.power_on()\n",
    "\n",
    "# Shut down the devices\n",
    "laptop.shutdown()\n",
    "desktop.shutdown()\n"
   ]
  },
  {
   "cell_type": "code",
   "execution_count": null,
   "id": "1e90d15a-aa88-45b9-b408-bf8bf990df16",
   "metadata": {},
   "outputs": [],
   "source": [
    "#  17. Discuss the benefits of using abstraction in large-scale software development projects.\n",
    "\n",
    "- Improved code organization: \n",
    "       Abstraction allows you to group related code into logical units, making your code easier to read, understand, and maintain. This is especially important in large-scale software development projects, where there may be hundreds or even thousands of lines of code.\n",
    "- Reduced complexity:\n",
    "         By hiding the implementation details of complex systems, abstraction can help to reduce the overall complexity of your code. This makes it easier to understand how the system works and to make changes to it in the future. This is especially important in large-scale software development projects, where there may be multiple teams of developers working on different parts of the system.\n",
    "- Increased flexibility:\n",
    "         Abstraction allows you to create interfaces that can be used by multiple different implementations. This makes your code more flexible and reusable, as you can easily swap out one implementation for another without having to change the rest of your code. This is especially important in large-scale software development projects, where there may be multiple different versions of the system that need to be supported.\n",
    "- Improved security:\n",
    "             Abstraction can help to improve security by hiding sensitive data from unauthorized users. For example, you could create an abstract class that defines the methods that users need to access, but hides the implementation details of those methods. This would prevent users from being able to directly access the sensitive data that is used by those methods. This is especially important in large-scale software development projects, where there may be multiple different users with different levels of access to the system.\n",
    "- Enhanced maintainability:\n",
    "               By grouping related code into logical units, abstraction makes it easier to maintain your code. When you need to make a change to a particular part of your code, you only need to modify the code in the relevant abstract class or interface. This can save you a lot of time and effort in the long run. This is especially important in large-scale software development projects, where there may be multiple teams of developers working on different parts of the system.\n"
   ]
  },
  {
   "cell_type": "code",
   "execution_count": null,
   "id": "24863dd5-9ea6-4138-9238-f975572f9a18",
   "metadata": {},
   "outputs": [],
   "source": [
    "# 18. Explain how abstraction enhances code reusability and modularity in Python programs.\n",
    "\n",
    "Abstraction in Python allows you to create classes and interfaces that define the essential characteristics of an object or system without revealing its implementation details. This enhances code reusability and modularity in the following ways:\n",
    "\n",
    "- Code reuse:\n",
    "    By defining abstract classes and interfaces, you can create reusable code that can be used in multiple different contexts. For example, you could create an abstract class that defines the methods that all animals should have, such as `eat()`, `sleep()`, and `make_sound()`. Then, you could create subclasses of this abstract class to represent specific types of animals, such as `Dog`, `Cat`, and `Bird`. This would allow you to reuse the code that you wrote for the abstract class in all of the subclasses, which can save you a lot of time and effort.\n",
    "\n",
    "- Modularity:\n",
    "    Abstraction allows you to create modular code that can be easily combined to create more complex systems. For example, you could create an abstract class that defines the methods that all vehicles should have, such as `start()`, `stop()`, and `drive()`. Then, you could create subclasses of this abstract class to represent specific types of vehicles, such as `Car`, `Truck`, and `Bicycle`. This would allow you to easily combine the code for different types of vehicles to create more complex systems, such as a traffic simulation or a vehicle rental system.\n",
    "\n",
    "\n"
   ]
  },
  {
   "cell_type": "code",
   "execution_count": 16,
   "id": "f0db6e20-2680-4f5c-bcbf-1a58dacc033b",
   "metadata": {},
   "outputs": [
    {
     "name": "stdout",
     "output_type": "stream",
     "text": [
      "Available books: ['The Great Gatsby', 'To Kill a Mockingbird']\n",
      "Book borrowed successfully.\n",
      "Available books: ['To Kill a Mockingbird', 'The Great Gatsby']\n"
     ]
    }
   ],
   "source": [
    "#  19. Create a Python class for a library system, implementing abstraction by defining common methods (e.g., `add_book()`, `borrow_book()`) in an abstract base class.\n",
    "\n",
    "from abc import ABC, abstractmethod\n",
    "\n",
    "class LibrarySystem(ABC):\n",
    "    @abstractmethod\n",
    "    def add_book(self, book):\n",
    "        pass\n",
    "\n",
    "    @abstractmethod\n",
    "    def borrow_book(self, book):\n",
    "        pass\n",
    "\n",
    "    @abstractmethod\n",
    "    def return_book(self, book):\n",
    "        pass\n",
    "\n",
    "class MyLibrary(LibrarySystem):\n",
    "    def __init__(self):\n",
    "        self.books = []\n",
    "\n",
    "    def add_book(self, book):\n",
    "        self.books.append(book)\n",
    "\n",
    "    def borrow_book(self, book):\n",
    "        if book in self.books:\n",
    "            self.books.remove(book)\n",
    "            return True\n",
    "        else:\n",
    "            return False\n",
    "\n",
    "    def return_book(self, book):\n",
    "        self.books.append(book)\n",
    "\n",
    "# Usage:\n",
    "library = MyLibrary()\n",
    "\n",
    "library.add_book(\"The Great Gatsby\")\n",
    "library.add_book(\"To Kill a Mockingbird\")\n",
    "\n",
    "print(f\"Available books: {library.books}\")\n",
    "\n",
    "if library.borrow_book(\"The Great Gatsby\"):\n",
    "    print(\"Book borrowed successfully.\")\n",
    "else:\n",
    "    print(\"Book not available.\")\n",
    "\n",
    "library.return_book(\"The Great Gatsby\")\n",
    "\n",
    "print(f\"Available books: {library.books}\")\n"
   ]
  },
  {
   "cell_type": "code",
   "execution_count": null,
   "id": "c6723332-6070-4bf6-94f0-bfa6fe79157f",
   "metadata": {},
   "outputs": [],
   "source": [
    "# 20. Describe the concept of method abstraction in Python and how it relates to polymorphism.\n",
    "\n",
    "Method abstraction in Python is the process of hiding the implementation details of a method from the user. This is done by defining an abstract class or interface that specifies the method signature but does not provide an implementation. Subclasses of the abstract class or implementations of the interface can then provide their own implementations of the method.\n",
    "\n",
    "Polymorphism is the ability for different objects to respond to the same method in different ways. This is achieved through method abstraction, as the abstract class or interface defines the method signature but does not provide an implementation. Subclasses of the abstract class or implementations of the interface can then provide their own implementations of the method, which will be called when the method is invoked on an object of that type.\n",
    "\n",
    "\n"
   ]
  },
  {
   "cell_type": "markdown",
   "id": "5c3dff18-7ee9-43d8-832c-4ff4d0b7dce4",
   "metadata": {},
   "source": [
    "# Composition:\n"
   ]
  },
  {
   "cell_type": "code",
   "execution_count": null,
   "id": "35b816a2-4e4b-451c-9af2-e3d77a9cc488",
   "metadata": {},
   "outputs": [],
   "source": [
    "# 1. Explain the concept of composition in Python and how it is used to build complex objects from simpler ones.\n",
    "\n",
    "Composition is a fundamental concept in object-oriented programming that allows you to create complex objects by combining simpler objects. In Python, composition is achieved by creating classes that contain instances of other classes as attributes.\n",
    "\n",
    "For example, consider a simple class called `Engine` that represents the engine of a car\n",
    "\n"
   ]
  },
  {
   "cell_type": "code",
   "execution_count": null,
   "id": "7bb743b1-2a55-435c-8ec0-4f9aa2a21041",
   "metadata": {},
   "outputs": [],
   "source": [
    "# 2. Describe the difference between composition and inheritance in object-oriented programming.\n",
    "\n",
    "Composition:\n",
    "\n",
    "- In composition, a class contains objects of other classes as its attributes.\n",
    "- The relationship between the classes is \"has-a\".\n",
    "- The composed objects are not affected by changes in the containing class.\n",
    "\n",
    "Inheritance:\n",
    "\n",
    "- In inheritance, a new class is created by inheriting the properties and methods of an existing class.\n",
    "- The relationship between the classes is \"is-a\".\n",
    "- The inherited properties and methods can be overridden or extended in the new class.\n",
    "\n",
    "\n"
   ]
  },
  {
   "cell_type": "code",
   "execution_count": null,
   "id": "35c89ef5-3145-49fa-ad55-2a1eccbdd9b3",
   "metadata": {},
   "outputs": [],
   "source": [
    "#  3. Create a Python class called `Author` with attributes for name and birthdate. Then, create a `Book` class  that contains an instance of `Author` as a composition. Provide an example of creating a `Book` object. \n",
    "\n",
    "class Author:\n",
    "    def __init__(self, name, birthdate):\n",
    "        self.name = name\n",
    "        self.birthdate = birthdate\n",
    "\n",
    "class Book:\n",
    "    def __init__(self, title, author):\n",
    "        self.title = title\n",
    "        self.author = author\n",
    "\n",
    "author = Author(\"John Doe\", \"1980-01-01\")\n",
    "\n",
    "book = Book(\"My Book\", author)\n",
    "\n",
    "print(f\"Book title: {book.title}\")\n",
    "print(f\"Author name: {book.author.name}\")\n"
   ]
  },
  {
   "cell_type": "code",
   "execution_count": null,
   "id": "5fc66ec3-b75c-4fbb-bd0f-a88a6a8cac1b",
   "metadata": {},
   "outputs": [],
   "source": [
    "#  4. Discuss the benefits of using composition over inheritance in Python, especially in terms of code flexibility  and reusability.\n",
    "\n",
    "Benefits of Composition over Inheritance:\n",
    "\n",
    "-Increased Flexibility:\n",
    "    - Composition allows for more flexible and modular code design.\n",
    "   - You can combine different objects with specific functionalities to create more complex objects.\n",
    "   - This flexibility enables easier adaptation to changing requirements and simplifies code maintenance.\n",
    "\n",
    "- Improved Reusability:\n",
    "   - With composition, you can reuse existing objects and functionalities across multiple classes.\n",
    "   - Instead of extending a class and inheriting its properties, you can create new classes that utilize existing objects as components.\n",
    "   - This promotes code reusability and reduces the need for code duplication.\n",
    "\n",
    "Example:\n",
    "\n",
    "Consider a scenario where you have a `Vehicle` class with methods for driving and braking. You want to create a `Car` class that inherits from `Vehicle` and a `Bicycle` class that also has driving and braking functionality.\n",
    "\n",
    "\n"
   ]
  },
  {
   "cell_type": "code",
   "execution_count": null,
   "id": "97b9533d-1b9e-4c92-b850-26b864e92429",
   "metadata": {},
   "outputs": [],
   "source": [
    "# 5. How can you implement composition in Python classes? Provide examples of using composition to create  complex objects\n",
    "\n",
    "Composition is a powerful design pattern in object-oriented programming that allows you to create complex objects by combining simpler objects. In Python, composition can be implemented by creating classes that contain instances of other classes as attributes.\n",
    "\n",
    "\n"
   ]
  },
  {
   "cell_type": "code",
   "execution_count": 17,
   "id": "bd7cac6e-5890-41b9-b008-807f6af30df2",
   "metadata": {},
   "outputs": [
    {
     "name": "stdout",
     "output_type": "stream",
     "text": [
      "Playing song: Bohemian Rhapsody by Queen\n"
     ]
    }
   ],
   "source": [
    "#  6. Create a Python class hierarchy for a music player system, using composition to represent playlists and songs\n",
    "\n",
    "class Song:\n",
    "    def __init__(self, title, artist, album):\n",
    "        self.title = title\n",
    "        self.artist = artist\n",
    "        self.album = album\n",
    "\n",
    "class Playlist:\n",
    "    def __init__(self, name):\n",
    "        self.name = name\n",
    "        self.songs = []\n",
    "\n",
    "    def add_song(self, song):\n",
    "        self.songs.append(song)\n",
    "\n",
    "    def remove_song(self, song):\n",
    "        self.songs.remove(song)\n",
    "\n",
    "class MusicPlayer:\n",
    "    def __init__(self):\n",
    "        self.playlists = []\n",
    "        self.current_playlist = None\n",
    "\n",
    "    def add_playlist(self, playlist):\n",
    "        self.playlists.append(playlist)\n",
    "\n",
    "    def remove_playlist(self, playlist):\n",
    "        self.playlists.remove(playlist)\n",
    "\n",
    "    def set_current_playlist(self, playlist):\n",
    "        self.current_playlist = playlist\n",
    "\n",
    "    def play_song(self):\n",
    "        if self.current_playlist is not None:\n",
    "            if len(self.current_playlist.songs) > 0:\n",
    "                current_song = self.current_playlist.songs[0]\n",
    "                print(f\"Playing song: {current_song.title} by {current_song.artist}\")\n",
    "            else:\n",
    "                print(\"No songs in the current playlist.\")\n",
    "        else:\n",
    "            print(\"No playlist selected.\")\n",
    "\n",
    "# Create some songs\n",
    "song1 = Song(\"Bohemian Rhapsody\", \"Queen\", \"A Night at the Opera\")\n",
    "song2 = Song(\"Stairway to Heaven\", \"Led Zeppelin\", \"Led Zeppelin IV\")\n",
    "song3 = Song(\"Hotel California\", \"Eagles\", \"Hotel California\")\n",
    "\n",
    "# Create a playlist\n",
    "playlist1 = Playlist(\"Classic Rock\")\n",
    "\n",
    "# Add songs to the playlist\n",
    "playlist1.add_song(song1)\n",
    "playlist1.add_song(song2)\n",
    "playlist1.add_song(song3)\n",
    "\n",
    "# Create a music player\n",
    "music_player = MusicPlayer()\n",
    "\n",
    "# Add the playlist to the music player\n",
    "music_player.add_playlist(playlist1)\n",
    "\n",
    "# Set the current playlist\n",
    "music_player.set_current_playlist(playlist1)\n",
    "\n",
    "# Play the song\n",
    "music_player.play_song()\n"
   ]
  },
  {
   "cell_type": "code",
   "execution_count": null,
   "id": "81470ca4-e66c-4945-b1f5-f7680e17b41e",
   "metadata": {},
   "outputs": [],
   "source": [
    "#  7. Explain the concept of \"has-a\" relationships in composition and how it helps design software systems.\n",
    "\n",
    "The \"has-a\" relationship in composition is a fundamental concept in object-oriented programming that models the relationship between a whole and its parts. It allows you to create complex objects by combining simpler objects. In this relationship, one object (the whole) contains or owns another object (the part).\n",
    "\n",
    "Here's how the \"has-a\" relationship helps design software systems:\n",
    "\n",
    "- Modularity: It promotes modularity by dividing a complex system into smaller, more manageable components. Each component can be developed and maintained independently, improving the overall maintainability and scalability of the system.\n",
    "\n",
    "- Code Reusability: By encapsulating common functionalities into reusable components, you can avoid code duplication and enhance code reusability. This reduces development time and effort, as you can simply reuse existing components in different parts of your system.\n",
    "\n",
    "- Encapsulation: The \"has-a\" relationship helps achieve encapsulation by hiding the internal details of the component objects from the rest of the system. This promotes information hiding and reduces the risk of unintended modifications or errors.\n",
    "\n",
    "- Flexibility and Extensibility: It provides flexibility and extensibility to your system. You can easily add or remove components without affecting the overall structure of the system. This makes it easier to adapt your system to changing requirements or integrate new features.\n",
    "\n",
    "- Improved Design: By utilizing the \"has-a\" relationship, you can create more structured and well-defined systems. It encourages you to think about the relationships between different parts of your system and how they can be composed to achieve the desired functionality.\n",
    "\n",
    "\n"
   ]
  },
  {
   "cell_type": "code",
   "execution_count": 18,
   "id": "a20c175c-b759-4a58-a044-a6d9126dc85f",
   "metadata": {},
   "outputs": [
    {
     "name": "stdout",
     "output_type": "stream",
     "text": [
      "CPU is processing data.\n",
      "RAM is storing data.\n",
      "Storage is storing files.\n"
     ]
    }
   ],
   "source": [
    "# 8. Create a Python class for a computer system, using composition to represent components like CPU, RAM,  and storage devices.\n",
    "\n",
    "class Computer:\n",
    "    def __init__(self):\n",
    "        self.cpu = CPU()\n",
    "        self.ram = RAM()\n",
    "        self.storage = Storage()\n",
    "\n",
    "class CPU:\n",
    "    def process(self):\n",
    "        print(\"CPU is processing data.\")\n",
    "\n",
    "class RAM:\n",
    "    def store_data(self):\n",
    "        print(\"RAM is storing data.\")\n",
    "\n",
    "class Storage:\n",
    "    def store_files(self):\n",
    "        print(\"Storage is storing files.\")\n",
    "\n",
    "computer = Computer()\n",
    "computer.cpu.process()\n",
    "computer.ram.store_data()\n",
    "computer.storage.store_files()\n"
   ]
  },
  {
   "cell_type": "code",
   "execution_count": null,
   "id": "827ebb86-add5-4642-9128-cc2815347b91",
   "metadata": {},
   "outputs": [],
   "source": [
    "# 9. Discuss the advantages of encapsulation in terms of code maintainability and security.\n",
    "\n",
    "Advantages of encapsulation in terms of code maintainability:\n",
    "\n",
    "- Improved code organization:\n",
    "    Encapsulation allows you to group related data and methods together into a single unit, making your code easier to read and understand. This can make it easier to maintain your code in the long run, as you can easily find the code that you need to change.\n",
    "- Reduced complexity:\n",
    "    By hiding the implementation details of your data and methods, encapsulation can help to reduce the overall complexity of your code. This can make it easier to understand how your code works and to make changes to it in the future.\n",
    "- Increased flexibility:\n",
    "    Encapsulation allows you to create interfaces that can be used by multiple different implementations. This makes your code more flexible and reusable, as you can easily swap out one implementation for another without having to change the rest of your code.\n",
    "\n",
    "Advantages of encapsulation in terms of security:\n",
    "\n",
    "- Improved data security:\n",
    "    Encapsulation can help to improve data security by hiding sensitive data from unauthorized users. For example, you could create a class that encapsulates a user's personal information. This would prevent other users from being able to directly access the user's personal information.\n",
    "- Reduced risk of code injection:\n",
    "    Encapsulation can help to reduce the risk of code injection attacks by preventing unauthorized users from directly accessing your code. For example, if you have a class that handles user input, you could encapsulate the input validation logic in a private method. This would prevent unauthorized users from being able to bypass the input validation and execute arbitrary code on your server.\n"
   ]
  },
  {
   "cell_type": "code",
   "execution_count": 1,
   "id": "d95b88d3-a2ea-46e8-bde0-4cbb39cf1756",
   "metadata": {},
   "outputs": [
    {
     "name": "stdout",
     "output_type": "stream",
     "text": [
      "secret\n"
     ]
    }
   ],
   "source": [
    "#  10. How can you access private attributes in Python? Provide an example demonstrating the use of name  mangling.\n",
    "\n",
    "# Accessing private attributes using name mangling:\n",
    "\n",
    "class MyClass:\n",
    "    def __init__(self):\n",
    "        self.__private_attribute = \"secret\"\n",
    "\n",
    "my_object = MyClass()\n",
    "\n",
    "# Accessing the private attribute using name mangling:\n",
    "private_attribute = my_object._MyClass__private_attribute\n",
    "\n",
    "print(private_attribute)  \n"
   ]
  },
  {
   "cell_type": "code",
   "execution_count": 2,
   "id": "eb3437e9-d5d4-4b3c-9720-1b7b4fa5c597",
   "metadata": {},
   "outputs": [
    {
     "name": "stdout",
     "output_type": "stream",
     "text": [
      "John Doe 18 S12345\n",
      "Jane Doe 30 T54321\n",
      "Introduction to Python CS101\n"
     ]
    }
   ],
   "source": [
    "#  11. Create a Python class hierarchy for a school system, including classes for students, teachers, and courses,  and implement encapsulation principles to protect sensitive information.\n",
    "\n",
    "class Person:\n",
    "    def __init__(self, name, age):\n",
    "        self.__name = name\n",
    "        self.__age = age\n",
    "\n",
    "    def get_name(self):\n",
    "        return self.__name\n",
    "\n",
    "    def get_age(self):\n",
    "        return self.__age\n",
    "\n",
    "\n",
    "class Student(Person):\n",
    "    def __init__(self, name, age, student_id):\n",
    "        super().__init__(name, age)\n",
    "        self.__student_id = student_id\n",
    "\n",
    "    def get_student_id(self):\n",
    "        return self.__student_id\n",
    "\n",
    "\n",
    "class Teacher(Person):\n",
    "    def __init__(self, name, age, employee_id):\n",
    "        super().__init__(name, age)\n",
    "        self.__employee_id = employee_id\n",
    "\n",
    "    def get_employee_id(self):\n",
    "        return self.__employee_id\n",
    "\n",
    "\n",
    "class Course:\n",
    "    def __init__(self, course_name, course_code):\n",
    "        self.__course_name = course_name\n",
    "        self.__course_code = course_code\n",
    "\n",
    "    def get_course_name(self):\n",
    "        return self.__course_name\n",
    "\n",
    "    def get_course_code(self):\n",
    "        return self.__course_code\n",
    "\n",
    "\n",
    "# Create instances of students, teachers, and courses\n",
    "student1 = Student(\"John Doe\", 18, \"S12345\")\n",
    "teacher1 = Teacher(\"Jane Doe\", 30, \"T54321\")\n",
    "course1 = Course(\"Introduction to Python\", \"CS101\")\n",
    "\n",
    "# Access the public attributes of the objects\n",
    "print(student1.get_name(), student1.get_age(), student1.get_student_id())\n",
    "print(teacher1.get_name(), teacher1.get_age(), teacher1.get_employee_id())\n",
    "print(course1.get_course_name(), course1.get_course_code())\n"
   ]
  },
  {
   "cell_type": "code",
   "execution_count": null,
   "id": "d877b9c5-6793-4008-bdac-d51da2aeef85",
   "metadata": {},
   "outputs": [],
   "source": [
    "#  12. Explain the concept of property decorators in Python and how they relate to encapsulation.\n",
    "\n",
    "Property decorators in Python are a way to define a method as a property of a class. This means that the method can be accessed like an attribute of the class, even though it is actually a method.\n",
    "\n",
    "Property decorators are useful for encapsulating data and providing a more convenient way to access it. For example, you could define a property decorator to get and set the value of a private attribute. This would allow you to access the attribute like a public attribute, but it would still be protected from being modified directly.\n",
    "\n",
    "\n",
    "\n"
   ]
  },
  {
   "cell_type": "code",
   "execution_count": null,
   "id": "05aff798-8bc4-4c92-a12f-230a64234463",
   "metadata": {},
   "outputs": [],
   "source": [
    "#  13. What is data hiding, and why is it important in encapsulation? Provide examples.\n",
    "\n",
    "Data hiding, also known as encapsulation, is a fundamental concept in object-oriented programming that involves bundling data and methods together into a single unit called an object. The key principle behind data hiding is to restrict direct access to an object's internal data from outside the object itself. This is achieved by making the data private or protected within the class, and providing public methods to access and modify the data in a controlled manner.\n",
    "\n",
    "Importance of Data Hiding in Encapsulation:\n",
    "\n",
    "1. Protection of Data: \n",
    "    Data hiding ensures that the internal state of an object remains protected from accidental or malicious modifications by external code. By restricting direct access to data, it prevents unauthorized changes that could potentially compromise the integrity of the object.\n",
    "\n",
    "2. Enforced Abstraction:\n",
    "    Data hiding helps enforce abstraction by hiding the implementation details of an object from the outside world. This allows you to change the internal representation of data without affecting the way clients interact with the object.\n",
    "\n",
    "3. Improved Modularity:\n",
    "    Encapsulation promotes modularity by grouping related data and methods together. This makes it easier to understand and maintain the code, as changes to the internal implementation of an object do not affect the rest of the program.\n",
    "\n",
    "4. Enhanced Security:\n",
    "    Data hiding can enhance security by restricting access to sensitive data. By making data private or protected, you can control who can access and modify it, reducing the risk of unauthorized data breaches.\n",
    "\n"
   ]
  },
  {
   "cell_type": "code",
   "execution_count": null,
   "id": "0fea565f-dfcf-4f4c-9d5b-bec748114df8",
   "metadata": {},
   "outputs": [],
   "source": [
    "#  14. Create a Python class called `Employee` with private attributes for salary (`__salary`) and employee ID (`__employee_id`). Provide a method to calculate yearly bonuses\n",
    "\n",
    "class Employee:\n",
    "    def __init__(self, name, age, salary, employee_id):\n",
    "        self.__name = name\n",
    "        self.__age = age\n",
    "        self.__salary = salary\n",
    "        self.__employee_id = employee_id\n",
    "\n",
    "    def calculate_yearly_bonus(self):\n",
    "        return self.__salary * 0.10\n",
    "\n",
    "# Create an instance of the Employee class\n",
    "employee = Employee('John Doe', 30, 50000, 'ABC123')\n",
    "\n",
    "# Calculate and print the yearly bonus\n",
    "bonus = employee.calculate_yearly_bonus()\n",
    "print(f'Yearly bonus for {employee.__name}: {bonus}')\n"
   ]
  },
  {
   "cell_type": "code",
   "execution_count": null,
   "id": "53da3291-2d0a-4819-bb43-2147ee210d4a",
   "metadata": {},
   "outputs": [],
   "source": [
    "# 15. Discuss the use of accessors and mutators in encapsulation. How do they help maintain control over  attribute access?\n",
    "\n",
    "Accessors and mutators are methods that allow you to get and set the values of private attributes in a class. They help maintain control over attribute access by ensuring that only authorized code can access and modify private data.\n",
    "\n",
    "Accessors are methods that return the value of a private attribute. They are typically named `get_<attribute_name>`. For example, the following class has an accessor method for the `_name` attribute:\n",
    "\n"
   ]
  },
  {
   "cell_type": "code",
   "execution_count": null,
   "id": "d73546c1-ee66-49db-8c94-6120be972c8d",
   "metadata": {},
   "outputs": [],
   "source": [
    "#  16. What are the potential drawbacks or disadvantages of using encapsulation in Python?\n",
    "\n",
    "- Increased complexity:\n",
    "    Encapsulation can make your code more complex, as you need to create classes and interfaces to define the abstractions. This can make it more difficult to understand and maintain your code, especially if you are not familiar with object-oriented programming.\n",
    "- Reduced performance:\n",
    "    Encapsulation can also reduce the performance of your code, as it adds an extra layer of indirection. This is because when you call a method on an object, the method is actually executed on the underlying implementation class. This can result in a performance overhead, especially if the underlying implementation class is complex.\n",
    "- Limited flexibility:\n",
    "    Encapsulation can limit the flexibility of your code, as it forces you to use the interfaces and classes that you have defined. This can make it difficult to extend or modify your code in the future, as you may need to change the underlying implementation classes.\n",
    "- Increased development time:\n",
    "    Encapsulation can also increase the development time of your code, as you need to create classes and interfaces to define the abstractions. This can be a significant investment of time, especially if you are not familiar with object-oriented programming.\n",
    "- Potential for misuse:\n",
    "    Encapsulation can also be misused, as it can be used to hide code that is not well-written or that is not intended to be used by other developers. This can make it difficult to understand and maintain your code, and it can also lead to security vulnerabilities."
   ]
  },
  {
   "cell_type": "code",
   "execution_count": null,
   "id": "2d983db4-3fbf-4adf-88f1-9df030e91d0e",
   "metadata": {},
   "outputs": [],
   "source": [
    "#  17. Create a Python class for a library system that encapsulates book information, including titles, authors, and availability status.\n",
    "\n",
    "class Book:\n",
    "    def __init__(self, title, author, available):\n",
    "        self.title = title\n",
    "        self.author = author\n",
    "        self.available = available\n",
    "\n",
    "    def get_title(self):\n",
    "        return self.title\n",
    "\n",
    "    def get_author(self):\n",
    "        return self.author\n",
    "\n",
    "    def is_available(self):\n",
    "        return self.available\n",
    "\n",
    "    def set_available(self, available):\n",
    "        self.available = available\n",
    "\n",
    "# Create some books\n",
    "book1 = Book(\"The Great Gatsby\", \"F. Scott Fitzgerald\", True)\n",
    "book2 = Book(\"To Kill a Mockingbird\", \"Harper Lee\", False)\n",
    "book3 = Book(\"1984\", \"George Orwell\", True)\n",
    "\n",
    "# Print the book information\n",
    "print(book1.get_title())  # The Great Gatsby\n",
    "print(book2.get_author())  # Harper Lee\n",
    "print(book3.is_available())  # True\n",
    "\n",
    "# Set a book to available\n",
    "book2.set_available(True)\n",
    "print(book2.is_available())  # True\n"
   ]
  },
  {
   "cell_type": "code",
   "execution_count": null,
   "id": "426fefb3-f792-4b6a-b043-74d42cec2c67",
   "metadata": {},
   "outputs": [],
   "source": [
    "# prompt: 18. Explain how encapsulation enhances code reusability and modularity in Python programs.\n",
    "\n",
    "Encapsulation enhances code reusability and modularity in Python programs by allowing developers to group related data and methods into self-contained units called classes. This provides several benefits:\n",
    "\n",
    "1. Code Organization:\n",
    "- Encapsulation encourages the organization of code into logical units, making it easier to understand and maintain.\n",
    "- Related data and methods are kept together within a class, reducing the risk of scattered and inconsistent code.\n",
    "\n",
    "2. Information Hiding:\n",
    "- Encapsulation allows hiding the implementation details of a class from other parts of the program.\n",
    "- This principle, known as information hiding, prevents direct access to the internal data of a class, promoting data integrity and security.\n",
    "\n",
    "3. Reusability:\n",
    "- Classes can be reused in different parts of a program or even across multiple projects.\n",
    "- By encapsulating common functionality into classes, developers can avoid duplicating code and ensure consistency.\n",
    "\n",
    "4. Modularity:\n",
    "- Encapsulation enables modular programming, where complex systems are divided into smaller, manageable modules (classes).\n",
    "- Each module can be developed and tested independently, improving the overall development process and reducing the risk of errors.\n",
    "\n"
   ]
  },
  {
   "cell_type": "code",
   "execution_count": null,
   "id": "0df3d0a2-29b3-4c88-9ed5-637b22f36f47",
   "metadata": {},
   "outputs": [],
   "source": [
    "#  19. Describe the concept of information hiding in encapsulation. Why is it essential in software development?\n",
    "\n",
    "Information hiding is a fundamental concept in encapsulation that involves restricting access to the internal details of an object. It is essential in software development for several reasons:\n",
    "\n",
    "- Improved security:\n",
    "    Information hiding helps to protect sensitive data from unauthorized access. By restricting access to an object's internal state, you can prevent malicious users from tampering with or stealing sensitive information.\n",
    "- Reduced complexity:\n",
    "    Encapsulation helps to reduce the overall complexity of a software system by hiding the implementation details of objects. This makes it easier to understand how the system works and to make changes to it in the future.\n",
    "- Increased modularity:\n",
    "    Encapsulation promotes modularity by allowing you to create self-contained units of code that can be easily reused in other parts of the system. This can save you time and effort when developing new features or fixing bugs.\n",
    "- Improved maintainability:\n",
    "    By hiding the implementation details of objects, encapsulation makes it easier to maintain your code. When you need to make a change to a particular part of your code, you only need to modify the code in the relevant object. This can save you a lot of time and effort in the long run.\n",
    "\n",
    "\n"
   ]
  },
  {
   "cell_type": "code",
   "execution_count": null,
   "id": "f7668b1b-6c16-4d67-85c8-1ed90c0720c6",
   "metadata": {},
   "outputs": [],
   "source": [
    "#  20. Create a Python class called `Customer` with private attributes for customer details like name, address,  and contact information. Implement encapsulation to ensure data integrity and security.\n",
    "\n",
    "class Customer:\n",
    "    def __init__(self, name, address, contact_info):\n",
    "        self.__name = name\n",
    "        self.__address = address\n",
    "        self.__contact_info = contact_info\n",
    "\n",
    "    def get_name(self):\n",
    "        return self.__name\n",
    "\n",
    "    def set_name(self, name):\n",
    "        self.__name = name\n",
    "\n",
    "    def get_address(self):\n",
    "        return self.__address\n",
    "\n",
    "    def set_address(self, address):\n",
    "        self.__address = address\n",
    "\n",
    "    def get_contact_info(self):\n",
    "        return self.__contact_info\n",
    "\n",
    "    def set_contact_info(self, contact_info):\n",
    "        self.__contact_info = contact_info\n",
    "\n",
    "# Usage:\n",
    "customer1 = Customer(\"John Doe\", \"123 Main Street\", \"555-123-4567\")\n",
    "customer2 = Customer(\"Jane Doe\", \"456 Elm Street\", \"555-234-5678\")\n",
    "\n",
    "print(customer1.get_name())  # Output: John Doe\n",
    "customer1.set_address(\"789 Oak Street\")\n",
    "print(customer1.get_address())  # Output: 789 Oak Street\n"
   ]
  },
  {
   "cell_type": "code",
   "execution_count": null,
   "id": "4bd8f9bb-e241-42af-83ac-d35752388616",
   "metadata": {},
   "outputs": [],
   "source": []
  },
  {
   "cell_type": "code",
   "execution_count": null,
   "id": "6b974daa-becb-4c29-9559-474782f69cda",
   "metadata": {},
   "outputs": [],
   "source": []
  }
 ],
 "metadata": {
  "kernelspec": {
   "display_name": "Python 3 (ipykernel)",
   "language": "python",
   "name": "python3"
  },
  "language_info": {
   "codemirror_mode": {
    "name": "ipython",
    "version": 3
   },
   "file_extension": ".py",
   "mimetype": "text/x-python",
   "name": "python",
   "nbconvert_exporter": "python",
   "pygments_lexer": "ipython3",
   "version": "3.10.8"
  }
 },
 "nbformat": 4,
 "nbformat_minor": 5
}
